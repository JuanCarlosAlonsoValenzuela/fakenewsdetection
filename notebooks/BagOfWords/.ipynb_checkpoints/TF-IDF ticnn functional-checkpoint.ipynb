{
 "cells": [
  {
   "cell_type": "markdown",
   "metadata": {
    "colab_type": "text",
    "id": "2wvLsN96vBm4"
   },
   "source": [
    "# Term Frequency - Inverse Document Frequency"
   ]
  },
  {
   "cell_type": "code",
   "execution_count": 1,
   "metadata": {
    "colab": {
     "base_uri": "https://localhost:8080/",
     "height": 68
    },
    "colab_type": "code",
    "executionInfo": {
     "elapsed": 56735,
     "status": "ok",
     "timestamp": 1587836029097,
     "user": {
      "displayName": "Juan Carlos Alonso Valenzuela",
      "photoUrl": "",
      "userId": "09225180293986196032"
     },
     "user_tz": -120
    },
    "id": "Qy07bHvJJSlk",
    "outputId": "6763dafb-a182-4266-be64-97d711704d63"
   },
   "outputs": [
    {
     "name": "stderr",
     "output_type": "stream",
     "text": [
      "[nltk_data] Downloading package stopwords to C:\\Users\\Juan\n",
      "[nltk_data]     Carlos\\AppData\\Roaming\\nltk_data...\n",
      "[nltk_data]   Package stopwords is already up-to-date!\n",
      "Using TensorFlow backend.\n"
     ]
    }
   ],
   "source": [
    "import numpy as np\n",
    "import tensorflow as tf\n",
    "import pandas as pd\n",
    "import csv\n",
    "import matplotlib.pyplot as plt\n",
    "from sklearn.feature_extraction.text import TfidfVectorizer\n",
    "import sys\n",
    "\n",
    "import nltk\n",
    "\n",
    "# Funciones diseñadas exclusivamente para el proyecto\n",
    "sys.path.insert(0, '../../')\n",
    "import nlp_functions as nlp_f"
   ]
  },
  {
   "cell_type": "code",
   "execution_count": 2,
   "metadata": {
    "colab": {},
    "colab_type": "code",
    "id": "zZzv0PLRvizP"
   },
   "outputs": [],
   "source": [
    "vocabulary_size = 20000"
   ]
  },
  {
   "cell_type": "code",
   "execution_count": 3,
   "metadata": {
    "colab": {
     "base_uri": "https://localhost:8080/",
     "height": 34
    },
    "colab_type": "code",
    "executionInfo": {
     "elapsed": 56730,
     "status": "ok",
     "timestamp": 1587836029100,
     "user": {
      "displayName": "Juan Carlos Alonso Valenzuela",
      "photoUrl": "",
      "userId": "09225180293986196032"
     },
     "user_tz": -120
    },
    "id": "glR2z5OYUm0j",
    "outputId": "821bc980-9a68-46c6-de7f-94ba4d324869"
   },
   "outputs": [
    {
     "data": {
      "text/plain": [
       "'2.1.0'"
      ]
     },
     "execution_count": 3,
     "metadata": {},
     "output_type": "execute_result"
    }
   ],
   "source": [
    "tf.__version__"
   ]
  },
  {
   "cell_type": "code",
   "execution_count": 4,
   "metadata": {
    "colab": {},
    "colab_type": "code",
    "id": "HFnDQ1A4L36k"
   },
   "outputs": [],
   "source": [
    "# Cargamos el dataset preprocesado\n",
    "df = pd.read_csv('../../dataset/ticnn_preprocessed.csv')"
   ]
  },
  {
   "cell_type": "code",
   "execution_count": 5,
   "metadata": {
    "colab": {
     "base_uri": "https://localhost:8080/",
     "height": 204
    },
    "colab_type": "code",
    "executionInfo": {
     "elapsed": 56953,
     "status": "ok",
     "timestamp": 1587836030182,
     "user": {
      "displayName": "Juan Carlos Alonso Valenzuela",
      "photoUrl": "",
      "userId": "09225180293986196032"
     },
     "user_tz": -120
    },
    "id": "EIqEGZ42L7Za",
    "outputId": "0190c1a5-7e77-463f-9df2-5e2af3318163"
   },
   "outputs": [
    {
     "data": {
      "text/html": [
       "<div>\n",
       "<style scoped>\n",
       "    .dataframe tbody tr th:only-of-type {\n",
       "        vertical-align: middle;\n",
       "    }\n",
       "\n",
       "    .dataframe tbody tr th {\n",
       "        vertical-align: top;\n",
       "    }\n",
       "\n",
       "    .dataframe thead th {\n",
       "        text-align: right;\n",
       "    }\n",
       "</style>\n",
       "<table border=\"1\" class=\"dataframe\">\n",
       "  <thead>\n",
       "    <tr style=\"text-align: right;\">\n",
       "      <th></th>\n",
       "      <th>text</th>\n",
       "      <th>type</th>\n",
       "    </tr>\n",
       "  </thead>\n",
       "  <tbody>\n",
       "    <tr>\n",
       "      <th>0</th>\n",
       "      <td>['donald', 'trump', 'property', 'showcase', 'b...</td>\n",
       "      <td>0.0</td>\n",
       "    </tr>\n",
       "    <tr>\n",
       "      <th>1</th>\n",
       "      <td>['trump', 'foundation', 'tell', 'new', 'york',...</td>\n",
       "      <td>0.0</td>\n",
       "    </tr>\n",
       "    <tr>\n",
       "      <th>2</th>\n",
       "      <td>['donald', 'trump', 'prepares', 'white', 'hous...</td>\n",
       "      <td>0.0</td>\n",
       "    </tr>\n",
       "    <tr>\n",
       "      <th>3</th>\n",
       "      <td>['lure', 'chinese', 'investor', 'trump', 'name...</td>\n",
       "      <td>0.0</td>\n",
       "    </tr>\n",
       "    <tr>\n",
       "      <th>4</th>\n",
       "      <td>['melania', 'barron', 'trump', 'wont', 'immedi...</td>\n",
       "      <td>0.0</td>\n",
       "    </tr>\n",
       "  </tbody>\n",
       "</table>\n",
       "</div>"
      ],
      "text/plain": [
       "                                                text  type\n",
       "0  ['donald', 'trump', 'property', 'showcase', 'b...   0.0\n",
       "1  ['trump', 'foundation', 'tell', 'new', 'york',...   0.0\n",
       "2  ['donald', 'trump', 'prepares', 'white', 'hous...   0.0\n",
       "3  ['lure', 'chinese', 'investor', 'trump', 'name...   0.0\n",
       "4  ['melania', 'barron', 'trump', 'wont', 'immedi...   0.0"
      ]
     },
     "execution_count": 5,
     "metadata": {},
     "output_type": "execute_result"
    }
   ],
   "source": [
    "df.head()"
   ]
  },
  {
   "cell_type": "code",
   "execution_count": 6,
   "metadata": {
    "colab": {},
    "colab_type": "code",
    "id": "LNg6hFKuNNsJ"
   },
   "outputs": [],
   "source": [
    "# Actualmente la primera mitad de los registros están marcados como fake y la segunda \n",
    "# mitad como reliable, por lo que cambiamos el orden aleatoriamente\n",
    "df = df.sample(frac=1)"
   ]
  },
  {
   "cell_type": "code",
   "execution_count": 7,
   "metadata": {
    "colab": {
     "base_uri": "https://localhost:8080/",
     "height": 204
    },
    "colab_type": "code",
    "executionInfo": {
     "elapsed": 56530,
     "status": "ok",
     "timestamp": 1587836030184,
     "user": {
      "displayName": "Juan Carlos Alonso Valenzuela",
      "photoUrl": "",
      "userId": "09225180293986196032"
     },
     "user_tz": -120
    },
    "id": "AolSnNOuxbDj",
    "outputId": "805e7024-1e88-4e78-ac2b-2384123b47d1"
   },
   "outputs": [
    {
     "data": {
      "text/html": [
       "<div>\n",
       "<style scoped>\n",
       "    .dataframe tbody tr th:only-of-type {\n",
       "        vertical-align: middle;\n",
       "    }\n",
       "\n",
       "    .dataframe tbody tr th {\n",
       "        vertical-align: top;\n",
       "    }\n",
       "\n",
       "    .dataframe thead th {\n",
       "        text-align: right;\n",
       "    }\n",
       "</style>\n",
       "<table border=\"1\" class=\"dataframe\">\n",
       "  <thead>\n",
       "    <tr style=\"text-align: right;\">\n",
       "      <th></th>\n",
       "      <th>text</th>\n",
       "      <th>type</th>\n",
       "    </tr>\n",
       "  </thead>\n",
       "  <tbody>\n",
       "    <tr>\n",
       "      <th>1301</th>\n",
       "      <td>['donald', 'trump', 'say', 'hillary', 'clinton...</td>\n",
       "      <td>0.0</td>\n",
       "    </tr>\n",
       "    <tr>\n",
       "      <th>7127</th>\n",
       "      <td>['wikileaks', 'shocker', 'clinton', 'camp', 'c...</td>\n",
       "      <td>1.0</td>\n",
       "    </tr>\n",
       "    <tr>\n",
       "      <th>15917</th>\n",
       "      <td>['tell', 'dog', 'get', 'new', 'pet', 'dog', 't...</td>\n",
       "      <td>1.0</td>\n",
       "    </tr>\n",
       "    <tr>\n",
       "      <th>313</th>\n",
       "      <td>['trump', 'change', 'tax', 'code', 'may', 'enc...</td>\n",
       "      <td>0.0</td>\n",
       "    </tr>\n",
       "    <tr>\n",
       "      <th>5459</th>\n",
       "      <td>['britain', 'u', 'send', 'plane', 'troop', 'de...</td>\n",
       "      <td>1.0</td>\n",
       "    </tr>\n",
       "  </tbody>\n",
       "</table>\n",
       "</div>"
      ],
      "text/plain": [
       "                                                    text  type\n",
       "1301   ['donald', 'trump', 'say', 'hillary', 'clinton...   0.0\n",
       "7127   ['wikileaks', 'shocker', 'clinton', 'camp', 'c...   1.0\n",
       "15917  ['tell', 'dog', 'get', 'new', 'pet', 'dog', 't...   1.0\n",
       "313    ['trump', 'change', 'tax', 'code', 'may', 'enc...   0.0\n",
       "5459   ['britain', 'u', 'send', 'plane', 'troop', 'de...   1.0"
      ]
     },
     "execution_count": 7,
     "metadata": {},
     "output_type": "execute_result"
    }
   ],
   "source": [
    "df.head()"
   ]
  },
  {
   "cell_type": "code",
   "execution_count": 8,
   "metadata": {
    "colab": {
     "base_uri": "https://localhost:8080/",
     "height": 54
    },
    "colab_type": "code",
    "executionInfo": {
     "elapsed": 56321,
     "status": "ok",
     "timestamp": 1587836030186,
     "user": {
      "displayName": "Juan Carlos Alonso Valenzuela",
      "photoUrl": "",
      "userId": "09225180293986196032"
     },
     "user_tz": -120
    },
    "id": "YKLov9etM_kj",
    "outputId": "2397a1ed-d672-4c73-de43-7755e509c82c"
   },
   "outputs": [
    {
     "name": "stdout",
     "output_type": "stream",
     "text": [
      "[\"['donald', 'trump', 'say', 'hillary', 'clinton', 'drug', 'test', 'final', 'presidential', 'debate', 'wsj', 'portsmouth', 'n', 'h', 'republican', 'presidential', 'nominee', 'donald', 'trump', 'say', 'hillary', 'clinton', 'get', 'pump', 'wednesday', 'debate', 'suggest', 'candidate', 'drug', 'test', 'take', 'place', 'remark', 'come', 'rally', 'saturday', 'gop', 'candidate', 'question', 'rival', 'need', 'prepare', 'debate', 'much', 'experience', 'lot', 'thing', 'go', 'folk', 'lot', 'thing', 'think', 'shes', 'actually', 'get', 'pump', 'want', 'know', 'truth', 'shes', 'get', 'pump', 'understand', 'ask', 'rally', 'attendee', 'gather', 'parking', 'lot', 'toyota', 'dealership', 'southern', 'new', 'hampshire', 'city', 'drug', 'woman', 'yell', 'crowd', 'mr', 'trump', 'suggest', 'presidential', 'candidate', 'like', 'athlete', 'perhaps', 'drug', 'test', 'debate', 'dont', 'know', 'whats', 'go', 'beginning', 'last', 'debate', 'pump', 'beginning', 'end', 'like', 'huh', 'say', 'could', 'barely', 'reach', 'car', 'add', 'pro', 'clinton', 'super', 'pac', 'decry', 'unhinged', 'remark', 'say', 'donald', 'trump', 'continue', 'defy', 'odds', 'find', 'way', 'go', 'even', 'low', 'campaign', 'completely', 'outrageous', 'statement', 'prof', 'cant', 'help', 'peddle', 'conspiracy', 'theory', 'opponent', 'health', 'correct', 'record', 'president', 'brad', 'woodhouse', 'add', 'mr', 'trump', 'campaign', 'didnt', 'reply', 'question', 'basis', 'candidate', 'comment', 'mr', 'clinton', 'drug', 'test', 'mr', 'trump', 'visit', 'new', 'hampshire', 'multiple', 'time', 'since', 'mid', 'june', 'hop', 'pick', 'swing', 'state', 'four', 'electoral', 'vote', 'mrs', 'clinton', 'hold', 'lead', 'state', 'accord', 'late', 'real', 'clear', 'politics', 'poll', 'average', 'saturday', 'represent', 'mr', 'trump', 'first', 'stop', 'granite', 'state', 'since', 'surfacing', 'last', 'week', 'tape', 'show', 'businessman', 'speak', 'lewdly', 'force', 'woman', 'least', 'eight', 'woman', 'come', 'forward', 'recent', 'day', 'allege', 'similar', 'behavior', 'mr', 'trump', 'adamantly', 'deny', 'allegation', 'look', 'like', 'rigged', 'election', 'say', 'election', 'rig', 'corrupt', 'medium', 'push', 'completely', 'false', 'allegation', 'outright', 'lie', 'effort', 'elect', 'president', 'say', 'refer', 'mrs', 'clinton', 'crowd', 'booed', 'chant', 'cnn', 'suck', 'cnn', 'suck', 'tailor', 'message', 'new', 'hampshire', 'mr', 'trump', 'follow', 'remark', 'opioid', 'crisis', 'sweep', 'granite', 'state', 'outline', 'plan', 'address', 'problem', 'include', 'treatment', 'bed', 'fight', 'drug', 'come', 'country', 'sen', 'kelly', 'ayotte', 'r', 'n', 'h', 'drop', 'support', 'mr', 'trump', 'vulgar', 'tape', 'former', 'u', 'sen', 'bob', 'smith', 'new', 'hampshire', 'republican', 'spoke', 'baloney', 'surround', 'mr', 'trump', 'recent', 'day', 'want', 'hear', 'something', 'nasty', 'partial', 'birth', 'abortion', 'thats', 'nasty', 'folk', 'sen', 'smith', 'say', 'add', 'mrs', 'clinton', 'would', 'elect', 'leftist', 'supreme', 'court', 'judge', 'voter', 'new', 'hampshire', 'rally', 'like', 'laurie', 'flynn', 'brockton', 'mass', 'say', 'stick', 'mr', 'trump', 'clinton', 'anything', 'lie', 'cheat', 'steal', 'win', 'election', 'say', 'ms', 'flynn', 'work', 'cater', 'dont', 'trust', 'dont', 'trust', 'medium', 'dont', 'trust', 'anything', 'dont', 'trust', 'poll', 'hes', 'gonna', 'win', 'gonna', 'win', 'landslide', 'later', 'day', 'mr', 'trump', 'hold', 'rally', 'bangor', 'maine', 'steer', 'mostly', 'clear', 'defend', 'sexual', 'misconduct', 'accusation', 'except', 'say', 'medium', 'promote', 'false', 'story', 'make', 'lie', 'resort', 'apocalyptic', 'populist', 'rhetoric', 'stake', 'election', 'increasingly', 'campaign', 'spiral', 'downward', 'face', 'sexual', 'allegation', 'either', 'win', 'election', 'lose', 'country', 'say', 'ill', 'tell', 'something', 'dream', 'rip', 'heart', 'im', 'go', 'bring', 'back', 'american', 'dream', 'janet', 'hook', 'contribute', 'article', 'write', 'jennifer', 'levitz']\", \"['wikileaks', 'shocker', 'clinton', 'camp', 'consider', 'paul', 'ryan', 'relative', 'supreme', 'court', 'nominee', 'post', 'october', 'paul', 'joseph', 'watson', 'another', 'reason', 'ryan', 'try', 'sabotage', 'trump', 'campaign', 'hillary', 'clinton', 'campaign', 'circulate', 'name', 'one', 'paul', 'ryans', 'relatives', 'potential', 'supreme', 'court', 'pick', 'suggest', 'conflict', 'interest', 'could', 'fee', 'republican', 'speaker', 'house', 'dislike', 'donald', 'trump', 'email', 'release', 'part', 'wikileaks', 'podesta', 'dump', 'feature', 'article', 'send', 'hillary', 'advisor', 'sara', 'solow', 'clinton', 'campaign', 'chairman', 'john', 'podesta', 'hillarys', 'foreign', 'policy', 'advisor', 'jake', 'sullivan', 'february', 'piece', 'draw', 'attention', 'ketanji', 'brown', 'jackson', 'judge', 'u', 'district', 'court', 'district', 'columbia', 'confirm', 'without', 'republican', 'opposition', 'senate', 'twice', 'confirm', 'current', 'position', 'unanimous', 'consent', 'without', 'stated', 'opposition', 'also', 'previously', 'confirm', 'unanimously', 'seat', 'u', 'sentence', 'commission', 'become', 'vice', 'chair', 'read', 'email', 'family', 'impressive', 'marry', 'surgeon', 'two', 'young', 'daughter', 'father', 'retired', 'lawyer', 'mother', 'retired', 'school', 'principal', 'brother', 'police', 'officer', 'unit', 'basis', 'television', 'show', 'wire', 'law', 'student', 'relate', 'marriage', 'congressman', 'speaker', 'house', 'paul', 'ryan', 'earlier', 'month', 'ryan', 'say', 'would', 'longer', 'defend', 'campaign', 'donald', 'trump', 'poll', 'release', 'week', 'find', 'nearly', 'two', 'third', 'republican', 'trust', 'donald', 'trump', 'ryan', 'lead', 'gop', 'many', 'trump', 'supporter', 'speculate', 'ryan', 'involve', 'leaking', 'infamous', 'billy', 'bush', 'tape', 'trump', 'make', 'lewd', 'comment', 'woman', 'part', 'plot', 'sabotage', 'republican', 'nominee', 'campaign', 'could', 'fact', 'one', 'relative', 'tout', 'likely', 'clinton', 'supreme', 'court', 'pick', 'another', 'reason', 'ryan', 'accuse', 'many', 'bed', 'washington', 'establishment', 'abandon', 'support', 'donald', 'trump']\"]\n"
     ]
    }
   ],
   "source": [
    "# Convertimos los textos a listas \n",
    "texts = list(df['text'])\n",
    "print(texts[:2])"
   ]
  },
  {
   "cell_type": "code",
   "execution_count": 9,
   "metadata": {
    "colab": {
     "base_uri": "https://localhost:8080/",
     "height": 34
    },
    "colab_type": "code",
    "executionInfo": {
     "elapsed": 56053,
     "status": "ok",
     "timestamp": 1587836030187,
     "user": {
      "displayName": "Juan Carlos Alonso Valenzuela",
      "photoUrl": "",
      "userId": "09225180293986196032"
     },
     "user_tz": -120
    },
    "id": "3-JFSMS9QJbN",
    "outputId": "29e01e3b-a912-47fa-cc95-88cbf5a41f70"
   },
   "outputs": [
    {
     "name": "stdout",
     "output_type": "stream",
     "text": [
      "[0.0, 1.0, 1.0, 0.0, 1.0, 1.0, 1.0, 1.0, 0.0, 1.0]\n"
     ]
    }
   ],
   "source": [
    "# Convertimos las target variables\n",
    "targets = list(df['type'])\n",
    "print(targets[:10])"
   ]
  },
  {
   "cell_type": "code",
   "execution_count": 10,
   "metadata": {
    "colab": {},
    "colab_type": "code",
    "id": "NF-XYAbFy-ho"
   },
   "outputs": [],
   "source": [
    "x_train, y_train, x_test, y_test = nlp_f.train_test_split(texts, targets)"
   ]
  },
  {
   "cell_type": "code",
   "execution_count": 11,
   "metadata": {
    "colab": {
     "base_uri": "https://localhost:8080/",
     "height": 139
    },
    "colab_type": "code",
    "executionInfo": {
     "elapsed": 55455,
     "status": "ok",
     "timestamp": 1587836030190,
     "user": {
      "displayName": "Juan Carlos Alonso Valenzuela",
      "photoUrl": "",
      "userId": "09225180293986196032"
     },
     "user_tz": -120
    },
    "id": "oJrXR8iOOf4U",
    "outputId": "11f7408c-6b82-4c2c-83a4-61ec8e65d931"
   },
   "outputs": [
    {
     "name": "stdout",
     "output_type": "stream",
     "text": [
      "El conjunto de entrenamiento consta de un total de 13596 entradas, las dos primeras son: \n",
      " [\"['donald', 'trump', 'say', 'hillary', 'clinton', 'drug', 'test', 'final', 'presidential', 'debate', 'wsj', 'portsmouth', 'n', 'h', 'republican', 'presidential', 'nominee', 'donald', 'trump', 'say', 'hillary', 'clinton', 'get', 'pump', 'wednesday', 'debate', 'suggest', 'candidate', 'drug', 'test', 'take', 'place', 'remark', 'come', 'rally', 'saturday', 'gop', 'candidate', 'question', 'rival', 'need', 'prepare', 'debate', 'much', 'experience', 'lot', 'thing', 'go', 'folk', 'lot', 'thing', 'think', 'shes', 'actually', 'get', 'pump', 'want', 'know', 'truth', 'shes', 'get', 'pump', 'understand', 'ask', 'rally', 'attendee', 'gather', 'parking', 'lot', 'toyota', 'dealership', 'southern', 'new', 'hampshire', 'city', 'drug', 'woman', 'yell', 'crowd', 'mr', 'trump', 'suggest', 'presidential', 'candidate', 'like', 'athlete', 'perhaps', 'drug', 'test', 'debate', 'dont', 'know', 'whats', 'go', 'beginning', 'last', 'debate', 'pump', 'beginning', 'end', 'like', 'huh', 'say', 'could', 'barely', 'reach', 'car', 'add', 'pro', 'clinton', 'super', 'pac', 'decry', 'unhinged', 'remark', 'say', 'donald', 'trump', 'continue', 'defy', 'odds', 'find', 'way', 'go', 'even', 'low', 'campaign', 'completely', 'outrageous', 'statement', 'prof', 'cant', 'help', 'peddle', 'conspiracy', 'theory', 'opponent', 'health', 'correct', 'record', 'president', 'brad', 'woodhouse', 'add', 'mr', 'trump', 'campaign', 'didnt', 'reply', 'question', 'basis', 'candidate', 'comment', 'mr', 'clinton', 'drug', 'test', 'mr', 'trump', 'visit', 'new', 'hampshire', 'multiple', 'time', 'since', 'mid', 'june', 'hop', 'pick', 'swing', 'state', 'four', 'electoral', 'vote', 'mrs', 'clinton', 'hold', 'lead', 'state', 'accord', 'late', 'real', 'clear', 'politics', 'poll', 'average', 'saturday', 'represent', 'mr', 'trump', 'first', 'stop', 'granite', 'state', 'since', 'surfacing', 'last', 'week', 'tape', 'show', 'businessman', 'speak', 'lewdly', 'force', 'woman', 'least', 'eight', 'woman', 'come', 'forward', 'recent', 'day', 'allege', 'similar', 'behavior', 'mr', 'trump', 'adamantly', 'deny', 'allegation', 'look', 'like', 'rigged', 'election', 'say', 'election', 'rig', 'corrupt', 'medium', 'push', 'completely', 'false', 'allegation', 'outright', 'lie', 'effort', 'elect', 'president', 'say', 'refer', 'mrs', 'clinton', 'crowd', 'booed', 'chant', 'cnn', 'suck', 'cnn', 'suck', 'tailor', 'message', 'new', 'hampshire', 'mr', 'trump', 'follow', 'remark', 'opioid', 'crisis', 'sweep', 'granite', 'state', 'outline', 'plan', 'address', 'problem', 'include', 'treatment', 'bed', 'fight', 'drug', 'come', 'country', 'sen', 'kelly', 'ayotte', 'r', 'n', 'h', 'drop', 'support', 'mr', 'trump', 'vulgar', 'tape', 'former', 'u', 'sen', 'bob', 'smith', 'new', 'hampshire', 'republican', 'spoke', 'baloney', 'surround', 'mr', 'trump', 'recent', 'day', 'want', 'hear', 'something', 'nasty', 'partial', 'birth', 'abortion', 'thats', 'nasty', 'folk', 'sen', 'smith', 'say', 'add', 'mrs', 'clinton', 'would', 'elect', 'leftist', 'supreme', 'court', 'judge', 'voter', 'new', 'hampshire', 'rally', 'like', 'laurie', 'flynn', 'brockton', 'mass', 'say', 'stick', 'mr', 'trump', 'clinton', 'anything', 'lie', 'cheat', 'steal', 'win', 'election', 'say', 'ms', 'flynn', 'work', 'cater', 'dont', 'trust', 'dont', 'trust', 'medium', 'dont', 'trust', 'anything', 'dont', 'trust', 'poll', 'hes', 'gonna', 'win', 'gonna', 'win', 'landslide', 'later', 'day', 'mr', 'trump', 'hold', 'rally', 'bangor', 'maine', 'steer', 'mostly', 'clear', 'defend', 'sexual', 'misconduct', 'accusation', 'except', 'say', 'medium', 'promote', 'false', 'story', 'make', 'lie', 'resort', 'apocalyptic', 'populist', 'rhetoric', 'stake', 'election', 'increasingly', 'campaign', 'spiral', 'downward', 'face', 'sexual', 'allegation', 'either', 'win', 'election', 'lose', 'country', 'say', 'ill', 'tell', 'something', 'dream', 'rip', 'heart', 'im', 'go', 'bring', 'back', 'american', 'dream', 'janet', 'hook', 'contribute', 'article', 'write', 'jennifer', 'levitz']\", \"['wikileaks', 'shocker', 'clinton', 'camp', 'consider', 'paul', 'ryan', 'relative', 'supreme', 'court', 'nominee', 'post', 'october', 'paul', 'joseph', 'watson', 'another', 'reason', 'ryan', 'try', 'sabotage', 'trump', 'campaign', 'hillary', 'clinton', 'campaign', 'circulate', 'name', 'one', 'paul', 'ryans', 'relatives', 'potential', 'supreme', 'court', 'pick', 'suggest', 'conflict', 'interest', 'could', 'fee', 'republican', 'speaker', 'house', 'dislike', 'donald', 'trump', 'email', 'release', 'part', 'wikileaks', 'podesta', 'dump', 'feature', 'article', 'send', 'hillary', 'advisor', 'sara', 'solow', 'clinton', 'campaign', 'chairman', 'john', 'podesta', 'hillarys', 'foreign', 'policy', 'advisor', 'jake', 'sullivan', 'february', 'piece', 'draw', 'attention', 'ketanji', 'brown', 'jackson', 'judge', 'u', 'district', 'court', 'district', 'columbia', 'confirm', 'without', 'republican', 'opposition', 'senate', 'twice', 'confirm', 'current', 'position', 'unanimous', 'consent', 'without', 'stated', 'opposition', 'also', 'previously', 'confirm', 'unanimously', 'seat', 'u', 'sentence', 'commission', 'become', 'vice', 'chair', 'read', 'email', 'family', 'impressive', 'marry', 'surgeon', 'two', 'young', 'daughter', 'father', 'retired', 'lawyer', 'mother', 'retired', 'school', 'principal', 'brother', 'police', 'officer', 'unit', 'basis', 'television', 'show', 'wire', 'law', 'student', 'relate', 'marriage', 'congressman', 'speaker', 'house', 'paul', 'ryan', 'earlier', 'month', 'ryan', 'say', 'would', 'longer', 'defend', 'campaign', 'donald', 'trump', 'poll', 'release', 'week', 'find', 'nearly', 'two', 'third', 'republican', 'trust', 'donald', 'trump', 'ryan', 'lead', 'gop', 'many', 'trump', 'supporter', 'speculate', 'ryan', 'involve', 'leaking', 'infamous', 'billy', 'bush', 'tape', 'trump', 'make', 'lewd', 'comment', 'woman', 'part', 'plot', 'sabotage', 'republican', 'nominee', 'campaign', 'could', 'fact', 'one', 'relative', 'tout', 'likely', 'clinton', 'supreme', 'court', 'pick', 'another', 'reason', 'ryan', 'accuse', 'many', 'bed', 'washington', 'establishment', 'abandon', 'support', 'donald', 'trump']\"] \n",
      " con las siguientes diez primeras target variables: [0.0, 1.0, 1.0, 0.0, 1.0, 1.0, 1.0, 1.0, 0.0, 1.0] \n",
      "El conjunto de pruebas consta de un total de 5827 entradas, las dos primeras son: \n",
      " [\"['fbi', 'fold', 'comey', 'announces', 'criminal', 'charge', 'hillary', 'clinton', 'leave', 'reply', 'mike', 'adam', 'fbi', 'head', 'james', 'comey', 'deliberately', 'clearly', 'conspire', 'cover', 'enormous', 'number', 'crime', 'commit', 'hillary', 'clinton', 'close', 'staffer', 'fbis', 'investigation', 'additional', 'email', 'conclude', 'change', 'conclusion', 'express', 'july', 'respect', 'secretary', 'clinton', 'comey', 'announce', 'today', 'decision', 'jam', 'comey', 'essentially', 'announces', 'tyranny', 'criminal', 'government', 'washington', 'complete', 'rule', 'law', 'declare', 'null', 'void', 'head', 'fbi', 'sufficiently', 'powerful', 'person', 'washington', 'ever', 'hold', 'accountable', 'crime', 'include', 'crime', 'treason', 'nation', 'bribery', 'corruption', 'destruction', 'evidence', 'selling', 'government', 'influence', 'unless', 'something', 'revers', 'quickly', 'fbi', 'cement', 'position', 'nothing', 'corrupt', 'branch', 'totalitarian', 'criminal', 'regime', 'seize', 'power', 'washington', 'protect', 'criminal', 'class', 'political', 'elitist', 'rule', 'nation', 'lawless', 'tyrant', 'rogue', 'fbi', 'agent', 'nypd', 'go', 'public', 'evidence', 'expose', 'horrifying', 'truth', 'clinton', 'really', 'pedophilia', 'fail', 'analysis', 'say', 'may', 'see', 'rapid', 'ramp', 'real', 'talk', 'open', 'revolt', 'perhaps', 'even', 'lead', 'arm', 'citizen', 'march', 'washington', 'depose', 'criminal', 'regime', 'power', 'ive', 'point', 'effort', 'would', 'require', 'thousand', 'arm', 'citizen', 'achieve', 'occupation', 'key', 'government', 'building', 'overthrow', 'criminal', 'power', 'sadly', 'would', 'also', 'involve', 'tremendous', 'bloodshed', 'loss', 'life', 'let', 'hope', 'doesnt', 'come', 'heres', 'letter', 'jam', 'comey', 'send', 'today', 'write', 'supplement', 'october', 'letter', 'notify', 'fbi', 'would', 'take', 'additional', 'investigative', 'step', 'respect', 'former', 'secretary', 'state', 'clinton', 'use', 'personal', 'email', 'server', 'since', 'letter', 'fbi', 'investigative', 'team', 'work', 'around', 'clock', 'process', 'review', 'large', 'volume', 'email', 'device', 'obtain', 'connection', 'unrelated', 'criminal', 'investigation', 'process', 'review', 'communication', 'hillary', 'clinton', 'secretary', 'state', 'base', 'review', 'change', 'conclusion', 'express', 'july', 'respect', 'secretary', 'clinton', 'grateful', 'professional', 'fbi', 'extraordinary', 'amount', 'f', 'high', 'quality', 'work', 'short', 'period', 'time', 'source', 'uk', 'daily', 'mail', 'sf', 'source', 'natural', 'news']\", \"['justice', 'department', 'official', 'warn', 'fbis', 'comey', 'send', 'letter', 'clinton', 'email', 'wsj', 'justice', 'department', 'official', 'warn', 'fbi', 'director', 'james', 'comey', 'letter', 'congress', 'newly', 'discover', 'email', 'potentially', 'relate', 'investigation', 'hillary', 'clinton', 'would', 'contradict', 'department', 'long', 'establish', 'election', 'policy', 'accord', 'people', 'familiar', 'discussion', 'mr', 'comey', 'act', 'independently', 'decide', 'send', 'letter', 'people', 'say', 'federal', 'bureau', 'investigation', 'review', 'newly', 'obtain', 'email', 'link', 'previously', 'close', 'investigation', 'mrs', 'clinton', 'handle', 'classified', 'information', 'secretary', 'state', 'friday', 'announcement', 'come', 'day', 'voter', 'go', 'poll', 'choose', 'new', 'president', 'letter', 'send', 'fbi', 'tell', 'senior', 'justice', 'department', 'official', 'mr', 'comey', 'plan', 'official', 'warn', 'would', 'contradict', 'department', 'rule', 'take', 'step', 'could', 'influenceor', 'see', 'try', 'influencean', 'election', 'people', 'say', 'mr', 'comey', 'however', 'decide', 'well', 'share', 'information', 'rather', 'face', 'possibly', 'great', 'criticism', 'keep', 'quiet', 'election', 'accord', 'people', 'familiar', 'discussion', 'fbi', 'official', 'also', 'concern', 'didnt', 'act', 'information', 'might', 'leak', 'anyway', 'less', 'controlled', 'manner', 'people', 'say', 'four', 'senior', 'democratic', 'senator', 'saturday', 'write', 'letter', 'mr', 'comey', 'attorney', 'general', 'loretta', 'lynch', 'complain', 'vagueness', 'mr', 'comeys', 'disclosure', 'ask', 'detail', 'monday', 'include', 'many', 'newly', 'discover', 'email', 'isnt', 'clear', 'whether', 'fbi', 'agent', 'even', 'see', 'email', 'yet', 'senator', 'say', 'whether', 'duplicate', 'already', 'review', 'senator', 'cite', 'memo', 'mr', 'comey', 'send', 'fbi', 'staff', 'explain', 'decision', 'write', 'brief', 'letter', 'middle', 'election', 'season', 'significant', 'risk', 'misunderstand', 'senator', 'complain', 'letter', 'fact', 'misunderstood', 'misuse', 'letter', 'sign', 'sen', 'tom', 'carper', 'delaware', 'patrick', 'leahy', 'vermont', 'dianne', 'feinstein', 'california', 'ben', 'cardin', 'maryland', 'republican', 'include', 'sen', 'charles', 'grassley', 'iowa', 'also', 'call', 'briefing', 'late', 'email', 'disclosure', 'letter', 'director', 'comey', 'unsolicited', 'quite', 'honestly', 'surprising', 'leave', 'lot', 'question', 'answer', 'fbi', 'secretary', 'clinton', 'mr', 'grassley', 'say', 'friday', 'congress', 'public', 'deserve', 'context', 'properly', 'assess', 'evidence', 'fbi', 'discover', 'plan', 'mr', 'grassley', 'chair', 'senate', 'judiciary', 'committee', 'mr', 'leahy', 'panel', 'top', 'democrat', 'tension', 'justice', 'department', 'fbi', 'cast', 'additional', 'light', 'mr', 'comeys', 'surprise', 'decision', 'reveal', 'investigative', 'development', 'matter', 'involve', 'presidential', 'candidate', 'less', 'two', 'week', 'election', 'mr', 'comeys', 'letter', 'send', 'group', 'congressional', 'committee', 'chairman', 'blindside', 'clinton', 'campaign', 'white', 'house', 'didnt', 'receive', 'advanced', 'notice', 'investigator', 'find', 'email', 'letter', 'mr', 'comey', 'write', 'wasnt', 'clear', 'email', 'significance', 'previous', 'investigation', 'fbi', 'close', 'summer', 'recommend', 'charge', 'email', 'question', 'find', 'search', 'device', 'fbi', 'probe', 'former', 'rep', 'anthony', 'weiner', 'new', 'york', 'democrat', 'investigate', 'allegedly', 'send', 'sexually', 'explicit', 'message', 'minor', 'person', 'familiar', 'case', 'say', 'mr', 'weiner', 'didnt', 'respond', 'request', 'comment', 'friday', 'mr', 'weiner', 'marry', 'huma', 'abedin', 'longtime', 'senior', 'aide', 'mrs', 'clinton', 'recently', 'say', 'separate', 'mr', 'weiner', 'ms', 'abedin', 'question', 'earlier', 'year', 'fbi', 'clinton', 'email', 'probe', 'abedin', 'attorney', 'didnt', 'respond', 'request', 'comment', 'saturday', 'many', 'email', 'discover', 'laptop', 'use', 'ms', 'abedin', 'mr', 'weiner', 'accord', 'people', 'familiar', 'matter', 'search', 'laptop', 'investigator', 'find', 'thousand', 'email', 'determine', 'earlier', 'week', 'email', 'involve', 'ms', 'abedin', 'discuss', 'work', 'issue', 'authority', 'havent', 'yet', 'determine', 'many', 'email', 'involve', 'work', 'discussion', 'include', 'classified', 'information', 'people', 'say', 'also', 'havent', 'determine', 'work', 'email', 'question', 'copy', 'message', 'already', 'review', 'fbi', 'vagueness', 'heart', 'disclosure', 'new', 'email', 'frustrate', 'democrat', 'include', 'mrs', 'clinton', 'call', 'mr', 'comey', 'release', 'information', 'email', 'many', 'republican', 'say', 'revelation', 'confirm', 'fbi', 'close', 'matter', 'prematurely', 'saturday', 'mr', 'clinton', 'tell', 'crowd', 'daytona', 'beach', 'fla', 'pretty', 'strange', 'fbi', 'put', 'news', 'little', 'information', 'right', 'election', 'strange', 'unprecedented', 'deeply', 'trouble', 'say', 'voter', 'deserve', 'get', 'full', 'complete', 'fact', 'write', 'devlin', 'barrett']\"] \n",
      " con las siguientes diez primeras target variables: [1.0, 0.0, 0.0, 1.0, 1.0, 1.0, 1.0, 0.0, 1.0, 1.0] \n"
     ]
    }
   ],
   "source": [
    "print('El conjunto de entrenamiento consta de un total de {} entradas, las dos primeras son: \\n {} \\n con las siguientes diez primeras target variables: {} '.format(len(x_train), x_train[:2], y_train[:10]))\n",
    "print('El conjunto de pruebas consta de un total de {} entradas, las dos primeras son: \\n {} \\n con las siguientes diez primeras target variables: {} '.format(len(x_test), x_test[:2], y_test[:10]))"
   ]
  },
  {
   "cell_type": "code",
   "execution_count": 12,
   "metadata": {
    "colab": {},
    "colab_type": "code",
    "id": "G2c8JwE2Qvd2"
   },
   "outputs": [],
   "source": [
    "tfidf = TfidfVectorizer(lowercase = False, max_features = vocabulary_size, use_idf = True)"
   ]
  },
  {
   "cell_type": "code",
   "execution_count": 13,
   "metadata": {
    "colab": {
     "base_uri": "https://localhost:8080/",
     "height": 153
    },
    "colab_type": "code",
    "executionInfo": {
     "elapsed": 55025,
     "status": "ok",
     "timestamp": 1587836030192,
     "user": {
      "displayName": "Juan Carlos Alonso Valenzuela",
      "photoUrl": "",
      "userId": "09225180293986196032"
     },
     "user_tz": -120
    },
    "id": "ldzpO0n0Qz1v",
    "outputId": "968733e4-7d57-47ca-f55d-d73191edb8f9"
   },
   "outputs": [
    {
     "data": {
      "text/plain": [
       "TfidfVectorizer(analyzer='word', binary=False, decode_error='strict',\n",
       "                dtype=<class 'numpy.float64'>, encoding='utf-8',\n",
       "                input='content', lowercase=False, max_df=1.0,\n",
       "                max_features=20000, min_df=1, ngram_range=(1, 1), norm='l2',\n",
       "                preprocessor=None, smooth_idf=True, stop_words=None,\n",
       "                strip_accents=None, sublinear_tf=False,\n",
       "                token_pattern='(?u)\\\\b\\\\w\\\\w+\\\\b', tokenizer=None, use_idf=True,\n",
       "                vocabulary=None)"
      ]
     },
     "execution_count": 13,
     "metadata": {},
     "output_type": "execute_result"
    }
   ],
   "source": [
    "tfidf"
   ]
  },
  {
   "cell_type": "code",
   "execution_count": 14,
   "metadata": {
    "colab": {
     "base_uri": "https://localhost:8080/",
     "height": 51
    },
    "colab_type": "code",
    "executionInfo": {
     "elapsed": 59339,
     "status": "ok",
     "timestamp": 1587836034710,
     "user": {
      "displayName": "Juan Carlos Alonso Valenzuela",
      "photoUrl": "",
      "userId": "09225180293986196032"
     },
     "user_tz": -120
    },
    "id": "JxuM682NQ1Ei",
    "outputId": "3a9fa017-4151-4609-f669-23ce9b395842"
   },
   "outputs": [
    {
     "name": "stdout",
     "output_type": "stream",
     "text": [
      "Wall time: 4.85 s\n"
     ]
    }
   ],
   "source": [
    "%%time\n",
    "sparse_tfidf_texts = tfidf.fit_transform(x_train)"
   ]
  },
  {
   "cell_type": "code",
   "execution_count": 15,
   "metadata": {
    "colab": {
     "base_uri": "https://localhost:8080/",
     "height": 51
    },
    "colab_type": "code",
    "executionInfo": {
     "elapsed": 59134,
     "status": "ok",
     "timestamp": 1587836034711,
     "user": {
      "displayName": "Juan Carlos Alonso Valenzuela",
      "photoUrl": "",
      "userId": "09225180293986196032"
     },
     "user_tz": -120
    },
    "id": "nMA1LRDaQ-70",
    "outputId": "0dcec833-6dba-4153-ea3b-602656787fdb"
   },
   "outputs": [
    {
     "data": {
      "text/plain": [
       "<13596x20000 sparse matrix of type '<class 'numpy.float64'>'\n",
       "\twith 3246881 stored elements in Compressed Sparse Row format>"
      ]
     },
     "execution_count": 15,
     "metadata": {},
     "output_type": "execute_result"
    }
   ],
   "source": [
    "# matriz de tamaño (número de documentos) x  (tamaño vocabulario reducido)\n",
    "sparse_tfidf_texts"
   ]
  },
  {
   "cell_type": "code",
   "execution_count": 16,
   "metadata": {
    "colab": {},
    "colab_type": "code",
    "id": "nPYC2s-dr_hD"
   },
   "outputs": [],
   "source": [
    "tensor_sparse_tfidf_train = nlp_f.convert_to_sparse_tensor(sparse_tfidf_texts)"
   ]
  },
  {
   "cell_type": "code",
   "execution_count": 17,
   "metadata": {
    "colab": {
     "base_uri": "https://localhost:8080/",
     "height": 51
    },
    "colab_type": "code",
    "executionInfo": {
     "elapsed": 61278,
     "status": "ok",
     "timestamp": 1587836037606,
     "user": {
      "displayName": "Juan Carlos Alonso Valenzuela",
      "photoUrl": "",
      "userId": "09225180293986196032"
     },
     "user_tz": -120
    },
    "id": "E9C4W0g7R14z",
    "outputId": "62128882-d26b-419c-8935-3fc65da1f6ac"
   },
   "outputs": [
    {
     "name": "stdout",
     "output_type": "stream",
     "text": [
      "<class 'tensorflow.python.framework.sparse_tensor.SparseTensor'>\n",
      "(13596, 20000)\n"
     ]
    }
   ],
   "source": [
    "print(type(tensor_sparse_tfidf_train))\n",
    "print(tensor_sparse_tfidf_train.shape)"
   ]
  },
  {
   "cell_type": "code",
   "execution_count": 18,
   "metadata": {
    "colab": {},
    "colab_type": "code",
    "id": "o_uEAw9qzY1t"
   },
   "outputs": [],
   "source": [
    "# Convertimos el conjunto de pruebas a sparse tensor\n",
    "sparse_tfidf_texts = tfidf.transform(x_test)\n",
    "tensor_sparse_tfidf_test = nlp_f.convert_to_sparse_tensor(sparse_tfidf_texts)"
   ]
  },
  {
   "cell_type": "code",
   "execution_count": 19,
   "metadata": {
    "colab": {
     "base_uri": "https://localhost:8080/",
     "height": 51
    },
    "colab_type": "code",
    "executionInfo": {
     "elapsed": 63446,
     "status": "ok",
     "timestamp": 1587836040158,
     "user": {
      "displayName": "Juan Carlos Alonso Valenzuela",
      "photoUrl": "",
      "userId": "09225180293986196032"
     },
     "user_tz": -120
    },
    "id": "0kye_Qzp35yr",
    "outputId": "30b02a85-3611-4d03-8477-8ef6902c64ec"
   },
   "outputs": [
    {
     "name": "stdout",
     "output_type": "stream",
     "text": [
      "<class 'tensorflow.python.framework.sparse_tensor.SparseTensor'>\n",
      "(5827, 20000)\n"
     ]
    }
   ],
   "source": [
    "print(type(tensor_sparse_tfidf_test))\n",
    "print(tensor_sparse_tfidf_test.shape)"
   ]
  },
  {
   "cell_type": "code",
   "execution_count": 20,
   "metadata": {
    "colab": {},
    "colab_type": "code",
    "id": "-VZ_rLmyTq0k"
   },
   "outputs": [],
   "source": [
    "# Declaramos el modelo\n",
    "model = nlp_f.generate_logistic_regression(vocabulary_size)"
   ]
  },
  {
   "cell_type": "code",
   "execution_count": 21,
   "metadata": {
    "colab": {
     "base_uri": "https://localhost:8080/",
     "height": 187
    },
    "colab_type": "code",
    "executionInfo": {
     "elapsed": 62770,
     "status": "ok",
     "timestamp": 1587836040160,
     "user": {
      "displayName": "Juan Carlos Alonso Valenzuela",
      "photoUrl": "",
      "userId": "09225180293986196032"
     },
     "user_tz": -120
    },
    "id": "jCxQZ-xf7icU",
    "outputId": "36d67195-533c-41e2-f032-04c63067f58b"
   },
   "outputs": [
    {
     "name": "stdout",
     "output_type": "stream",
     "text": [
      "Model: \"sequential\"\n",
      "_________________________________________________________________\n",
      "Layer (type)                 Output Shape              Param #   \n",
      "=================================================================\n",
      "dense (Dense)                (20, 1)                   20001     \n",
      "=================================================================\n",
      "Total params: 20,001\n",
      "Trainable params: 20,001\n",
      "Non-trainable params: 0\n",
      "_________________________________________________________________\n"
     ]
    }
   ],
   "source": [
    "model.summary()"
   ]
  },
  {
   "cell_type": "code",
   "execution_count": 22,
   "metadata": {
    "colab": {},
    "colab_type": "code",
    "id": "hLoIXt5zPNIZ"
   },
   "outputs": [],
   "source": [
    "# Imports necesarios para tensorboard\n",
    "# Extensión de tensorboard para notebooks\n",
    "%load_ext tensorboard\n",
    "\n",
    "from tensorflow import keras"
   ]
  },
  {
   "cell_type": "code",
   "execution_count": 23,
   "metadata": {
    "colab": {
     "base_uri": "https://localhost:8080/",
     "height": 428
    },
    "colab_type": "code",
    "executionInfo": {
     "elapsed": 81893,
     "status": "ok",
     "timestamp": 1587836059900,
     "user": {
      "displayName": "Juan Carlos Alonso Valenzuela",
      "photoUrl": "",
      "userId": "09225180293986196032"
     },
     "user_tz": -120
    },
    "id": "tJvMYapcVsvF",
    "outputId": "e1b8087c-a446-4cf6-a0b2-e9a77cbff748"
   },
   "outputs": [
    {
     "name": "stdout",
     "output_type": "stream",
     "text": [
      "Train on 13596 samples, validate on 5827 samples\n",
      "Epoch 1/10\n",
      "3246881/13596 [============================================================================================================================================================================================================================================================================================================================================================================================================================================================================================================================================================================================================================================================================================================================================================================================================================================================================================================================================================================================================================================================================================================================================================================================================================================================================================================================================================================================================================================================================================================================================================================================================================================================================================================================================================================================================================================================================================================================================================================================================================================================================================================================================================================================================================================================================================================================================================================================================================================================================================================================================================================================================================================================================================================================================================================================================================================================================================================================================================================================================================================================================================================================================================================================================================================================================================================================================================================================================================================================================================================================================================================================================================================================================================================================================================================================================================================================================================================================================================================================================================================================================================================================================================================================================================================================================================================================================================================================================================================================================================================================================================================================================================================================================================================================================================================================================================================================================================================================================================================================================================================================================================================================================================================================================================================================================================================================================================================================================================================================================================================================================================================================================================================================================================================================================================================================================================================================================================================================================================================================================================================================================================================================================================================================================================================================================================================================================================================================================================================================================================================================================================================================================================================================================================================================================================================================================================================================================================================================================================================================================================================================================================================================================================================================================================================================================================================================================================================================================================================================] - 3s 1us/sample - loss: 0.5391 - accuracy: 0.8519 - Precision: 0.8217 - Recall: 0.9531 - f1_score: 0.8771 - val_loss: 122.3627 - val_accuracy: 0.8615 - val_Precision: 0.8296 - val_Recall: 0.9607 - val_f1_score: 0.8867\n",
      "Epoch 2/10\n",
      "3246881/13596 [============================================================================================================================================================================================================================================================================================================================================================================================================================================================================================================================================================================================================================================================================================================================================================================================================================================================================================================================================================================================================================================================================================================================================================================================================================================================================================================================================================================================================================================================================================================================================================================================================================================================================================================================================================================================================================================================================================================================================================================================================================================================================================================================================================================================================================================================================================================================================================================================================================================================================================================================================================================================================================================================================================================================================================================================================================================================================================================================================================================================================================================================================================================================================================================================================================================================================================================================================================================================================================================================================================================================================================================================================================================================================================================================================================================================================================================================================================================================================================================================================================================================================================================================================================================================================================================================================================================================================================================================================================================================================================================================================================================================================================================================================================================================================================================================================================================================================================================================================================================================================================================================================================================================================================================================================================================================================================================================================================================================================================================================================================================================================================================================================================================================================================================================================================================================================================================================================================================================================================================================================================================================================================================================================================================================================================================================================================================================================================================================================================================================================================================================================================================================================================================================================================================================================================================================================================================================================================================================================================================================================================================================================================================================================================================================================================================================================================================================================================================================================================================================] - 2s 0us/sample - loss: 0.4747 - accuracy: 0.8791 - Precision: 0.8527 - Recall: 0.9584 - f1_score: 0.8991 - val_loss: 98.9601 - val_accuracy: 0.8776 - val_Precision: 0.8571 - val_Recall: 0.9493 - val_f1_score: 0.8969\n"
     ]
    },
    {
     "name": "stdout",
     "output_type": "stream",
     "text": [
      "Epoch 3/10\n",
      "3246881/13596 [============================================================================================================================================================================================================================================================================================================================================================================================================================================================================================================================================================================================================================================================================================================================================================================================================================================================================================================================================================================================================================================================================================================================================================================================================================================================================================================================================================================================================================================================================================================================================================================================================================================================================================================================================================================================================================================================================================================================================================================================================================================================================================================================================================================================================================================================================================================================================================================================================================================================================================================================================================================================================================================================================================================================================================================================================================================================================================================================================================================================================================================================================================================================================================================================================================================================================================================================================================================================================================================================================================================================================================================================================================================================================================================================================================================================================================================================================================================================================================================================================================================================================================================================================================================================================================================================================================================================================================================================================================================================================================================================================================================================================================================================================================================================================================================================================================================================================================================================================================================================================================================================================================================================================================================================================================================================================================================================================================================================================================================================================================================================================================================================================================================================================================================================================================================================================================================================================================================================================================================================================================================================================================================================================================================================================================================================================================================================================================================================================================================================================================================================================================================================================================================================================================================================================================================================================================================================================================================================================================================================================================================================================================================================================================================================================================================================================================================================================================================================================================================================] - 1s 0us/sample - loss: 0.4354 - accuracy: 0.8908 - Precision: 0.8716 - Recall: 0.9534 - f1_score: 0.9072 - val_loss: 84.9139 - val_accuracy: 0.8824 - val_Precision: 0.8600 - val_Recall: 0.9546 - val_f1_score: 0.9012\n",
      "Epoch 4/10\n",
      "3246881/13596 [============================================================================================================================================================================================================================================================================================================================================================================================================================================================================================================================================================================================================================================================================================================================================================================================================================================================================================================================================================================================================================================================================================================================================================================================================================================================================================================================================================================================================================================================================================================================================================================================================================================================================================================================================================================================================================================================================================================================================================================================================================================================================================================================================================================================================================================================================================================================================================================================================================================================================================================================================================================================================================================================================================================================================================================================================================================================================================================================================================================================================================================================================================================================================================================================================================================================================================================================================================================================================================================================================================================================================================================================================================================================================================================================================================================================================================================================================================================================================================================================================================================================================================================================================================================================================================================================================================================================================================================================================================================================================================================================================================================================================================================================================================================================================================================================================================================================================================================================================================================================================================================================================================================================================================================================================================================================================================================================================================================================================================================================================================================================================================================================================================================================================================================================================================================================================================================================================================================================================================================================================================================================================================================================================================================================================================================================================================================================================================================================================================================================================================================================================================================================================================================================================================================================================================================================================================================================================================================================================================================================================================================================================================================================================================================================================================================================================================================================================================================================================================================================] - 2s 0us/sample - loss: 0.3183 - accuracy: 0.9000 - Precision: 0.8823 - Recall: 0.9564 - f1_score: 0.9151 - val_loss: 75.6978 - val_accuracy: 0.8915 - val_Precision: 0.8736 - val_Recall: 0.9525 - val_f1_score: 0.9078\n"
     ]
    },
    {
     "name": "stdout",
     "output_type": "stream",
     "text": [
      "Epoch 5/10\n",
      "3246881/13596 [============================================================================================================================================================================================================================================================================================================================================================================================================================================================================================================================================================================================================================================================================================================================================================================================================================================================================================================================================================================================================================================================================================================================================================================================================================================================================================================================================================================================================================================================================================================================================================================================================================================================================================================================================================================================================================================================================================================================================================================================================================================================================================================================================================================================================================================================================================================================================================================================================================================================================================================================================================================================================================================================================================================================================================================================================================================================================================================================================================================================================================================================================================================================================================================================================================================================================================================================================================================================================================================================================================================================================================================================================================================================================================================================================================================================================================================================================================================================================================================================================================================================================================================================================================================================================================================================================================================================================================================================================================================================================================================================================================================================================================================================================================================================================================================================================================================================================================================================================================================================================================================================================================================================================================================================================================================================================================================================================================================================================================================================================================================================================================================================================================================================================================================================================================================================================================================================================================================================================================================================================================================================================================================================================================================================================================================================================================================================================================================================================================================================================================================================================================================================================================================================================================================================================================================================================================================================================================================================================================================================================================================================================================================================================================================================================================================================================================================================================================================================================================================================] - 2s 0us/sample - loss: 0.3338 - accuracy: 0.9080 - Precision: 0.8933 - Recall: 0.9567 - f1_score: 0.9204 - val_loss: 69.0758 - val_accuracy: 0.8979 - val_Precision: 0.8839 - val_Recall: 0.9505 - val_f1_score: 0.9125\n",
      "Epoch 6/10\n",
      "3246881/13596 [============================================================================================================================================================================================================================================================================================================================================================================================================================================================================================================================================================================================================================================================================================================================================================================================================================================================================================================================================================================================================================================================================================================================================================================================================================================================================================================================================================================================================================================================================================================================================================================================================================================================================================================================================================================================================================================================================================================================================================================================================================================================================================================================================================================================================================================================================================================================================================================================================================================================================================================================================================================================================================================================================================================================================================================================================================================================================================================================================================================================================================================================================================================================================================================================================================================================================================================================================================================================================================================================================================================================================================================================================================================================================================================================================================================================================================================================================================================================================================================================================================================================================================================================================================================================================================================================================================================================================================================================================================================================================================================================================================================================================================================================================================================================================================================================================================================================================================================================================================================================================================================================================================================================================================================================================================================================================================================================================================================================================================================================================================================================================================================================================================================================================================================================================================================================================================================================================================================================================================================================================================================================================================================================================================================================================================================================================================================================================================================================================================================================================================================================================================================================================================================================================================================================================================================================================================================================================================================================================================================================================================================================================================================================================================================================================================================================================================================================================================================================================================================================] - 2s 0us/sample - loss: 0.3317 - accuracy: 0.9153 - Precision: 0.9030 - Recall: 0.9578 - f1_score: 0.9261 - val_loss: 64.1319 - val_accuracy: 0.9027 - val_Precision: 0.8902 - val_Recall: 0.9510 - val_f1_score: 0.9158\n"
     ]
    },
    {
     "name": "stdout",
     "output_type": "stream",
     "text": [
      "Epoch 7/10\n",
      "3246881/13596 [============================================================================================================================================================================================================================================================================================================================================================================================================================================================================================================================================================================================================================================================================================================================================================================================================================================================================================================================================================================================================================================================================================================================================================================================================================================================================================================================================================================================================================================================================================================================================================================================================================================================================================================================================================================================================================================================================================================================================================================================================================================================================================================================================================================================================================================================================================================================================================================================================================================================================================================================================================================================================================================================================================================================================================================================================================================================================================================================================================================================================================================================================================================================================================================================================================================================================================================================================================================================================================================================================================================================================================================================================================================================================================================================================================================================================================================================================================================================================================================================================================================================================================================================================================================================================================================================================================================================================================================================================================================================================================================================================================================================================================================================================================================================================================================================================================================================================================================================================================================================================================================================================================================================================================================================================================================================================================================================================================================================================================================================================================================================================================================================================================================================================================================================================================================================================================================================================================================================================================================================================================================================================================================================================================================================================================================================================================================================================================================================================================================================================================================================================================================================================================================================================================================================================================================================================================================================================================================================================================================================================================================================================================================================================================================================================================================================================================================================================================================================================================================================] - 1s 0us/sample - loss: 0.1986 - accuracy: 0.9213 - Precision: 0.9097 - Recall: 0.9606 - f1_score: 0.9316 - val_loss: 60.2208 - val_accuracy: 0.9099 - val_Precision: 0.8995 - val_Recall: 0.9525 - val_f1_score: 0.9218\n",
      "Epoch 8/10\n",
      "3246881/13596 [============================================================================================================================================================================================================================================================================================================================================================================================================================================================================================================================================================================================================================================================================================================================================================================================================================================================================================================================================================================================================================================================================================================================================================================================================================================================================================================================================================================================================================================================================================================================================================================================================================================================================================================================================================================================================================================================================================================================================================================================================================================================================================================================================================================================================================================================================================================================================================================================================================================================================================================================================================================================================================================================================================================================================================================================================================================================================================================================================================================================================================================================================================================================================================================================================================================================================================================================================================================================================================================================================================================================================================================================================================================================================================================================================================================================================================================================================================================================================================================================================================================================================================================================================================================================================================================================================================================================================================================================================================================================================================================================================================================================================================================================================================================================================================================================================================================================================================================================================================================================================================================================================================================================================================================================================================================================================================================================================================================================================================================================================================================================================================================================================================================================================================================================================================================================================================================================================================================================================================================================================================================================================================================================================================================================================================================================================================================================================================================================================================================================================================================================================================================================================================================================================================================================================================================================================================================================================================================================================================================================================================================================================================================================================================================================================================================================================================================================================================================================================================================================] - 2s 0us/sample - loss: 0.2537 - accuracy: 0.9266 - Precision: 0.9176 - Recall: 0.9606 - f1_score: 0.9364 - val_loss: 57.1161 - val_accuracy: 0.9128 - val_Precision: 0.9009 - val_Recall: 0.9563 - val_f1_score: 0.9245\n"
     ]
    },
    {
     "name": "stdout",
     "output_type": "stream",
     "text": [
      "Epoch 9/10\n",
      "3246881/13596 [============================================================================================================================================================================================================================================================================================================================================================================================================================================================================================================================================================================================================================================================================================================================================================================================================================================================================================================================================================================================================================================================================================================================================================================================================================================================================================================================================================================================================================================================================================================================================================================================================================================================================================================================================================================================================================================================================================================================================================================================================================================================================================================================================================================================================================================================================================================================================================================================================================================================================================================================================================================================================================================================================================================================================================================================================================================================================================================================================================================================================================================================================================================================================================================================================================================================================================================================================================================================================================================================================================================================================================================================================================================================================================================================================================================================================================================================================================================================================================================================================================================================================================================================================================================================================================================================================================================================================================================================================================================================================================================================================================================================================================================================================================================================================================================================================================================================================================================================================================================================================================================================================================================================================================================================================================================================================================================================================================================================================================================================================================================================================================================================================================================================================================================================================================================================================================================================================================================================================================================================================================================================================================================================================================================================================================================================================================================================================================================================================================================================================================================================================================================================================================================================================================================================================================================================================================================================================================================================================================================================================================================================================================================================================================================================================================================================================================================================================================================================================================================================] - 2s 0us/sample - loss: 0.1740 - accuracy: 0.9303 - Precision: 0.9219 - Recall: 0.9622 - f1_score: 0.9393 - val_loss: 54.5118 - val_accuracy: 0.9157 - val_Precision: 0.9040 - val_Recall: 0.9578 - val_f1_score: 0.9270\n",
      "Epoch 10/10\n",
      "3246881/13596 [============================================================================================================================================================================================================================================================================================================================================================================================================================================================================================================================================================================================================================================================================================================================================================================================================================================================================================================================================================================================================================================================================================================================================================================================================================================================================================================================================================================================================================================================================================================================================================================================================================================================================================================================================================================================================================================================================================================================================================================================================================================================================================================================================================================================================================================================================================================================================================================================================================================================================================================================================================================================================================================================================================================================================================================================================================================================================================================================================================================================================================================================================================================================================================================================================================================================================================================================================================================================================================================================================================================================================================================================================================================================================================================================================================================================================================================================================================================================================================================================================================================================================================================================================================================================================================================================================================================================================================================================================================================================================================================================================================================================================================================================================================================================================================================================================================================================================================================================================================================================================================================================================================================================================================================================================================================================================================================================================================================================================================================================================================================================================================================================================================================================================================================================================================================================================================================================================================================================================================================================================================================================================================================================================================================================================================================================================================================================================================================================================================================================================================================================================================================================================================================================================================================================================================================================================================================================================================================================================================================================================================================================================================================================================================================================================================================================================================================================================================================================================================================================] - 2s 0us/sample - loss: 0.2284 - accuracy: 0.9344 - Precision: 0.9260 - Recall: 0.9647 - f1_score: 0.9422 - val_loss: 52.2851 - val_accuracy: 0.9180 - val_Precision: 0.9077 - val_Recall: 0.9572 - val_f1_score: 0.9287\n"
     ]
    },
    {
     "name": "stdout",
     "output_type": "stream",
     "text": [
      "Wall time: 17.2 s\n"
     ]
    }
   ],
   "source": [
    "%%time\n",
    "# Limpiar logs de ejecuciones anteriores\n",
    "!rm -rf ./logs/tfidf \n",
    "\n",
    "from datetime import datetime\n",
    "# Definimos la ruta en la que se guardarán los logs\n",
    "logdir=\"logs\\\\tfidf\\\\\" + datetime.now().strftime(\"%Y%m%d-%H%M%S\")\n",
    "\n",
    "# Definimos el callback de TensorBoard\n",
    "# Histogram_freq = 1 indica a tensorboard que muestre el histograma de computación para cada época\n",
    "tensorboard_callback = keras.callbacks.TensorBoard(log_dir=logdir, histogram_freq= 1)\n",
    "\n",
    "# Indicamos el callback a tensorboard dentro del fit\n",
    "history = model.fit(tensor_sparse_tfidf_train, \n",
    "                    tf.convert_to_tensor(y_train, dtype = tf.float64),\n",
    "                    epochs = 10, \n",
    "                    validation_data = (tensor_sparse_tfidf_test, tf.convert_to_tensor(y_test, dtype = tf.float64)),\n",
    "                    callbacks = [tensorboard_callback])"
   ]
  },
  {
   "cell_type": "code",
   "execution_count": 24,
   "metadata": {
    "colab": {
     "base_uri": "https://localhost:8080/",
     "height": 54
    },
    "colab_type": "code",
    "executionInfo": {
     "elapsed": 81595,
     "status": "ok",
     "timestamp": 1587836059900,
     "user": {
      "displayName": "Juan Carlos Alonso Valenzuela",
      "photoUrl": "",
      "userId": "09225180293986196032"
     },
     "user_tz": -120
    },
    "id": "YsZfSVu9eIBR",
    "outputId": "725fc94a-d47f-4fe9-b6e7-9b2f62b6a203"
   },
   "outputs": [
    {
     "name": "stdout",
     "output_type": "stream",
     "text": [
      "{'loss': [0.5930389465596161, 0.45426470694304005, 0.3737806994408183, 0.3230513125537671, 0.28821497152519066, 0.2615030525082953, 0.24101427399675399, 0.22570833560680884, 0.21157692886498666, 0.1996311243990668], 'accuracy': [0.8518682, 0.8790821, 0.8907767, 0.90004414, 0.90798765, 0.9152692, 0.9213004, 0.92659605, 0.93034714, 0.93439245], 'Precision': [0.8216768, 0.8527236, 0.8715882, 0.8822777, 0.8933067, 0.9029691, 0.9096874, 0.9175692, 0.92190707, 0.92599756], 'Recall': [0.9531368, 0.9584278, 0.95338875, 0.9564122, 0.95666414, 0.95779794, 0.96056944, 0.96056944, 0.9622071, 0.9647266], 'f1_score': [0.877094, 0.8990623, 0.90720975, 0.91508114, 0.9204371, 0.92607963, 0.93158317, 0.9363914, 0.93932134, 0.9421848], 'val_loss': [122.36274013391957, 98.96011468953901, 84.91389993676489, 75.69779926019389, 69.07578745504043, 64.13188940246589, 60.2207941904807, 57.11606196884871, 54.51178941494679, 52.285065984258694], 'val_accuracy': [0.86150676, 0.8776386, 0.8824438, 0.8915394, 0.89788914, 0.90269434, 0.90990216, 0.9128196, 0.9157371, 0.9179681], 'val_Precision': [0.82962024, 0.8570672, 0.86001056, 0.87362194, 0.8838604, 0.89023054, 0.8995017, 0.90085614, 0.9039845, 0.90770084], 'val_Recall': [0.96071535, 0.94928175, 0.9545588, 0.9525066, 0.9504544, 0.95104074, 0.9525066, 0.9563178, 0.95778364, 0.9571973], 'val_f1_score': [0.8867032, 0.89691603, 0.9012056, 0.9078444, 0.91248125, 0.91581327, 0.9217783, 0.9245343, 0.926952, 0.9286778]}\n"
     ]
    }
   ],
   "source": [
    "# Imprimimos las distintas métricas como lista\n",
    "print(history.history)"
   ]
  },
  {
   "cell_type": "code",
   "execution_count": 25,
   "metadata": {
    "colab": {
     "base_uri": "https://localhost:8080/",
     "height": 1000
    },
    "colab_type": "code",
    "executionInfo": {
     "elapsed": 82329,
     "status": "ok",
     "timestamp": 1587836060901,
     "user": {
      "displayName": "Juan Carlos Alonso Valenzuela",
      "photoUrl": "",
      "userId": "09225180293986196032"
     },
     "user_tz": -120
    },
    "id": "p30yd5DFsXEo",
    "outputId": "8b34186e-1394-4ec8-ef52-6a6c4d12f319"
   },
   "outputs": [
    {
     "data": {
      "image/png": "[encoded data removed]",
      "text/plain": [
       "<Figure size 432x288 with 1 Axes>"
      ]
     },
     "metadata": {},
     "output_type": "display_data"
    },
    {
     "data": {
      "image/png": "[encoded data removed]",
      "text/plain": [
       "<Figure size 432x288 with 1 Axes>"
      ]
     },
     "metadata": {},
     "output_type": "display_data"
    },
    {
     "data": {
      "image/png": "[encoded data removed]",
      "text/plain": [
       "<Figure size 432x288 with 1 Axes>"
      ]
     },
     "metadata": {},
     "output_type": "display_data"
    },
    {
     "data": {
      "image/png": "[encoded data removed]",
      "text/plain": [
       "<Figure size 432x288 with 1 Axes>"
      ]
     },
     "metadata": {},
     "output_type": "display_data"
    },
    {
     "data": {
      "image/png": "[encoded data removed]",
      "text/plain": [
       "<Figure size 432x288 with 1 Axes>"
      ]
     },
     "metadata": {},
     "output_type": "display_data"
    }
   ],
   "source": [
    "nlp_f.plot_history(history)"
   ]
  },
  {
   "cell_type": "code",
   "execution_count": 26,
   "metadata": {
    "colab": {},
    "colab_type": "code",
    "id": "LC2ayiFe0ryz"
   },
   "outputs": [],
   "source": [
    "# !kill 1940"
   ]
  },
  {
   "cell_type": "code",
   "execution_count": 28,
   "metadata": {
    "colab": {
     "base_uri": "https://localhost:8080/",
     "height": 821
    },
    "colab_type": "code",
    "executionInfo": {
     "elapsed": 84317,
     "status": "ok",
     "timestamp": 1587836063447,
     "user": {
      "displayName": "Juan Carlos Alonso Valenzuela",
      "photoUrl": "",
      "userId": "09225180293986196032"
     },
     "user_tz": -120
    },
    "id": "cSDo9UlsP-Df",
    "outputId": "193579bb-5f30-4f77-8611-b54591a671ac"
   },
   "outputs": [
    {
     "data": {
      "text/plain": [
       "Reusing TensorBoard on port 6006 (pid 432), started 0:01:10 ago. (Use '!kill 432' to kill it.)"
      ]
     },
     "metadata": {},
     "output_type": "display_data"
    },
    {
     "data": {
      "text/html": [
       "\n",
       "      <iframe id=\"tensorboard-frame-3858787a648a5123\" width=\"100%\" height=\"800\" frameborder=\"0\">\n",
       "      </iframe>\n",
       "      <script>\n",
       "        (function() {\n",
       "          const frame = document.getElementById(\"tensorboard-frame-3858787a648a5123\");\n",
       "          const url = new URL(\"/\", window.location);\n",
       "          url.port = 6006;\n",
       "          frame.src = url;\n",
       "        })();\n",
       "      </script>\n",
       "  "
      ],
      "text/plain": [
       "<IPython.core.display.HTML object>"
      ]
     },
     "metadata": {},
     "output_type": "display_data"
    }
   ],
   "source": [
    "# El siguiente comando nos permite acceder a tensorboard indicando la ruta en la\n",
    "# que se encuentran los logs\n",
    "%tensorboard --logdir logs/tfidf"
   ]
  },
  {
   "cell_type": "markdown",
   "metadata": {
    "colab_type": "text",
    "id": "paQN8KC7VLBq"
   },
   "source": [
    "\n",
    "\n",
    "---\n",
    "\n"
   ]
  }
 ],
 "metadata": {
  "colab": {
   "collapsed_sections": [],
   "machine_shape": "hm",
   "name": "TF-IDF ticnn functional.ipynb",
   "provenance": []
  },
  "kernelspec": {
   "display_name": "Python 3",
   "language": "python",
   "name": "python3"
  },
  "language_info": {
   "codemirror_mode": {
    "name": "ipython",
    "version": 3
   },
   "file_extension": ".py",
   "mimetype": "text/x-python",
   "name": "python",
   "nbconvert_exporter": "python",
   "pygments_lexer": "ipython3",
   "version": "3.7.3"
  }
 },
 "nbformat": 4,
 "nbformat_minor": 1
}
