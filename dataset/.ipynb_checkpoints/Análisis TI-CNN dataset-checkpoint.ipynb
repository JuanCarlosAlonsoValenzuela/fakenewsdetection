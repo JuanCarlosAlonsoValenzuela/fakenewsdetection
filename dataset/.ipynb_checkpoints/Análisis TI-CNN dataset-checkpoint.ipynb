{
 "cells": [
  {
   "cell_type": "markdown",
   "metadata": {},
   "source": [
    "# Análisis TI-CNN dataset\n",
    "El dataset TI-CNN está compuesto por 20.015 noticias, 11.941 de las cuales son fake news, mientras que las 8.074 restantes son noticias reales. Las noticias falsas pertenecen al dataset \"Getting Real About Fake News\", utilizado en notebooks anteriores. Las noticias reales han sido extraídas de fuentes como New York Times y Washington Post, aunque no se indica nada más sobre su naturaleza. <br>\n",
    "En el paper original, se utilizan el título, el cuerpo y las imágenes de la noticia, además de información adicional sobre ciertas propiedades de cada noticia (longitud, número de mayúsculas y minúsculas, entre otras). <br>\n",
    "A pesar de estos datos adicionales, un segundo paper (Ibrain) obtiene mejores resultados empleando solamente el texto. Estos resultados son cercanos al 100% de precisión en el conjunto de pruebas."
   ]
  },
  {
   "cell_type": "code",
   "execution_count": 1,
   "metadata": {},
   "outputs": [
    {
     "name": "stderr",
     "output_type": "stream",
     "text": [
      "[nltk_data] Downloading package stopwords to\n",
      "[nltk_data]     C:\\Users\\Carsick\\AppData\\Roaming\\nltk_data...\n",
      "[nltk_data]   Package stopwords is already up-to-date!\n",
      "Using TensorFlow backend.\n"
     ]
    }
   ],
   "source": [
    "# Importamos las librerías necesarias para el análisis y preprocesado del dataset\n",
    "import pandas as pd\n",
    "import matplotlib.pyplot as plt\n",
    "import numpy as np\n",
    "import math\n",
    "\n",
    "import nlp_functions as nlp_f"
   ]
  },
  {
   "cell_type": "code",
   "execution_count": 2,
   "metadata": {},
   "outputs": [],
   "source": [
    "pd.set_option('display.max_columns', 60)"
   ]
  },
  {
   "cell_type": "code",
   "execution_count": 3,
   "metadata": {},
   "outputs": [],
   "source": [
    "df = pd.read_csv('all_data.csv', encoding = 'utf-8')"
   ]
  },
  {
   "cell_type": "code",
   "execution_count": 4,
   "metadata": {},
   "outputs": [
    {
     "data": {
      "text/html": [
       "<div>\n",
       "<style scoped>\n",
       "    .dataframe tbody tr th:only-of-type {\n",
       "        vertical-align: middle;\n",
       "    }\n",
       "\n",
       "    .dataframe tbody tr th {\n",
       "        vertical-align: top;\n",
       "    }\n",
       "\n",
       "    .dataframe thead th {\n",
       "        text-align: right;\n",
       "    }\n",
       "</style>\n",
       "<table border=\"1\" class=\"dataframe\">\n",
       "  <thead>\n",
       "    <tr style=\"text-align: right;\">\n",
       "      <th></th>\n",
       "      <th>Unnamed: 0</th>\n",
       "      <th>Unnamed: 0.1</th>\n",
       "      <th>author</th>\n",
       "      <th>comments</th>\n",
       "      <th>country</th>\n",
       "      <th>crawled</th>\n",
       "      <th>domain_rank</th>\n",
       "      <th>id</th>\n",
       "      <th>language</th>\n",
       "      <th>likes</th>\n",
       "      <th>main_img_url</th>\n",
       "      <th>ord_in_thread</th>\n",
       "      <th>participants_count</th>\n",
       "      <th>published</th>\n",
       "      <th>replies_count</th>\n",
       "      <th>shares</th>\n",
       "      <th>site_url</th>\n",
       "      <th>spam_score</th>\n",
       "      <th>text</th>\n",
       "      <th>thread_title</th>\n",
       "      <th>title</th>\n",
       "      <th>type</th>\n",
       "      <th>uuid</th>\n",
       "      <th>caps_title</th>\n",
       "      <th>caps_thread</th>\n",
       "      <th>caps_text</th>\n",
       "      <th>title_len</th>\n",
       "      <th>thread_len</th>\n",
       "      <th>text_len</th>\n",
       "      <th>excl_title</th>\n",
       "      <th>excl_thread</th>\n",
       "      <th>excl_text</th>\n",
       "      <th>first_title</th>\n",
       "      <th>first_thread</th>\n",
       "      <th>first_text</th>\n",
       "      <th>second_title</th>\n",
       "      <th>second_thread</th>\n",
       "      <th>second_text</th>\n",
       "      <th>third_title</th>\n",
       "      <th>third_thread</th>\n",
       "      <th>third_text</th>\n",
       "      <th>anger</th>\n",
       "      <th>anticipation</th>\n",
       "      <th>disgust</th>\n",
       "      <th>fear</th>\n",
       "      <th>joy</th>\n",
       "      <th>sadness</th>\n",
       "      <th>surprise</th>\n",
       "      <th>trust</th>\n",
       "      <th>negative</th>\n",
       "      <th>positive</th>\n",
       "      <th>first_all</th>\n",
       "      <th>second_all</th>\n",
       "      <th>third_all</th>\n",
       "    </tr>\n",
       "  </thead>\n",
       "  <tbody>\n",
       "    <tr>\n",
       "      <th>0</th>\n",
       "      <td>1</td>\n",
       "      <td>NaN</td>\n",
       "      <td>JEREMY W. PETERS</td>\n",
       "      <td>0.0</td>\n",
       "      <td>US</td>\n",
       "      <td>2017-03-14 08:25:04</td>\n",
       "      <td>0</td>\n",
       "      <td>3.0</td>\n",
       "      <td>english</td>\n",
       "      <td>0.0</td>\n",
       "      <td>https://static01.nyt.com/images/2016/11/23/us/...</td>\n",
       "      <td>0.0</td>\n",
       "      <td>0.0</td>\n",
       "      <td>2016-11-23 00:45:32</td>\n",
       "      <td>0.0</td>\n",
       "      <td>0.0</td>\n",
       "      <td>https://www.nytimes.com/2016/11/22/us/politics...</td>\n",
       "      <td>0.0</td>\n",
       "      <td>They stood in line at Trump Tower, sometimes u...</td>\n",
       "      <td>0</td>\n",
       "      <td>At Donald Trump&lt;U+2019&gt;s Properties, a Showcas...</td>\n",
       "      <td>real</td>\n",
       "      <td>f182f05dc3191ba4cb741e22f75fb43b</td>\n",
       "      <td>0</td>\n",
       "      <td>0</td>\n",
       "      <td>0</td>\n",
       "      <td>74</td>\n",
       "      <td>1</td>\n",
       "      <td>6489</td>\n",
       "      <td>0</td>\n",
       "      <td>0</td>\n",
       "      <td>0</td>\n",
       "      <td>2</td>\n",
       "      <td>0</td>\n",
       "      <td>407</td>\n",
       "      <td>0</td>\n",
       "      <td>0</td>\n",
       "      <td>150</td>\n",
       "      <td>0</td>\n",
       "      <td>0</td>\n",
       "      <td>45</td>\n",
       "      <td>9</td>\n",
       "      <td>21</td>\n",
       "      <td>5</td>\n",
       "      <td>6</td>\n",
       "      <td>20</td>\n",
       "      <td>5</td>\n",
       "      <td>14</td>\n",
       "      <td>30</td>\n",
       "      <td>14</td>\n",
       "      <td>52</td>\n",
       "      <td>409</td>\n",
       "      <td>150</td>\n",
       "      <td>45</td>\n",
       "    </tr>\n",
       "    <tr>\n",
       "      <th>1</th>\n",
       "      <td>2</td>\n",
       "      <td>NaN</td>\n",
       "      <td>STEVE EDER</td>\n",
       "      <td>0.0</td>\n",
       "      <td>US</td>\n",
       "      <td>2017-03-14 08:25:36</td>\n",
       "      <td>0</td>\n",
       "      <td>4.0</td>\n",
       "      <td>english</td>\n",
       "      <td>0.0</td>\n",
       "      <td>https://static01.nyt.com/images/2016/10/18/us/...</td>\n",
       "      <td>0.0</td>\n",
       "      <td>0.0</td>\n",
       "      <td>2016-10-17 18:46:52</td>\n",
       "      <td>0.0</td>\n",
       "      <td>0.0</td>\n",
       "      <td>https://www.nytimes.com/2016/10/18/us/politics...</td>\n",
       "      <td>0.0</td>\n",
       "      <td>Donald J. Trump &lt;U+2019&gt;s foundation informed ...</td>\n",
       "      <td>0</td>\n",
       "      <td>Trump Foundation Tells New York It Has Stopped...</td>\n",
       "      <td>real</td>\n",
       "      <td>220b87845a5eb01509b66c8008bf3728</td>\n",
       "      <td>0</td>\n",
       "      <td>0</td>\n",
       "      <td>0</td>\n",
       "      <td>75</td>\n",
       "      <td>1</td>\n",
       "      <td>2163</td>\n",
       "      <td>0</td>\n",
       "      <td>0</td>\n",
       "      <td>0</td>\n",
       "      <td>5</td>\n",
       "      <td>0</td>\n",
       "      <td>140</td>\n",
       "      <td>0</td>\n",
       "      <td>0</td>\n",
       "      <td>38</td>\n",
       "      <td>2</td>\n",
       "      <td>0</td>\n",
       "      <td>26</td>\n",
       "      <td>6</td>\n",
       "      <td>7</td>\n",
       "      <td>2</td>\n",
       "      <td>4</td>\n",
       "      <td>4</td>\n",
       "      <td>4</td>\n",
       "      <td>5</td>\n",
       "      <td>9</td>\n",
       "      <td>8</td>\n",
       "      <td>15</td>\n",
       "      <td>145</td>\n",
       "      <td>38</td>\n",
       "      <td>28</td>\n",
       "    </tr>\n",
       "    <tr>\n",
       "      <th>2</th>\n",
       "      <td>3</td>\n",
       "      <td>NaN</td>\n",
       "      <td>MAGGIE HABERMAN ASHLEY PARKER</td>\n",
       "      <td>0.0</td>\n",
       "      <td>US</td>\n",
       "      <td>2017-03-14 08:25:36</td>\n",
       "      <td>0</td>\n",
       "      <td>5.0</td>\n",
       "      <td>english</td>\n",
       "      <td>0.0</td>\n",
       "      <td>https://static01.nyt.com/images/2016/11/12/us/...</td>\n",
       "      <td>0.0</td>\n",
       "      <td>0.0</td>\n",
       "      <td>2016-11-12 02:08:39</td>\n",
       "      <td>0.0</td>\n",
       "      <td>0.0</td>\n",
       "      <td>https://www.nytimes.com/2016/11/12/us/politics...</td>\n",
       "      <td>0.0</td>\n",
       "      <td>President-elect Donald J. Trump won the White ...</td>\n",
       "      <td>0</td>\n",
       "      <td>Donald Trump Prepares for White House Move, bu...</td>\n",
       "      <td>real</td>\n",
       "      <td>247e97e1da2dc67fcb31e20b84b2d960</td>\n",
       "      <td>0</td>\n",
       "      <td>0</td>\n",
       "      <td>1</td>\n",
       "      <td>74</td>\n",
       "      <td>1</td>\n",
       "      <td>6239</td>\n",
       "      <td>0</td>\n",
       "      <td>0</td>\n",
       "      <td>1</td>\n",
       "      <td>4</td>\n",
       "      <td>0</td>\n",
       "      <td>436</td>\n",
       "      <td>1</td>\n",
       "      <td>0</td>\n",
       "      <td>167</td>\n",
       "      <td>1</td>\n",
       "      <td>0</td>\n",
       "      <td>67</td>\n",
       "      <td>5</td>\n",
       "      <td>19</td>\n",
       "      <td>6</td>\n",
       "      <td>8</td>\n",
       "      <td>15</td>\n",
       "      <td>8</td>\n",
       "      <td>6</td>\n",
       "      <td>26</td>\n",
       "      <td>15</td>\n",
       "      <td>34</td>\n",
       "      <td>440</td>\n",
       "      <td>168</td>\n",
       "      <td>68</td>\n",
       "    </tr>\n",
       "  </tbody>\n",
       "</table>\n",
       "</div>"
      ],
      "text/plain": [
       "   Unnamed: 0  Unnamed: 0.1                         author  comments country  \\\n",
       "0           1           NaN               JEREMY W. PETERS       0.0      US   \n",
       "1           2           NaN                     STEVE EDER       0.0      US   \n",
       "2           3           NaN  MAGGIE HABERMAN ASHLEY PARKER       0.0      US   \n",
       "\n",
       "               crawled  domain_rank   id language  likes  \\\n",
       "0  2017-03-14 08:25:04            0  3.0  english    0.0   \n",
       "1  2017-03-14 08:25:36            0  4.0  english    0.0   \n",
       "2  2017-03-14 08:25:36            0  5.0  english    0.0   \n",
       "\n",
       "                                        main_img_url  ord_in_thread  \\\n",
       "0  https://static01.nyt.com/images/2016/11/23/us/...            0.0   \n",
       "1  https://static01.nyt.com/images/2016/10/18/us/...            0.0   \n",
       "2  https://static01.nyt.com/images/2016/11/12/us/...            0.0   \n",
       "\n",
       "   participants_count            published  replies_count  shares  \\\n",
       "0                 0.0  2016-11-23 00:45:32            0.0     0.0   \n",
       "1                 0.0  2016-10-17 18:46:52            0.0     0.0   \n",
       "2                 0.0  2016-11-12 02:08:39            0.0     0.0   \n",
       "\n",
       "                                            site_url  spam_score  \\\n",
       "0  https://www.nytimes.com/2016/11/22/us/politics...         0.0   \n",
       "1  https://www.nytimes.com/2016/10/18/us/politics...         0.0   \n",
       "2  https://www.nytimes.com/2016/11/12/us/politics...         0.0   \n",
       "\n",
       "                                                text thread_title  \\\n",
       "0  They stood in line at Trump Tower, sometimes u...            0   \n",
       "1  Donald J. Trump <U+2019>s foundation informed ...            0   \n",
       "2  President-elect Donald J. Trump won the White ...            0   \n",
       "\n",
       "                                               title  type  \\\n",
       "0  At Donald Trump<U+2019>s Properties, a Showcas...  real   \n",
       "1  Trump Foundation Tells New York It Has Stopped...  real   \n",
       "2  Donald Trump Prepares for White House Move, bu...  real   \n",
       "\n",
       "                               uuid  caps_title  caps_thread  caps_text  \\\n",
       "0  f182f05dc3191ba4cb741e22f75fb43b           0            0          0   \n",
       "1  220b87845a5eb01509b66c8008bf3728           0            0          0   \n",
       "2  247e97e1da2dc67fcb31e20b84b2d960           0            0          1   \n",
       "\n",
       "   title_len  thread_len  text_len  excl_title  excl_thread  excl_text  \\\n",
       "0         74           1      6489           0            0          0   \n",
       "1         75           1      2163           0            0          0   \n",
       "2         74           1      6239           0            0          1   \n",
       "\n",
       "   first_title  first_thread  first_text  second_title  second_thread  \\\n",
       "0            2             0         407             0              0   \n",
       "1            5             0         140             0              0   \n",
       "2            4             0         436             1              0   \n",
       "\n",
       "   second_text  third_title  third_thread  third_text  anger  anticipation  \\\n",
       "0          150            0             0          45      9            21   \n",
       "1           38            2             0          26      6             7   \n",
       "2          167            1             0          67      5            19   \n",
       "\n",
       "   disgust  fear  joy  sadness  surprise  trust  negative  positive  \\\n",
       "0        5     6   20        5        14     30        14        52   \n",
       "1        2     4    4        4         5      9         8        15   \n",
       "2        6     8   15        8         6     26        15        34   \n",
       "\n",
       "   first_all  second_all  third_all  \n",
       "0        409         150         45  \n",
       "1        145          38         28  \n",
       "2        440         168         68  "
      ]
     },
     "execution_count": 4,
     "metadata": {},
     "output_type": "execute_result"
    }
   ],
   "source": [
    "df.head(3)"
   ]
  },
  {
   "cell_type": "markdown",
   "metadata": {},
   "source": [
    "## Caracteres especiales"
   ]
  },
  {
   "cell_type": "markdown",
   "metadata": {},
   "source": [
    "Los caracteres del tipo <U+2019> son símbolos como comillas para realizar citas o el genitivo sajón. La aparición de dichos caracteres no se debe a que se haya leído el fichero csv en el formato incorrecto, sino que ya aparecen en este estado en el propio fichero csv. Inicialmente se consideró eliminar estos caracteres reemplazandolos, pero afortunadamente la función de preprocesado se encarga de ellos correctamente."
   ]
  },
  {
   "cell_type": "code",
   "execution_count": 5,
   "metadata": {},
   "outputs": [
    {
     "data": {
      "text/plain": [
       "0    At Donald Trump<U+2019>s Properties, a Showcas...\n",
       "1    Trump Foundation Tells New York It Has Stopped...\n",
       "2    Donald Trump Prepares for White House Move, bu...\n",
       "3    Luring Chinese Investors With Trump<U+2019>s N...\n",
       "4    Melania and Barron Trump Won<U+2019>t Immediat...\n",
       "Name: title, dtype: object"
      ]
     },
     "execution_count": 5,
     "metadata": {},
     "output_type": "execute_result"
    }
   ],
   "source": [
    "df.title.head()"
   ]
  },
  {
   "cell_type": "code",
   "execution_count": 6,
   "metadata": {},
   "outputs": [
    {
     "name": "stdout",
     "output_type": "stream",
     "text": [
      "Wall time: 34.6 s\n"
     ]
    }
   ],
   "source": [
    "%%time\n",
    "title_preprocessed = df['title'].apply(nlp_f.tokenizer)"
   ]
  },
  {
   "cell_type": "code",
   "execution_count": 7,
   "metadata": {},
   "outputs": [
    {
     "data": {
      "text/plain": [
       "0    [donald, trump, property, showcase, brand, pre...\n",
       "1    [trump, foundation, tell, new, york, stop, sol...\n",
       "2    [donald, trump, prepares, white, house, move, ...\n",
       "3    [lure, chinese, investor, trump, name, little,...\n",
       "4    [melania, barron, trump, wont, immediately, mo...\n",
       "5    [ivanka, trump, presence, meet, japan, leader,...\n",
       "6    [trump, lawyer, agree, settlement, talk, unive...\n",
       "7    [trump, use, tower, base, fifth, avenue, grind...\n",
       "8    [donald, trump, math, take, tower, great, height]\n",
       "9    [trump, foundation, wont, pay, million, univer...\n",
       "Name: title, dtype: object"
      ]
     },
     "execution_count": 7,
     "metadata": {},
     "output_type": "execute_result"
    }
   ],
   "source": [
    "title_preprocessed[0:10]"
   ]
  },
  {
   "cell_type": "markdown",
   "metadata": {},
   "source": [
    "## Columnas"
   ]
  },
  {
   "cell_type": "code",
   "execution_count": 8,
   "metadata": {},
   "outputs": [
    {
     "data": {
      "text/plain": [
       "Index(['Unnamed: 0', 'Unnamed: 0.1', 'author', 'comments', 'country',\n",
       "       'crawled', 'domain_rank', 'id', 'language', 'likes', 'main_img_url',\n",
       "       'ord_in_thread', 'participants_count', 'published', 'replies_count',\n",
       "       'shares', 'site_url', 'spam_score', 'text', 'thread_title', 'title',\n",
       "       'type', 'uuid', 'caps_title', 'caps_thread', 'caps_text', 'title_len',\n",
       "       'thread_len', 'text_len', 'excl_title', 'excl_thread', 'excl_text',\n",
       "       'first_title', 'first_thread', 'first_text', 'second_title',\n",
       "       'second_thread', 'second_text', 'third_title', 'third_thread',\n",
       "       'third_text', 'anger', 'anticipation', 'disgust', 'fear', 'joy',\n",
       "       'sadness', 'surprise', 'trust', 'negative', 'positive', 'first_all',\n",
       "       'second_all', 'third_all'],\n",
       "      dtype='object')"
      ]
     },
     "execution_count": 8,
     "metadata": {},
     "output_type": "execute_result"
    }
   ],
   "source": [
    "# Posibles columnas: title, text, type\n",
    "# First title, second title, first_text, second_text, third_text\n",
    "df.columns"
   ]
  },
  {
   "cell_type": "code",
   "execution_count": 9,
   "metadata": {},
   "outputs": [
    {
     "data": {
      "text/plain": [
       "array(['real', 'fake'], dtype=object)"
      ]
     },
     "execution_count": 9,
     "metadata": {},
     "output_type": "execute_result"
    }
   ],
   "source": [
    "# Target variable\n",
    "df.type.unique()"
   ]
  },
  {
   "cell_type": "code",
   "execution_count": 10,
   "metadata": {},
   "outputs": [
    {
     "name": "stdout",
     "output_type": "stream",
     "text": [
      "Número de países: 24 (también se incluye la etiqueta nocountry)\n",
      "\n",
      "['US' 'CO' 'DE' 'GB' 'CA' 'AU' 'FR' 'EU' 'NL' 'LI' 'SG' 'ME' 'TV' 'ES'\n",
      " 'RU' 'IN' 'nocountry' 'EE' 'SE' 'ZA' 'IS' 'BG' 'IR' 'CH']\n",
      "\n",
      "Número de idiomas: 17Entre los que se incluye nan\n"
     ]
    },
    {
     "data": {
      "text/plain": [
       "array(['english', 'german', 'french', 'spanish', 'russian', 'greek',\n",
       "       'finnish', 'portuguese', 'arabic', 'dutch', 'italian', 'turkish',\n",
       "       'ignore', 'norwegian', 'chinese', 'polish', nan], dtype=object)"
      ]
     },
     "execution_count": 10,
     "metadata": {},
     "output_type": "execute_result"
    }
   ],
   "source": [
    "print('Número de países: ' + str(len(df.country.unique())) + ' (también se incluye la etiqueta nocountry)\\n')\n",
    "print(df.country.unique())\n",
    "\n",
    "# Podemos observar que las noticias están en 17 idiomas distintos, nos quedaremos solo con las noticias en inglés\n",
    "print('\\nNúmero de idiomas: ' + str(len(df.language.unique())) + 'Entre los que se incluye nan')\n",
    "df.language.unique()"
   ]
  },
  {
   "cell_type": "markdown",
   "metadata": {},
   "source": [
    "## Separación de las noticias\n",
    "Separamos las noticias en verdaderas y falsas"
   ]
  },
  {
   "cell_type": "code",
   "execution_count": 11,
   "metadata": {},
   "outputs": [],
   "source": [
    "df_real = df.loc[df['type'] == 'real']\n",
    "df_fake = df.loc[df['type'] == 'fake']"
   ]
  },
  {
   "cell_type": "code",
   "execution_count": 12,
   "metadata": {},
   "outputs": [
    {
     "data": {
      "text/plain": [
       "11941"
      ]
     },
     "execution_count": 12,
     "metadata": {},
     "output_type": "execute_result"
    }
   ],
   "source": [
    "len(df_real)\n",
    "len(df_fake)"
   ]
  },
  {
   "cell_type": "code",
   "execution_count": 13,
   "metadata": {
    "scrolled": true
   },
   "outputs": [
    {
     "data": {
      "text/html": [
       "<div>\n",
       "<style scoped>\n",
       "    .dataframe tbody tr th:only-of-type {\n",
       "        vertical-align: middle;\n",
       "    }\n",
       "\n",
       "    .dataframe tbody tr th {\n",
       "        vertical-align: top;\n",
       "    }\n",
       "\n",
       "    .dataframe thead th {\n",
       "        text-align: right;\n",
       "    }\n",
       "</style>\n",
       "<table border=\"1\" class=\"dataframe\">\n",
       "  <thead>\n",
       "    <tr style=\"text-align: right;\">\n",
       "      <th></th>\n",
       "      <th>Unnamed: 0</th>\n",
       "      <th>Unnamed: 0.1</th>\n",
       "      <th>author</th>\n",
       "      <th>comments</th>\n",
       "      <th>country</th>\n",
       "      <th>crawled</th>\n",
       "      <th>domain_rank</th>\n",
       "      <th>id</th>\n",
       "      <th>language</th>\n",
       "      <th>likes</th>\n",
       "      <th>main_img_url</th>\n",
       "      <th>ord_in_thread</th>\n",
       "      <th>participants_count</th>\n",
       "      <th>published</th>\n",
       "      <th>replies_count</th>\n",
       "      <th>shares</th>\n",
       "      <th>site_url</th>\n",
       "      <th>spam_score</th>\n",
       "      <th>text</th>\n",
       "      <th>thread_title</th>\n",
       "      <th>title</th>\n",
       "      <th>type</th>\n",
       "      <th>uuid</th>\n",
       "      <th>caps_title</th>\n",
       "      <th>caps_thread</th>\n",
       "      <th>caps_text</th>\n",
       "      <th>title_len</th>\n",
       "      <th>thread_len</th>\n",
       "      <th>text_len</th>\n",
       "      <th>excl_title</th>\n",
       "      <th>excl_thread</th>\n",
       "      <th>excl_text</th>\n",
       "      <th>first_title</th>\n",
       "      <th>first_thread</th>\n",
       "      <th>first_text</th>\n",
       "      <th>second_title</th>\n",
       "      <th>second_thread</th>\n",
       "      <th>second_text</th>\n",
       "      <th>third_title</th>\n",
       "      <th>third_thread</th>\n",
       "      <th>third_text</th>\n",
       "      <th>anger</th>\n",
       "      <th>anticipation</th>\n",
       "      <th>disgust</th>\n",
       "      <th>fear</th>\n",
       "      <th>joy</th>\n",
       "      <th>sadness</th>\n",
       "      <th>surprise</th>\n",
       "      <th>trust</th>\n",
       "      <th>negative</th>\n",
       "      <th>positive</th>\n",
       "      <th>first_all</th>\n",
       "      <th>second_all</th>\n",
       "      <th>third_all</th>\n",
       "    </tr>\n",
       "  </thead>\n",
       "  <tbody>\n",
       "    <tr>\n",
       "      <th>0</th>\n",
       "      <td>1</td>\n",
       "      <td>NaN</td>\n",
       "      <td>JEREMY W. PETERS</td>\n",
       "      <td>0.0</td>\n",
       "      <td>US</td>\n",
       "      <td>2017-03-14 08:25:04</td>\n",
       "      <td>0</td>\n",
       "      <td>3.0</td>\n",
       "      <td>english</td>\n",
       "      <td>0.0</td>\n",
       "      <td>https://static01.nyt.com/images/2016/11/23/us/...</td>\n",
       "      <td>0.0</td>\n",
       "      <td>0.0</td>\n",
       "      <td>2016-11-23 00:45:32</td>\n",
       "      <td>0.0</td>\n",
       "      <td>0.0</td>\n",
       "      <td>https://www.nytimes.com/2016/11/22/us/politics...</td>\n",
       "      <td>0.0</td>\n",
       "      <td>They stood in line at Trump Tower, sometimes u...</td>\n",
       "      <td>0</td>\n",
       "      <td>At Donald Trump&lt;U+2019&gt;s Properties, a Showcas...</td>\n",
       "      <td>real</td>\n",
       "      <td>f182f05dc3191ba4cb741e22f75fb43b</td>\n",
       "      <td>0</td>\n",
       "      <td>0</td>\n",
       "      <td>0</td>\n",
       "      <td>74</td>\n",
       "      <td>1</td>\n",
       "      <td>6489</td>\n",
       "      <td>0</td>\n",
       "      <td>0</td>\n",
       "      <td>0</td>\n",
       "      <td>2</td>\n",
       "      <td>0</td>\n",
       "      <td>407</td>\n",
       "      <td>0</td>\n",
       "      <td>0</td>\n",
       "      <td>150</td>\n",
       "      <td>0</td>\n",
       "      <td>0</td>\n",
       "      <td>45</td>\n",
       "      <td>9</td>\n",
       "      <td>21</td>\n",
       "      <td>5</td>\n",
       "      <td>6</td>\n",
       "      <td>20</td>\n",
       "      <td>5</td>\n",
       "      <td>14</td>\n",
       "      <td>30</td>\n",
       "      <td>14</td>\n",
       "      <td>52</td>\n",
       "      <td>409</td>\n",
       "      <td>150</td>\n",
       "      <td>45</td>\n",
       "    </tr>\n",
       "    <tr>\n",
       "      <th>1</th>\n",
       "      <td>2</td>\n",
       "      <td>NaN</td>\n",
       "      <td>STEVE EDER</td>\n",
       "      <td>0.0</td>\n",
       "      <td>US</td>\n",
       "      <td>2017-03-14 08:25:36</td>\n",
       "      <td>0</td>\n",
       "      <td>4.0</td>\n",
       "      <td>english</td>\n",
       "      <td>0.0</td>\n",
       "      <td>https://static01.nyt.com/images/2016/10/18/us/...</td>\n",
       "      <td>0.0</td>\n",
       "      <td>0.0</td>\n",
       "      <td>2016-10-17 18:46:52</td>\n",
       "      <td>0.0</td>\n",
       "      <td>0.0</td>\n",
       "      <td>https://www.nytimes.com/2016/10/18/us/politics...</td>\n",
       "      <td>0.0</td>\n",
       "      <td>Donald J. Trump &lt;U+2019&gt;s foundation informed ...</td>\n",
       "      <td>0</td>\n",
       "      <td>Trump Foundation Tells New York It Has Stopped...</td>\n",
       "      <td>real</td>\n",
       "      <td>220b87845a5eb01509b66c8008bf3728</td>\n",
       "      <td>0</td>\n",
       "      <td>0</td>\n",
       "      <td>0</td>\n",
       "      <td>75</td>\n",
       "      <td>1</td>\n",
       "      <td>2163</td>\n",
       "      <td>0</td>\n",
       "      <td>0</td>\n",
       "      <td>0</td>\n",
       "      <td>5</td>\n",
       "      <td>0</td>\n",
       "      <td>140</td>\n",
       "      <td>0</td>\n",
       "      <td>0</td>\n",
       "      <td>38</td>\n",
       "      <td>2</td>\n",
       "      <td>0</td>\n",
       "      <td>26</td>\n",
       "      <td>6</td>\n",
       "      <td>7</td>\n",
       "      <td>2</td>\n",
       "      <td>4</td>\n",
       "      <td>4</td>\n",
       "      <td>4</td>\n",
       "      <td>5</td>\n",
       "      <td>9</td>\n",
       "      <td>8</td>\n",
       "      <td>15</td>\n",
       "      <td>145</td>\n",
       "      <td>38</td>\n",
       "      <td>28</td>\n",
       "    </tr>\n",
       "    <tr>\n",
       "      <th>2</th>\n",
       "      <td>3</td>\n",
       "      <td>NaN</td>\n",
       "      <td>MAGGIE HABERMAN ASHLEY PARKER</td>\n",
       "      <td>0.0</td>\n",
       "      <td>US</td>\n",
       "      <td>2017-03-14 08:25:36</td>\n",
       "      <td>0</td>\n",
       "      <td>5.0</td>\n",
       "      <td>english</td>\n",
       "      <td>0.0</td>\n",
       "      <td>https://static01.nyt.com/images/2016/11/12/us/...</td>\n",
       "      <td>0.0</td>\n",
       "      <td>0.0</td>\n",
       "      <td>2016-11-12 02:08:39</td>\n",
       "      <td>0.0</td>\n",
       "      <td>0.0</td>\n",
       "      <td>https://www.nytimes.com/2016/11/12/us/politics...</td>\n",
       "      <td>0.0</td>\n",
       "      <td>President-elect Donald J. Trump won the White ...</td>\n",
       "      <td>0</td>\n",
       "      <td>Donald Trump Prepares for White House Move, bu...</td>\n",
       "      <td>real</td>\n",
       "      <td>247e97e1da2dc67fcb31e20b84b2d960</td>\n",
       "      <td>0</td>\n",
       "      <td>0</td>\n",
       "      <td>1</td>\n",
       "      <td>74</td>\n",
       "      <td>1</td>\n",
       "      <td>6239</td>\n",
       "      <td>0</td>\n",
       "      <td>0</td>\n",
       "      <td>1</td>\n",
       "      <td>4</td>\n",
       "      <td>0</td>\n",
       "      <td>436</td>\n",
       "      <td>1</td>\n",
       "      <td>0</td>\n",
       "      <td>167</td>\n",
       "      <td>1</td>\n",
       "      <td>0</td>\n",
       "      <td>67</td>\n",
       "      <td>5</td>\n",
       "      <td>19</td>\n",
       "      <td>6</td>\n",
       "      <td>8</td>\n",
       "      <td>15</td>\n",
       "      <td>8</td>\n",
       "      <td>6</td>\n",
       "      <td>26</td>\n",
       "      <td>15</td>\n",
       "      <td>34</td>\n",
       "      <td>440</td>\n",
       "      <td>168</td>\n",
       "      <td>68</td>\n",
       "    </tr>\n",
       "    <tr>\n",
       "      <th>3</th>\n",
       "      <td>4</td>\n",
       "      <td>NaN</td>\n",
       "      <td>NELSON D. SCHWARTZ SUI-LEE WEE</td>\n",
       "      <td>0.0</td>\n",
       "      <td>US</td>\n",
       "      <td>2017-03-14 08:25:36</td>\n",
       "      <td>0</td>\n",
       "      <td>6.0</td>\n",
       "      <td>english</td>\n",
       "      <td>0.0</td>\n",
       "      <td>https://static01.nyt.com/images/2016/10/21/bus...</td>\n",
       "      <td>0.0</td>\n",
       "      <td>0.0</td>\n",
       "      <td>2016-10-20 22:09:04</td>\n",
       "      <td>0.0</td>\n",
       "      <td>0.0</td>\n",
       "      <td>https://www.nytimes.com/2016/10/21/business/in...</td>\n",
       "      <td>0.0</td>\n",
       "      <td>An investment pitch for a new Texas hotel is t...</td>\n",
       "      <td>0</td>\n",
       "      <td>Luring Chinese Investors With Trump&lt;U+2019&gt;s N...</td>\n",
       "      <td>real</td>\n",
       "      <td>e1f572512a36071cbca6056a31577389</td>\n",
       "      <td>0</td>\n",
       "      <td>0</td>\n",
       "      <td>13</td>\n",
       "      <td>59</td>\n",
       "      <td>1</td>\n",
       "      <td>7894</td>\n",
       "      <td>0</td>\n",
       "      <td>0</td>\n",
       "      <td>0</td>\n",
       "      <td>6</td>\n",
       "      <td>0</td>\n",
       "      <td>586</td>\n",
       "      <td>0</td>\n",
       "      <td>0</td>\n",
       "      <td>136</td>\n",
       "      <td>2</td>\n",
       "      <td>0</td>\n",
       "      <td>69</td>\n",
       "      <td>11</td>\n",
       "      <td>14</td>\n",
       "      <td>6</td>\n",
       "      <td>10</td>\n",
       "      <td>10</td>\n",
       "      <td>10</td>\n",
       "      <td>6</td>\n",
       "      <td>32</td>\n",
       "      <td>24</td>\n",
       "      <td>43</td>\n",
       "      <td>592</td>\n",
       "      <td>136</td>\n",
       "      <td>71</td>\n",
       "    </tr>\n",
       "    <tr>\n",
       "      <th>4</th>\n",
       "      <td>5</td>\n",
       "      <td>NaN</td>\n",
       "      <td>MAGGIE HABERMAN</td>\n",
       "      <td>0.0</td>\n",
       "      <td>US</td>\n",
       "      <td>2017-03-14 08:25:37</td>\n",
       "      <td>0</td>\n",
       "      <td>7.0</td>\n",
       "      <td>english</td>\n",
       "      <td>0.0</td>\n",
       "      <td>https://static01.nyt.com/images/2016/11/21/us/...</td>\n",
       "      <td>0.0</td>\n",
       "      <td>0.0</td>\n",
       "      <td>2016-11-21 01:42:23</td>\n",
       "      <td>0.0</td>\n",
       "      <td>0.0</td>\n",
       "      <td>https://www.nytimes.com/2016/11/21/us/politics...</td>\n",
       "      <td>0.0</td>\n",
       "      <td>President-elect Donald J. Trump &lt;U+2019&gt;s wife...</td>\n",
       "      <td>0</td>\n",
       "      <td>Melania and Barron Trump Won&lt;U+2019&gt;t Immediat...</td>\n",
       "      <td>real</td>\n",
       "      <td>584700e476e0d3c20731cb3d28e6ce2b</td>\n",
       "      <td>0</td>\n",
       "      <td>0</td>\n",
       "      <td>0</td>\n",
       "      <td>62</td>\n",
       "      <td>1</td>\n",
       "      <td>2979</td>\n",
       "      <td>0</td>\n",
       "      <td>0</td>\n",
       "      <td>0</td>\n",
       "      <td>7</td>\n",
       "      <td>0</td>\n",
       "      <td>216</td>\n",
       "      <td>0</td>\n",
       "      <td>0</td>\n",
       "      <td>82</td>\n",
       "      <td>1</td>\n",
       "      <td>0</td>\n",
       "      <td>27</td>\n",
       "      <td>1</td>\n",
       "      <td>12</td>\n",
       "      <td>0</td>\n",
       "      <td>3</td>\n",
       "      <td>6</td>\n",
       "      <td>2</td>\n",
       "      <td>4</td>\n",
       "      <td>14</td>\n",
       "      <td>4</td>\n",
       "      <td>25</td>\n",
       "      <td>223</td>\n",
       "      <td>82</td>\n",
       "      <td>28</td>\n",
       "    </tr>\n",
       "  </tbody>\n",
       "</table>\n",
       "</div>"
      ],
      "text/plain": [
       "   Unnamed: 0  Unnamed: 0.1                          author  comments country  \\\n",
       "0           1           NaN                JEREMY W. PETERS       0.0      US   \n",
       "1           2           NaN                      STEVE EDER       0.0      US   \n",
       "2           3           NaN   MAGGIE HABERMAN ASHLEY PARKER       0.0      US   \n",
       "3           4           NaN  NELSON D. SCHWARTZ SUI-LEE WEE       0.0      US   \n",
       "4           5           NaN                 MAGGIE HABERMAN       0.0      US   \n",
       "\n",
       "               crawled  domain_rank   id language  likes  \\\n",
       "0  2017-03-14 08:25:04            0  3.0  english    0.0   \n",
       "1  2017-03-14 08:25:36            0  4.0  english    0.0   \n",
       "2  2017-03-14 08:25:36            0  5.0  english    0.0   \n",
       "3  2017-03-14 08:25:36            0  6.0  english    0.0   \n",
       "4  2017-03-14 08:25:37            0  7.0  english    0.0   \n",
       "\n",
       "                                        main_img_url  ord_in_thread  \\\n",
       "0  https://static01.nyt.com/images/2016/11/23/us/...            0.0   \n",
       "1  https://static01.nyt.com/images/2016/10/18/us/...            0.0   \n",
       "2  https://static01.nyt.com/images/2016/11/12/us/...            0.0   \n",
       "3  https://static01.nyt.com/images/2016/10/21/bus...            0.0   \n",
       "4  https://static01.nyt.com/images/2016/11/21/us/...            0.0   \n",
       "\n",
       "   participants_count            published  replies_count  shares  \\\n",
       "0                 0.0  2016-11-23 00:45:32            0.0     0.0   \n",
       "1                 0.0  2016-10-17 18:46:52            0.0     0.0   \n",
       "2                 0.0  2016-11-12 02:08:39            0.0     0.0   \n",
       "3                 0.0  2016-10-20 22:09:04            0.0     0.0   \n",
       "4                 0.0  2016-11-21 01:42:23            0.0     0.0   \n",
       "\n",
       "                                            site_url  spam_score  \\\n",
       "0  https://www.nytimes.com/2016/11/22/us/politics...         0.0   \n",
       "1  https://www.nytimes.com/2016/10/18/us/politics...         0.0   \n",
       "2  https://www.nytimes.com/2016/11/12/us/politics...         0.0   \n",
       "3  https://www.nytimes.com/2016/10/21/business/in...         0.0   \n",
       "4  https://www.nytimes.com/2016/11/21/us/politics...         0.0   \n",
       "\n",
       "                                                text thread_title  \\\n",
       "0  They stood in line at Trump Tower, sometimes u...            0   \n",
       "1  Donald J. Trump <U+2019>s foundation informed ...            0   \n",
       "2  President-elect Donald J. Trump won the White ...            0   \n",
       "3  An investment pitch for a new Texas hotel is t...            0   \n",
       "4  President-elect Donald J. Trump <U+2019>s wife...            0   \n",
       "\n",
       "                                               title  type  \\\n",
       "0  At Donald Trump<U+2019>s Properties, a Showcas...  real   \n",
       "1  Trump Foundation Tells New York It Has Stopped...  real   \n",
       "2  Donald Trump Prepares for White House Move, bu...  real   \n",
       "3  Luring Chinese Investors With Trump<U+2019>s N...  real   \n",
       "4  Melania and Barron Trump Won<U+2019>t Immediat...  real   \n",
       "\n",
       "                               uuid  caps_title  caps_thread  caps_text  \\\n",
       "0  f182f05dc3191ba4cb741e22f75fb43b           0            0          0   \n",
       "1  220b87845a5eb01509b66c8008bf3728           0            0          0   \n",
       "2  247e97e1da2dc67fcb31e20b84b2d960           0            0          1   \n",
       "3  e1f572512a36071cbca6056a31577389           0            0         13   \n",
       "4  584700e476e0d3c20731cb3d28e6ce2b           0            0          0   \n",
       "\n",
       "   title_len  thread_len  text_len  excl_title  excl_thread  excl_text  \\\n",
       "0         74           1      6489           0            0          0   \n",
       "1         75           1      2163           0            0          0   \n",
       "2         74           1      6239           0            0          1   \n",
       "3         59           1      7894           0            0          0   \n",
       "4         62           1      2979           0            0          0   \n",
       "\n",
       "   first_title  first_thread  first_text  second_title  second_thread  \\\n",
       "0            2             0         407             0              0   \n",
       "1            5             0         140             0              0   \n",
       "2            4             0         436             1              0   \n",
       "3            6             0         586             0              0   \n",
       "4            7             0         216             0              0   \n",
       "\n",
       "   second_text  third_title  third_thread  third_text  anger  anticipation  \\\n",
       "0          150            0             0          45      9            21   \n",
       "1           38            2             0          26      6             7   \n",
       "2          167            1             0          67      5            19   \n",
       "3          136            2             0          69     11            14   \n",
       "4           82            1             0          27      1            12   \n",
       "\n",
       "   disgust  fear  joy  sadness  surprise  trust  negative  positive  \\\n",
       "0        5     6   20        5        14     30        14        52   \n",
       "1        2     4    4        4         5      9         8        15   \n",
       "2        6     8   15        8         6     26        15        34   \n",
       "3        6    10   10       10         6     32        24        43   \n",
       "4        0     3    6        2         4     14         4        25   \n",
       "\n",
       "   first_all  second_all  third_all  \n",
       "0        409         150         45  \n",
       "1        145          38         28  \n",
       "2        440         168         68  \n",
       "3        592         136         71  \n",
       "4        223          82         28  "
      ]
     },
     "execution_count": 13,
     "metadata": {},
     "output_type": "execute_result"
    }
   ],
   "source": [
    "df_real.head()"
   ]
  },
  {
   "cell_type": "markdown",
   "metadata": {},
   "source": [
    "## Country"
   ]
  },
  {
   "cell_type": "markdown",
   "metadata": {},
   "source": [
    "Las noticias falsas pertenecen a 24 países distintos, pero las reales solo a Estados Unidos y nocountry (imprimir gráfico de barras)"
   ]
  },
  {
   "cell_type": "code",
   "execution_count": 14,
   "metadata": {},
   "outputs": [
    {
     "data": {
      "text/plain": [
       "array(['US', 'CO', 'DE', 'GB', 'CA', 'AU', 'FR', 'EU', 'NL', 'LI', 'SG',\n",
       "       'ME', 'TV', 'ES', 'RU', 'IN', 'nocountry', 'EE', 'SE', 'ZA', 'IS',\n",
       "       'BG', 'IR', 'CH'], dtype=object)"
      ]
     },
     "execution_count": 14,
     "metadata": {},
     "output_type": "execute_result"
    }
   ],
   "source": [
    "df_fake.country.unique()"
   ]
  },
  {
   "cell_type": "code",
   "execution_count": 15,
   "metadata": {},
   "outputs": [
    {
     "data": {
      "text/plain": [
       "array(['US', 'nocountry'], dtype=object)"
      ]
     },
     "execution_count": 15,
     "metadata": {},
     "output_type": "execute_result"
    }
   ],
   "source": [
    "df_real.country.unique()"
   ]
  },
  {
   "cell_type": "markdown",
   "metadata": {},
   "source": [
    "Aunque las noticias falsas provienen de mas países, nos damos cuenta de que casi todas provienen de Estados Unidos, siendo Gran Bretaña el segundo puesto."
   ]
  },
  {
   "cell_type": "code",
   "execution_count": 16,
   "metadata": {},
   "outputs": [
    {
     "data": {
      "text/plain": [
       "US           9588\n",
       "GB            727\n",
       "RU            400\n",
       "DE            222\n",
       "TV            200\n",
       "nocountry     176\n",
       "EU            112\n",
       "IS            100\n",
       "ES            100\n",
       "CA             92\n",
       "NL             55\n",
       "FR             51\n",
       "ME             34\n",
       "IN             23\n",
       "BG             19\n",
       "CO             17\n",
       "LI             10\n",
       "EE              4\n",
       "IR              3\n",
       "ZA              3\n",
       "SG              2\n",
       "CH              1\n",
       "SE              1\n",
       "AU              1\n",
       "Name: country, dtype: int64"
      ]
     },
     "execution_count": 16,
     "metadata": {},
     "output_type": "execute_result"
    }
   ],
   "source": [
    "df_fake.country.value_counts()"
   ]
  },
  {
   "cell_type": "code",
   "execution_count": 17,
   "metadata": {},
   "outputs": [
    {
     "data": {
      "image/png": "[encoded data removed]",
      "text/plain": [
       "<Figure size 432x288 with 1 Axes>"
      ]
     },
     "metadata": {
      "needs_background": "light"
     },
     "output_type": "display_data"
    },
    {
     "data": {
      "image/png": "[encoded data removed]",
      "text/plain": [
       "<Figure size 432x288 with 1 Axes>"
      ]
     },
     "metadata": {
      "needs_background": "light"
     },
     "output_type": "display_data"
    }
   ],
   "source": [
    "df_real.country.value_counts().plot(kind='bar', title = 'Distribución del país de las noticias reales')\n",
    "plt.show()\n",
    "\n",
    "df_fake.country.value_counts().plot(kind='bar', title='Distribución del país de las noticias falsas')\n",
    "# plt.ylim([0,1000])\n",
    "plt.show()"
   ]
  },
  {
   "cell_type": "markdown",
   "metadata": {},
   "source": [
    "## Site url (Fuente de la noticia)"
   ]
  },
  {
   "cell_type": "code",
   "execution_count": 18,
   "metadata": {},
   "outputs": [
    {
     "data": {
      "text/plain": [
       "227"
      ]
     },
     "execution_count": 18,
     "metadata": {},
     "output_type": "execute_result"
    }
   ],
   "source": [
    "len(df_fake.site_url.unique())"
   ]
  },
  {
   "cell_type": "code",
   "execution_count": 19,
   "metadata": {},
   "outputs": [
    {
     "data": {
      "text/plain": [
       "0    https://www.nytimes.com/2016/11/22/us/politics...\n",
       "1    https://www.nytimes.com/2016/10/18/us/politics...\n",
       "2    https://www.nytimes.com/2016/11/12/us/politics...\n",
       "3    https://www.nytimes.com/2016/10/21/business/in...\n",
       "4    https://www.nytimes.com/2016/11/21/us/politics...\n",
       "Name: site_url, dtype: object"
      ]
     },
     "execution_count": 19,
     "metadata": {},
     "output_type": "execute_result"
    }
   ],
   "source": [
    "df_real['site_url'].head()"
   ]
  },
  {
   "cell_type": "code",
   "execution_count": 20,
   "metadata": {},
   "outputs": [
    {
     "data": {
      "text/plain": [
       "8074"
      ]
     },
     "execution_count": 20,
     "metadata": {},
     "output_type": "execute_result"
    }
   ],
   "source": [
    "len(df_real)"
   ]
  },
  {
   "cell_type": "code",
   "execution_count": 21,
   "metadata": {},
   "outputs": [
    {
     "name": "stdout",
     "output_type": "stream",
     "text": [
      "De las 8074 noticias reales 3171 no tienen indicada una fuente\n",
      "\n",
      "Las noticias reales tienen un total de 4 fuentes conocidas\n",
      "\n",
      "['www.nytimes.com', 'www.wsj.com', 'americannews.com', 'www.politico.com']\n"
     ]
    }
   ],
   "source": [
    "fuentes = list(df_real.site_url.unique())\n",
    "# nytimes\n",
    "# wsj\n",
    "# Americannews\n",
    "# politico\n",
    "\n",
    "count = df_real['site_url'].isna().sum()\n",
    "print('De las ' + str(len(df_real)) + ' noticias reales ' + str(count) + ' no tienen indicada una fuente\\n')\n",
    "# Las 4903 noticias restantes no indican la página de la fuente, sino la url completa, por lo que procedemos a eliminar\n",
    "# las rutas de la url para quedarnos solo con el dominio\n",
    "\n",
    "from urllib.parse import urlparse\n",
    "\n",
    "fuentes_filtradas = []\n",
    "\n",
    "for i in fuentes:\n",
    "    \n",
    "    # Los valores nan son de tipo float\n",
    "    if type(i) is str:\n",
    "        o = urlparse(i)\n",
    "    \n",
    "        fuente = o.netloc\n",
    "    \n",
    "        if fuente not in fuentes_filtradas:\n",
    "            fuentes_filtradas.append(fuente)\n",
    "\n",
    "print('Las noticias reales tienen un total de ' + str(len(fuentes_filtradas)) + ' fuentes conocidas\\n')\n",
    "print(fuentes_filtradas)\n",
    "\n",
    "# if not math.isnan('Hola'):\n",
    "#     print('La variable pasada por parámetro es nan')"
   ]
  },
  {
   "cell_type": "markdown",
   "metadata": {},
   "source": [
    "## Title"
   ]
  },
  {
   "cell_type": "code",
   "execution_count": 22,
   "metadata": {},
   "outputs": [
    {
     "data": {
      "text/plain": [
       "0    At Donald Trump<U+2019>s Properties, a Showcas...\n",
       "1    Trump Foundation Tells New York It Has Stopped...\n",
       "2    Donald Trump Prepares for White House Move, bu...\n",
       "3    Luring Chinese Investors With Trump<U+2019>s N...\n",
       "4    Melania and Barron Trump Won<U+2019>t Immediat...\n",
       "Name: title, dtype: object"
      ]
     },
     "execution_count": 22,
     "metadata": {},
     "output_type": "execute_result"
    }
   ],
   "source": [
    "df_real.title.head()"
   ]
  },
  {
   "cell_type": "markdown",
   "metadata": {},
   "source": [
    "## Language"
   ]
  },
  {
   "cell_type": "code",
   "execution_count": 23,
   "metadata": {},
   "outputs": [
    {
     "data": {
      "text/plain": [
       "array(['english', 'german', 'french', 'spanish', 'russian', 'greek',\n",
       "       'finnish', 'portuguese', 'arabic', 'dutch', 'italian', 'turkish',\n",
       "       'ignore', 'norwegian', 'chinese', 'polish'], dtype=object)"
      ]
     },
     "execution_count": 23,
     "metadata": {},
     "output_type": "execute_result"
    }
   ],
   "source": [
    "# Imprimir gráfica de barras\n",
    "df_fake.language.unique()"
   ]
  },
  {
   "cell_type": "code",
   "execution_count": 24,
   "metadata": {},
   "outputs": [
    {
     "name": "stdout",
     "output_type": "stream",
     "text": [
      "['english' nan]\n",
      "3171\n"
     ]
    }
   ],
   "source": [
    "# Solo inglés y NaN, imprimir gráfica de barras\n",
    "# En el caso de las noticias reales, nos quedamos con las nan, ya que suponen un total de 3171 noticias\n",
    "# y, tras haber observado el dataset, se ha descubierto que están en inglés\n",
    "print(df_real.language.unique())\n",
    "print(df_real['language'].isna().sum())"
   ]
  },
  {
   "cell_type": "markdown",
   "metadata": {},
   "source": [
    "Se observa que con el idioma ocurre lo mismo que con el país de origen, casi todas son en inglés"
   ]
  },
  {
   "cell_type": "code",
   "execution_count": 25,
   "metadata": {
    "scrolled": true
   },
   "outputs": [
    {
     "data": {
      "image/png": "[encoded data removed]",
      "text/plain": [
       "<Figure size 432x288 with 1 Axes>"
      ]
     },
     "metadata": {},
     "output_type": "display_data"
    },
    {
     "data": {
      "text/plain": [
       "english       11349\n",
       "russian         203\n",
       "spanish         172\n",
       "german          111\n",
       "french           37\n",
       "arabic           22\n",
       "portuguese       11\n",
       "turkish          10\n",
       "italian           9\n",
       "greek             4\n",
       "ignore            4\n",
       "dutch             3\n",
       "norwegian         3\n",
       "finnish           1\n",
       "polish            1\n",
       "chinese           1\n",
       "Name: language, dtype: int64"
      ]
     },
     "execution_count": 25,
     "metadata": {},
     "output_type": "execute_result"
    }
   ],
   "source": [
    "df_fake.language.value_counts().plot(kind='pie', title = 'Distribución del idioma de las noticias falsas', autopct='%1.1f%%')\n",
    "plt.show()\n",
    "\n",
    "df_fake.language.value_counts()"
   ]
  },
  {
   "cell_type": "markdown",
   "metadata": {},
   "source": [
    "## Filtramos por idioma\n",
    "Nos quedamos solamente con el inglés y con nan"
   ]
  },
  {
   "cell_type": "code",
   "execution_count": 26,
   "metadata": {},
   "outputs": [],
   "source": [
    "# Nos tenemos que quedar también con las NaN\n",
    "df = df.loc[(df['language'] == 'english') | (df['language'].isna())]"
   ]
  },
  {
   "cell_type": "code",
   "execution_count": 27,
   "metadata": {},
   "outputs": [
    {
     "data": {
      "text/plain": [
       "19423"
      ]
     },
     "execution_count": 27,
     "metadata": {},
     "output_type": "execute_result"
    }
   ],
   "source": [
    "len(df)"
   ]
  },
  {
   "cell_type": "code",
   "execution_count": 28,
   "metadata": {},
   "outputs": [
    {
     "data": {
      "image/png": "[encoded data removed]",
      "text/plain": [
       "<Figure size 432x288 with 1 Axes>"
      ]
     },
     "metadata": {},
     "output_type": "display_data"
    },
    {
     "name": "stdout",
     "output_type": "stream",
     "text": [
      "11349\n",
      "8074\n"
     ]
    }
   ],
   "source": [
    "df.type.value_counts().plot(kind='pie', title = 'Distribución de las noticias', autopct='%1.1f%%')\n",
    "plt.show()\n",
    "\n",
    "fake_count = len(df.loc[df['type'] == 'fake'])\n",
    "real_count = len(df.loc[df['type'] == 'real'])\n",
    "print(fake_count)\n",
    "print(real_count)"
   ]
  },
  {
   "cell_type": "code",
   "execution_count": 29,
   "metadata": {},
   "outputs": [],
   "source": [
    "df_fake = df.loc[df['type'] == 'fake']\n",
    "df_real = df.loc[df['type'] == 'real']"
   ]
  },
  {
   "cell_type": "markdown",
   "metadata": {},
   "source": [
    "## Análisis de la longitud de las noticias"
   ]
  },
  {
   "cell_type": "markdown",
   "metadata": {},
   "source": [
    "En cuanto a la longitud de las noticias, podemos observar que las noticias reales tienden a ser más largas. Aunque la longitud está mucho más distribuida."
   ]
  },
  {
   "cell_type": "code",
   "execution_count": 30,
   "metadata": {
    "scrolled": true
   },
   "outputs": [
    {
     "data": {
      "image/png": "[encoded data removed]",
      "text/plain": [
       "<Figure size 432x288 with 1 Axes>"
      ]
     },
     "metadata": {
      "needs_background": "light"
     },
     "output_type": "display_data"
    },
    {
     "data": {
      "image/png": "[encoded data removed]",
      "text/plain": [
       "<Figure size 432x288 with 1 Axes>"
      ]
     },
     "metadata": {
      "needs_background": "light"
     },
     "output_type": "display_data"
    }
   ],
   "source": [
    "# Gráfica text_len, title_len\n",
    "# Nos aseguramos de que el eje y sea el mismo\n",
    "plt.title('Histograma de la longitud de las noticias falsas')\n",
    "plt.hist(df_fake['text_len'], bins = 1000)\n",
    "plt.xlabel('Longitud de la noticia')\n",
    "plt.ylabel('Número de noticias')\n",
    "plt.ylim([0, 600])\n",
    "plt.xlim([0, 25000])\n",
    "plt.show()\n",
    "\n",
    "plt.title('Histograma de la longitud de las noticias verdaderas')\n",
    "plt.hist(df_real['text_len'], bins = 1000)\n",
    "plt.xlabel('Longitud de la noticia')\n",
    "plt.ylabel('Número de noticias')\n",
    "plt.ylim([0, 600])\n",
    "plt.xlim([0, 25000])\n",
    "plt.show()"
   ]
  },
  {
   "cell_type": "markdown",
   "metadata": {},
   "source": [
    "## Análisis de la longitud de los títulos"
   ]
  },
  {
   "cell_type": "code",
   "execution_count": 31,
   "metadata": {},
   "outputs": [
    {
     "data": {
      "image/png": "[encoded data removed]",
      "text/plain": [
       "<Figure size 432x288 with 1 Axes>"
      ]
     },
     "metadata": {
      "needs_background": "light"
     },
     "output_type": "display_data"
    },
    {
     "data": {
      "image/png": "[encoded data removed]",
      "text/plain": [
       "<Figure size 432x288 with 1 Axes>"
      ]
     },
     "metadata": {
      "needs_background": "light"
     },
     "output_type": "display_data"
    }
   ],
   "source": [
    "# Gráfica text_len, title_len\n",
    "# Nos aseguramos de que el eje y sea el mismo\n",
    "plt.title('Histograma de la longitud de los titulares verdaderos')\n",
    "plt.hist(df_fake['title_len'], bins = 100)\n",
    "plt.xlabel('Longitud de la noticia')\n",
    "plt.ylabel('Número de noticias')\n",
    "# plt.ylim([0, 900])\n",
    "plt.xlim([0, 400])\n",
    "plt.show()\n",
    "\n",
    "plt.title('Histograma de la longitud de los titulares verdaderos')\n",
    "plt.hist(df_real['title_len'], bins = 100)\n",
    "plt.xlabel('Longitud de la noticia')\n",
    "plt.ylabel('Número de noticias')\n",
    "# plt.ylim([0, 900])\n",
    "plt.xlim([0, 400])\n",
    "plt.show()"
   ]
  },
  {
   "cell_type": "markdown",
   "metadata": {},
   "source": [
    "## TODO: Analizar que proporción de las noticias falsas pertenecen a US.\n",
    "De acuerdo con los datos de Kaggle, todas (o casi todas) las noticias de \"Getting Real About Fake News\" pertenecen a US"
   ]
  },
  {
   "cell_type": "markdown",
   "metadata": {},
   "source": [
    "Según el paper de los creadores del dataset, la palabra más común en el caso de las fake news es notitle, que se emplea en el caso de que las noticias no tengan título. Es conveniente eliminar esta palabra"
   ]
  },
  {
   "cell_type": "code",
   "execution_count": 32,
   "metadata": {},
   "outputs": [
    {
     "data": {
      "text/plain": [
       "0"
      ]
     },
     "execution_count": 32,
     "metadata": {},
     "output_type": "execute_result"
    }
   ],
   "source": [
    "# No hay ningún título nan en ninguna de las dos categorías\n",
    "df['title'].isna().sum()"
   ]
  },
  {
   "cell_type": "code",
   "execution_count": 33,
   "metadata": {},
   "outputs": [],
   "source": [
    "count_notitle_fake = len(df.loc[(df['type'] == 'fake') & (df['title'] =='notitle')])\n",
    "count_notitle_real = len(df.loc[(df['type'] == 'real') & (df['title'] =='notitle')])"
   ]
  },
  {
   "cell_type": "code",
   "execution_count": 34,
   "metadata": {},
   "outputs": [
    {
     "name": "stdout",
     "output_type": "stream",
     "text": [
      "0\n",
      "591\n"
     ]
    }
   ],
   "source": [
    "print(count_notitle_real)\n",
    "print(count_notitle_fake)"
   ]
  },
  {
   "cell_type": "code",
   "execution_count": 35,
   "metadata": {},
   "outputs": [],
   "source": [
    "def delete_notitle(title):\n",
    "    if title == 'notitle':\n",
    "        return ' '\n",
    "    else:\n",
    "        return title"
   ]
  },
  {
   "cell_type": "code",
   "execution_count": 36,
   "metadata": {},
   "outputs": [],
   "source": [
    "df['title'] = df['title'].apply(delete_notitle)"
   ]
  },
  {
   "cell_type": "code",
   "execution_count": 37,
   "metadata": {},
   "outputs": [
    {
     "data": {
      "text/html": [
       "<div>\n",
       "<style scoped>\n",
       "    .dataframe tbody tr th:only-of-type {\n",
       "        vertical-align: middle;\n",
       "    }\n",
       "\n",
       "    .dataframe tbody tr th {\n",
       "        vertical-align: top;\n",
       "    }\n",
       "\n",
       "    .dataframe thead th {\n",
       "        text-align: right;\n",
       "    }\n",
       "</style>\n",
       "<table border=\"1\" class=\"dataframe\">\n",
       "  <thead>\n",
       "    <tr style=\"text-align: right;\">\n",
       "      <th></th>\n",
       "      <th>Unnamed: 0</th>\n",
       "      <th>Unnamed: 0.1</th>\n",
       "      <th>author</th>\n",
       "      <th>comments</th>\n",
       "      <th>country</th>\n",
       "      <th>crawled</th>\n",
       "      <th>domain_rank</th>\n",
       "      <th>id</th>\n",
       "      <th>language</th>\n",
       "      <th>likes</th>\n",
       "      <th>main_img_url</th>\n",
       "      <th>ord_in_thread</th>\n",
       "      <th>participants_count</th>\n",
       "      <th>published</th>\n",
       "      <th>replies_count</th>\n",
       "      <th>shares</th>\n",
       "      <th>site_url</th>\n",
       "      <th>spam_score</th>\n",
       "      <th>text</th>\n",
       "      <th>thread_title</th>\n",
       "      <th>title</th>\n",
       "      <th>type</th>\n",
       "      <th>uuid</th>\n",
       "      <th>caps_title</th>\n",
       "      <th>caps_thread</th>\n",
       "      <th>caps_text</th>\n",
       "      <th>title_len</th>\n",
       "      <th>thread_len</th>\n",
       "      <th>text_len</th>\n",
       "      <th>excl_title</th>\n",
       "      <th>excl_thread</th>\n",
       "      <th>excl_text</th>\n",
       "      <th>first_title</th>\n",
       "      <th>first_thread</th>\n",
       "      <th>first_text</th>\n",
       "      <th>second_title</th>\n",
       "      <th>second_thread</th>\n",
       "      <th>second_text</th>\n",
       "      <th>third_title</th>\n",
       "      <th>third_thread</th>\n",
       "      <th>third_text</th>\n",
       "      <th>anger</th>\n",
       "      <th>anticipation</th>\n",
       "      <th>disgust</th>\n",
       "      <th>fear</th>\n",
       "      <th>joy</th>\n",
       "      <th>sadness</th>\n",
       "      <th>surprise</th>\n",
       "      <th>trust</th>\n",
       "      <th>negative</th>\n",
       "      <th>positive</th>\n",
       "      <th>first_all</th>\n",
       "      <th>second_all</th>\n",
       "      <th>third_all</th>\n",
       "    </tr>\n",
       "  </thead>\n",
       "  <tbody>\n",
       "    <tr>\n",
       "      <th>0</th>\n",
       "      <td>1</td>\n",
       "      <td>NaN</td>\n",
       "      <td>JEREMY W. PETERS</td>\n",
       "      <td>0.0</td>\n",
       "      <td>US</td>\n",
       "      <td>2017-03-14 08:25:04</td>\n",
       "      <td>0</td>\n",
       "      <td>3.0</td>\n",
       "      <td>english</td>\n",
       "      <td>0.0</td>\n",
       "      <td>https://static01.nyt.com/images/2016/11/23/us/...</td>\n",
       "      <td>0.0</td>\n",
       "      <td>0.0</td>\n",
       "      <td>2016-11-23 00:45:32</td>\n",
       "      <td>0.0</td>\n",
       "      <td>0.0</td>\n",
       "      <td>https://www.nytimes.com/2016/11/22/us/politics...</td>\n",
       "      <td>0.0</td>\n",
       "      <td>They stood in line at Trump Tower, sometimes u...</td>\n",
       "      <td>0</td>\n",
       "      <td>At Donald Trump&lt;U+2019&gt;s Properties, a Showcas...</td>\n",
       "      <td>real</td>\n",
       "      <td>f182f05dc3191ba4cb741e22f75fb43b</td>\n",
       "      <td>0</td>\n",
       "      <td>0</td>\n",
       "      <td>0</td>\n",
       "      <td>74</td>\n",
       "      <td>1</td>\n",
       "      <td>6489</td>\n",
       "      <td>0</td>\n",
       "      <td>0</td>\n",
       "      <td>0</td>\n",
       "      <td>2</td>\n",
       "      <td>0</td>\n",
       "      <td>407</td>\n",
       "      <td>0</td>\n",
       "      <td>0</td>\n",
       "      <td>150</td>\n",
       "      <td>0</td>\n",
       "      <td>0</td>\n",
       "      <td>45</td>\n",
       "      <td>9</td>\n",
       "      <td>21</td>\n",
       "      <td>5</td>\n",
       "      <td>6</td>\n",
       "      <td>20</td>\n",
       "      <td>5</td>\n",
       "      <td>14</td>\n",
       "      <td>30</td>\n",
       "      <td>14</td>\n",
       "      <td>52</td>\n",
       "      <td>409</td>\n",
       "      <td>150</td>\n",
       "      <td>45</td>\n",
       "    </tr>\n",
       "    <tr>\n",
       "      <th>1</th>\n",
       "      <td>2</td>\n",
       "      <td>NaN</td>\n",
       "      <td>STEVE EDER</td>\n",
       "      <td>0.0</td>\n",
       "      <td>US</td>\n",
       "      <td>2017-03-14 08:25:36</td>\n",
       "      <td>0</td>\n",
       "      <td>4.0</td>\n",
       "      <td>english</td>\n",
       "      <td>0.0</td>\n",
       "      <td>https://static01.nyt.com/images/2016/10/18/us/...</td>\n",
       "      <td>0.0</td>\n",
       "      <td>0.0</td>\n",
       "      <td>2016-10-17 18:46:52</td>\n",
       "      <td>0.0</td>\n",
       "      <td>0.0</td>\n",
       "      <td>https://www.nytimes.com/2016/10/18/us/politics...</td>\n",
       "      <td>0.0</td>\n",
       "      <td>Donald J. Trump &lt;U+2019&gt;s foundation informed ...</td>\n",
       "      <td>0</td>\n",
       "      <td>Trump Foundation Tells New York It Has Stopped...</td>\n",
       "      <td>real</td>\n",
       "      <td>220b87845a5eb01509b66c8008bf3728</td>\n",
       "      <td>0</td>\n",
       "      <td>0</td>\n",
       "      <td>0</td>\n",
       "      <td>75</td>\n",
       "      <td>1</td>\n",
       "      <td>2163</td>\n",
       "      <td>0</td>\n",
       "      <td>0</td>\n",
       "      <td>0</td>\n",
       "      <td>5</td>\n",
       "      <td>0</td>\n",
       "      <td>140</td>\n",
       "      <td>0</td>\n",
       "      <td>0</td>\n",
       "      <td>38</td>\n",
       "      <td>2</td>\n",
       "      <td>0</td>\n",
       "      <td>26</td>\n",
       "      <td>6</td>\n",
       "      <td>7</td>\n",
       "      <td>2</td>\n",
       "      <td>4</td>\n",
       "      <td>4</td>\n",
       "      <td>4</td>\n",
       "      <td>5</td>\n",
       "      <td>9</td>\n",
       "      <td>8</td>\n",
       "      <td>15</td>\n",
       "      <td>145</td>\n",
       "      <td>38</td>\n",
       "      <td>28</td>\n",
       "    </tr>\n",
       "    <tr>\n",
       "      <th>2</th>\n",
       "      <td>3</td>\n",
       "      <td>NaN</td>\n",
       "      <td>MAGGIE HABERMAN ASHLEY PARKER</td>\n",
       "      <td>0.0</td>\n",
       "      <td>US</td>\n",
       "      <td>2017-03-14 08:25:36</td>\n",
       "      <td>0</td>\n",
       "      <td>5.0</td>\n",
       "      <td>english</td>\n",
       "      <td>0.0</td>\n",
       "      <td>https://static01.nyt.com/images/2016/11/12/us/...</td>\n",
       "      <td>0.0</td>\n",
       "      <td>0.0</td>\n",
       "      <td>2016-11-12 02:08:39</td>\n",
       "      <td>0.0</td>\n",
       "      <td>0.0</td>\n",
       "      <td>https://www.nytimes.com/2016/11/12/us/politics...</td>\n",
       "      <td>0.0</td>\n",
       "      <td>President-elect Donald J. Trump won the White ...</td>\n",
       "      <td>0</td>\n",
       "      <td>Donald Trump Prepares for White House Move, bu...</td>\n",
       "      <td>real</td>\n",
       "      <td>247e97e1da2dc67fcb31e20b84b2d960</td>\n",
       "      <td>0</td>\n",
       "      <td>0</td>\n",
       "      <td>1</td>\n",
       "      <td>74</td>\n",
       "      <td>1</td>\n",
       "      <td>6239</td>\n",
       "      <td>0</td>\n",
       "      <td>0</td>\n",
       "      <td>1</td>\n",
       "      <td>4</td>\n",
       "      <td>0</td>\n",
       "      <td>436</td>\n",
       "      <td>1</td>\n",
       "      <td>0</td>\n",
       "      <td>167</td>\n",
       "      <td>1</td>\n",
       "      <td>0</td>\n",
       "      <td>67</td>\n",
       "      <td>5</td>\n",
       "      <td>19</td>\n",
       "      <td>6</td>\n",
       "      <td>8</td>\n",
       "      <td>15</td>\n",
       "      <td>8</td>\n",
       "      <td>6</td>\n",
       "      <td>26</td>\n",
       "      <td>15</td>\n",
       "      <td>34</td>\n",
       "      <td>440</td>\n",
       "      <td>168</td>\n",
       "      <td>68</td>\n",
       "    </tr>\n",
       "    <tr>\n",
       "      <th>3</th>\n",
       "      <td>4</td>\n",
       "      <td>NaN</td>\n",
       "      <td>NELSON D. SCHWARTZ SUI-LEE WEE</td>\n",
       "      <td>0.0</td>\n",
       "      <td>US</td>\n",
       "      <td>2017-03-14 08:25:36</td>\n",
       "      <td>0</td>\n",
       "      <td>6.0</td>\n",
       "      <td>english</td>\n",
       "      <td>0.0</td>\n",
       "      <td>https://static01.nyt.com/images/2016/10/21/bus...</td>\n",
       "      <td>0.0</td>\n",
       "      <td>0.0</td>\n",
       "      <td>2016-10-20 22:09:04</td>\n",
       "      <td>0.0</td>\n",
       "      <td>0.0</td>\n",
       "      <td>https://www.nytimes.com/2016/10/21/business/in...</td>\n",
       "      <td>0.0</td>\n",
       "      <td>An investment pitch for a new Texas hotel is t...</td>\n",
       "      <td>0</td>\n",
       "      <td>Luring Chinese Investors With Trump&lt;U+2019&gt;s N...</td>\n",
       "      <td>real</td>\n",
       "      <td>e1f572512a36071cbca6056a31577389</td>\n",
       "      <td>0</td>\n",
       "      <td>0</td>\n",
       "      <td>13</td>\n",
       "      <td>59</td>\n",
       "      <td>1</td>\n",
       "      <td>7894</td>\n",
       "      <td>0</td>\n",
       "      <td>0</td>\n",
       "      <td>0</td>\n",
       "      <td>6</td>\n",
       "      <td>0</td>\n",
       "      <td>586</td>\n",
       "      <td>0</td>\n",
       "      <td>0</td>\n",
       "      <td>136</td>\n",
       "      <td>2</td>\n",
       "      <td>0</td>\n",
       "      <td>69</td>\n",
       "      <td>11</td>\n",
       "      <td>14</td>\n",
       "      <td>6</td>\n",
       "      <td>10</td>\n",
       "      <td>10</td>\n",
       "      <td>10</td>\n",
       "      <td>6</td>\n",
       "      <td>32</td>\n",
       "      <td>24</td>\n",
       "      <td>43</td>\n",
       "      <td>592</td>\n",
       "      <td>136</td>\n",
       "      <td>71</td>\n",
       "    </tr>\n",
       "    <tr>\n",
       "      <th>4</th>\n",
       "      <td>5</td>\n",
       "      <td>NaN</td>\n",
       "      <td>MAGGIE HABERMAN</td>\n",
       "      <td>0.0</td>\n",
       "      <td>US</td>\n",
       "      <td>2017-03-14 08:25:37</td>\n",
       "      <td>0</td>\n",
       "      <td>7.0</td>\n",
       "      <td>english</td>\n",
       "      <td>0.0</td>\n",
       "      <td>https://static01.nyt.com/images/2016/11/21/us/...</td>\n",
       "      <td>0.0</td>\n",
       "      <td>0.0</td>\n",
       "      <td>2016-11-21 01:42:23</td>\n",
       "      <td>0.0</td>\n",
       "      <td>0.0</td>\n",
       "      <td>https://www.nytimes.com/2016/11/21/us/politics...</td>\n",
       "      <td>0.0</td>\n",
       "      <td>President-elect Donald J. Trump &lt;U+2019&gt;s wife...</td>\n",
       "      <td>0</td>\n",
       "      <td>Melania and Barron Trump Won&lt;U+2019&gt;t Immediat...</td>\n",
       "      <td>real</td>\n",
       "      <td>584700e476e0d3c20731cb3d28e6ce2b</td>\n",
       "      <td>0</td>\n",
       "      <td>0</td>\n",
       "      <td>0</td>\n",
       "      <td>62</td>\n",
       "      <td>1</td>\n",
       "      <td>2979</td>\n",
       "      <td>0</td>\n",
       "      <td>0</td>\n",
       "      <td>0</td>\n",
       "      <td>7</td>\n",
       "      <td>0</td>\n",
       "      <td>216</td>\n",
       "      <td>0</td>\n",
       "      <td>0</td>\n",
       "      <td>82</td>\n",
       "      <td>1</td>\n",
       "      <td>0</td>\n",
       "      <td>27</td>\n",
       "      <td>1</td>\n",
       "      <td>12</td>\n",
       "      <td>0</td>\n",
       "      <td>3</td>\n",
       "      <td>6</td>\n",
       "      <td>2</td>\n",
       "      <td>4</td>\n",
       "      <td>14</td>\n",
       "      <td>4</td>\n",
       "      <td>25</td>\n",
       "      <td>223</td>\n",
       "      <td>82</td>\n",
       "      <td>28</td>\n",
       "    </tr>\n",
       "  </tbody>\n",
       "</table>\n",
       "</div>"
      ],
      "text/plain": [
       "   Unnamed: 0  Unnamed: 0.1                          author  comments country  \\\n",
       "0           1           NaN                JEREMY W. PETERS       0.0      US   \n",
       "1           2           NaN                      STEVE EDER       0.0      US   \n",
       "2           3           NaN   MAGGIE HABERMAN ASHLEY PARKER       0.0      US   \n",
       "3           4           NaN  NELSON D. SCHWARTZ SUI-LEE WEE       0.0      US   \n",
       "4           5           NaN                 MAGGIE HABERMAN       0.0      US   \n",
       "\n",
       "               crawled  domain_rank   id language  likes  \\\n",
       "0  2017-03-14 08:25:04            0  3.0  english    0.0   \n",
       "1  2017-03-14 08:25:36            0  4.0  english    0.0   \n",
       "2  2017-03-14 08:25:36            0  5.0  english    0.0   \n",
       "3  2017-03-14 08:25:36            0  6.0  english    0.0   \n",
       "4  2017-03-14 08:25:37            0  7.0  english    0.0   \n",
       "\n",
       "                                        main_img_url  ord_in_thread  \\\n",
       "0  https://static01.nyt.com/images/2016/11/23/us/...            0.0   \n",
       "1  https://static01.nyt.com/images/2016/10/18/us/...            0.0   \n",
       "2  https://static01.nyt.com/images/2016/11/12/us/...            0.0   \n",
       "3  https://static01.nyt.com/images/2016/10/21/bus...            0.0   \n",
       "4  https://static01.nyt.com/images/2016/11/21/us/...            0.0   \n",
       "\n",
       "   participants_count            published  replies_count  shares  \\\n",
       "0                 0.0  2016-11-23 00:45:32            0.0     0.0   \n",
       "1                 0.0  2016-10-17 18:46:52            0.0     0.0   \n",
       "2                 0.0  2016-11-12 02:08:39            0.0     0.0   \n",
       "3                 0.0  2016-10-20 22:09:04            0.0     0.0   \n",
       "4                 0.0  2016-11-21 01:42:23            0.0     0.0   \n",
       "\n",
       "                                            site_url  spam_score  \\\n",
       "0  https://www.nytimes.com/2016/11/22/us/politics...         0.0   \n",
       "1  https://www.nytimes.com/2016/10/18/us/politics...         0.0   \n",
       "2  https://www.nytimes.com/2016/11/12/us/politics...         0.0   \n",
       "3  https://www.nytimes.com/2016/10/21/business/in...         0.0   \n",
       "4  https://www.nytimes.com/2016/11/21/us/politics...         0.0   \n",
       "\n",
       "                                                text thread_title  \\\n",
       "0  They stood in line at Trump Tower, sometimes u...            0   \n",
       "1  Donald J. Trump <U+2019>s foundation informed ...            0   \n",
       "2  President-elect Donald J. Trump won the White ...            0   \n",
       "3  An investment pitch for a new Texas hotel is t...            0   \n",
       "4  President-elect Donald J. Trump <U+2019>s wife...            0   \n",
       "\n",
       "                                               title  type  \\\n",
       "0  At Donald Trump<U+2019>s Properties, a Showcas...  real   \n",
       "1  Trump Foundation Tells New York It Has Stopped...  real   \n",
       "2  Donald Trump Prepares for White House Move, bu...  real   \n",
       "3  Luring Chinese Investors With Trump<U+2019>s N...  real   \n",
       "4  Melania and Barron Trump Won<U+2019>t Immediat...  real   \n",
       "\n",
       "                               uuid  caps_title  caps_thread  caps_text  \\\n",
       "0  f182f05dc3191ba4cb741e22f75fb43b           0            0          0   \n",
       "1  220b87845a5eb01509b66c8008bf3728           0            0          0   \n",
       "2  247e97e1da2dc67fcb31e20b84b2d960           0            0          1   \n",
       "3  e1f572512a36071cbca6056a31577389           0            0         13   \n",
       "4  584700e476e0d3c20731cb3d28e6ce2b           0            0          0   \n",
       "\n",
       "   title_len  thread_len  text_len  excl_title  excl_thread  excl_text  \\\n",
       "0         74           1      6489           0            0          0   \n",
       "1         75           1      2163           0            0          0   \n",
       "2         74           1      6239           0            0          1   \n",
       "3         59           1      7894           0            0          0   \n",
       "4         62           1      2979           0            0          0   \n",
       "\n",
       "   first_title  first_thread  first_text  second_title  second_thread  \\\n",
       "0            2             0         407             0              0   \n",
       "1            5             0         140             0              0   \n",
       "2            4             0         436             1              0   \n",
       "3            6             0         586             0              0   \n",
       "4            7             0         216             0              0   \n",
       "\n",
       "   second_text  third_title  third_thread  third_text  anger  anticipation  \\\n",
       "0          150            0             0          45      9            21   \n",
       "1           38            2             0          26      6             7   \n",
       "2          167            1             0          67      5            19   \n",
       "3          136            2             0          69     11            14   \n",
       "4           82            1             0          27      1            12   \n",
       "\n",
       "   disgust  fear  joy  sadness  surprise  trust  negative  positive  \\\n",
       "0        5     6   20        5        14     30        14        52   \n",
       "1        2     4    4        4         5      9         8        15   \n",
       "2        6     8   15        8         6     26        15        34   \n",
       "3        6    10   10       10         6     32        24        43   \n",
       "4        0     3    6        2         4     14         4        25   \n",
       "\n",
       "   first_all  second_all  third_all  \n",
       "0        409         150         45  \n",
       "1        145          38         28  \n",
       "2        440         168         68  \n",
       "3        592         136         71  \n",
       "4        223          82         28  "
      ]
     },
     "execution_count": 37,
     "metadata": {},
     "output_type": "execute_result"
    }
   ],
   "source": [
    "df.head()"
   ]
  },
  {
   "cell_type": "code",
   "execution_count": 38,
   "metadata": {},
   "outputs": [
    {
     "data": {
      "text/plain": [
       "0"
      ]
     },
     "execution_count": 38,
     "metadata": {},
     "output_type": "execute_result"
    }
   ],
   "source": [
    "count_notitle_real"
   ]
  },
  {
   "cell_type": "markdown",
   "metadata": {},
   "source": [
    "## Preprocesado"
   ]
  },
  {
   "cell_type": "code",
   "execution_count": 39,
   "metadata": {},
   "outputs": [
    {
     "data": {
      "text/plain": [
       "Index(['Unnamed: 0', 'Unnamed: 0.1', 'author', 'comments', 'country',\n",
       "       'crawled', 'domain_rank', 'id', 'language', 'likes', 'main_img_url',\n",
       "       'ord_in_thread', 'participants_count', 'published', 'replies_count',\n",
       "       'shares', 'site_url', 'spam_score', 'text', 'thread_title', 'title',\n",
       "       'type', 'uuid', 'caps_title', 'caps_thread', 'caps_text', 'title_len',\n",
       "       'thread_len', 'text_len', 'excl_title', 'excl_thread', 'excl_text',\n",
       "       'first_title', 'first_thread', 'first_text', 'second_title',\n",
       "       'second_thread', 'second_text', 'third_title', 'third_thread',\n",
       "       'third_text', 'anger', 'anticipation', 'disgust', 'fear', 'joy',\n",
       "       'sadness', 'surprise', 'trust', 'negative', 'positive', 'first_all',\n",
       "       'second_all', 'third_all'],\n",
       "      dtype='object')"
      ]
     },
     "execution_count": 39,
     "metadata": {},
     "output_type": "execute_result"
    }
   ],
   "source": [
    "df.columns"
   ]
  },
  {
   "cell_type": "markdown",
   "metadata": {},
   "source": [
    "Eliminamos todas las columnas, exceptuando título, cuerpo de la noticia y tipo de noticia"
   ]
  },
  {
   "cell_type": "code",
   "execution_count": 40,
   "metadata": {},
   "outputs": [],
   "source": [
    "# Nos quedamos solamente con title, text y type\n",
    "df = df.drop(columns = ['Unnamed: 0', 'Unnamed: 0.1', 'author', 'comments', 'country',\n",
    "       'crawled', 'domain_rank', 'id', 'language', 'likes', 'main_img_url',\n",
    "       'ord_in_thread', 'participants_count', 'published', 'replies_count',\n",
    "       'shares', 'site_url', 'spam_score', 'thread_title', \n",
    "        'uuid', 'caps_title', 'caps_thread', 'caps_text', 'title_len',\n",
    "       'thread_len', 'text_len', 'excl_title', 'excl_thread', 'excl_text',\n",
    "       'first_title', 'first_thread', 'first_text', 'second_title',\n",
    "       'second_thread', 'second_text', 'third_title', 'third_thread',\n",
    "       'third_text', 'anger', 'anticipation', 'disgust', 'fear', 'joy',\n",
    "       'sadness', 'surprise', 'trust', 'negative', 'positive', 'first_all',\n",
    "       'second_all', 'third_all'])\n"
   ]
  },
  {
   "cell_type": "code",
   "execution_count": 41,
   "metadata": {
    "scrolled": true
   },
   "outputs": [
    {
     "data": {
      "text/html": [
       "<div>\n",
       "<style scoped>\n",
       "    .dataframe tbody tr th:only-of-type {\n",
       "        vertical-align: middle;\n",
       "    }\n",
       "\n",
       "    .dataframe tbody tr th {\n",
       "        vertical-align: top;\n",
       "    }\n",
       "\n",
       "    .dataframe thead th {\n",
       "        text-align: right;\n",
       "    }\n",
       "</style>\n",
       "<table border=\"1\" class=\"dataframe\">\n",
       "  <thead>\n",
       "    <tr style=\"text-align: right;\">\n",
       "      <th></th>\n",
       "      <th>text</th>\n",
       "      <th>title</th>\n",
       "      <th>type</th>\n",
       "    </tr>\n",
       "  </thead>\n",
       "  <tbody>\n",
       "    <tr>\n",
       "      <th>0</th>\n",
       "      <td>They stood in line at Trump Tower, sometimes u...</td>\n",
       "      <td>At Donald Trump&lt;U+2019&gt;s Properties, a Showcas...</td>\n",
       "      <td>real</td>\n",
       "    </tr>\n",
       "    <tr>\n",
       "      <th>1</th>\n",
       "      <td>Donald J. Trump &lt;U+2019&gt;s foundation informed ...</td>\n",
       "      <td>Trump Foundation Tells New York It Has Stopped...</td>\n",
       "      <td>real</td>\n",
       "    </tr>\n",
       "    <tr>\n",
       "      <th>2</th>\n",
       "      <td>President-elect Donald J. Trump won the White ...</td>\n",
       "      <td>Donald Trump Prepares for White House Move, bu...</td>\n",
       "      <td>real</td>\n",
       "    </tr>\n",
       "    <tr>\n",
       "      <th>3</th>\n",
       "      <td>An investment pitch for a new Texas hotel is t...</td>\n",
       "      <td>Luring Chinese Investors With Trump&lt;U+2019&gt;s N...</td>\n",
       "      <td>real</td>\n",
       "    </tr>\n",
       "    <tr>\n",
       "      <th>4</th>\n",
       "      <td>President-elect Donald J. Trump &lt;U+2019&gt;s wife...</td>\n",
       "      <td>Melania and Barron Trump Won&lt;U+2019&gt;t Immediat...</td>\n",
       "      <td>real</td>\n",
       "    </tr>\n",
       "  </tbody>\n",
       "</table>\n",
       "</div>"
      ],
      "text/plain": [
       "                                                text  \\\n",
       "0  They stood in line at Trump Tower, sometimes u...   \n",
       "1  Donald J. Trump <U+2019>s foundation informed ...   \n",
       "2  President-elect Donald J. Trump won the White ...   \n",
       "3  An investment pitch for a new Texas hotel is t...   \n",
       "4  President-elect Donald J. Trump <U+2019>s wife...   \n",
       "\n",
       "                                               title  type  \n",
       "0  At Donald Trump<U+2019>s Properties, a Showcas...  real  \n",
       "1  Trump Foundation Tells New York It Has Stopped...  real  \n",
       "2  Donald Trump Prepares for White House Move, bu...  real  \n",
       "3  Luring Chinese Investors With Trump<U+2019>s N...  real  \n",
       "4  Melania and Barron Trump Won<U+2019>t Immediat...  real  "
      ]
     },
     "execution_count": 41,
     "metadata": {},
     "output_type": "execute_result"
    }
   ],
   "source": [
    "df.head()"
   ]
  },
  {
   "cell_type": "markdown",
   "metadata": {},
   "source": [
    "Unimos título y texto en una sola columna"
   ]
  },
  {
   "cell_type": "code",
   "execution_count": 42,
   "metadata": {},
   "outputs": [],
   "source": [
    "df['text'] = df['title'] + ' ' + df['text']"
   ]
  },
  {
   "cell_type": "markdown",
   "metadata": {},
   "source": [
    "Eliminamos la columna título"
   ]
  },
  {
   "cell_type": "code",
   "execution_count": 43,
   "metadata": {},
   "outputs": [],
   "source": [
    "df = df.drop(columns = ['title'])"
   ]
  },
  {
   "cell_type": "code",
   "execution_count": 44,
   "metadata": {
    "scrolled": true
   },
   "outputs": [
    {
     "data": {
      "text/html": [
       "<div>\n",
       "<style scoped>\n",
       "    .dataframe tbody tr th:only-of-type {\n",
       "        vertical-align: middle;\n",
       "    }\n",
       "\n",
       "    .dataframe tbody tr th {\n",
       "        vertical-align: top;\n",
       "    }\n",
       "\n",
       "    .dataframe thead th {\n",
       "        text-align: right;\n",
       "    }\n",
       "</style>\n",
       "<table border=\"1\" class=\"dataframe\">\n",
       "  <thead>\n",
       "    <tr style=\"text-align: right;\">\n",
       "      <th></th>\n",
       "      <th>text</th>\n",
       "      <th>type</th>\n",
       "    </tr>\n",
       "  </thead>\n",
       "  <tbody>\n",
       "    <tr>\n",
       "      <th>0</th>\n",
       "      <td>At Donald Trump&lt;U+2019&gt;s Properties, a Showcas...</td>\n",
       "      <td>real</td>\n",
       "    </tr>\n",
       "    <tr>\n",
       "      <th>1</th>\n",
       "      <td>Trump Foundation Tells New York It Has Stopped...</td>\n",
       "      <td>real</td>\n",
       "    </tr>\n",
       "    <tr>\n",
       "      <th>2</th>\n",
       "      <td>Donald Trump Prepares for White House Move, bu...</td>\n",
       "      <td>real</td>\n",
       "    </tr>\n",
       "    <tr>\n",
       "      <th>3</th>\n",
       "      <td>Luring Chinese Investors With Trump&lt;U+2019&gt;s N...</td>\n",
       "      <td>real</td>\n",
       "    </tr>\n",
       "    <tr>\n",
       "      <th>4</th>\n",
       "      <td>Melania and Barron Trump Won&lt;U+2019&gt;t Immediat...</td>\n",
       "      <td>real</td>\n",
       "    </tr>\n",
       "  </tbody>\n",
       "</table>\n",
       "</div>"
      ],
      "text/plain": [
       "                                                text  type\n",
       "0  At Donald Trump<U+2019>s Properties, a Showcas...  real\n",
       "1  Trump Foundation Tells New York It Has Stopped...  real\n",
       "2  Donald Trump Prepares for White House Move, bu...  real\n",
       "3  Luring Chinese Investors With Trump<U+2019>s N...  real\n",
       "4  Melania and Barron Trump Won<U+2019>t Immediat...  real"
      ]
     },
     "execution_count": 44,
     "metadata": {},
     "output_type": "execute_result"
    }
   ],
   "source": [
    "df.head()"
   ]
  },
  {
   "cell_type": "markdown",
   "metadata": {},
   "source": [
    "Mapeamos los valores \"real\" y \"fake\" como 0. y 1. respectivamente"
   ]
  },
  {
   "cell_type": "code",
   "execution_count": 45,
   "metadata": {},
   "outputs": [],
   "source": [
    "df.loc[df['type'] == 'fake', 'type'] = 1.\n",
    "df.loc[df['type'] == 'real', 'type'] = 0."
   ]
  },
  {
   "cell_type": "code",
   "execution_count": 46,
   "metadata": {},
   "outputs": [
    {
     "data": {
      "text/html": [
       "<div>\n",
       "<style scoped>\n",
       "    .dataframe tbody tr th:only-of-type {\n",
       "        vertical-align: middle;\n",
       "    }\n",
       "\n",
       "    .dataframe tbody tr th {\n",
       "        vertical-align: top;\n",
       "    }\n",
       "\n",
       "    .dataframe thead th {\n",
       "        text-align: right;\n",
       "    }\n",
       "</style>\n",
       "<table border=\"1\" class=\"dataframe\">\n",
       "  <thead>\n",
       "    <tr style=\"text-align: right;\">\n",
       "      <th></th>\n",
       "      <th>text</th>\n",
       "      <th>type</th>\n",
       "    </tr>\n",
       "  </thead>\n",
       "  <tbody>\n",
       "    <tr>\n",
       "      <th>0</th>\n",
       "      <td>At Donald Trump&lt;U+2019&gt;s Properties, a Showcas...</td>\n",
       "      <td>0</td>\n",
       "    </tr>\n",
       "    <tr>\n",
       "      <th>1</th>\n",
       "      <td>Trump Foundation Tells New York It Has Stopped...</td>\n",
       "      <td>0</td>\n",
       "    </tr>\n",
       "    <tr>\n",
       "      <th>2</th>\n",
       "      <td>Donald Trump Prepares for White House Move, bu...</td>\n",
       "      <td>0</td>\n",
       "    </tr>\n",
       "    <tr>\n",
       "      <th>3</th>\n",
       "      <td>Luring Chinese Investors With Trump&lt;U+2019&gt;s N...</td>\n",
       "      <td>0</td>\n",
       "    </tr>\n",
       "    <tr>\n",
       "      <th>4</th>\n",
       "      <td>Melania and Barron Trump Won&lt;U+2019&gt;t Immediat...</td>\n",
       "      <td>0</td>\n",
       "    </tr>\n",
       "  </tbody>\n",
       "</table>\n",
       "</div>"
      ],
      "text/plain": [
       "                                                text type\n",
       "0  At Donald Trump<U+2019>s Properties, a Showcas...    0\n",
       "1  Trump Foundation Tells New York It Has Stopped...    0\n",
       "2  Donald Trump Prepares for White House Move, bu...    0\n",
       "3  Luring Chinese Investors With Trump<U+2019>s N...    0\n",
       "4  Melania and Barron Trump Won<U+2019>t Immediat...    0"
      ]
     },
     "execution_count": 46,
     "metadata": {},
     "output_type": "execute_result"
    }
   ],
   "source": [
    "df.head()"
   ]
  },
  {
   "cell_type": "markdown",
   "metadata": {},
   "source": [
    "Aplicamos la función de preprocesado y exportamos"
   ]
  },
  {
   "cell_type": "code",
   "execution_count": 47,
   "metadata": {},
   "outputs": [
    {
     "name": "stdout",
     "output_type": "stream",
     "text": [
      "Wall time: 11min 4s\n"
     ]
    }
   ],
   "source": [
    "%%time\n",
    "# Preprocesamos y exportamos\n",
    "df['text'] = df['text'].apply(nlp_f.tokenizer)"
   ]
  },
  {
   "cell_type": "code",
   "execution_count": 48,
   "metadata": {},
   "outputs": [
    {
     "data": {
      "text/html": [
       "<div>\n",
       "<style scoped>\n",
       "    .dataframe tbody tr th:only-of-type {\n",
       "        vertical-align: middle;\n",
       "    }\n",
       "\n",
       "    .dataframe tbody tr th {\n",
       "        vertical-align: top;\n",
       "    }\n",
       "\n",
       "    .dataframe thead th {\n",
       "        text-align: right;\n",
       "    }\n",
       "</style>\n",
       "<table border=\"1\" class=\"dataframe\">\n",
       "  <thead>\n",
       "    <tr style=\"text-align: right;\">\n",
       "      <th></th>\n",
       "      <th>text</th>\n",
       "      <th>type</th>\n",
       "    </tr>\n",
       "  </thead>\n",
       "  <tbody>\n",
       "    <tr>\n",
       "      <th>0</th>\n",
       "      <td>[donald, trump, property, showcase, brand, pre...</td>\n",
       "      <td>0</td>\n",
       "    </tr>\n",
       "    <tr>\n",
       "      <th>1</th>\n",
       "      <td>[trump, foundation, tell, new, york, stop, sol...</td>\n",
       "      <td>0</td>\n",
       "    </tr>\n",
       "    <tr>\n",
       "      <th>2</th>\n",
       "      <td>[donald, trump, prepares, white, house, move, ...</td>\n",
       "      <td>0</td>\n",
       "    </tr>\n",
       "    <tr>\n",
       "      <th>3</th>\n",
       "      <td>[lure, chinese, investor, trump, name, little,...</td>\n",
       "      <td>0</td>\n",
       "    </tr>\n",
       "    <tr>\n",
       "      <th>4</th>\n",
       "      <td>[melania, barron, trump, wont, immediately, mo...</td>\n",
       "      <td>0</td>\n",
       "    </tr>\n",
       "  </tbody>\n",
       "</table>\n",
       "</div>"
      ],
      "text/plain": [
       "                                                text type\n",
       "0  [donald, trump, property, showcase, brand, pre...    0\n",
       "1  [trump, foundation, tell, new, york, stop, sol...    0\n",
       "2  [donald, trump, prepares, white, house, move, ...    0\n",
       "3  [lure, chinese, investor, trump, name, little,...    0\n",
       "4  [melania, barron, trump, wont, immediately, mo...    0"
      ]
     },
     "execution_count": 48,
     "metadata": {},
     "output_type": "execute_result"
    }
   ],
   "source": [
    "df.head()"
   ]
  },
  {
   "cell_type": "code",
   "execution_count": 49,
   "metadata": {},
   "outputs": [],
   "source": [
    "df.to_csv('ticnn_preprocessed.csv', index=False)"
   ]
  }
 ],
 "metadata": {
  "kernelspec": {
   "display_name": "Python 3",
   "language": "python",
   "name": "python3"
  },
  "language_info": {
   "codemirror_mode": {
    "name": "ipython",
    "version": 3
   },
   "file_extension": ".py",
   "mimetype": "text/x-python",
   "name": "python",
   "nbconvert_exporter": "python",
   "pygments_lexer": "ipython3",
   "version": "3.7.3"
  }
 },
 "nbformat": 4,
 "nbformat_minor": 2
}
