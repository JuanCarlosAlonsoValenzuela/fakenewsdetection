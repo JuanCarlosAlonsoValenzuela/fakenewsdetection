{
 "cells": [
  {
   "cell_type": "markdown",
   "metadata": {},
   "source": [
    "# Análisis TI-CNN dataset (Parte 2)\n",
    "En este notebook se realiza un análisis de la longitud de las dos categorías de noticias. Los resultados de este análisis son los que han permitido detectar el sesgo producido por la longitud de las noticias"
   ]
  },
  {
   "cell_type": "code",
   "execution_count": 26,
   "metadata": {
    "colab": {},
    "colab_type": "code",
    "id": "K4p-enY4-w2L"
   },
   "outputs": [],
   "source": [
    "import pandas as pd\n",
    "import matplotlib.pyplot as plt\n",
    "\n",
    "import sys\n",
    "sys.path.insert(0, '../')\n",
    "import nlp_functions as nlp_f"
   ]
  },
  {
   "cell_type": "code",
   "execution_count": 2,
   "metadata": {
    "colab": {},
    "colab_type": "code",
    "id": "ws7D9ILq_EjB"
   },
   "outputs": [],
   "source": [
    "# Cargamos el dataset preprocesado\n",
    "df = pd.read_csv('../dataset/ticnn_preprocessed.csv')"
   ]
  },
  {
   "cell_type": "code",
   "execution_count": 3,
   "metadata": {
    "colab": {
     "base_uri": "https://localhost:8080/",
     "height": 204
    },
    "colab_type": "code",
    "executionInfo": {
     "elapsed": 2753,
     "status": "ok",
     "timestamp": 1586888675288,
     "user": {
      "displayName": "Juan Carlos Alonso Valenzuela",
      "photoUrl": "https://lh3.googleusercontent.com/a-/AOh14GhiphZPu-ccfJ8e83_GcYWNcG6ORT2H8HxXA7aX=s64",
      "userId": "05100266326841067265"
     },
     "user_tz": -120
    },
    "id": "ECXDy38y_Gbk",
    "outputId": "1facd2a4-d183-47a8-f360-a8443d8e7efc"
   },
   "outputs": [
    {
     "data": {
      "text/html": [
       "<div>\n",
       "<style scoped>\n",
       "    .dataframe tbody tr th:only-of-type {\n",
       "        vertical-align: middle;\n",
       "    }\n",
       "\n",
       "    .dataframe tbody tr th {\n",
       "        vertical-align: top;\n",
       "    }\n",
       "\n",
       "    .dataframe thead th {\n",
       "        text-align: right;\n",
       "    }\n",
       "</style>\n",
       "<table border=\"1\" class=\"dataframe\">\n",
       "  <thead>\n",
       "    <tr style=\"text-align: right;\">\n",
       "      <th></th>\n",
       "      <th>text</th>\n",
       "      <th>type</th>\n",
       "    </tr>\n",
       "  </thead>\n",
       "  <tbody>\n",
       "    <tr>\n",
       "      <th>0</th>\n",
       "      <td>['donald', 'trump', 'property', 'showcase', 'b...</td>\n",
       "      <td>0.0</td>\n",
       "    </tr>\n",
       "    <tr>\n",
       "      <th>1</th>\n",
       "      <td>['trump', 'foundation', 'tell', 'new', 'york',...</td>\n",
       "      <td>0.0</td>\n",
       "    </tr>\n",
       "    <tr>\n",
       "      <th>2</th>\n",
       "      <td>['donald', 'trump', 'prepares', 'white', 'hous...</td>\n",
       "      <td>0.0</td>\n",
       "    </tr>\n",
       "    <tr>\n",
       "      <th>3</th>\n",
       "      <td>['lure', 'chinese', 'investor', 'trump', 'name...</td>\n",
       "      <td>0.0</td>\n",
       "    </tr>\n",
       "    <tr>\n",
       "      <th>4</th>\n",
       "      <td>['melania', 'barron', 'trump', 'wont', 'immedi...</td>\n",
       "      <td>0.0</td>\n",
       "    </tr>\n",
       "  </tbody>\n",
       "</table>\n",
       "</div>"
      ],
      "text/plain": [
       "                                                text  type\n",
       "0  ['donald', 'trump', 'property', 'showcase', 'b...   0.0\n",
       "1  ['trump', 'foundation', 'tell', 'new', 'york',...   0.0\n",
       "2  ['donald', 'trump', 'prepares', 'white', 'hous...   0.0\n",
       "3  ['lure', 'chinese', 'investor', 'trump', 'name...   0.0\n",
       "4  ['melania', 'barron', 'trump', 'wont', 'immedi...   0.0"
      ]
     },
     "execution_count": 3,
     "metadata": {},
     "output_type": "execute_result"
    }
   ],
   "source": [
    "df.head()"
   ]
  },
  {
   "cell_type": "markdown",
   "metadata": {},
   "source": [
    "El campo text está almacenado como string, lo convertimos a lista utilizando literal_eval"
   ]
  },
  {
   "cell_type": "code",
   "execution_count": 4,
   "metadata": {
    "colab": {
     "base_uri": "https://localhost:8080/",
     "height": 51
    },
    "colab_type": "code",
    "executionInfo": {
     "elapsed": 18917,
     "status": "ok",
     "timestamp": 1586888691482,
     "user": {
      "displayName": "Juan Carlos Alonso Valenzuela",
      "photoUrl": "https://lh3.googleusercontent.com/a-/AOh14GhiphZPu-ccfJ8e83_GcYWNcG6ORT2H8HxXA7aX=s64",
      "userId": "05100266326841067265"
     },
     "user_tz": -120
    },
    "id": "yp_SIB0t_Me4",
    "outputId": "3e0e8dc3-e953-4763-f168-805dba9c042e"
   },
   "outputs": [
    {
     "name": "stdout",
     "output_type": "stream",
     "text": [
      "Wall time: 15.7 s\n"
     ]
    }
   ],
   "source": [
    "%%time\n",
    "from ast import literal_eval\n",
    "df['text'] = df['text'].apply(literal_eval)"
   ]
  },
  {
   "cell_type": "code",
   "execution_count": 5,
   "metadata": {
    "colab": {},
    "colab_type": "code",
    "id": "lYz70EQK_Weo"
   },
   "outputs": [],
   "source": [
    "df['length'] = df['text'].str.len()"
   ]
  },
  {
   "cell_type": "code",
   "execution_count": 6,
   "metadata": {
    "colab": {},
    "colab_type": "code",
    "id": "XvlCdCbX_m9R"
   },
   "outputs": [],
   "source": [
    "df = df.sort_values(by=['length'])"
   ]
  },
  {
   "cell_type": "code",
   "execution_count": 7,
   "metadata": {
    "colab": {},
    "colab_type": "code",
    "id": "O7_LeyktAs8J"
   },
   "outputs": [],
   "source": [
    "pd.set_option('display.max_rows', 10000)"
   ]
  },
  {
   "cell_type": "code",
   "execution_count": 8,
   "metadata": {
    "colab": {
     "base_uri": "https://localhost:8080/",
     "height": 204
    },
    "colab_type": "code",
    "executionInfo": {
     "elapsed": 18836,
     "status": "ok",
     "timestamp": 1586888691487,
     "user": {
      "displayName": "Juan Carlos Alonso Valenzuela",
      "photoUrl": "https://lh3.googleusercontent.com/a-/AOh14GhiphZPu-ccfJ8e83_GcYWNcG6ORT2H8HxXA7aX=s64",
      "userId": "05100266326841067265"
     },
     "user_tz": -120
    },
    "id": "zuCuYYd7sDao",
    "outputId": "b094576c-4867-4706-a2e1-d5643508b856"
   },
   "outputs": [
    {
     "data": {
      "text/html": [
       "<div>\n",
       "<style scoped>\n",
       "    .dataframe tbody tr th:only-of-type {\n",
       "        vertical-align: middle;\n",
       "    }\n",
       "\n",
       "    .dataframe tbody tr th {\n",
       "        vertical-align: top;\n",
       "    }\n",
       "\n",
       "    .dataframe thead th {\n",
       "        text-align: right;\n",
       "    }\n",
       "</style>\n",
       "<table border=\"1\" class=\"dataframe\">\n",
       "  <thead>\n",
       "    <tr style=\"text-align: right;\">\n",
       "      <th></th>\n",
       "      <th>text</th>\n",
       "      <th>type</th>\n",
       "      <th>length</th>\n",
       "    </tr>\n",
       "  </thead>\n",
       "  <tbody>\n",
       "    <tr>\n",
       "      <th>5652</th>\n",
       "      <td>[]</td>\n",
       "      <td>1.0</td>\n",
       "      <td>0</td>\n",
       "    </tr>\n",
       "    <tr>\n",
       "      <th>6289</th>\n",
       "      <td>[nicely]</td>\n",
       "      <td>1.0</td>\n",
       "      <td>1</td>\n",
       "    </tr>\n",
       "    <tr>\n",
       "      <th>4955</th>\n",
       "      <td>[brilliant]</td>\n",
       "      <td>1.0</td>\n",
       "      <td>1</td>\n",
       "    </tr>\n",
       "    <tr>\n",
       "      <th>4974</th>\n",
       "      <td>[brilliant]</td>\n",
       "      <td>1.0</td>\n",
       "      <td>1</td>\n",
       "    </tr>\n",
       "    <tr>\n",
       "      <th>4975</th>\n",
       "      <td>[brilliant]</td>\n",
       "      <td>1.0</td>\n",
       "      <td>1</td>\n",
       "    </tr>\n",
       "  </tbody>\n",
       "</table>\n",
       "</div>"
      ],
      "text/plain": [
       "             text  type  length\n",
       "5652           []   1.0       0\n",
       "6289     [nicely]   1.0       1\n",
       "4955  [brilliant]   1.0       1\n",
       "4974  [brilliant]   1.0       1\n",
       "4975  [brilliant]   1.0       1"
      ]
     },
     "execution_count": 8,
     "metadata": {},
     "output_type": "execute_result"
    }
   ],
   "source": [
    "df.head()"
   ]
  },
  {
   "cell_type": "code",
   "execution_count": 9,
   "metadata": {
    "colab": {},
    "colab_type": "code",
    "id": "kFR5TPoYuDzG"
   },
   "outputs": [],
   "source": [
    "df_real = df.loc[df['type'] == 0.0]\n",
    "df_fake = df.loc[df['type'] == 1.0]"
   ]
  },
  {
   "cell_type": "code",
   "execution_count": 10,
   "metadata": {
    "colab": {
     "base_uri": "https://localhost:8080/",
     "height": 34
    },
    "colab_type": "code",
    "executionInfo": {
     "elapsed": 18792,
     "status": "ok",
     "timestamp": 1586888691489,
     "user": {
      "displayName": "Juan Carlos Alonso Valenzuela",
      "photoUrl": "https://lh3.googleusercontent.com/a-/AOh14GhiphZPu-ccfJ8e83_GcYWNcG6ORT2H8HxXA7aX=s64",
      "userId": "05100266326841067265"
     },
     "user_tz": -120
    },
    "id": "HEats-3yuhzt",
    "outputId": "46ff58e1-ea9b-49e8-e6d2-625a10b74bc0"
   },
   "outputs": [
    {
     "data": {
      "text/plain": [
       "11349"
      ]
     },
     "execution_count": 10,
     "metadata": {},
     "output_type": "execute_result"
    }
   ],
   "source": [
    "len(df_fake)"
   ]
  },
  {
   "cell_type": "code",
   "execution_count": 11,
   "metadata": {
    "colab": {
     "base_uri": "https://localhost:8080/",
     "height": 204
    },
    "colab_type": "code",
    "executionInfo": {
     "elapsed": 18771,
     "status": "ok",
     "timestamp": 1586888691490,
     "user": {
      "displayName": "Juan Carlos Alonso Valenzuela",
      "photoUrl": "https://lh3.googleusercontent.com/a-/AOh14GhiphZPu-ccfJ8e83_GcYWNcG6ORT2H8HxXA7aX=s64",
      "userId": "05100266326841067265"
     },
     "user_tz": -120
    },
    "id": "-IdGyNfz3vqo",
    "outputId": "a4b3b90e-ac71-4bbe-9ada-79928ef6fb67"
   },
   "outputs": [
    {
     "data": {
      "text/html": [
       "<div>\n",
       "<style scoped>\n",
       "    .dataframe tbody tr th:only-of-type {\n",
       "        vertical-align: middle;\n",
       "    }\n",
       "\n",
       "    .dataframe tbody tr th {\n",
       "        vertical-align: top;\n",
       "    }\n",
       "\n",
       "    .dataframe thead th {\n",
       "        text-align: right;\n",
       "    }\n",
       "</style>\n",
       "<table border=\"1\" class=\"dataframe\">\n",
       "  <thead>\n",
       "    <tr style=\"text-align: right;\">\n",
       "      <th></th>\n",
       "      <th>text</th>\n",
       "      <th>type</th>\n",
       "      <th>length</th>\n",
       "    </tr>\n",
       "  </thead>\n",
       "  <tbody>\n",
       "    <tr>\n",
       "      <th>13027</th>\n",
       "      <td>[reason, california, bad, state, america, reas...</td>\n",
       "      <td>1.0</td>\n",
       "      <td>9222</td>\n",
       "    </tr>\n",
       "    <tr>\n",
       "      <th>13046</th>\n",
       "      <td>[barack, obama, wrong, fact, prove, illegal, i...</td>\n",
       "      <td>1.0</td>\n",
       "      <td>9589</td>\n",
       "    </tr>\n",
       "    <tr>\n",
       "      <th>13045</th>\n",
       "      <td>[many, people, choose, leave, united, state, p...</td>\n",
       "      <td>1.0</td>\n",
       "      <td>10448</td>\n",
       "    </tr>\n",
       "    <tr>\n",
       "      <th>13056</th>\n",
       "      <td>[many, people, migrate, california, water, dis...</td>\n",
       "      <td>1.0</td>\n",
       "      <td>10714</td>\n",
       "    </tr>\n",
       "    <tr>\n",
       "      <th>13047</th>\n",
       "      <td>[hard, working, american, v, government, paras...</td>\n",
       "      <td>1.0</td>\n",
       "      <td>12212</td>\n",
       "    </tr>\n",
       "  </tbody>\n",
       "</table>\n",
       "</div>"
      ],
      "text/plain": [
       "                                                    text  type  length\n",
       "13027  [reason, california, bad, state, america, reas...   1.0    9222\n",
       "13046  [barack, obama, wrong, fact, prove, illegal, i...   1.0    9589\n",
       "13045  [many, people, choose, leave, united, state, p...   1.0   10448\n",
       "13056  [many, people, migrate, california, water, dis...   1.0   10714\n",
       "13047  [hard, working, american, v, government, paras...   1.0   12212"
      ]
     },
     "execution_count": 11,
     "metadata": {},
     "output_type": "execute_result"
    }
   ],
   "source": [
    "df_fake.tail()"
   ]
  },
  {
   "cell_type": "code",
   "execution_count": 12,
   "metadata": {
    "colab": {
     "base_uri": "https://localhost:8080/",
     "height": 204
    },
    "colab_type": "code",
    "executionInfo": {
     "elapsed": 18748,
     "status": "ok",
     "timestamp": 1586888691490,
     "user": {
      "displayName": "Juan Carlos Alonso Valenzuela",
      "photoUrl": "https://lh3.googleusercontent.com/a-/AOh14GhiphZPu-ccfJ8e83_GcYWNcG6ORT2H8HxXA7aX=s64",
      "userId": "05100266326841067265"
     },
     "user_tz": -120
    },
    "id": "k6Ynx19HuTm2",
    "outputId": "3274a915-19e2-4e6f-a6b1-f7734ae819af"
   },
   "outputs": [
    {
     "data": {
      "text/html": [
       "<div>\n",
       "<style scoped>\n",
       "    .dataframe tbody tr th:only-of-type {\n",
       "        vertical-align: middle;\n",
       "    }\n",
       "\n",
       "    .dataframe tbody tr th {\n",
       "        vertical-align: top;\n",
       "    }\n",
       "\n",
       "    .dataframe thead th {\n",
       "        text-align: right;\n",
       "    }\n",
       "</style>\n",
       "<table border=\"1\" class=\"dataframe\">\n",
       "  <thead>\n",
       "    <tr style=\"text-align: right;\">\n",
       "      <th></th>\n",
       "      <th>text</th>\n",
       "      <th>type</th>\n",
       "      <th>length</th>\n",
       "    </tr>\n",
       "  </thead>\n",
       "  <tbody>\n",
       "    <tr>\n",
       "      <th>1533</th>\n",
       "      <td>[trump, transition, wsj, paul, gigot, welcome,...</td>\n",
       "      <td>0.0</td>\n",
       "      <td>3965</td>\n",
       "    </tr>\n",
       "    <tr>\n",
       "      <th>16385</th>\n",
       "      <td>[daily, many, african, american, unenthusiasti...</td>\n",
       "      <td>0.0</td>\n",
       "      <td>4078</td>\n",
       "    </tr>\n",
       "    <tr>\n",
       "      <th>1765</th>\n",
       "      <td>[close, argument, wsj, paul, gigot, welcome, j...</td>\n",
       "      <td>0.0</td>\n",
       "      <td>4095</td>\n",
       "    </tr>\n",
       "    <tr>\n",
       "      <th>17011</th>\n",
       "      <td>[inside, war, coal, war, coal, political, rhet...</td>\n",
       "      <td>0.0</td>\n",
       "      <td>4098</td>\n",
       "    </tr>\n",
       "    <tr>\n",
       "      <th>4272</th>\n",
       "      <td>[guide, new, york, election, new, york, voting...</td>\n",
       "      <td>0.0</td>\n",
       "      <td>4439</td>\n",
       "    </tr>\n",
       "  </tbody>\n",
       "</table>\n",
       "</div>"
      ],
      "text/plain": [
       "                                                    text  type  length\n",
       "1533   [trump, transition, wsj, paul, gigot, welcome,...   0.0    3965\n",
       "16385  [daily, many, african, american, unenthusiasti...   0.0    4078\n",
       "1765   [close, argument, wsj, paul, gigot, welcome, j...   0.0    4095\n",
       "17011  [inside, war, coal, war, coal, political, rhet...   0.0    4098\n",
       "4272   [guide, new, york, election, new, york, voting...   0.0    4439"
      ]
     },
     "execution_count": 12,
     "metadata": {},
     "output_type": "execute_result"
    }
   ],
   "source": [
    "df_real.tail()"
   ]
  },
  {
   "cell_type": "markdown",
   "metadata": {
    "colab_type": "text",
    "id": "wlaEoFwJAmaX"
   },
   "source": [
    "# Frecuencia absoluta\n",
    "En estas gráficas ya puede observarse que las noticias falsas tienden a ser más cortas"
   ]
  },
  {
   "cell_type": "code",
   "execution_count": 13,
   "metadata": {
    "colab": {
     "base_uri": "https://localhost:8080/",
     "height": 296
    },
    "colab_type": "code",
    "executionInfo": {
     "elapsed": 21304,
     "status": "ok",
     "timestamp": 1586888694070,
     "user": {
      "displayName": "Juan Carlos Alonso Valenzuela",
      "photoUrl": "https://lh3.googleusercontent.com/a-/AOh14GhiphZPu-ccfJ8e83_GcYWNcG6ORT2H8HxXA7aX=s64",
      "userId": "05100266326841067265"
     },
     "user_tz": -120
    },
    "id": "lG7A2UItvDKW",
    "outputId": "3d3d57f7-6120-4368-96f4-29b317e1564f"
   },
   "outputs": [
    {
     "data": {
      "image/png": "[encoded data removed]",
      "text/plain": [
       "<Figure size 432x288 with 1 Axes>"
      ]
     },
     "metadata": {
      "needs_background": "light"
     },
     "output_type": "display_data"
    }
   ],
   "source": [
    "plt.title('Histograma de la longitud de las noticias falsas')\n",
    "plt.hist(df_fake['length'], bins = 1000) #, bins = 1000\n",
    "plt.xlabel('Número de palabras')\n",
    "plt.ylabel('Número de noticias')\n",
    "# plt.ylim([0, 600])\n",
    "plt.xlim([0, 2000])\n",
    "plt.show()"
   ]
  },
  {
   "cell_type": "code",
   "execution_count": 14,
   "metadata": {
    "colab": {
     "base_uri": "https://localhost:8080/",
     "height": 295
    },
    "colab_type": "code",
    "executionInfo": {
     "elapsed": 22525,
     "status": "ok",
     "timestamp": 1586888695320,
     "user": {
      "displayName": "Juan Carlos Alonso Valenzuela",
      "photoUrl": "https://lh3.googleusercontent.com/a-/AOh14GhiphZPu-ccfJ8e83_GcYWNcG6ORT2H8HxXA7aX=s64",
      "userId": "05100266326841067265"
     },
     "user_tz": -120
    },
    "id": "ZlN9whaP9fdR",
    "outputId": "12e380e6-f298-46c2-d199-81c898c0f028"
   },
   "outputs": [
    {
     "data": {
      "image/png": "[encoded data removed]",
      "text/plain": [
       "<Figure size 432x288 with 1 Axes>"
      ]
     },
     "metadata": {
      "needs_background": "light"
     },
     "output_type": "display_data"
    }
   ],
   "source": [
    "plt.title('Histograma de la longitud de las noticias reales')\n",
    "plt.hist(df_real['length'], bins = 1000) #, bins = 1000\n",
    "plt.xlabel('Longitud de la noticia')\n",
    "plt.ylabel('Número de noticias')\n",
    "# plt.ylim([0, 400])\n",
    "plt.xlim([0, 2000])\n",
    "plt.show()"
   ]
  },
  {
   "cell_type": "markdown",
   "metadata": {
    "colab_type": "text",
    "id": "LG35tXTIXSkX"
   },
   "source": [
    "# Media y desviación típica\n",
    "La fórmula de la desviación típica es la siguiente:\n",
    "$$ \\sigma = \\sqrt{ \\frac{ \\sum{ (x - \\bar{x})^2 }}{n - 1} } $$\n",
    "Definimos la función compute_avg_stdev, que calcula la media, la desviación típica y el valor máximo de una lista de integers"
   ]
  },
  {
   "cell_type": "code",
   "execution_count": 15,
   "metadata": {},
   "outputs": [],
   "source": [
    "import math\n",
    "\n",
    "def compute_avg_stdev(length_list):\n",
    "\n",
    "    max_len = 0.\n",
    "    average_len = 0.\n",
    "\n",
    "    for new in length_list:\n",
    "        average_len = average_len + new\n",
    "        if new > max_len:\n",
    "            max_len = new\n",
    "        \n",
    "    average_len = average_len / len(length_list)\n",
    "\n",
    "\n",
    "    # Calculamos también la desviación estándar, para calcular como de desviados están los\n",
    "    # datos con respecto a la media\n",
    "    nominator = 0.\n",
    "    for new in length_list:\n",
    "        # El numerador se eleva al cuadrado (x - x_avg)^2\n",
    "        nominator = nominator + ((new - average_len)**2)\n",
    "  \n",
    "    stdev = math.sqrt(nominator / (len(length_list) - 1))\n",
    "    \n",
    "    return average_len, stdev, max_len"
   ]
  },
  {
   "cell_type": "code",
   "execution_count": 16,
   "metadata": {},
   "outputs": [
    {
     "data": {
      "text/plain": [
       "(372.23420565688605, 523.7515708047649, 12212)"
      ]
     },
     "execution_count": 16,
     "metadata": {},
     "output_type": "execute_result"
    }
   ],
   "source": [
    "compute_avg_stdev(df_fake['length'])"
   ]
  },
  {
   "cell_type": "code",
   "execution_count": 17,
   "metadata": {},
   "outputs": [
    {
     "data": {
      "text/plain": [
       "(485.0068119891008, 352.41782324203245, 4439)"
      ]
     },
     "execution_count": 17,
     "metadata": {},
     "output_type": "execute_result"
    }
   ],
   "source": [
    "compute_avg_stdev(df_real['length'])"
   ]
  },
  {
   "cell_type": "code",
   "execution_count": 18,
   "metadata": {
    "scrolled": false
   },
   "outputs": [
    {
     "data": {
      "text/plain": [
       "(419.1129588632034, 463.6729172626709, 12212)"
      ]
     },
     "execution_count": 18,
     "metadata": {},
     "output_type": "execute_result"
    }
   ],
   "source": [
    "compute_avg_stdev(df['length'])"
   ]
  },
  {
   "cell_type": "markdown",
   "metadata": {},
   "source": [
    "_| Media Aritmética | Desviación típica | Noticia más larga\n",
    "--- |--- | --- | ---\n",
    "Real |485.11 | 352.42 | 4439\n",
    "Fake |372.23| 523.75 | 12212\n",
    "Total| 419.11 | 463.67 | 12212\n",
    "\n",
    "Podemos observar que, en base a la media aritmética, la diferencia de longitud entre las noticias no es demasiado pronunciada. Aunque la desviación típica indica que la media en el caso de las noticias falsas tiene una mayor dispersión."
   ]
  },
  {
   "cell_type": "markdown",
   "metadata": {
    "colab_type": "text",
    "id": "-evQtnBJBEhB"
   },
   "source": [
    "# Mediana y  percentiles (Cuantiles)\n",
    "mediana es aquel valor que divide las observaciones en dos partes iguales, es decir, deja a su izquierda el 50 % de las observaciones y a su derecha el otro 50 %. Matemáticamente, corresponde al punto xi tal que Fi = 1/2 (o equivalente, Ni = n/2). <br>\n",
    "\n",
    "En el paper original, simplemente se emplea la media aritmética. De acuerdo con dicho paper, hay una media de 4360 palabras en las noticias reales, con una media de 3943 palabras en las noticias falsas, con una proporción entre ambas de 1.1057. Este dato puede hacernos pensar que la diferencia de longitud entre ambos tipos de noticias no es demasiado grande. No obstante, si tenemos en cuenta los percentiles (cuantiles y mediana) nos damos cuenta de que las proporciones entre ambos tipos de noticia son mucho más pronunciadas.  <br>\n",
    "\n",
    "Que la media tenga valores similares se debe a la dispersión de las fake news, mostrada en la gráfica anterior, ya que hay algunas noticias falsas que tienen una longitud muy superior a la que podría ser más representativa, por lo que podemos concluir que la media no es un valor muy representativo a causa de lo dispersos que están los datos.\n",
    "\n",
    "Si empleamos los percentiles nos damos cuenta de que la diferencia de longitud entre ambos tipos de noticias es mucho más pronunciada de lo que podría parecer en un principio, siendo la longitud de las noticias reales el doble de la de las noticias falsas en muchos casos, exceptuando las noticias fake más largas. <br>\n",
    "\n",
    "Esto puede deberse a la forma en la que se han extraído los datos, al tratarse de dos datasets distintos mergeados. <br>\n",
    "\n",
    "La proporción utilizando la mediana es de 1.91, casi el doble. Este valor dista mucho del indicado por la media"
   ]
  },
  {
   "cell_type": "code",
   "execution_count": 19,
   "metadata": {
    "colab": {},
    "colab_type": "code",
    "id": "a6aOc1spIZ_A"
   },
   "outputs": [],
   "source": [
    "percentiles = [0.1, 0.2, 0.3, 0.4, 0.5, 0.6, 0.7, 0.8, 0.9, 1.]\n",
    "percentiles_2 = [0.1, 0.15, 0.2, 0.25, 0.3, 0.35, 0.4, 0.45, 0.5, 0.55, 0.6, 0.65, 0.7, 0.75, 0.8, 0.85, 0.9, 0.93, 0.95, 0.97, 1.]"
   ]
  },
  {
   "cell_type": "code",
   "execution_count": 20,
   "metadata": {
    "colab": {
     "base_uri": "https://localhost:8080/",
     "height": 359
    },
    "colab_type": "code",
    "executionInfo": {
     "elapsed": 22466,
     "status": "ok",
     "timestamp": 1586888695330,
     "user": {
      "displayName": "Juan Carlos Alonso Valenzuela",
      "photoUrl": "https://lh3.googleusercontent.com/a-/AOh14GhiphZPu-ccfJ8e83_GcYWNcG6ORT2H8HxXA7aX=s64",
      "userId": "05100266326841067265"
     },
     "user_tz": -120
    },
    "id": "WgGZX-UWFsDh",
    "outputId": "8f46d07d-4c25-490c-908d-7baaccec91d6"
   },
   "outputs": [
    {
     "data": {
      "text/html": [
       "<div>\n",
       "<style scoped>\n",
       "    .dataframe tbody tr th:only-of-type {\n",
       "        vertical-align: middle;\n",
       "    }\n",
       "\n",
       "    .dataframe tbody tr th {\n",
       "        vertical-align: top;\n",
       "    }\n",
       "\n",
       "    .dataframe thead th {\n",
       "        text-align: right;\n",
       "    }\n",
       "</style>\n",
       "<table border=\"1\" class=\"dataframe\">\n",
       "  <thead>\n",
       "    <tr style=\"text-align: right;\">\n",
       "      <th></th>\n",
       "      <th>length real</th>\n",
       "      <th>length fake</th>\n",
       "      <th>proportion</th>\n",
       "    </tr>\n",
       "  </thead>\n",
       "  <tbody>\n",
       "    <tr>\n",
       "      <th>0.1</th>\n",
       "      <td>142.0</td>\n",
       "      <td>31.0</td>\n",
       "      <td>4.580645</td>\n",
       "    </tr>\n",
       "    <tr>\n",
       "      <th>0.2</th>\n",
       "      <td>230.0</td>\n",
       "      <td>85.0</td>\n",
       "      <td>2.705882</td>\n",
       "    </tr>\n",
       "    <tr>\n",
       "      <th>0.3</th>\n",
       "      <td>302.0</td>\n",
       "      <td>132.0</td>\n",
       "      <td>2.287879</td>\n",
       "    </tr>\n",
       "    <tr>\n",
       "      <th>0.4</th>\n",
       "      <td>378.0</td>\n",
       "      <td>177.0</td>\n",
       "      <td>2.135593</td>\n",
       "    </tr>\n",
       "    <tr>\n",
       "      <th>0.5</th>\n",
       "      <td>445.0</td>\n",
       "      <td>232.0</td>\n",
       "      <td>1.918103</td>\n",
       "    </tr>\n",
       "    <tr>\n",
       "      <th>0.6</th>\n",
       "      <td>507.0</td>\n",
       "      <td>303.0</td>\n",
       "      <td>1.673267</td>\n",
       "    </tr>\n",
       "    <tr>\n",
       "      <th>0.7</th>\n",
       "      <td>579.0</td>\n",
       "      <td>401.0</td>\n",
       "      <td>1.443890</td>\n",
       "    </tr>\n",
       "    <tr>\n",
       "      <th>0.8</th>\n",
       "      <td>675.4</td>\n",
       "      <td>542.4</td>\n",
       "      <td>1.245206</td>\n",
       "    </tr>\n",
       "    <tr>\n",
       "      <th>0.9</th>\n",
       "      <td>828.0</td>\n",
       "      <td>797.0</td>\n",
       "      <td>1.038896</td>\n",
       "    </tr>\n",
       "    <tr>\n",
       "      <th>1.0</th>\n",
       "      <td>4439.0</td>\n",
       "      <td>12212.0</td>\n",
       "      <td>0.363495</td>\n",
       "    </tr>\n",
       "  </tbody>\n",
       "</table>\n",
       "</div>"
      ],
      "text/plain": [
       "     length real  length fake  proportion\n",
       "0.1        142.0         31.0    4.580645\n",
       "0.2        230.0         85.0    2.705882\n",
       "0.3        302.0        132.0    2.287879\n",
       "0.4        378.0        177.0    2.135593\n",
       "0.5        445.0        232.0    1.918103\n",
       "0.6        507.0        303.0    1.673267\n",
       "0.7        579.0        401.0    1.443890\n",
       "0.8        675.4        542.4    1.245206\n",
       "0.9        828.0        797.0    1.038896\n",
       "1.0       4439.0      12212.0    0.363495"
      ]
     },
     "execution_count": 20,
     "metadata": {},
     "output_type": "execute_result"
    }
   ],
   "source": [
    "per_real = df_real.quantile(percentiles).drop(columns='type')\n",
    "per_real.rename(columns = {'length' : 'length real'}, inplace = True)\n",
    "\n",
    "per_fake = df_fake.quantile(percentiles).drop(columns='type')\n",
    "per_fake.rename(columns = {'length' : 'length fake'}, inplace = True)\n",
    "\n",
    "per_both = pd.concat([per_real, per_fake], axis = 1)\n",
    "\n",
    "per_both['proportion'] = per_both['length real'] / per_both['length fake']\n",
    "\n",
    "per_both"
   ]
  },
  {
   "cell_type": "code",
   "execution_count": 21,
   "metadata": {
    "colab": {
     "base_uri": "https://localhost:8080/",
     "height": 34
    },
    "colab_type": "code",
    "executionInfo": {
     "elapsed": 22445,
     "status": "ok",
     "timestamp": 1586888695332,
     "user": {
      "displayName": "Juan Carlos Alonso Valenzuela",
      "photoUrl": "https://lh3.googleusercontent.com/a-/AOh14GhiphZPu-ccfJ8e83_GcYWNcG6ORT2H8HxXA7aX=s64",
      "userId": "05100266326841067265"
     },
     "user_tz": -120
    },
    "id": "AJ3a5rAFRmmb",
    "outputId": "5938ecc8-a16a-48e5-8df4-0030969a9baa"
   },
   "outputs": [
    {
     "data": {
      "text/plain": [
       "[0.1, 0.2, 0.3, 0.4, 0.5, 0.6, 0.7, 0.8, 0.9, 1.0]"
      ]
     },
     "execution_count": 21,
     "metadata": {},
     "output_type": "execute_result"
    }
   ],
   "source": [
    "list(per_both.index)"
   ]
  },
  {
   "cell_type": "code",
   "execution_count": 22,
   "metadata": {
    "colab": {
     "base_uri": "https://localhost:8080/",
     "height": 34
    },
    "colab_type": "code",
    "executionInfo": {
     "elapsed": 22424,
     "status": "ok",
     "timestamp": 1586888695334,
     "user": {
      "displayName": "Juan Carlos Alonso Valenzuela",
      "photoUrl": "https://lh3.googleusercontent.com/a-/AOh14GhiphZPu-ccfJ8e83_GcYWNcG6ORT2H8HxXA7aX=s64",
      "userId": "05100266326841067265"
     },
     "user_tz": -120
    },
    "id": "9hJzWM2qYvHe",
    "outputId": "9d741745-f27d-4b37-e2e3-0c9f8ce51cac"
   },
   "outputs": [
    {
     "data": {
      "text/plain": [
       "372.23420565688605"
      ]
     },
     "execution_count": 22,
     "metadata": {},
     "output_type": "execute_result"
    }
   ],
   "source": [
    "df_fake['length'].mean(axis = 0) \n",
    "# df_real['length'].mean(axis = 0) "
   ]
  },
  {
   "cell_type": "code",
   "execution_count": 23,
   "metadata": {
    "colab": {
     "base_uri": "https://localhost:8080/",
     "height": 279
    },
    "colab_type": "code",
    "executionInfo": {
     "elapsed": 22400,
     "status": "ok",
     "timestamp": 1586888695335,
     "user": {
      "displayName": "Juan Carlos Alonso Valenzuela",
      "photoUrl": "https://lh3.googleusercontent.com/a-/AOh14GhiphZPu-ccfJ8e83_GcYWNcG6ORT2H8HxXA7aX=s64",
      "userId": "05100266326841067265"
     },
     "user_tz": -120
    },
    "id": "16r40gSbTWKT",
    "outputId": "f0d66abe-9ca4-41ea-a747-5519d2c79b53"
   },
   "outputs": [
    {
     "data": {
      "image/png": "[encoded data removed]",
      "text/plain": [
       "<Figure size 432x288 with 1 Axes>"
      ]
     },
     "metadata": {
      "needs_background": "light"
     },
     "output_type": "display_data"
    }
   ],
   "source": [
    "# libraries\n",
    "import numpy as np\n",
    "import matplotlib.pyplot as plt\n",
    " \n",
    "# Anchura\n",
    "barWidth = 0.25\n",
    " \n",
    "# Altura\n",
    "bars1 = list(per_both['length real'])[0:5]\n",
    "bars2 = list(per_both['length fake'])[0:5]\n",
    " \n",
    "# Posición en el eje x\n",
    "r1 = np.arange(len(bars1))\n",
    "r2 = [x + barWidth for x in r1]\n",
    " \n",
    "# Imprimir\n",
    "plt.bar(r1, bars1, color='#7f6d5f', width=barWidth, edgecolor='white', label='real')\n",
    "plt.bar(r2, bars2, color='#557f2d', width=barWidth, edgecolor='white', label='fake')\n",
    "\n",
    "plt.ylabel('# Palabras', fontweight='bold')\n",
    "plt.xlabel('Percentiles', fontweight='bold')\n",
    "plt.xticks([r + barWidth for r in range(len(bars1))], list(per_both.index)[0:5])\n",
    " \n",
    "# Leyenda e imprimir\n",
    "plt.legend()\n",
    "plt.show()\n"
   ]
  },
  {
   "cell_type": "code",
   "execution_count": 24,
   "metadata": {
    "colab": {
     "base_uri": "https://localhost:8080/",
     "height": 279
    },
    "colab_type": "code",
    "executionInfo": {
     "elapsed": 22372,
     "status": "ok",
     "timestamp": 1586888695336,
     "user": {
      "displayName": "Juan Carlos Alonso Valenzuela",
      "photoUrl": "https://lh3.googleusercontent.com/a-/AOh14GhiphZPu-ccfJ8e83_GcYWNcG6ORT2H8HxXA7aX=s64",
      "userId": "05100266326841067265"
     },
     "user_tz": -120
    },
    "id": "7oNjFt19UvVQ",
    "outputId": "e1a9a493-fb6d-4fe5-879e-f281a825448b"
   },
   "outputs": [
    {
     "data": {
      "image/png": "[encoded data removed]",
      "text/plain": [
       "<Figure size 432x288 with 1 Axes>"
      ]
     },
     "metadata": {
      "needs_background": "light"
     },
     "output_type": "display_data"
    }
   ],
   "source": [
    "# Anchura\n",
    "barWidth = 0.25\n",
    " \n",
    "# Altura\n",
    "bars1 = list(per_both['length real'])[5:9]\n",
    "bars2 = list(per_both['length fake'])[5:9]\n",
    " \n",
    "# Posición en el eje x\n",
    "r1 = np.arange(len(bars1))\n",
    "r2 = [x + barWidth for x in r1]\n",
    " \n",
    "# Imprimir\n",
    "plt.bar(r1, bars1, color='#7f6d5f', width=barWidth, edgecolor='white', label='real')\n",
    "plt.bar(r2, bars2, color='#557f2d', width=barWidth, edgecolor='white', label='fake')\n",
    "\n",
    "plt.ylabel('# Palabras', fontweight='bold')\n",
    "plt.xlabel('Percentiles', fontweight='bold')\n",
    "plt.xticks([r + barWidth for r in range(len(bars1))], list(per_both.index)[5:9])\n",
    " \n",
    "# Leyenda e imprimir\n",
    "plt.legend()\n",
    "plt.show()"
   ]
  },
  {
   "cell_type": "code",
   "execution_count": 25,
   "metadata": {
    "colab": {
     "base_uri": "https://localhost:8080/",
     "height": 279
    },
    "colab_type": "code",
    "executionInfo": {
     "elapsed": 22750,
     "status": "ok",
     "timestamp": 1586888695733,
     "user": {
      "displayName": "Juan Carlos Alonso Valenzuela",
      "photoUrl": "https://lh3.googleusercontent.com/a-/AOh14GhiphZPu-ccfJ8e83_GcYWNcG6ORT2H8HxXA7aX=s64",
      "userId": "05100266326841067265"
     },
     "user_tz": -120
    },
    "id": "5tOFl9B4VI2y",
    "outputId": "2f2a14fc-60c3-4bc4-82ab-4a1ec662266d"
   },
   "outputs": [
    {
     "data": {
      "image/png": "[encoded data removed]",
      "text/plain": [
       "<Figure size 432x288 with 1 Axes>"
      ]
     },
     "metadata": {
      "needs_background": "light"
     },
     "output_type": "display_data"
    }
   ],
   "source": [
    "# Anchura\n",
    "barWidth = 0.25\n",
    " \n",
    "# Altura\n",
    "bars1 = list(per_both['length real'])[9:]\n",
    "bars2 = list(per_both['length fake'])[9:]\n",
    " \n",
    "# Posición en el eje x\n",
    "r1 = np.arange(len(bars1))\n",
    "r2 = [x + barWidth for x in r1]\n",
    " \n",
    "# Imprimir\n",
    "plt.bar(r1, bars1, color='#7f6d5f', width=barWidth, edgecolor='white', label='real')\n",
    "plt.bar(r2, bars2, color='#557f2d', width=barWidth, edgecolor='white', label='fake')\n",
    "\n",
    "plt.ylabel('# Palabras', fontweight='bold')\n",
    "plt.xlabel('Percentiles', fontweight='bold')\n",
    "plt.xticks([r + barWidth for r in range(len(bars1))], list(per_both.index)[9:])\n",
    " \n",
    "# Leyenda e imprimir\n",
    "plt.legend()\n",
    "plt.show()"
   ]
  }
 ],
 "metadata": {
  "colab": {
   "authorship_tag": "ABX9TyNDpY1K4yW4mIajiO0DJIZW",
   "mount_file_id": "1G5Z8d5CkWtR_AcDo2jM0JXNvNwBsAt30",
   "name": "Análisis ticnn (Parte 2).ipynb",
   "provenance": []
  },
  "kernelspec": {
   "display_name": "Python 3",
   "language": "python",
   "name": "python3"
  },
  "language_info": {
   "codemirror_mode": {
    "name": "ipython",
    "version": 3
   },
   "file_extension": ".py",
   "mimetype": "text/x-python",
   "name": "python",
   "nbconvert_exporter": "python",
   "pygments_lexer": "ipython3",
   "version": "3.7.3"
  }
 },
 "nbformat": 4,
 "nbformat_minor": 1
}
