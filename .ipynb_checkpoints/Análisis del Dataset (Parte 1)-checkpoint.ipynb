{
 "cells": [
  {
   "cell_type": "markdown",
   "metadata": {},
   "source": [
    "# Análisis del dataset\n",
    "En este notebook se llevará a cabo el análisis inicial del dataset, comenzamos cargandolo en memoria. Al tratarse de un dataset de más de 28GB, no podemos cargarlo completamente en memoria, por lo que utilizamos el parámetro chunksize de pandas para cargarlo por partes"
   ]
  },
  {
   "cell_type": "code",
   "execution_count": 1,
   "metadata": {},
   "outputs": [],
   "source": [
    "import pandas as pd\n",
    "import csv\n",
    "import matplotlib.pyplot as plt\n",
    "\n",
    "csv.field_size_limit(1000000)\n",
    "pd.set_option('display.max_colwidth', -1)"
   ]
  },
  {
   "cell_type": "markdown",
   "metadata": {},
   "source": [
    "Comenzamos cargando las 1000 primeras muestras para familiarizarnos con el dataset"
   ]
  },
  {
   "cell_type": "code",
   "execution_count": 2,
   "metadata": {},
   "outputs": [],
   "source": [
    "# df_chunk = pd.read_csv(r'datasets/news_cleaned.csv', chunksize = 1000000, engine = 'python') # engine = 'python'\n",
    "df_reduced = pd.read_csv(r'datasets/news_cleaned.csv', nrows=1000)\n"
   ]
  },
  {
   "cell_type": "code",
   "execution_count": 3,
   "metadata": {
    "scrolled": true
   },
   "outputs": [
    {
     "data": {
      "text/html": [
       "<div>\n",
       "<style scoped>\n",
       "    .dataframe tbody tr th:only-of-type {\n",
       "        vertical-align: middle;\n",
       "    }\n",
       "\n",
       "    .dataframe tbody tr th {\n",
       "        vertical-align: top;\n",
       "    }\n",
       "\n",
       "    .dataframe thead th {\n",
       "        text-align: right;\n",
       "    }\n",
       "</style>\n",
       "<table border=\"1\" class=\"dataframe\">\n",
       "  <thead>\n",
       "    <tr style=\"text-align: right;\">\n",
       "      <th></th>\n",
       "      <th>Unnamed: 0</th>\n",
       "      <th>id</th>\n",
       "      <th>domain</th>\n",
       "      <th>type</th>\n",
       "      <th>url</th>\n",
       "      <th>content</th>\n",
       "      <th>scraped_at</th>\n",
       "      <th>inserted_at</th>\n",
       "      <th>updated_at</th>\n",
       "      <th>title</th>\n",
       "      <th>authors</th>\n",
       "      <th>keywords</th>\n",
       "      <th>meta_keywords</th>\n",
       "      <th>meta_description</th>\n",
       "      <th>tags</th>\n",
       "      <th>summary</th>\n",
       "      <th>source</th>\n",
       "    </tr>\n",
       "  </thead>\n",
       "  <tbody>\n",
       "    <tr>\n",
       "      <th>995</th>\n",
       "      <td>995</td>\n",
       "      <td>1130</td>\n",
       "      <td>chronicle.su</td>\n",
       "      <td>satire</td>\n",
       "      <td>http://chronicle.su/science/tech/the-new-sabu-fbi-says-obamasec-informants-behind-lizardmafia-attack-on-sony-microsoft/</td>\n",
       "      <td>In a shocking, but not unprecedented Christmas day network attack, it is difficult to determine just who, in this winter story, is the real Grinch. However, new testimony from an anonymous FBI source under the pseudonym Robert Smith suggests informants are once again behind another round of malicious attacks on corporate America, with the same goal of subjugating and disrupting yet another rogue group of well-meaning winter break hackers.\\n\\nWhile a member of LizardMafia – or Lizard Squad as they are also known – told Microsoft their latest attack was designed to encourage better network security for their popular online gaming platform XBOX Live, and for the Sony Playstation Network, by offering free Christmas stress-tests in the form of DDoS attack, FBI communications appear to indicate they already have someone on the inside, inciting the group to stop doing things “for the lulz” and to instead take up “a real cause,” their Christmas attack being the first of more to come. The group claimed they are able to harm the world economy by disabling the NASDAQ. Smith said their informant knows the identities of core players in the group, which could be used to control the group’s behavior in the near future.\\n\\nSmith said the FBI calls their mole a “high ranking” decision-maker for the group, and have indicated that by changing the group’s trajectory from comic mischief to corporate sabotage, he has steered the LizardMafia right into their legal jurisdiction.\\n\\nThe person authorities are calling the ‘new Sabu’ belongs to ObamaSec, the elite, patriotic hacker group which claimed responsibility for the attack on North Korea’s Internet – a story whose newsworthiness was owed both to the takedown, and existence of, DPRK net infrastructure. Sabu II, Electric Boogaloo negotiated directly with Kim Dotcom, a known gamer.\\n\\nKim Dotcom has announced his own heroism after allegedly buying the group off. For now, the LizardMafia has accepted a ransom of 5,000 lifetime memberships to Kim Dotcom’s new, old file sharing service, Megaupload. If the attacks return, however, their agreement with Dotcom becomes invalid, and they will no longer be able to host and share files on his premium website.\\n\\nWatch DDoS attacks unfold live on http://map.ipviking.com/</td>\n",
       "      <td>2018-01-25 16:17:44.789555</td>\n",
       "      <td>2018-02-02 01:19:41.756632</td>\n",
       "      <td>2018-02-02 01:19:41.756664</td>\n",
       "      <td>The New Sabu: FBI says #ObamaSec informants behind Lizard Squad attack on Sony, Microsoft</td>\n",
       "      <td>NaN</td>\n",
       "      <td>NaN</td>\n",
       "      <td>['']</td>\n",
       "      <td>NaN</td>\n",
       "      <td>obamasec, lizardmafia, sony</td>\n",
       "      <td>NaN</td>\n",
       "      <td>NaN</td>\n",
       "    </tr>\n",
       "    <tr>\n",
       "      <th>996</th>\n",
       "      <td>996</td>\n",
       "      <td>1133</td>\n",
       "      <td>beforeitsnews.com</td>\n",
       "      <td>fake</td>\n",
       "      <td>http://beforeitsnews.com/financial-markets/2018/01/thrilling-thursday-nasdaq-7000-is-our-next-summit-2952229.html</td>\n",
       "      <td>Thrilling Thursday – Nasdaq 7,000 Is Our Next Summit\\n\\nHeadline: Bitcoin &amp; Blockchain Searches Exceed Trump! Blockchain Stocks Are Next!\\n\\nCan we really go higher?\\n\\nBullish Sentiment is literally off the charts and only 7,826 (11.4%) out of 68,119 investors polled by Earnings Whispers are currently bearish about the markets. Usually you might thing that’s the sign of a turn but if my daughter’s softball team were going up against the Yankees, you might see similar sentiment results in favor of the Yankees and that does NOT mean betting against the Yankees is a smart move – just because it’s the contrarian play.\\n\\nSometimes, the crowd gets things right though not this time – this time the crowd is full of idiots who are chasing a trend off a cliff but other times, you shouldn’t just be a knee-jerk contrarian. Meanwhile, as I’ve been saying since Nov 29th’s “Record High Wednesday – We Will All Be Billionaires,” if they are going to keep giving money away in the markets – who are we to turn it down? The Money Talk Portfolio we looked at that morning was “only” up 70.7% for the year and, this morning, those untouched positions are now up 80.9% less than two months later.\\n\\nWe cashed our other portfolios in and started new ones on Jan 2nd and our $500,000 Long-Term Portfolio is already up $25,000 (5%) in 3 weeks – a pace that will make us $1Bn in 14 years (at 75% annualized) and of course that’s ridiculous and unsustainable but that’s what you are paying for when you buy into a market that is basically up 5% for the month as well. While earnings are “pretty good” so far, they are (as I mentioned in yesterday’s Report) bolstered by a weak Dollar as well as the stimulus of a $1.5Tn Tax Cut, which consumers have already borrowed against to spend last Christmas.\\n\\nLooking forward, we are now counting on the repatriation of Trillions of overseas Dollars to boost the markets into 2018 but, just like the rising income inequality in America, the benefits of the repatriation are concentrated to the Top 1% Corporations and, in fact, just 16 companies account for half of all overseas funds:\\n\\nApple holds $269 billion in cash and investments.\\n\\nMicrosoft holds $143 billion.\\n\\nAlphabet holds $107 billion.\\n\\nCisco holds $76 billion.\\n\\nOracle holds $71 billion.\\n\\nCoca-Cola holds $50 billion.\\n\\nAmgen holds $41 billion.\\n\\nQualcomm holds $38 billion (spoken for in NXP merger, if Broadcom doesn’t win).\\n\\nFacebook holds $38 billion.\\n\\nGilead Sciences holds $41 billion.\\n\\nIntel holds $27 billion.\\n\\nIBM holds $25 billion.\\n\\nPfizer holds $24 billion.\\n\\nMerck holds $23 billion.\\n\\nProcter &amp; Gamble holds $21 billion.\\n\\nPepsico holds $20 billion\\n\\nWhile this is, indeed great news for these companies and their shareholders, what about their competition? What about the 4,500 public companies that haven’t got a penny overseas and aren’t being rewarded for years of tax evasion? FaceBook (FB) has $38Bn to crush SnapChat (SNAP) with. Coke (KO) and Pepsi (PEP) have $70Bn to play with and they can go to war with each other or simply drive Dr Pepper (DPS), whose entire market cap is just $17Bn, completely out of business. Do you think Trump’s regulators will care if it’s “unfair competition“?\\n\\nWhat we have here is the Oligopolists consolidating their power and sure, we can bet on those companies to do very well down the road but beware if you hold stock in their competition – this is not unlike the game Monopoly, when your competitors start the game with 10 times more money than you – you are not likely to win and will likely go bankrupt as you try your best to move around the board without landing on one of their hotels.\\n\\nSo, believe it or not, 2018 is going to become a stock picker’s market and there will be losers as well as winners and the problem with that is currently the indexes are not pricing in any losers at all – so the valuations are stretched across the board. Yesterday, in our Live Trading Webinar, we discussed Cisco (CSCO) and, while they are one of my favorite stocks and will be bringing back $76Bn from overseas, they are not cheap at $42.30 as that’s a market cap of $208Bn and they “only” make $10Bn a year, so 20 times earnings. The repatriate cash is not “new money” – it’s already on their books and has already been earned – it’s just being moved around.\\n\\nInstead we prefer in that space Finisar (FNSR), who are a $2Bn company at $19 and made $250M last year for a p/e of 8 and they are growing revenues and profits at a 15% annual pace. THAT is the kind of company we like to put in our portfolios and we did add FNSR to our Options Opportunity Portfolio as well as our Long-Term Portfolio already. Again, it’s not that we don’t like, even LOVE CSCO – it’s just that they are not on sale – so why buy them?\\n\\nAlso in yesterday’s Live Trading Webinar, we played with the Futures and our trade of the day was a long on the Russell Futures (/TF) as they dipped in the afternoon and we made a very quick $280 in our trading demonstration and the Russell went on to hit 1,610, good for gains of another $700 per contract for those who stuck with it so congratulations to all who attended yesterday.\\n\\nLast Wednesday, our Webinar play was a long on Coffee (/KC) Futures at $120 and this morning we’re testing $125 but we took the money and ran at our usual $123. Coffee contracts pay $375 for each $1 move so up $1,125 per contract was a nice gain for our Members and, if you are just a webinar watcher – I’d say it’s a bit greedy not to take some off the table at $125 and keep tight stops on the rest as the main reason we like tradin coffee is because it keeps pulling back and giving us new entry opportunities though, long-term, we certainly expect it to move much higher than it is now.\\n\\nFor the Futures-challenged there’s a Coffee ETF (JO) which is subject to a bit of decay but is still playable at $15.21 and the way we would lay out a trade would be:\\n\\nSell 5 JO 2020 $16 puts for $2.40 ($1,200)\\n\\nBuy 10 JO 2020 $14 calls for $3.75 ($3,750)\\n\\nSell 10 JO 2020 $20 calls for $1.95 ($1,950)\\n\\nThat nets you into the $6,000 spread that’s $1,210 in the money for $600 so your upside potential is $5,400, which would be a 900% return on cash and the margin for selling 5 short 2020 $16 puts is about $1,500 and your ultimate obligation is to own 500 shares of JO for $16 ($8,000) if it’s assigned to you but then you can turn around and sell the $14 calls for $3.75 and your basis drops down to $12.25 so the risk of being long on JO at net $12.85 (the $600 cash presumed lost as well) is a risk that compares very favorably with the potential $5,400 reward so we’ll add that one to our Options Opportunity Portfolio and see how it plays out.\\n\\nOf course, going long just one Futures contract at $130 and running up the same 25% to $162 would pay $12,000 and the Coffee contracts only require $2,310 in margin and, even better, we go in and out and in and out and make money on all the little move in between so, if all goes well, we’ll make much, much more than $12,000 per contract over the next couple of years in the Futures – which is why we teach our Members how to trade them in our Webinars!\\n\\nSadly, it’s January 25th and our month of free trade ideas for non-Members is drawing to a close but here’s a bonus trade that seems very silly to me with the Dollar so low (see yesterday’s notes) and gold so high: Barrick Gold (ABX) is a quality miner with a very low cost of extracts (under $800) and, with gold hitting $1,360 this morning – it seems hard to imagine that Q4 earnings won’t be better than last year’s Q4, when gold averaged under $1,200 per ounce. ABX spiked to $20 after Q4 earnings last year so $15 seems like a bargain at the moment.\\n\\nA simple way to get bullish on earnings is to pick up the Feb $15 calls for 0.55, which is 0.50 in premium but that’s all the risk you have and there is no margin requirement. If ABX breaks up ahead of earnings and the calls hit $1, you can sell half and then carry no risk into the earnings and any move up from there is all bonus money. We are carrying longer-term spreads on ABX in both the Long-Term Portfolio and the Options Opportunity Portfolio and we have high degrees of confidence in them.\\n\\nAnother fun gamble on Gold is micro-miner Northern Dynasty (NAK), which we also hold in the OOP and that’s just $1.60 but pure speculation as they don’t mine at all but they are trying to get regulatory approvals and partners to begin mining up in Alaska. What we like about NAK is that getting permits to strip mine the land and pollute the rivers is much, much easier under the current administration so yay Capitalism!\\n\\nMeanwhile, if this rally doesn’t calm down – we’re going to need a bigger chart (we are shorting Nasdaq Futures (/NQ) below the 7,000 line with tight stops above as well as S&amp;P Futures (/ES) below the 2,850 line.\\n\\nProvided courtesy of Phil’s Stock World.\\n\\nWould you like to read up-to-date articles on the day they are posted? Click here to become a part of our growing community and learn how to stop gambling with your investments. We will teach you to BE THE HOUSE – Not the Gambler!\\n\\nSource: http://www.philstockworld.com/2018/01/25/thrilling-thursday-nasdaq-7000-is-our-next-summit/?utm_source=beforeitsnews&amp;utm_medium=feed&amp;utm_campaign=psw-feeds&amp;utm_content=article-link</td>\n",
       "      <td>2018-01-25 16:17:44.789555</td>\n",
       "      <td>2018-02-02 01:19:41.756632</td>\n",
       "      <td>2018-02-02 01:19:41.756664</td>\n",
       "      <td>Thrilling Thursday – Nasdaq 7,000 Is Our Next Summit</td>\n",
       "      <td>NaN</td>\n",
       "      <td>NaN</td>\n",
       "      <td>['']</td>\n",
       "      <td>NaN</td>\n",
       "      <td>NaN</td>\n",
       "      <td>NaN</td>\n",
       "      <td>NaN</td>\n",
       "    </tr>\n",
       "    <tr>\n",
       "      <th>997</th>\n",
       "      <td>997</td>\n",
       "      <td>1134</td>\n",
       "      <td>beforeitsnews.com</td>\n",
       "      <td>fake</td>\n",
       "      <td>http://beforeitsnews.com/science-and-technology/2018/01/obama-facing-environmental-lawsuit-from-chicago-activists-2917487.html</td>\n",
       "      <td>Obama facing environmental lawsuit from Chicago activists\\n\\n% of readers think this story is Fact. Add your two cents.\\n\\nHeadline: Bitcoin &amp; Blockchain Searches Exceed Trump! Blockchain Stocks Are Next!\\n\\nPresident Obama always had the support of the environmental movement — until he tried to construct his lavish presidential center on sensitive parkland in Chicago’s South Side.\\n\\nNow, local community activists have filed a lawsuit demanding answers about the Barack Obama Presidential Center’s “impact on the environment and character of historic Jackson Park.”\\n\\n“Like the public generally, we find the Obama Foundation and City of Chicago not forthcoming,” Gabriel Piemonte and Janet Geovanis, two members of the Coalition to Save Jackson Park, wrote Wednesday in a Hyde Park Herald letter to the editor. “This is a massive development involving public land, and we have been kept in the dark about too many details.”\\n\\nThe coalition, which filed the Freedom of Information Act complaint on Jan. 16, accused the “wealthy Obama Foundation and the city officials it works with” of refusing “to engage with citizens whose housing, schools, and parks will be forever altered” by the library’s construction.\\n\\nThe group’s FOIA request, filed Nov. 3, sought information on a host of environmental impact issues, including “potential flooding and run-off,” “avian-migration and nesting issues,” and “impact on local microclimate and temperatures in Jackson Park.”\\n\\nThe complaint, first reported by Crain’s Chicago Business journal, details what the activists say is the city’s months-long effort to stonewall documents pertaining to the planning, development and environmental impact of the presidential center.\\n\\nThe Chicago Park District said the FOIA request was a “lengthy request and required extensive time and consultation.”\\n\\n“The Chicago Park District provided responsive documents, but asked that the request for emails be narrowed because the original request was unduly burdensome as written,” a spokesperson for the park district told Crain’s. “The Chicago Park District attempted to work with the requester to help narrow the email search, but unfortunately the requester chose to file a lawsuit instead.”\\n\\nAccording to the lawsuit, the Chicago Park District initially said documents pertaining to the FOIA request would be ready on Nov. 22.\\n\\nAfter the city failed to produce any records on that date, the lawsuit continues, the coalition contacted various governmental agencies on Dec. 1, Dec. 4, Dec. 7, Dec. 19 and Dec. 21. They received no response.\\n\\nThe coalition sent a letter on Jan. 4 threatening to file a lawsuit if the document request was not fulfilled by Jan. 11.\\n\\nOn Jan. 11, the Chicago Park District turned over seven documents pursuant to the coalition’s FOIA request. No emails or electronic communications were included in the production.\\n\\nThe Coalition to Save Jackson Park went ahead with its lawsuit, alleging the “long-overdue, email-free, seven-document production” is an “incomplete production of public records.”\\n\\nAs currently planned, the Obama Presidential Center will take up more than 20 acres in Jackson Park. The historic public park was designed by Frederick Law Olmsted and Calvert Vaux, who also designed New York City’s famed Central Park.\\n\\nThe University of Chicago submitted the winning bid to host the center, beating out Columbia University in New York City and the University of Hawaii in Honolulu. Activists have questioned how a private entity, the University of Chicago, was able to include public parkland in its bid for the library.\\n\\nCharles Birnbaum, president of The Cultural Landscape Foundation, which opposes the center’s construction on Jackson Park, said there should be more “transparency to the decision-making process that resulted in the confiscation of parkland for the Obama Presidential Center.”\\n\\nThe center originally was supposed to be Mr. Obama’s official presidential library, complete with the 44th president’s records and administered by the National Archives. Instead, it will be a private facility that could come with a basketball court, yoga studio, and test kitchen.\\n\\nThe Obama Foundation estimated the center will have a total economic impact of $3.1 billion in its first 10 years, supporting 5,000 new jobs during construction and 2,500 permanent jobs once the facility is open.\\n\\nBut community activists say the center could do a lot more for the local community if it were more centrally located. Mr. Obama instead opted to put the center in the lavish Jackson Park location overlooking Lake Michigan.\\n\\nThe project also will cost taxpayers an estimated $100 million in renovations to the surrounding area.\\n\\nMore than 100 professors at the University of Chicago signed a public letter this month denouncing the “socially regressive” plans for the library.\\n\\nCharles Lipson, a political scientist at the University of Chicago who signed the letter, expressed skepticism about how the plans for the center were approved so quickly in notoriously hard-to-build Chicago.\\n\\n“This is Chicago,” he said. “You gotta know a guy who knows a guy.”\\n\\nRead more at Washington Times\\n\\nSource: https://climatechangedispatch.com/obama-facing-environmental-lawsuit-from-chicago-activists/</td>\n",
       "      <td>2018-01-25 16:17:44.789555</td>\n",
       "      <td>2018-02-02 01:19:41.756632</td>\n",
       "      <td>2018-02-02 01:19:41.756664</td>\n",
       "      <td>Obama facing environmental lawsuit from Chicago activists</td>\n",
       "      <td>Climate Change Dispatch</td>\n",
       "      <td>NaN</td>\n",
       "      <td>['']</td>\n",
       "      <td>NaN</td>\n",
       "      <td>NaN</td>\n",
       "      <td>NaN</td>\n",
       "      <td>NaN</td>\n",
       "    </tr>\n",
       "    <tr>\n",
       "      <th>998</th>\n",
       "      <td>998</td>\n",
       "      <td>1135</td>\n",
       "      <td>beforeitsnews.com</td>\n",
       "      <td>fake</td>\n",
       "      <td>http://beforeitsnews.com/religion/2018/01/fake-news-is-satanic-says-pope-2538971.html</td>\n",
       "      <td>Fake News Is Satanic Says Pope\\n\\n% of readers think this story is Fact. Add your two cents.\\n\\nHeadline: Bitcoin &amp; Blockchain Searches Exceed Trump! Blockchain Stocks Are Next!\\n\\nPope Francis has warned of the dangers of ‘satanic’ fake news, comparing the the purveyors of such information to the snake in the Garden of Eden.\\n\\nHe described false news as “evil” and accused peddlers of disinformation of employing “snake-tactics” similar to Satan who, disguised as a serpent, tempted Eve to eat fruit from the forbidden tree.\\n\\nHe issued the unusual warning in a document issued on Wednesday ahead of the Catholic Church’s World Day of Social Communications, which takes place on May 13.\\n\\nReuters reports: The document was issued after months of debate on how much fake news may have influenced the 2016 U.S. presidential campaign and the election of President Donald Trump.\\n\\n“Spreading fake news can serve to advance specific goals, influence political decisions, and serve economic interests,” the pope wrote, condemning the “manipulative use of social networks” and other forms of communication.\\n\\nCalled “The truth will set you free – fake news and journalism for peace”, the document was issued in advance of the Catholic Church’s World Day of Social Communications on May 13.\\n\\n“This false but believable news is ‘captious’, inasmuch as it grasps people’s attention by appealing to stereotypes and common social prejudices and exploiting instantaneous emotions like anxiety, contempt, anger and frustration,” Francis said.\\n\\n“SATAN’S SERPENT”\\n\\nFalse stories, the Pope said, spread so quickly that even authoritative denials often could not contain the damage done and many people run the risk of becoming “unwilling accomplices in spreading biased and baseless ideas”.\\n\\nHe called for “education for truth” that would help people discern, evaluate and understand news in order to recognize the “sly and dangerous form of seduction that worms its way into the heart with false and alluring arguments”.\\n\\nFrancis compared the use of fake news to the Bible story of the devil, who, disguised as a serpent, persuaded Eve to eat the fruit of the forbidden tree. He said she was fed wrong information by Satan, who told her the fruit would make her and Adam as all-knowing as God.\\n\\n“We need to unmask what could be called the ‘snake-tactics’ used by those (purveyors of fake news) who disguise themselves in order to strike at any time and place.”\\n\\nVatican spokesman Greg Burke, a former reporter for U.S. outlets, told Reuters Television: “The Pope is not saying that all journalists are snakes but he is certainly acknowledging that they can be.”\\n\\nThe pope said the role of journalists was “not just a job, it is a mission” and they had particular responsibility to stem fake news.\\n\\nhttp://yournewswire.com/fake-news-is-satanic-says-pope-francis/</td>\n",
       "      <td>2018-01-25 16:17:44.789555</td>\n",
       "      <td>2018-02-02 01:19:41.756632</td>\n",
       "      <td>2018-02-02 01:19:41.756664</td>\n",
       "      <td>Fake News Is Satanic Says Pope</td>\n",
       "      <td>NaN</td>\n",
       "      <td>NaN</td>\n",
       "      <td>['']</td>\n",
       "      <td>NaN</td>\n",
       "      <td>NaN</td>\n",
       "      <td>NaN</td>\n",
       "      <td>NaN</td>\n",
       "    </tr>\n",
       "    <tr>\n",
       "      <th>999</th>\n",
       "      <td>999</td>\n",
       "      <td>1136</td>\n",
       "      <td>beforeitsnews.com</td>\n",
       "      <td>fake</td>\n",
       "      <td>http://beforeitsnews.com/financial-markets/2018/01/metalla-royalty-and-streaming-increases-production-guidance-for-silver-ounces-for-fiscal-2018-2952231.html</td>\n",
       "      <td>Metalla Royalty and Streaming increases production guidance for silver ounces for fiscal 2018\\n\\n% of readers think this story is Fact. Add your two cents.\\n\\nHeadline: Bitcoin &amp; Blockchain Searches Exceed Trump! Blockchain Stocks Are Next!\\n\\nMetalla Royalty and Streaming Ltd (CNSX:MTA), the precious metals group, forecasts total silver output attributable to the firm for 2018 of between 450,000 and 500,000 ounces.\\n\\nIt came as the company put out its second quarter results to end November.\\n\\nGross provisional sales are expected to be from C$8.5mln to C$9.5mln, while net revenue is expected to between C$5.5mln and C$6.5mln.\\n\\nIn the three months to November 30, Metalla shipped and provisionally invoiced 158,865 attributable silver ounces at an average price of US$17.12 per ounce.\\n\\nIt generated cash margin of US$9.80 per attributable silver ounce from the Endeavor silver stream and New Luika gold mine (NLGM) stream held by Silverback Ltd.\\n\\nIn the second quarter, revenue from stream interest was around $3.066mln, while the net loss for the period was $440,105 – down from a loss of around $1.013mln in the preceding quarter.\\n\\nThe group held 16,909 attributable silver ounces as inventory on the reporting date to be realized in the subsequent quarter.\\n\\nStory by ProactiveInvestors\\n\\nSource: http://www.proactiveinvestors.com/companies/news/190645/metalla-royalty-and-streaming-increases-production-guidance-for-silver-ounces-for-fiscal-2018-190645.html</td>\n",
       "      <td>2018-01-25 16:17:44.789555</td>\n",
       "      <td>2018-02-02 01:19:41.756632</td>\n",
       "      <td>2018-02-02 01:19:41.756664</td>\n",
       "      <td>Metalla Royalty and Streaming increases production guidance for silver ounces for fiscal 2018</td>\n",
       "      <td>NaN</td>\n",
       "      <td>NaN</td>\n",
       "      <td>['']</td>\n",
       "      <td>NaN</td>\n",
       "      <td>NaN</td>\n",
       "      <td>NaN</td>\n",
       "      <td>NaN</td>\n",
       "    </tr>\n",
       "  </tbody>\n",
       "</table>\n",
       "</div>"
      ],
      "text/plain": [
       "     Unnamed: 0    id             domain    type  \\\n",
       "995  995         1130  chronicle.su       satire   \n",
       "996  996         1133  beforeitsnews.com  fake     \n",
       "997  997         1134  beforeitsnews.com  fake     \n",
       "998  998         1135  beforeitsnews.com  fake     \n",
       "999  999         1136  beforeitsnews.com  fake     \n",
       "\n",
       "                                                                                                                                                               url  \\\n",
       "995  http://chronicle.su/science/tech/the-new-sabu-fbi-says-obamasec-informants-behind-lizardmafia-attack-on-sony-microsoft/                                         \n",
       "996  http://beforeitsnews.com/financial-markets/2018/01/thrilling-thursday-nasdaq-7000-is-our-next-summit-2952229.html                                               \n",
       "997  http://beforeitsnews.com/science-and-technology/2018/01/obama-facing-environmental-lawsuit-from-chicago-activists-2917487.html                                  \n",
       "998  http://beforeitsnews.com/religion/2018/01/fake-news-is-satanic-says-pope-2538971.html                                                                           \n",
       "999  http://beforeitsnews.com/financial-markets/2018/01/metalla-royalty-and-streaming-increases-production-guidance-for-silver-ounces-for-fiscal-2018-2952231.html   \n",
       "\n",
       "                                                                                                                                                                                                                                                                                                                                                                                                                                                                                                                                                                                                                                                                                                                                                                                                                                                                                                                                                                                                                                                                                                                                                                                                                                                                                                                                                                                                                                                                                                                                                                                                                                                                                                                                                                                                                                                                                                                                                                                                                                                                                                                                                                                                                                                                                                                                                                                                                                                                                                                                                                                                                                                                                                                                                                                                                                                                                                                                                                                                                                                                                                                                                                                                                                                                                                                                                                                                                                                                                                                                                                                                                                                                                                                                                                                                                                                                                                                                                                                                                                                                                                                                                                                                                                                                                                                                                                                                                                                                                                                                                                                                                                                                                                                                                                                                                                                                                                                                                                                                                                                                                                                                                                                                                                                                                                                                                                                                                                                                                                                                                                                                                                                                                                                                                                                                                                                                                                                                                                                                                                                                                                                                                                                                                                                                                                                                                                                                                                                                                                                                                                                                                                                                                                                                                                                                                                                                                                                                                                                                                                                                                                                                                                                                                                                                                                                                                                                                                                                                                                                                                                                                                                                                                                                                                                                                                                                                                                                                                                                                                                                                                                                                                                                                                                                                                                                                                                                                                                                                                                                                                                                                                                                                                                                                                                                                                                                                                                                                                                                                                                                                                                                                                                                                                                                                                                                                                                                                                                                                                                                                                                                                                                                                                                                                                     content  \\\n",
       "995  In a shocking, but not unprecedented Christmas day network attack, it is difficult to determine just who, in this winter story, is the real Grinch. However, new testimony from an anonymous FBI source under the pseudonym Robert Smith suggests informants are once again behind another round of malicious attacks on corporate America, with the same goal of subjugating and disrupting yet another rogue group of well-meaning winter break hackers.\\n\\nWhile a member of LizardMafia – or Lizard Squad as they are also known – told Microsoft their latest attack was designed to encourage better network security for their popular online gaming platform XBOX Live, and for the Sony Playstation Network, by offering free Christmas stress-tests in the form of DDoS attack, FBI communications appear to indicate they already have someone on the inside, inciting the group to stop doing things “for the lulz” and to instead take up “a real cause,” their Christmas attack being the first of more to come. The group claimed they are able to harm the world economy by disabling the NASDAQ. Smith said their informant knows the identities of core players in the group, which could be used to control the group’s behavior in the near future.\\n\\nSmith said the FBI calls their mole a “high ranking” decision-maker for the group, and have indicated that by changing the group’s trajectory from comic mischief to corporate sabotage, he has steered the LizardMafia right into their legal jurisdiction.\\n\\nThe person authorities are calling the ‘new Sabu’ belongs to ObamaSec, the elite, patriotic hacker group which claimed responsibility for the attack on North Korea’s Internet – a story whose newsworthiness was owed both to the takedown, and existence of, DPRK net infrastructure. Sabu II, Electric Boogaloo negotiated directly with Kim Dotcom, a known gamer.\\n\\nKim Dotcom has announced his own heroism after allegedly buying the group off. For now, the LizardMafia has accepted a ransom of 5,000 lifetime memberships to Kim Dotcom’s new, old file sharing service, Megaupload. If the attacks return, however, their agreement with Dotcom becomes invalid, and they will no longer be able to host and share files on his premium website.\\n\\nWatch DDoS attacks unfold live on http://map.ipviking.com/                                                                                                                                                                                                                                                                                                                                                                                                                                                                                                                                                                                                                                                                                                                                                                                                                                                                                                                                                                                                                                                                                                                                                                                                                                                                                                                                                                                                                                                                                                                                                                                                                                                                                                                                                                                                                                                                                                                                                                                                                                                                                                                                                                                                                                                                                                                                                                                                                                                                                                                                                                                                                                                                                                                                                                                                                                                                                                                                                                                                                                                                                                                                                                                                                                                                                                                                                                                                                                                                                                                                                                                                                                                                                                                                                                                                                                                                                                                                                                                                                                                                                                                                                                                                                                                                                                                                                                                                                                                                                                                                                                                                                                                                                                                                                                                                                                                                                                                                                                                                                                                                                                                                                                                                                                                                                                                                                                                                                                                                                                                                                                                                                                                                                                                                                                                                                                                                                                                                                                                                                                                                                                                                                                                                                                                                                                                                                                                                                                                                                                                                                                                                                                                                                                                                                                                                                                                                                                                                                                                                                                                                                                                                                                                                                                                                                                                                                                                    \n",
       "996  Thrilling Thursday – Nasdaq 7,000 Is Our Next Summit\\n\\nHeadline: Bitcoin & Blockchain Searches Exceed Trump! Blockchain Stocks Are Next!\\n\\nCan we really go higher?\\n\\nBullish Sentiment is literally off the charts and only 7,826 (11.4%) out of 68,119 investors polled by Earnings Whispers are currently bearish about the markets. Usually you might thing that’s the sign of a turn but if my daughter’s softball team were going up against the Yankees, you might see similar sentiment results in favor of the Yankees and that does NOT mean betting against the Yankees is a smart move – just because it’s the contrarian play.\\n\\nSometimes, the crowd gets things right though not this time – this time the crowd is full of idiots who are chasing a trend off a cliff but other times, you shouldn’t just be a knee-jerk contrarian. Meanwhile, as I’ve been saying since Nov 29th’s “Record High Wednesday – We Will All Be Billionaires,” if they are going to keep giving money away in the markets – who are we to turn it down? The Money Talk Portfolio we looked at that morning was “only” up 70.7% for the year and, this morning, those untouched positions are now up 80.9% less than two months later.\\n\\nWe cashed our other portfolios in and started new ones on Jan 2nd and our $500,000 Long-Term Portfolio is already up $25,000 (5%) in 3 weeks – a pace that will make us $1Bn in 14 years (at 75% annualized) and of course that’s ridiculous and unsustainable but that’s what you are paying for when you buy into a market that is basically up 5% for the month as well. While earnings are “pretty good” so far, they are (as I mentioned in yesterday’s Report) bolstered by a weak Dollar as well as the stimulus of a $1.5Tn Tax Cut, which consumers have already borrowed against to spend last Christmas.\\n\\nLooking forward, we are now counting on the repatriation of Trillions of overseas Dollars to boost the markets into 2018 but, just like the rising income inequality in America, the benefits of the repatriation are concentrated to the Top 1% Corporations and, in fact, just 16 companies account for half of all overseas funds:\\n\\nApple holds $269 billion in cash and investments.\\n\\nMicrosoft holds $143 billion.\\n\\nAlphabet holds $107 billion.\\n\\nCisco holds $76 billion.\\n\\nOracle holds $71 billion.\\n\\nCoca-Cola holds $50 billion.\\n\\nAmgen holds $41 billion.\\n\\nQualcomm holds $38 billion (spoken for in NXP merger, if Broadcom doesn’t win).\\n\\nFacebook holds $38 billion.\\n\\nGilead Sciences holds $41 billion.\\n\\nIntel holds $27 billion.\\n\\nIBM holds $25 billion.\\n\\nPfizer holds $24 billion.\\n\\nMerck holds $23 billion.\\n\\nProcter & Gamble holds $21 billion.\\n\\nPepsico holds $20 billion\\n\\nWhile this is, indeed great news for these companies and their shareholders, what about their competition? What about the 4,500 public companies that haven’t got a penny overseas and aren’t being rewarded for years of tax evasion? FaceBook (FB) has $38Bn to crush SnapChat (SNAP) with. Coke (KO) and Pepsi (PEP) have $70Bn to play with and they can go to war with each other or simply drive Dr Pepper (DPS), whose entire market cap is just $17Bn, completely out of business. Do you think Trump’s regulators will care if it’s “unfair competition“?\\n\\nWhat we have here is the Oligopolists consolidating their power and sure, we can bet on those companies to do very well down the road but beware if you hold stock in their competition – this is not unlike the game Monopoly, when your competitors start the game with 10 times more money than you – you are not likely to win and will likely go bankrupt as you try your best to move around the board without landing on one of their hotels.\\n\\nSo, believe it or not, 2018 is going to become a stock picker’s market and there will be losers as well as winners and the problem with that is currently the indexes are not pricing in any losers at all – so the valuations are stretched across the board. Yesterday, in our Live Trading Webinar, we discussed Cisco (CSCO) and, while they are one of my favorite stocks and will be bringing back $76Bn from overseas, they are not cheap at $42.30 as that’s a market cap of $208Bn and they “only” make $10Bn a year, so 20 times earnings. The repatriate cash is not “new money” – it’s already on their books and has already been earned – it’s just being moved around.\\n\\nInstead we prefer in that space Finisar (FNSR), who are a $2Bn company at $19 and made $250M last year for a p/e of 8 and they are growing revenues and profits at a 15% annual pace. THAT is the kind of company we like to put in our portfolios and we did add FNSR to our Options Opportunity Portfolio as well as our Long-Term Portfolio already. Again, it’s not that we don’t like, even LOVE CSCO – it’s just that they are not on sale – so why buy them?\\n\\nAlso in yesterday’s Live Trading Webinar, we played with the Futures and our trade of the day was a long on the Russell Futures (/TF) as they dipped in the afternoon and we made a very quick $280 in our trading demonstration and the Russell went on to hit 1,610, good for gains of another $700 per contract for those who stuck with it so congratulations to all who attended yesterday.\\n\\nLast Wednesday, our Webinar play was a long on Coffee (/KC) Futures at $120 and this morning we’re testing $125 but we took the money and ran at our usual $123. Coffee contracts pay $375 for each $1 move so up $1,125 per contract was a nice gain for our Members and, if you are just a webinar watcher – I’d say it’s a bit greedy not to take some off the table at $125 and keep tight stops on the rest as the main reason we like tradin coffee is because it keeps pulling back and giving us new entry opportunities though, long-term, we certainly expect it to move much higher than it is now.\\n\\nFor the Futures-challenged there’s a Coffee ETF (JO) which is subject to a bit of decay but is still playable at $15.21 and the way we would lay out a trade would be:\\n\\nSell 5 JO 2020 $16 puts for $2.40 ($1,200)\\n\\nBuy 10 JO 2020 $14 calls for $3.75 ($3,750)\\n\\nSell 10 JO 2020 $20 calls for $1.95 ($1,950)\\n\\nThat nets you into the $6,000 spread that’s $1,210 in the money for $600 so your upside potential is $5,400, which would be a 900% return on cash and the margin for selling 5 short 2020 $16 puts is about $1,500 and your ultimate obligation is to own 500 shares of JO for $16 ($8,000) if it’s assigned to you but then you can turn around and sell the $14 calls for $3.75 and your basis drops down to $12.25 so the risk of being long on JO at net $12.85 (the $600 cash presumed lost as well) is a risk that compares very favorably with the potential $5,400 reward so we’ll add that one to our Options Opportunity Portfolio and see how it plays out.\\n\\nOf course, going long just one Futures contract at $130 and running up the same 25% to $162 would pay $12,000 and the Coffee contracts only require $2,310 in margin and, even better, we go in and out and in and out and make money on all the little move in between so, if all goes well, we’ll make much, much more than $12,000 per contract over the next couple of years in the Futures – which is why we teach our Members how to trade them in our Webinars!\\n\\nSadly, it’s January 25th and our month of free trade ideas for non-Members is drawing to a close but here’s a bonus trade that seems very silly to me with the Dollar so low (see yesterday’s notes) and gold so high: Barrick Gold (ABX) is a quality miner with a very low cost of extracts (under $800) and, with gold hitting $1,360 this morning – it seems hard to imagine that Q4 earnings won’t be better than last year’s Q4, when gold averaged under $1,200 per ounce. ABX spiked to $20 after Q4 earnings last year so $15 seems like a bargain at the moment.\\n\\nA simple way to get bullish on earnings is to pick up the Feb $15 calls for 0.55, which is 0.50 in premium but that’s all the risk you have and there is no margin requirement. If ABX breaks up ahead of earnings and the calls hit $1, you can sell half and then carry no risk into the earnings and any move up from there is all bonus money. We are carrying longer-term spreads on ABX in both the Long-Term Portfolio and the Options Opportunity Portfolio and we have high degrees of confidence in them.\\n\\nAnother fun gamble on Gold is micro-miner Northern Dynasty (NAK), which we also hold in the OOP and that’s just $1.60 but pure speculation as they don’t mine at all but they are trying to get regulatory approvals and partners to begin mining up in Alaska. What we like about NAK is that getting permits to strip mine the land and pollute the rivers is much, much easier under the current administration so yay Capitalism!\\n\\nMeanwhile, if this rally doesn’t calm down – we’re going to need a bigger chart (we are shorting Nasdaq Futures (/NQ) below the 7,000 line with tight stops above as well as S&P Futures (/ES) below the 2,850 line.\\n\\nProvided courtesy of Phil’s Stock World.\\n\\nWould you like to read up-to-date articles on the day they are posted? Click here to become a part of our growing community and learn how to stop gambling with your investments. We will teach you to BE THE HOUSE – Not the Gambler!\\n\\nSource: http://www.philstockworld.com/2018/01/25/thrilling-thursday-nasdaq-7000-is-our-next-summit/?utm_source=beforeitsnews&utm_medium=feed&utm_campaign=psw-feeds&utm_content=article-link   \n",
       "997  Obama facing environmental lawsuit from Chicago activists\\n\\n% of readers think this story is Fact. Add your two cents.\\n\\nHeadline: Bitcoin & Blockchain Searches Exceed Trump! Blockchain Stocks Are Next!\\n\\nPresident Obama always had the support of the environmental movement — until he tried to construct his lavish presidential center on sensitive parkland in Chicago’s South Side.\\n\\nNow, local community activists have filed a lawsuit demanding answers about the Barack Obama Presidential Center’s “impact on the environment and character of historic Jackson Park.”\\n\\n“Like the public generally, we find the Obama Foundation and City of Chicago not forthcoming,” Gabriel Piemonte and Janet Geovanis, two members of the Coalition to Save Jackson Park, wrote Wednesday in a Hyde Park Herald letter to the editor. “This is a massive development involving public land, and we have been kept in the dark about too many details.”\\n\\nThe coalition, which filed the Freedom of Information Act complaint on Jan. 16, accused the “wealthy Obama Foundation and the city officials it works with” of refusing “to engage with citizens whose housing, schools, and parks will be forever altered” by the library’s construction.\\n\\nThe group’s FOIA request, filed Nov. 3, sought information on a host of environmental impact issues, including “potential flooding and run-off,” “avian-migration and nesting issues,” and “impact on local microclimate and temperatures in Jackson Park.”\\n\\nThe complaint, first reported by Crain’s Chicago Business journal, details what the activists say is the city’s months-long effort to stonewall documents pertaining to the planning, development and environmental impact of the presidential center.\\n\\nThe Chicago Park District said the FOIA request was a “lengthy request and required extensive time and consultation.”\\n\\n“The Chicago Park District provided responsive documents, but asked that the request for emails be narrowed because the original request was unduly burdensome as written,” a spokesperson for the park district told Crain’s. “The Chicago Park District attempted to work with the requester to help narrow the email search, but unfortunately the requester chose to file a lawsuit instead.”\\n\\nAccording to the lawsuit, the Chicago Park District initially said documents pertaining to the FOIA request would be ready on Nov. 22.\\n\\nAfter the city failed to produce any records on that date, the lawsuit continues, the coalition contacted various governmental agencies on Dec. 1, Dec. 4, Dec. 7, Dec. 19 and Dec. 21. They received no response.\\n\\nThe coalition sent a letter on Jan. 4 threatening to file a lawsuit if the document request was not fulfilled by Jan. 11.\\n\\nOn Jan. 11, the Chicago Park District turned over seven documents pursuant to the coalition’s FOIA request. No emails or electronic communications were included in the production.\\n\\nThe Coalition to Save Jackson Park went ahead with its lawsuit, alleging the “long-overdue, email-free, seven-document production” is an “incomplete production of public records.”\\n\\nAs currently planned, the Obama Presidential Center will take up more than 20 acres in Jackson Park. The historic public park was designed by Frederick Law Olmsted and Calvert Vaux, who also designed New York City’s famed Central Park.\\n\\nThe University of Chicago submitted the winning bid to host the center, beating out Columbia University in New York City and the University of Hawaii in Honolulu. Activists have questioned how a private entity, the University of Chicago, was able to include public parkland in its bid for the library.\\n\\nCharles Birnbaum, president of The Cultural Landscape Foundation, which opposes the center’s construction on Jackson Park, said there should be more “transparency to the decision-making process that resulted in the confiscation of parkland for the Obama Presidential Center.”\\n\\nThe center originally was supposed to be Mr. Obama’s official presidential library, complete with the 44th president’s records and administered by the National Archives. Instead, it will be a private facility that could come with a basketball court, yoga studio, and test kitchen.\\n\\nThe Obama Foundation estimated the center will have a total economic impact of $3.1 billion in its first 10 years, supporting 5,000 new jobs during construction and 2,500 permanent jobs once the facility is open.\\n\\nBut community activists say the center could do a lot more for the local community if it were more centrally located. Mr. Obama instead opted to put the center in the lavish Jackson Park location overlooking Lake Michigan.\\n\\nThe project also will cost taxpayers an estimated $100 million in renovations to the surrounding area.\\n\\nMore than 100 professors at the University of Chicago signed a public letter this month denouncing the “socially regressive” plans for the library.\\n\\nCharles Lipson, a political scientist at the University of Chicago who signed the letter, expressed skepticism about how the plans for the center were approved so quickly in notoriously hard-to-build Chicago.\\n\\n“This is Chicago,” he said. “You gotta know a guy who knows a guy.”\\n\\nRead more at Washington Times\\n\\nSource: https://climatechangedispatch.com/obama-facing-environmental-lawsuit-from-chicago-activists/                                                                                                                                                                                                                                                                                                                                                                                                                                                                                                                                                                                                                                                                                                                                                                                                                                                                                                                                                                                                                                                                                                                                                                                                                                                                                                                                                                                                                                                                                                                                                                                                                                                                                                                                                                                                                                                                                                                                                                                                                                                                                                                                                                                                                                                                                                                                                                                                                                                                                                                                                                                                                                                                                                                                                                                                                                                                                                                                                                                                                                                                                                                                                                                                                                                                                                                                                                                                                                                                                                                                                                                                                                                                                                                                                                                                                                                                                                                                                                                                                                                                                                                                                                                                                                       \n",
       "998  Fake News Is Satanic Says Pope\\n\\n% of readers think this story is Fact. Add your two cents.\\n\\nHeadline: Bitcoin & Blockchain Searches Exceed Trump! Blockchain Stocks Are Next!\\n\\nPope Francis has warned of the dangers of ‘satanic’ fake news, comparing the the purveyors of such information to the snake in the Garden of Eden.\\n\\nHe described false news as “evil” and accused peddlers of disinformation of employing “snake-tactics” similar to Satan who, disguised as a serpent, tempted Eve to eat fruit from the forbidden tree.\\n\\nHe issued the unusual warning in a document issued on Wednesday ahead of the Catholic Church’s World Day of Social Communications, which takes place on May 13.\\n\\nReuters reports: The document was issued after months of debate on how much fake news may have influenced the 2016 U.S. presidential campaign and the election of President Donald Trump.\\n\\n“Spreading fake news can serve to advance specific goals, influence political decisions, and serve economic interests,” the pope wrote, condemning the “manipulative use of social networks” and other forms of communication.\\n\\nCalled “The truth will set you free – fake news and journalism for peace”, the document was issued in advance of the Catholic Church’s World Day of Social Communications on May 13.\\n\\n“This false but believable news is ‘captious’, inasmuch as it grasps people’s attention by appealing to stereotypes and common social prejudices and exploiting instantaneous emotions like anxiety, contempt, anger and frustration,” Francis said.\\n\\n“SATAN’S SERPENT”\\n\\nFalse stories, the Pope said, spread so quickly that even authoritative denials often could not contain the damage done and many people run the risk of becoming “unwilling accomplices in spreading biased and baseless ideas”.\\n\\nHe called for “education for truth” that would help people discern, evaluate and understand news in order to recognize the “sly and dangerous form of seduction that worms its way into the heart with false and alluring arguments”.\\n\\nFrancis compared the use of fake news to the Bible story of the devil, who, disguised as a serpent, persuaded Eve to eat the fruit of the forbidden tree. He said she was fed wrong information by Satan, who told her the fruit would make her and Adam as all-knowing as God.\\n\\n“We need to unmask what could be called the ‘snake-tactics’ used by those (purveyors of fake news) who disguise themselves in order to strike at any time and place.”\\n\\nVatican spokesman Greg Burke, a former reporter for U.S. outlets, told Reuters Television: “The Pope is not saying that all journalists are snakes but he is certainly acknowledging that they can be.”\\n\\nThe pope said the role of journalists was “not just a job, it is a mission” and they had particular responsibility to stem fake news.\\n\\nhttp://yournewswire.com/fake-news-is-satanic-says-pope-francis/                                                                                                                                                                                                                                                                                                                                                                                                                                                                                                                                                                                                                                                                                                                                                                                                                                                                                                                                                                                                                                                                                                                                                                                                                                                                                                                                                                                                                                                                                                                                                                                                                                                                                                                                                                                                                                                                                                                                                                                                                                                                                                                                                                                                                                                                                                                                                                                                                                                                                                                                                                                                                                                                                                                                                                                                                                                                                                                                                                                                                                                                                                                                                                                                                                                                                                                                                                                                                                                                                                                                                                                                                                                                                                                                                                                                                                                                                                                                                                                                                                                                                                                                                                                                                                                                                                                                                                                                                                                                                                                                                                                                                                                                                                                                                                                                                                                                                                                                                                                                                                                                                                                                                                                                                                                                                                                                                                                                                                                                                                                                                                                                                                                                                                                                                                                                                                                                                                                                                                                                                                                                                                                                                                                                                                                                                                                                                                                                                                                                                                                                                                                                                                                                                                                                                                   \n",
       "999  Metalla Royalty and Streaming increases production guidance for silver ounces for fiscal 2018\\n\\n% of readers think this story is Fact. Add your two cents.\\n\\nHeadline: Bitcoin & Blockchain Searches Exceed Trump! Blockchain Stocks Are Next!\\n\\nMetalla Royalty and Streaming Ltd (CNSX:MTA), the precious metals group, forecasts total silver output attributable to the firm for 2018 of between 450,000 and 500,000 ounces.\\n\\nIt came as the company put out its second quarter results to end November.\\n\\nGross provisional sales are expected to be from C$8.5mln to C$9.5mln, while net revenue is expected to between C$5.5mln and C$6.5mln.\\n\\nIn the three months to November 30, Metalla shipped and provisionally invoiced 158,865 attributable silver ounces at an average price of US$17.12 per ounce.\\n\\nIt generated cash margin of US$9.80 per attributable silver ounce from the Endeavor silver stream and New Luika gold mine (NLGM) stream held by Silverback Ltd.\\n\\nIn the second quarter, revenue from stream interest was around $3.066mln, while the net loss for the period was $440,105 – down from a loss of around $1.013mln in the preceding quarter.\\n\\nThe group held 16,909 attributable silver ounces as inventory on the reporting date to be realized in the subsequent quarter.\\n\\nStory by ProactiveInvestors\\n\\nSource: http://www.proactiveinvestors.com/companies/news/190645/metalla-royalty-and-streaming-increases-production-guidance-for-silver-ounces-for-fiscal-2018-190645.html                                                                                                                                                                                                                                                                                                                                                                                                                                                                                                                                                                                                                                                                                                                                                                                                                                                                                                                                                                                                                                                                                                                                                                                                                                                                                                                                                                                                                                                                                                                                                                                                                                                                                                                                                                                                                                                                                                                                                                                                                                                                                                                                                                                                                                                                                                                                                                                                                                                                                                                                                                                                                                                                                                                                                                                                                                                                                                                                                                                                                                                                                                                                                                                                                                                                                                                                                                                                                                                                                                                                                                                                                                                                                                                                                                                                                                                                                                                                                                                                                                                                                                                                                                                                                                                                                                                                                                                                                                                                                                                                                                                                                                                                                                                                                                                                                                                                                                                                                                                                                                                                                                                                                                                                                                                                                                                                                                                                                                                                                                                                                                                                                                                                                                                                                                                                                                                                                                                                                                                                                                                                                                                                                                                                                                                                                                                                                                                                                                                                                                                                                                                                                                                                                                                                                                                                                                                                                                                                                                                                                                                                                                                                                                                                                                                                                                                                                                                                                                                                                                                                                                                                                                                                                                                                                                                                                                                                                                                                                                                                                                                                                                                                                                                                                   \n",
       "\n",
       "                     scraped_at                 inserted_at  \\\n",
       "995  2018-01-25 16:17:44.789555  2018-02-02 01:19:41.756632   \n",
       "996  2018-01-25 16:17:44.789555  2018-02-02 01:19:41.756632   \n",
       "997  2018-01-25 16:17:44.789555  2018-02-02 01:19:41.756632   \n",
       "998  2018-01-25 16:17:44.789555  2018-02-02 01:19:41.756632   \n",
       "999  2018-01-25 16:17:44.789555  2018-02-02 01:19:41.756632   \n",
       "\n",
       "                     updated_at  \\\n",
       "995  2018-02-02 01:19:41.756664   \n",
       "996  2018-02-02 01:19:41.756664   \n",
       "997  2018-02-02 01:19:41.756664   \n",
       "998  2018-02-02 01:19:41.756664   \n",
       "999  2018-02-02 01:19:41.756664   \n",
       "\n",
       "                                                                                             title  \\\n",
       "995  The New Sabu: FBI says #ObamaSec informants behind Lizard Squad attack on Sony, Microsoft       \n",
       "996  Thrilling Thursday – Nasdaq 7,000 Is Our Next Summit                                            \n",
       "997  Obama facing environmental lawsuit from Chicago activists                                       \n",
       "998  Fake News Is Satanic Says Pope                                                                  \n",
       "999  Metalla Royalty and Streaming increases production guidance for silver ounces for fiscal 2018   \n",
       "\n",
       "                     authors  keywords meta_keywords meta_description  \\\n",
       "995  NaN                     NaN        ['']          NaN               \n",
       "996  NaN                     NaN        ['']          NaN               \n",
       "997  Climate Change Dispatch NaN        ['']          NaN               \n",
       "998  NaN                     NaN        ['']          NaN               \n",
       "999  NaN                     NaN        ['']          NaN               \n",
       "\n",
       "                            tags  summary  source  \n",
       "995  obamasec, lizardmafia, sony NaN      NaN      \n",
       "996  NaN                         NaN      NaN      \n",
       "997  NaN                         NaN      NaN      \n",
       "998  NaN                         NaN      NaN      \n",
       "999  NaN                         NaN      NaN      "
      ]
     },
     "execution_count": 3,
     "metadata": {},
     "output_type": "execute_result"
    }
   ],
   "source": [
    "df_reduced.tail()"
   ]
  },
  {
   "cell_type": "code",
   "execution_count": 4,
   "metadata": {},
   "outputs": [
    {
     "data": {
      "text/plain": [
       "Index(['Unnamed: 0', 'id', 'domain', 'type', 'url', 'content', 'scraped_at',\n",
       "       'inserted_at', 'updated_at', 'title', 'authors', 'keywords',\n",
       "       'meta_keywords', 'meta_description', 'tags', 'summary', 'source'],\n",
       "      dtype='object')"
      ]
     },
     "execution_count": 4,
     "metadata": {},
     "output_type": "execute_result"
    }
   ],
   "source": [
    "df_reduced.columns"
   ]
  },
  {
   "cell_type": "markdown",
   "metadata": {},
   "source": [
    "La columna type contiene valores nulos, que deberán ser tratados, este subconjunto contiene al menos una noticia de cada tipo, por lo que es un buen ejemplo para empezar"
   ]
  },
  {
   "cell_type": "code",
   "execution_count": 5,
   "metadata": {
    "scrolled": false
   },
   "outputs": [
    {
     "data": {
      "text/plain": [
       "array(['rumor', 'hate', 'unreliable', 'conspiracy', 'clickbait', 'satire',\n",
       "       'fake', 'reliable', 'bias', 'political', 'junksci', nan, 'unknown'],\n",
       "      dtype=object)"
      ]
     },
     "execution_count": 5,
     "metadata": {},
     "output_type": "execute_result"
    }
   ],
   "source": [
    "df_reduced['type'].unique()"
   ]
  },
  {
   "cell_type": "markdown",
   "metadata": {},
   "source": [
    "Nos quedamos con las columnas que nos interesan (type, content y title)"
   ]
  },
  {
   "cell_type": "code",
   "execution_count": 6,
   "metadata": {},
   "outputs": [],
   "source": [
    "df_reduced = df_reduced[['type', 'title', 'content']]"
   ]
  },
  {
   "cell_type": "code",
   "execution_count": 1,
   "metadata": {},
   "outputs": [
    {
     "ename": "NameError",
     "evalue": "name 'df_reduced' is not defined",
     "output_type": "error",
     "traceback": [
      "\u001b[1;31m---------------------------------------------------------------------------\u001b[0m",
      "\u001b[1;31mNameError\u001b[0m                                 Traceback (most recent call last)",
      "\u001b[1;32m<ipython-input-1-ce9c44c0bada>\u001b[0m in \u001b[0;36m<module>\u001b[1;34m\u001b[0m\n\u001b[1;32m----> 1\u001b[1;33m \u001b[0mdf_reduced\u001b[0m\u001b[1;33m.\u001b[0m\u001b[0mtail\u001b[0m\u001b[1;33m(\u001b[0m\u001b[1;33m)\u001b[0m\u001b[1;33m\u001b[0m\u001b[1;33m\u001b[0m\u001b[0m\n\u001b[0m",
      "\u001b[1;31mNameError\u001b[0m: name 'df_reduced' is not defined"
     ]
    }
   ],
   "source": [
    "df_reduced.tail()"
   ]
  },
  {
   "cell_type": "markdown",
   "metadata": {},
   "source": [
    "Filtramos para quedarnos solamente con las noticias en las que type=fake o type=reliable"
   ]
  },
  {
   "cell_type": "code",
   "execution_count": 8,
   "metadata": {},
   "outputs": [
    {
     "name": "stdout",
     "output_type": "stream",
     "text": [
      "Wall time: 2 ms\n"
     ]
    }
   ],
   "source": [
    "%%time\n",
    "df_reduced = df_reduced.loc[(df_reduced['type'] == 'fake') | (df_reduced['type'] == 'reliable')]"
   ]
  },
  {
   "cell_type": "code",
   "execution_count": 9,
   "metadata": {},
   "outputs": [
    {
     "data": {
      "text/html": [
       "<div>\n",
       "<style scoped>\n",
       "    .dataframe tbody tr th:only-of-type {\n",
       "        vertical-align: middle;\n",
       "    }\n",
       "\n",
       "    .dataframe tbody tr th {\n",
       "        vertical-align: top;\n",
       "    }\n",
       "\n",
       "    .dataframe thead th {\n",
       "        text-align: right;\n",
       "    }\n",
       "</style>\n",
       "<table border=\"1\" class=\"dataframe\">\n",
       "  <thead>\n",
       "    <tr style=\"text-align: right;\">\n",
       "      <th></th>\n",
       "      <th>type</th>\n",
       "      <th>title</th>\n",
       "      <th>content</th>\n",
       "    </tr>\n",
       "  </thead>\n",
       "  <tbody>\n",
       "    <tr>\n",
       "      <th>991</th>\n",
       "      <td>fake</td>\n",
       "      <td>Stories contributed by Jeffery Pritchett</td>\n",
       "      <td>45\\n\\nTo Awakening? Start Here on Friday Nov 03 2017 12:22</td>\n",
       "    </tr>\n",
       "    <tr>\n",
       "      <th>996</th>\n",
       "      <td>fake</td>\n",
       "      <td>Thrilling Thursday – Nasdaq 7,000 Is Our Next Summit</td>\n",
       "      <td>Thrilling Thursday – Nasdaq 7,000 Is Our Next Summit\\n\\nHeadline: Bitcoin &amp; Blockchain Searches Exceed Trump! Blockchain Stocks Are Next!\\n\\nCan we really go higher?\\n\\nBullish Sentiment is literally off the charts and only 7,826 (11.4%) out of 68,119 investors polled by Earnings Whispers are currently bearish about the markets. Usually you might thing that’s the sign of a turn but if my daughter’s softball team were going up against the Yankees, you might see similar sentiment results in favor of the Yankees and that does NOT mean betting against the Yankees is a smart move – just because it’s the contrarian play.\\n\\nSometimes, the crowd gets things right though not this time – this time the crowd is full of idiots who are chasing a trend off a cliff but other times, you shouldn’t just be a knee-jerk contrarian. Meanwhile, as I’ve been saying since Nov 29th’s “Record High Wednesday – We Will All Be Billionaires,” if they are going to keep giving money away in the markets – who are we to turn it down? The Money Talk Portfolio we looked at that morning was “only” up 70.7% for the year and, this morning, those untouched positions are now up 80.9% less than two months later.\\n\\nWe cashed our other portfolios in and started new ones on Jan 2nd and our $500,000 Long-Term Portfolio is already up $25,000 (5%) in 3 weeks – a pace that will make us $1Bn in 14 years (at 75% annualized) and of course that’s ridiculous and unsustainable but that’s what you are paying for when you buy into a market that is basically up 5% for the month as well. While earnings are “pretty good” so far, they are (as I mentioned in yesterday’s Report) bolstered by a weak Dollar as well as the stimulus of a $1.5Tn Tax Cut, which consumers have already borrowed against to spend last Christmas.\\n\\nLooking forward, we are now counting on the repatriation of Trillions of overseas Dollars to boost the markets into 2018 but, just like the rising income inequality in America, the benefits of the repatriation are concentrated to the Top 1% Corporations and, in fact, just 16 companies account for half of all overseas funds:\\n\\nApple holds $269 billion in cash and investments.\\n\\nMicrosoft holds $143 billion.\\n\\nAlphabet holds $107 billion.\\n\\nCisco holds $76 billion.\\n\\nOracle holds $71 billion.\\n\\nCoca-Cola holds $50 billion.\\n\\nAmgen holds $41 billion.\\n\\nQualcomm holds $38 billion (spoken for in NXP merger, if Broadcom doesn’t win).\\n\\nFacebook holds $38 billion.\\n\\nGilead Sciences holds $41 billion.\\n\\nIntel holds $27 billion.\\n\\nIBM holds $25 billion.\\n\\nPfizer holds $24 billion.\\n\\nMerck holds $23 billion.\\n\\nProcter &amp; Gamble holds $21 billion.\\n\\nPepsico holds $20 billion\\n\\nWhile this is, indeed great news for these companies and their shareholders, what about their competition? What about the 4,500 public companies that haven’t got a penny overseas and aren’t being rewarded for years of tax evasion? FaceBook (FB) has $38Bn to crush SnapChat (SNAP) with. Coke (KO) and Pepsi (PEP) have $70Bn to play with and they can go to war with each other or simply drive Dr Pepper (DPS), whose entire market cap is just $17Bn, completely out of business. Do you think Trump’s regulators will care if it’s “unfair competition“?\\n\\nWhat we have here is the Oligopolists consolidating their power and sure, we can bet on those companies to do very well down the road but beware if you hold stock in their competition – this is not unlike the game Monopoly, when your competitors start the game with 10 times more money than you – you are not likely to win and will likely go bankrupt as you try your best to move around the board without landing on one of their hotels.\\n\\nSo, believe it or not, 2018 is going to become a stock picker’s market and there will be losers as well as winners and the problem with that is currently the indexes are not pricing in any losers at all – so the valuations are stretched across the board. Yesterday, in our Live Trading Webinar, we discussed Cisco (CSCO) and, while they are one of my favorite stocks and will be bringing back $76Bn from overseas, they are not cheap at $42.30 as that’s a market cap of $208Bn and they “only” make $10Bn a year, so 20 times earnings. The repatriate cash is not “new money” – it’s already on their books and has already been earned – it’s just being moved around.\\n\\nInstead we prefer in that space Finisar (FNSR), who are a $2Bn company at $19 and made $250M last year for a p/e of 8 and they are growing revenues and profits at a 15% annual pace. THAT is the kind of company we like to put in our portfolios and we did add FNSR to our Options Opportunity Portfolio as well as our Long-Term Portfolio already. Again, it’s not that we don’t like, even LOVE CSCO – it’s just that they are not on sale – so why buy them?\\n\\nAlso in yesterday’s Live Trading Webinar, we played with the Futures and our trade of the day was a long on the Russell Futures (/TF) as they dipped in the afternoon and we made a very quick $280 in our trading demonstration and the Russell went on to hit 1,610, good for gains of another $700 per contract for those who stuck with it so congratulations to all who attended yesterday.\\n\\nLast Wednesday, our Webinar play was a long on Coffee (/KC) Futures at $120 and this morning we’re testing $125 but we took the money and ran at our usual $123. Coffee contracts pay $375 for each $1 move so up $1,125 per contract was a nice gain for our Members and, if you are just a webinar watcher – I’d say it’s a bit greedy not to take some off the table at $125 and keep tight stops on the rest as the main reason we like tradin coffee is because it keeps pulling back and giving us new entry opportunities though, long-term, we certainly expect it to move much higher than it is now.\\n\\nFor the Futures-challenged there’s a Coffee ETF (JO) which is subject to a bit of decay but is still playable at $15.21 and the way we would lay out a trade would be:\\n\\nSell 5 JO 2020 $16 puts for $2.40 ($1,200)\\n\\nBuy 10 JO 2020 $14 calls for $3.75 ($3,750)\\n\\nSell 10 JO 2020 $20 calls for $1.95 ($1,950)\\n\\nThat nets you into the $6,000 spread that’s $1,210 in the money for $600 so your upside potential is $5,400, which would be a 900% return on cash and the margin for selling 5 short 2020 $16 puts is about $1,500 and your ultimate obligation is to own 500 shares of JO for $16 ($8,000) if it’s assigned to you but then you can turn around and sell the $14 calls for $3.75 and your basis drops down to $12.25 so the risk of being long on JO at net $12.85 (the $600 cash presumed lost as well) is a risk that compares very favorably with the potential $5,400 reward so we’ll add that one to our Options Opportunity Portfolio and see how it plays out.\\n\\nOf course, going long just one Futures contract at $130 and running up the same 25% to $162 would pay $12,000 and the Coffee contracts only require $2,310 in margin and, even better, we go in and out and in and out and make money on all the little move in between so, if all goes well, we’ll make much, much more than $12,000 per contract over the next couple of years in the Futures – which is why we teach our Members how to trade them in our Webinars!\\n\\nSadly, it’s January 25th and our month of free trade ideas for non-Members is drawing to a close but here’s a bonus trade that seems very silly to me with the Dollar so low (see yesterday’s notes) and gold so high: Barrick Gold (ABX) is a quality miner with a very low cost of extracts (under $800) and, with gold hitting $1,360 this morning – it seems hard to imagine that Q4 earnings won’t be better than last year’s Q4, when gold averaged under $1,200 per ounce. ABX spiked to $20 after Q4 earnings last year so $15 seems like a bargain at the moment.\\n\\nA simple way to get bullish on earnings is to pick up the Feb $15 calls for 0.55, which is 0.50 in premium but that’s all the risk you have and there is no margin requirement. If ABX breaks up ahead of earnings and the calls hit $1, you can sell half and then carry no risk into the earnings and any move up from there is all bonus money. We are carrying longer-term spreads on ABX in both the Long-Term Portfolio and the Options Opportunity Portfolio and we have high degrees of confidence in them.\\n\\nAnother fun gamble on Gold is micro-miner Northern Dynasty (NAK), which we also hold in the OOP and that’s just $1.60 but pure speculation as they don’t mine at all but they are trying to get regulatory approvals and partners to begin mining up in Alaska. What we like about NAK is that getting permits to strip mine the land and pollute the rivers is much, much easier under the current administration so yay Capitalism!\\n\\nMeanwhile, if this rally doesn’t calm down – we’re going to need a bigger chart (we are shorting Nasdaq Futures (/NQ) below the 7,000 line with tight stops above as well as S&amp;P Futures (/ES) below the 2,850 line.\\n\\nProvided courtesy of Phil’s Stock World.\\n\\nWould you like to read up-to-date articles on the day they are posted? Click here to become a part of our growing community and learn how to stop gambling with your investments. We will teach you to BE THE HOUSE – Not the Gambler!\\n\\nSource: http://www.philstockworld.com/2018/01/25/thrilling-thursday-nasdaq-7000-is-our-next-summit/?utm_source=beforeitsnews&amp;utm_medium=feed&amp;utm_campaign=psw-feeds&amp;utm_content=article-link</td>\n",
       "    </tr>\n",
       "    <tr>\n",
       "      <th>997</th>\n",
       "      <td>fake</td>\n",
       "      <td>Obama facing environmental lawsuit from Chicago activists</td>\n",
       "      <td>Obama facing environmental lawsuit from Chicago activists\\n\\n% of readers think this story is Fact. Add your two cents.\\n\\nHeadline: Bitcoin &amp; Blockchain Searches Exceed Trump! Blockchain Stocks Are Next!\\n\\nPresident Obama always had the support of the environmental movement — until he tried to construct his lavish presidential center on sensitive parkland in Chicago’s South Side.\\n\\nNow, local community activists have filed a lawsuit demanding answers about the Barack Obama Presidential Center’s “impact on the environment and character of historic Jackson Park.”\\n\\n“Like the public generally, we find the Obama Foundation and City of Chicago not forthcoming,” Gabriel Piemonte and Janet Geovanis, two members of the Coalition to Save Jackson Park, wrote Wednesday in a Hyde Park Herald letter to the editor. “This is a massive development involving public land, and we have been kept in the dark about too many details.”\\n\\nThe coalition, which filed the Freedom of Information Act complaint on Jan. 16, accused the “wealthy Obama Foundation and the city officials it works with” of refusing “to engage with citizens whose housing, schools, and parks will be forever altered” by the library’s construction.\\n\\nThe group’s FOIA request, filed Nov. 3, sought information on a host of environmental impact issues, including “potential flooding and run-off,” “avian-migration and nesting issues,” and “impact on local microclimate and temperatures in Jackson Park.”\\n\\nThe complaint, first reported by Crain’s Chicago Business journal, details what the activists say is the city’s months-long effort to stonewall documents pertaining to the planning, development and environmental impact of the presidential center.\\n\\nThe Chicago Park District said the FOIA request was a “lengthy request and required extensive time and consultation.”\\n\\n“The Chicago Park District provided responsive documents, but asked that the request for emails be narrowed because the original request was unduly burdensome as written,” a spokesperson for the park district told Crain’s. “The Chicago Park District attempted to work with the requester to help narrow the email search, but unfortunately the requester chose to file a lawsuit instead.”\\n\\nAccording to the lawsuit, the Chicago Park District initially said documents pertaining to the FOIA request would be ready on Nov. 22.\\n\\nAfter the city failed to produce any records on that date, the lawsuit continues, the coalition contacted various governmental agencies on Dec. 1, Dec. 4, Dec. 7, Dec. 19 and Dec. 21. They received no response.\\n\\nThe coalition sent a letter on Jan. 4 threatening to file a lawsuit if the document request was not fulfilled by Jan. 11.\\n\\nOn Jan. 11, the Chicago Park District turned over seven documents pursuant to the coalition’s FOIA request. No emails or electronic communications were included in the production.\\n\\nThe Coalition to Save Jackson Park went ahead with its lawsuit, alleging the “long-overdue, email-free, seven-document production” is an “incomplete production of public records.”\\n\\nAs currently planned, the Obama Presidential Center will take up more than 20 acres in Jackson Park. The historic public park was designed by Frederick Law Olmsted and Calvert Vaux, who also designed New York City’s famed Central Park.\\n\\nThe University of Chicago submitted the winning bid to host the center, beating out Columbia University in New York City and the University of Hawaii in Honolulu. Activists have questioned how a private entity, the University of Chicago, was able to include public parkland in its bid for the library.\\n\\nCharles Birnbaum, president of The Cultural Landscape Foundation, which opposes the center’s construction on Jackson Park, said there should be more “transparency to the decision-making process that resulted in the confiscation of parkland for the Obama Presidential Center.”\\n\\nThe center originally was supposed to be Mr. Obama’s official presidential library, complete with the 44th president’s records and administered by the National Archives. Instead, it will be a private facility that could come with a basketball court, yoga studio, and test kitchen.\\n\\nThe Obama Foundation estimated the center will have a total economic impact of $3.1 billion in its first 10 years, supporting 5,000 new jobs during construction and 2,500 permanent jobs once the facility is open.\\n\\nBut community activists say the center could do a lot more for the local community if it were more centrally located. Mr. Obama instead opted to put the center in the lavish Jackson Park location overlooking Lake Michigan.\\n\\nThe project also will cost taxpayers an estimated $100 million in renovations to the surrounding area.\\n\\nMore than 100 professors at the University of Chicago signed a public letter this month denouncing the “socially regressive” plans for the library.\\n\\nCharles Lipson, a political scientist at the University of Chicago who signed the letter, expressed skepticism about how the plans for the center were approved so quickly in notoriously hard-to-build Chicago.\\n\\n“This is Chicago,” he said. “You gotta know a guy who knows a guy.”\\n\\nRead more at Washington Times\\n\\nSource: https://climatechangedispatch.com/obama-facing-environmental-lawsuit-from-chicago-activists/</td>\n",
       "    </tr>\n",
       "    <tr>\n",
       "      <th>998</th>\n",
       "      <td>fake</td>\n",
       "      <td>Fake News Is Satanic Says Pope</td>\n",
       "      <td>Fake News Is Satanic Says Pope\\n\\n% of readers think this story is Fact. Add your two cents.\\n\\nHeadline: Bitcoin &amp; Blockchain Searches Exceed Trump! Blockchain Stocks Are Next!\\n\\nPope Francis has warned of the dangers of ‘satanic’ fake news, comparing the the purveyors of such information to the snake in the Garden of Eden.\\n\\nHe described false news as “evil” and accused peddlers of disinformation of employing “snake-tactics” similar to Satan who, disguised as a serpent, tempted Eve to eat fruit from the forbidden tree.\\n\\nHe issued the unusual warning in a document issued on Wednesday ahead of the Catholic Church’s World Day of Social Communications, which takes place on May 13.\\n\\nReuters reports: The document was issued after months of debate on how much fake news may have influenced the 2016 U.S. presidential campaign and the election of President Donald Trump.\\n\\n“Spreading fake news can serve to advance specific goals, influence political decisions, and serve economic interests,” the pope wrote, condemning the “manipulative use of social networks” and other forms of communication.\\n\\nCalled “The truth will set you free – fake news and journalism for peace”, the document was issued in advance of the Catholic Church’s World Day of Social Communications on May 13.\\n\\n“This false but believable news is ‘captious’, inasmuch as it grasps people’s attention by appealing to stereotypes and common social prejudices and exploiting instantaneous emotions like anxiety, contempt, anger and frustration,” Francis said.\\n\\n“SATAN’S SERPENT”\\n\\nFalse stories, the Pope said, spread so quickly that even authoritative denials often could not contain the damage done and many people run the risk of becoming “unwilling accomplices in spreading biased and baseless ideas”.\\n\\nHe called for “education for truth” that would help people discern, evaluate and understand news in order to recognize the “sly and dangerous form of seduction that worms its way into the heart with false and alluring arguments”.\\n\\nFrancis compared the use of fake news to the Bible story of the devil, who, disguised as a serpent, persuaded Eve to eat the fruit of the forbidden tree. He said she was fed wrong information by Satan, who told her the fruit would make her and Adam as all-knowing as God.\\n\\n“We need to unmask what could be called the ‘snake-tactics’ used by those (purveyors of fake news) who disguise themselves in order to strike at any time and place.”\\n\\nVatican spokesman Greg Burke, a former reporter for U.S. outlets, told Reuters Television: “The Pope is not saying that all journalists are snakes but he is certainly acknowledging that they can be.”\\n\\nThe pope said the role of journalists was “not just a job, it is a mission” and they had particular responsibility to stem fake news.\\n\\nhttp://yournewswire.com/fake-news-is-satanic-says-pope-francis/</td>\n",
       "    </tr>\n",
       "    <tr>\n",
       "      <th>999</th>\n",
       "      <td>fake</td>\n",
       "      <td>Metalla Royalty and Streaming increases production guidance for silver ounces for fiscal 2018</td>\n",
       "      <td>Metalla Royalty and Streaming increases production guidance for silver ounces for fiscal 2018\\n\\n% of readers think this story is Fact. Add your two cents.\\n\\nHeadline: Bitcoin &amp; Blockchain Searches Exceed Trump! Blockchain Stocks Are Next!\\n\\nMetalla Royalty and Streaming Ltd (CNSX:MTA), the precious metals group, forecasts total silver output attributable to the firm for 2018 of between 450,000 and 500,000 ounces.\\n\\nIt came as the company put out its second quarter results to end November.\\n\\nGross provisional sales are expected to be from C$8.5mln to C$9.5mln, while net revenue is expected to between C$5.5mln and C$6.5mln.\\n\\nIn the three months to November 30, Metalla shipped and provisionally invoiced 158,865 attributable silver ounces at an average price of US$17.12 per ounce.\\n\\nIt generated cash margin of US$9.80 per attributable silver ounce from the Endeavor silver stream and New Luika gold mine (NLGM) stream held by Silverback Ltd.\\n\\nIn the second quarter, revenue from stream interest was around $3.066mln, while the net loss for the period was $440,105 – down from a loss of around $1.013mln in the preceding quarter.\\n\\nThe group held 16,909 attributable silver ounces as inventory on the reporting date to be realized in the subsequent quarter.\\n\\nStory by ProactiveInvestors\\n\\nSource: http://www.proactiveinvestors.com/companies/news/190645/metalla-royalty-and-streaming-increases-production-guidance-for-silver-ounces-for-fiscal-2018-190645.html</td>\n",
       "    </tr>\n",
       "  </tbody>\n",
       "</table>\n",
       "</div>"
      ],
      "text/plain": [
       "     type  \\\n",
       "991  fake   \n",
       "996  fake   \n",
       "997  fake   \n",
       "998  fake   \n",
       "999  fake   \n",
       "\n",
       "                                                                                             title  \\\n",
       "991  Stories contributed by Jeffery Pritchett                                                        \n",
       "996  Thrilling Thursday – Nasdaq 7,000 Is Our Next Summit                                            \n",
       "997  Obama facing environmental lawsuit from Chicago activists                                       \n",
       "998  Fake News Is Satanic Says Pope                                                                  \n",
       "999  Metalla Royalty and Streaming increases production guidance for silver ounces for fiscal 2018   \n",
       "\n",
       "                                                                                                                                                                                                                                                                                                                                                                                                                                                                                                                                                                                                                                                                                                                                                                                                                                                                                                                                                                                                                                                                                                                                                                                                                                                                                                                                                                                                                                                                                                                                                                                                                                                                                                                                                                                                                                                                                                                                                                                                                                                                                                                                                                                                                                                                                                                                                                                                                                                                                                                                                                                                                                                                                                                                                                                                                                                                                                                                                                                                                                                                                                                                                                                                                                                                                                                                                                                                                                                                                                                                                                                                                                                                                                                                                                                                                                                                                                                                                                                                                                                                                                                                                                                                                                                                                                                                                                                                                                                                                                                                                                                                                                                                                                                                                                                                                                                                                                                                                                                                                                                                                                                                                                                                                                                                                                                                                                                                                                                                                                                                                                                                                                                                                                                                                                                                                                                                                                                                                                                                                                                                                                                                                                                                                                                                                                                                                                                                                                                                                                                                                                                                                                                                                                                                                                                                                                                                                                                                                                                                                                                                                                                                                                                                                                                                                                                                                                                                                                                                                                                                                                                                                                                                                                                                                                                                                                                                                                                                                                                                                                                                                                                                                                                                                                                                                                                                                                                                                                                                                                                                                                                                                                                                                                                                                                                                                                                                                                                                                                                                                                                                                                                                                                                                                                                                                                                                                                                                                                                                                                                                                                                                                                                                                                                                                     content  \n",
       "991  45\\n\\nTo Awakening? Start Here on Friday Nov 03 2017 12:22                                                                                                                                                                                                                                                                                                                                                                                                                                                                                                                                                                                                                                                                                                                                                                                                                                                                                                                                                                                                                                                                                                                                                                                                                                                                                                                                                                                                                                                                                                                                                                                                                                                                                                                                                                                                                                                                                                                                                                                                                                                                                                                                                                                                                                                                                                                                                                                                                                                                                                                                                                                                                                                                                                                                                                                                                                                                                                                                                                                                                                                                                                                                                                                                                                                                                                                                                                                                                                                                                                                                                                                                                                                                                                                                                                                                                                                                                                                                                                                                                                                                                                                                                                                                                                                                                                                                                                                                                                                                                                                                                                                                                                                                                                                                                                                                                                                                                                                                                                                                                                                                                                                                                                                                                                                                                                                                                                                                                                                                                                                                                                                                                                                                                                                                                                                                                                                                                                                                                                                                                                                                                                                                                                                                                                                                                                                                                                                                                                                                                                                                                                                                                                                                                                                                                                                                                                                                                                                                                                                                                                                                                                                                                                                                                                                                                                                                                                                                                                                                                                                                                                                                                                                                                                                                                                                                                                                                                                                                                                                                                                                                                                                                                                                                                                                                                                                                                                                                                                                                                                                                                                                                                                                                                                                                                                                                                                                                                                                                                                                                                                                                                                                                                                                                                                                                                                                                                                                                                                                                                                                                                                                                                                                                                               \n",
       "996  Thrilling Thursday – Nasdaq 7,000 Is Our Next Summit\\n\\nHeadline: Bitcoin & Blockchain Searches Exceed Trump! Blockchain Stocks Are Next!\\n\\nCan we really go higher?\\n\\nBullish Sentiment is literally off the charts and only 7,826 (11.4%) out of 68,119 investors polled by Earnings Whispers are currently bearish about the markets. Usually you might thing that’s the sign of a turn but if my daughter’s softball team were going up against the Yankees, you might see similar sentiment results in favor of the Yankees and that does NOT mean betting against the Yankees is a smart move – just because it’s the contrarian play.\\n\\nSometimes, the crowd gets things right though not this time – this time the crowd is full of idiots who are chasing a trend off a cliff but other times, you shouldn’t just be a knee-jerk contrarian. Meanwhile, as I’ve been saying since Nov 29th’s “Record High Wednesday – We Will All Be Billionaires,” if they are going to keep giving money away in the markets – who are we to turn it down? The Money Talk Portfolio we looked at that morning was “only” up 70.7% for the year and, this morning, those untouched positions are now up 80.9% less than two months later.\\n\\nWe cashed our other portfolios in and started new ones on Jan 2nd and our $500,000 Long-Term Portfolio is already up $25,000 (5%) in 3 weeks – a pace that will make us $1Bn in 14 years (at 75% annualized) and of course that’s ridiculous and unsustainable but that’s what you are paying for when you buy into a market that is basically up 5% for the month as well. While earnings are “pretty good” so far, they are (as I mentioned in yesterday’s Report) bolstered by a weak Dollar as well as the stimulus of a $1.5Tn Tax Cut, which consumers have already borrowed against to spend last Christmas.\\n\\nLooking forward, we are now counting on the repatriation of Trillions of overseas Dollars to boost the markets into 2018 but, just like the rising income inequality in America, the benefits of the repatriation are concentrated to the Top 1% Corporations and, in fact, just 16 companies account for half of all overseas funds:\\n\\nApple holds $269 billion in cash and investments.\\n\\nMicrosoft holds $143 billion.\\n\\nAlphabet holds $107 billion.\\n\\nCisco holds $76 billion.\\n\\nOracle holds $71 billion.\\n\\nCoca-Cola holds $50 billion.\\n\\nAmgen holds $41 billion.\\n\\nQualcomm holds $38 billion (spoken for in NXP merger, if Broadcom doesn’t win).\\n\\nFacebook holds $38 billion.\\n\\nGilead Sciences holds $41 billion.\\n\\nIntel holds $27 billion.\\n\\nIBM holds $25 billion.\\n\\nPfizer holds $24 billion.\\n\\nMerck holds $23 billion.\\n\\nProcter & Gamble holds $21 billion.\\n\\nPepsico holds $20 billion\\n\\nWhile this is, indeed great news for these companies and their shareholders, what about their competition? What about the 4,500 public companies that haven’t got a penny overseas and aren’t being rewarded for years of tax evasion? FaceBook (FB) has $38Bn to crush SnapChat (SNAP) with. Coke (KO) and Pepsi (PEP) have $70Bn to play with and they can go to war with each other or simply drive Dr Pepper (DPS), whose entire market cap is just $17Bn, completely out of business. Do you think Trump’s regulators will care if it’s “unfair competition“?\\n\\nWhat we have here is the Oligopolists consolidating their power and sure, we can bet on those companies to do very well down the road but beware if you hold stock in their competition – this is not unlike the game Monopoly, when your competitors start the game with 10 times more money than you – you are not likely to win and will likely go bankrupt as you try your best to move around the board without landing on one of their hotels.\\n\\nSo, believe it or not, 2018 is going to become a stock picker’s market and there will be losers as well as winners and the problem with that is currently the indexes are not pricing in any losers at all – so the valuations are stretched across the board. Yesterday, in our Live Trading Webinar, we discussed Cisco (CSCO) and, while they are one of my favorite stocks and will be bringing back $76Bn from overseas, they are not cheap at $42.30 as that’s a market cap of $208Bn and they “only” make $10Bn a year, so 20 times earnings. The repatriate cash is not “new money” – it’s already on their books and has already been earned – it’s just being moved around.\\n\\nInstead we prefer in that space Finisar (FNSR), who are a $2Bn company at $19 and made $250M last year for a p/e of 8 and they are growing revenues and profits at a 15% annual pace. THAT is the kind of company we like to put in our portfolios and we did add FNSR to our Options Opportunity Portfolio as well as our Long-Term Portfolio already. Again, it’s not that we don’t like, even LOVE CSCO – it’s just that they are not on sale – so why buy them?\\n\\nAlso in yesterday’s Live Trading Webinar, we played with the Futures and our trade of the day was a long on the Russell Futures (/TF) as they dipped in the afternoon and we made a very quick $280 in our trading demonstration and the Russell went on to hit 1,610, good for gains of another $700 per contract for those who stuck with it so congratulations to all who attended yesterday.\\n\\nLast Wednesday, our Webinar play was a long on Coffee (/KC) Futures at $120 and this morning we’re testing $125 but we took the money and ran at our usual $123. Coffee contracts pay $375 for each $1 move so up $1,125 per contract was a nice gain for our Members and, if you are just a webinar watcher – I’d say it’s a bit greedy not to take some off the table at $125 and keep tight stops on the rest as the main reason we like tradin coffee is because it keeps pulling back and giving us new entry opportunities though, long-term, we certainly expect it to move much higher than it is now.\\n\\nFor the Futures-challenged there’s a Coffee ETF (JO) which is subject to a bit of decay but is still playable at $15.21 and the way we would lay out a trade would be:\\n\\nSell 5 JO 2020 $16 puts for $2.40 ($1,200)\\n\\nBuy 10 JO 2020 $14 calls for $3.75 ($3,750)\\n\\nSell 10 JO 2020 $20 calls for $1.95 ($1,950)\\n\\nThat nets you into the $6,000 spread that’s $1,210 in the money for $600 so your upside potential is $5,400, which would be a 900% return on cash and the margin for selling 5 short 2020 $16 puts is about $1,500 and your ultimate obligation is to own 500 shares of JO for $16 ($8,000) if it’s assigned to you but then you can turn around and sell the $14 calls for $3.75 and your basis drops down to $12.25 so the risk of being long on JO at net $12.85 (the $600 cash presumed lost as well) is a risk that compares very favorably with the potential $5,400 reward so we’ll add that one to our Options Opportunity Portfolio and see how it plays out.\\n\\nOf course, going long just one Futures contract at $130 and running up the same 25% to $162 would pay $12,000 and the Coffee contracts only require $2,310 in margin and, even better, we go in and out and in and out and make money on all the little move in between so, if all goes well, we’ll make much, much more than $12,000 per contract over the next couple of years in the Futures – which is why we teach our Members how to trade them in our Webinars!\\n\\nSadly, it’s January 25th and our month of free trade ideas for non-Members is drawing to a close but here’s a bonus trade that seems very silly to me with the Dollar so low (see yesterday’s notes) and gold so high: Barrick Gold (ABX) is a quality miner with a very low cost of extracts (under $800) and, with gold hitting $1,360 this morning – it seems hard to imagine that Q4 earnings won’t be better than last year’s Q4, when gold averaged under $1,200 per ounce. ABX spiked to $20 after Q4 earnings last year so $15 seems like a bargain at the moment.\\n\\nA simple way to get bullish on earnings is to pick up the Feb $15 calls for 0.55, which is 0.50 in premium but that’s all the risk you have and there is no margin requirement. If ABX breaks up ahead of earnings and the calls hit $1, you can sell half and then carry no risk into the earnings and any move up from there is all bonus money. We are carrying longer-term spreads on ABX in both the Long-Term Portfolio and the Options Opportunity Portfolio and we have high degrees of confidence in them.\\n\\nAnother fun gamble on Gold is micro-miner Northern Dynasty (NAK), which we also hold in the OOP and that’s just $1.60 but pure speculation as they don’t mine at all but they are trying to get regulatory approvals and partners to begin mining up in Alaska. What we like about NAK is that getting permits to strip mine the land and pollute the rivers is much, much easier under the current administration so yay Capitalism!\\n\\nMeanwhile, if this rally doesn’t calm down – we’re going to need a bigger chart (we are shorting Nasdaq Futures (/NQ) below the 7,000 line with tight stops above as well as S&P Futures (/ES) below the 2,850 line.\\n\\nProvided courtesy of Phil’s Stock World.\\n\\nWould you like to read up-to-date articles on the day they are posted? Click here to become a part of our growing community and learn how to stop gambling with your investments. We will teach you to BE THE HOUSE – Not the Gambler!\\n\\nSource: http://www.philstockworld.com/2018/01/25/thrilling-thursday-nasdaq-7000-is-our-next-summit/?utm_source=beforeitsnews&utm_medium=feed&utm_campaign=psw-feeds&utm_content=article-link  \n",
       "997  Obama facing environmental lawsuit from Chicago activists\\n\\n% of readers think this story is Fact. Add your two cents.\\n\\nHeadline: Bitcoin & Blockchain Searches Exceed Trump! Blockchain Stocks Are Next!\\n\\nPresident Obama always had the support of the environmental movement — until he tried to construct his lavish presidential center on sensitive parkland in Chicago’s South Side.\\n\\nNow, local community activists have filed a lawsuit demanding answers about the Barack Obama Presidential Center’s “impact on the environment and character of historic Jackson Park.”\\n\\n“Like the public generally, we find the Obama Foundation and City of Chicago not forthcoming,” Gabriel Piemonte and Janet Geovanis, two members of the Coalition to Save Jackson Park, wrote Wednesday in a Hyde Park Herald letter to the editor. “This is a massive development involving public land, and we have been kept in the dark about too many details.”\\n\\nThe coalition, which filed the Freedom of Information Act complaint on Jan. 16, accused the “wealthy Obama Foundation and the city officials it works with” of refusing “to engage with citizens whose housing, schools, and parks will be forever altered” by the library’s construction.\\n\\nThe group’s FOIA request, filed Nov. 3, sought information on a host of environmental impact issues, including “potential flooding and run-off,” “avian-migration and nesting issues,” and “impact on local microclimate and temperatures in Jackson Park.”\\n\\nThe complaint, first reported by Crain’s Chicago Business journal, details what the activists say is the city’s months-long effort to stonewall documents pertaining to the planning, development and environmental impact of the presidential center.\\n\\nThe Chicago Park District said the FOIA request was a “lengthy request and required extensive time and consultation.”\\n\\n“The Chicago Park District provided responsive documents, but asked that the request for emails be narrowed because the original request was unduly burdensome as written,” a spokesperson for the park district told Crain’s. “The Chicago Park District attempted to work with the requester to help narrow the email search, but unfortunately the requester chose to file a lawsuit instead.”\\n\\nAccording to the lawsuit, the Chicago Park District initially said documents pertaining to the FOIA request would be ready on Nov. 22.\\n\\nAfter the city failed to produce any records on that date, the lawsuit continues, the coalition contacted various governmental agencies on Dec. 1, Dec. 4, Dec. 7, Dec. 19 and Dec. 21. They received no response.\\n\\nThe coalition sent a letter on Jan. 4 threatening to file a lawsuit if the document request was not fulfilled by Jan. 11.\\n\\nOn Jan. 11, the Chicago Park District turned over seven documents pursuant to the coalition’s FOIA request. No emails or electronic communications were included in the production.\\n\\nThe Coalition to Save Jackson Park went ahead with its lawsuit, alleging the “long-overdue, email-free, seven-document production” is an “incomplete production of public records.”\\n\\nAs currently planned, the Obama Presidential Center will take up more than 20 acres in Jackson Park. The historic public park was designed by Frederick Law Olmsted and Calvert Vaux, who also designed New York City’s famed Central Park.\\n\\nThe University of Chicago submitted the winning bid to host the center, beating out Columbia University in New York City and the University of Hawaii in Honolulu. Activists have questioned how a private entity, the University of Chicago, was able to include public parkland in its bid for the library.\\n\\nCharles Birnbaum, president of The Cultural Landscape Foundation, which opposes the center’s construction on Jackson Park, said there should be more “transparency to the decision-making process that resulted in the confiscation of parkland for the Obama Presidential Center.”\\n\\nThe center originally was supposed to be Mr. Obama’s official presidential library, complete with the 44th president’s records and administered by the National Archives. Instead, it will be a private facility that could come with a basketball court, yoga studio, and test kitchen.\\n\\nThe Obama Foundation estimated the center will have a total economic impact of $3.1 billion in its first 10 years, supporting 5,000 new jobs during construction and 2,500 permanent jobs once the facility is open.\\n\\nBut community activists say the center could do a lot more for the local community if it were more centrally located. Mr. Obama instead opted to put the center in the lavish Jackson Park location overlooking Lake Michigan.\\n\\nThe project also will cost taxpayers an estimated $100 million in renovations to the surrounding area.\\n\\nMore than 100 professors at the University of Chicago signed a public letter this month denouncing the “socially regressive” plans for the library.\\n\\nCharles Lipson, a political scientist at the University of Chicago who signed the letter, expressed skepticism about how the plans for the center were approved so quickly in notoriously hard-to-build Chicago.\\n\\n“This is Chicago,” he said. “You gotta know a guy who knows a guy.”\\n\\nRead more at Washington Times\\n\\nSource: https://climatechangedispatch.com/obama-facing-environmental-lawsuit-from-chicago-activists/                                                                                                                                                                                                                                                                                                                                                                                                                                                                                                                                                                                                                                                                                                                                                                                                                                                                                                                                                                                                                                                                                                                                                                                                                                                                                                                                                                                                                                                                                                                                                                                                                                                                                                                                                                                                                                                                                                                                                                                                                                                                                                                                                                                                                                                                                                                                                                                                                                                                                                                                                                                                                                                                                                                                                                                                                                                                                                                                                                                                                                                                                                                                                                                                                                                                                                                                                                                                                                                                                                                                                                                                                                                                                                                                                                                                                                                                                                                                                                                                                                                                                                                                                                                                                                      \n",
       "998  Fake News Is Satanic Says Pope\\n\\n% of readers think this story is Fact. Add your two cents.\\n\\nHeadline: Bitcoin & Blockchain Searches Exceed Trump! Blockchain Stocks Are Next!\\n\\nPope Francis has warned of the dangers of ‘satanic’ fake news, comparing the the purveyors of such information to the snake in the Garden of Eden.\\n\\nHe described false news as “evil” and accused peddlers of disinformation of employing “snake-tactics” similar to Satan who, disguised as a serpent, tempted Eve to eat fruit from the forbidden tree.\\n\\nHe issued the unusual warning in a document issued on Wednesday ahead of the Catholic Church’s World Day of Social Communications, which takes place on May 13.\\n\\nReuters reports: The document was issued after months of debate on how much fake news may have influenced the 2016 U.S. presidential campaign and the election of President Donald Trump.\\n\\n“Spreading fake news can serve to advance specific goals, influence political decisions, and serve economic interests,” the pope wrote, condemning the “manipulative use of social networks” and other forms of communication.\\n\\nCalled “The truth will set you free – fake news and journalism for peace”, the document was issued in advance of the Catholic Church’s World Day of Social Communications on May 13.\\n\\n“This false but believable news is ‘captious’, inasmuch as it grasps people’s attention by appealing to stereotypes and common social prejudices and exploiting instantaneous emotions like anxiety, contempt, anger and frustration,” Francis said.\\n\\n“SATAN’S SERPENT”\\n\\nFalse stories, the Pope said, spread so quickly that even authoritative denials often could not contain the damage done and many people run the risk of becoming “unwilling accomplices in spreading biased and baseless ideas”.\\n\\nHe called for “education for truth” that would help people discern, evaluate and understand news in order to recognize the “sly and dangerous form of seduction that worms its way into the heart with false and alluring arguments”.\\n\\nFrancis compared the use of fake news to the Bible story of the devil, who, disguised as a serpent, persuaded Eve to eat the fruit of the forbidden tree. He said she was fed wrong information by Satan, who told her the fruit would make her and Adam as all-knowing as God.\\n\\n“We need to unmask what could be called the ‘snake-tactics’ used by those (purveyors of fake news) who disguise themselves in order to strike at any time and place.”\\n\\nVatican spokesman Greg Burke, a former reporter for U.S. outlets, told Reuters Television: “The Pope is not saying that all journalists are snakes but he is certainly acknowledging that they can be.”\\n\\nThe pope said the role of journalists was “not just a job, it is a mission” and they had particular responsibility to stem fake news.\\n\\nhttp://yournewswire.com/fake-news-is-satanic-says-pope-francis/                                                                                                                                                                                                                                                                                                                                                                                                                                                                                                                                                                                                                                                                                                                                                                                                                                                                                                                                                                                                                                                                                                                                                                                                                                                                                                                                                                                                                                                                                                                                                                                                                                                                                                                                                                                                                                                                                                                                                                                                                                                                                                                                                                                                                                                                                                                                                                                                                                                                                                                                                                                                                                                                                                                                                                                                                                                                                                                                                                                                                                                                                                                                                                                                                                                                                                                                                                                                                                                                                                                                                                                                                                                                                                                                                                                                                                                                                                                                                                                                                                                                                                                                                                                                                                                                                                                                                                                                                                                                                                                                                                                                                                                                                                                                                                                                                                                                                                                                                                                                                                                                                                                                                                                                                                                                                                                                                                                                                                                                                                                                                                                                                                                                                                                                                                                                                                                                                                                                                                                                                                                                                                                                                                                                                                                                                                                                                                                                                                                                                                                                                                                                                                                                                                                                                                  \n",
       "999  Metalla Royalty and Streaming increases production guidance for silver ounces for fiscal 2018\\n\\n% of readers think this story is Fact. Add your two cents.\\n\\nHeadline: Bitcoin & Blockchain Searches Exceed Trump! Blockchain Stocks Are Next!\\n\\nMetalla Royalty and Streaming Ltd (CNSX:MTA), the precious metals group, forecasts total silver output attributable to the firm for 2018 of between 450,000 and 500,000 ounces.\\n\\nIt came as the company put out its second quarter results to end November.\\n\\nGross provisional sales are expected to be from C$8.5mln to C$9.5mln, while net revenue is expected to between C$5.5mln and C$6.5mln.\\n\\nIn the three months to November 30, Metalla shipped and provisionally invoiced 158,865 attributable silver ounces at an average price of US$17.12 per ounce.\\n\\nIt generated cash margin of US$9.80 per attributable silver ounce from the Endeavor silver stream and New Luika gold mine (NLGM) stream held by Silverback Ltd.\\n\\nIn the second quarter, revenue from stream interest was around $3.066mln, while the net loss for the period was $440,105 – down from a loss of around $1.013mln in the preceding quarter.\\n\\nThe group held 16,909 attributable silver ounces as inventory on the reporting date to be realized in the subsequent quarter.\\n\\nStory by ProactiveInvestors\\n\\nSource: http://www.proactiveinvestors.com/companies/news/190645/metalla-royalty-and-streaming-increases-production-guidance-for-silver-ounces-for-fiscal-2018-190645.html                                                                                                                                                                                                                                                                                                                                                                                                                                                                                                                                                                                                                                                                                                                                                                                                                                                                                                                                                                                                                                                                                                                                                                                                                                                                                                                                                                                                                                                                                                                                                                                                                                                                                                                                                                                                                                                                                                                                                                                                                                                                                                                                                                                                                                                                                                                                                                                                                                                                                                                                                                                                                                                                                                                                                                                                                                                                                                                                                                                                                                                                                                                                                                                                                                                                                                                                                                                                                                                                                                                                                                                                                                                                                                                                                                                                                                                                                                                                                                                                                                                                                                                                                                                                                                                                                                                                                                                                                                                                                                                                                                                                                                                                                                                                                                                                                                                                                                                                                                                                                                                                                                                                                                                                                                                                                                                                                                                                                                                                                                                                                                                                                                                                                                                                                                                                                                                                                                                                                                                                                                                                                                                                                                                                                                                                                                                                                                                                                                                                                                                                                                                                                                                                                                                                                                                                                                                                                                                                                                                                                                                                                                                                                                                                                                                                                                                                                                                                                                                                                                                                                                                                                                                                                                                                                                                                                                                                                                                                                                                                                                                                                                                                                                                                                  "
      ]
     },
     "execution_count": 9,
     "metadata": {},
     "output_type": "execute_result"
    }
   ],
   "source": [
    "df_reduced.tail()"
   ]
  },
  {
   "cell_type": "markdown",
   "metadata": {},
   "source": [
    "Comprobamos que ha funcionado"
   ]
  },
  {
   "cell_type": "code",
   "execution_count": 10,
   "metadata": {},
   "outputs": [
    {
     "data": {
      "text/plain": [
       "array(['fake', 'reliable'], dtype=object)"
      ]
     },
     "execution_count": 10,
     "metadata": {},
     "output_type": "execute_result"
    }
   ],
   "source": [
    "df_reduced['type'].unique()"
   ]
  },
  {
   "cell_type": "markdown",
   "metadata": {},
   "source": [
    "Eliminamos todas las filas que contengan algún valor nulo"
   ]
  },
  {
   "cell_type": "code",
   "execution_count": 11,
   "metadata": {},
   "outputs": [
    {
     "data": {
      "text/plain": [
       "type       182\n",
       "title      182\n",
       "content    182\n",
       "dtype: int64"
      ]
     },
     "execution_count": 11,
     "metadata": {},
     "output_type": "execute_result"
    }
   ],
   "source": [
    "df_reduced.count()"
   ]
  },
  {
   "cell_type": "code",
   "execution_count": 12,
   "metadata": {},
   "outputs": [
    {
     "name": "stdout",
     "output_type": "stream",
     "text": [
      "Número de entradas antes de eliminar valores nulos: type       182\n",
      "title      182\n",
      "content    182\n",
      "dtype: int64\n",
      "Número de entradas después de eliminar valores nulos: type       182\n",
      "title      182\n",
      "content    182\n",
      "dtype: int64\n"
     ]
    }
   ],
   "source": [
    "print('Número de entradas antes de eliminar valores nulos: ' + str(df_reduced.count()))\n",
    "\n",
    "df_reduced = df_reduced.dropna()\n",
    "\n",
    "print('Número de entradas después de eliminar valores nulos: ' + str(df_reduced.count()))"
   ]
  },
  {
   "cell_type": "markdown",
   "metadata": {},
   "source": [
    "Esta selección es suficiente, aplicamos la misma al dataset completo y realizamos un pequeño análisis estadístico"
   ]
  },
  {
   "cell_type": "markdown",
   "metadata": {},
   "source": [
    "# Creación de una función\n",
    "Resumimos todo el proceso anterior en una función para poder aplicarlo a los distintos chunks"
   ]
  },
  {
   "cell_type": "code",
   "execution_count": 13,
   "metadata": {},
   "outputs": [],
   "source": [
    "# Importamos la clase de Python en la que está definida la función de preprocesado\n",
    "import nlp_functions as nlp_f\n",
    "\n",
    "def chunk_filtering(df):\n",
    "    \n",
    "    # Mantenemos solamente las columnas que vamos a utilizar\n",
    "    df = df[['type', 'title', 'content']] \n",
    "    \n",
    "    # Nos quedamos con las noticias fake y reliable\n",
    "    df = df.loc[(df['type'] == 'fake') | (df['type'] == 'reliable')]\n",
    "    \n",
    "    # Unimos título y contenido\n",
    "    df['content'] = df['title'] + ' ' + df['content']\n",
    "    \n",
    "    # Aplicamos la función de preprocesado\n",
    "    # df['content'] = df['content'].apply(nlp_f.tokenizer)\n",
    "    \n",
    "    # Eliminamos las columnas que contienen null values\n",
    "    df = df.dropna()\n",
    "    \n",
    "    return df"
   ]
  },
  {
   "cell_type": "markdown",
   "metadata": {},
   "source": [
    "# CHUNK\n",
    "El archivo .csv que contiene el conjunto de datos ocupa más de 28GB, que es bastante más de lo que puede soportar la memoria ram del ordenador en el que se está realizando este análisis, por lo que emplearemos 'chunks' para fragmentar el dataset"
   ]
  },
  {
   "cell_type": "code",
   "execution_count": 14,
   "metadata": {},
   "outputs": [],
   "source": [
    "df_chunk = pd.read_csv(r'datasets/news_cleaned.csv', chunksize = 1000000, engine = 'python', encoding=\"utf-8\") # engine = 'python'"
   ]
  },
  {
   "cell_type": "markdown",
   "metadata": {},
   "source": [
    "# 1.- Aplicación de la función chunk_filtering\n",
    "TODO: Descripción detallada"
   ]
  },
  {
   "cell_type": "code",
   "execution_count": 15,
   "metadata": {},
   "outputs": [
    {
     "name": "stdout",
     "output_type": "stream",
     "text": [
      "Wall time: 16min 1s\n"
     ]
    }
   ],
   "source": [
    "%%time\n",
    "chunk_list = []\n",
    "for chunk in df_chunk:\n",
    "    \n",
    "    chunk_filtered = chunk_filtering(chunk)\n",
    "    \n",
    "    chunk_list.append(chunk_filtered)\n",
    "    \n",
    "# Concatenamos los chunks filtrados en un objeto de tipo dataframe\n",
    "df_concat = pd.concat(chunk_list)"
   ]
  },
  {
   "cell_type": "code",
   "execution_count": 16,
   "metadata": {},
   "outputs": [
    {
     "data": {
      "text/plain": [
       "type       2807942\n",
       "title      2807942\n",
       "content    2807942\n",
       "dtype: int64"
      ]
     },
     "execution_count": 16,
     "metadata": {},
     "output_type": "execute_result"
    }
   ],
   "source": [
    "df_concat.count()"
   ]
  },
  {
   "cell_type": "code",
   "execution_count": 17,
   "metadata": {},
   "outputs": [
    {
     "data": {
      "text/html": [
       "<div>\n",
       "<style scoped>\n",
       "    .dataframe tbody tr th:only-of-type {\n",
       "        vertical-align: middle;\n",
       "    }\n",
       "\n",
       "    .dataframe tbody tr th {\n",
       "        vertical-align: top;\n",
       "    }\n",
       "\n",
       "    .dataframe thead th {\n",
       "        text-align: right;\n",
       "    }\n",
       "</style>\n",
       "<table border=\"1\" class=\"dataframe\">\n",
       "  <thead>\n",
       "    <tr style=\"text-align: right;\">\n",
       "      <th></th>\n",
       "      <th>type</th>\n",
       "      <th>title</th>\n",
       "      <th>content</th>\n",
       "    </tr>\n",
       "  </thead>\n",
       "  <tbody>\n",
       "    <tr>\n",
       "      <th>8529087</th>\n",
       "      <td>reliable</td>\n",
       "      <td>As 4 of 5 in Public Housing Lost Heat, a Demand for an Apology Is Unfulfilled</td>\n",
       "      <td>As 4 of 5 in Public Housing Lost Heat, a Demand for an Apology Is Unfulfilled Housing Authority residents in the audience were asked not to interrupt the proceedings and they frequently waved their hands over their heads in a show of support for pointed questions or comments by Council members. Yet there were occasional outbursts at remarks by the authority officials who testified. “That’s a lie!” one woman called out. “No one wants to take responsibility,” said another.\\n\\nRitchie Torres, the chairman of the Council’s oversight and investigations committee, said that he had obtained data from the Housing Authority showing that during the current heating season, 323,098 residents had gone without heat at some time. That is more than 80 percent of the Housing Authority’s residents.\\n\\nHousing officials said that those numbers covered the period from Oct. 1 to Jan. 22, and involved 143,000 apartments. The average heat outage lasted 48 hours.\\n\\n“You saw a huge increase in the duration of the outages due to the extreme cold spell, which compromised our aging infrastructure,” said Cathy Pennington, the authority’s acting executive vice president for operations.\\n\\nMr. Torres had several testy exchanges with Ms. Olatoye, who has had strained relations with the Council since it was revealed last year that the authority had failed for years to conduct required lead tests in apartments.\\n\\n“Nycha has a chairperson whose credibility has sustained irreparable damage,” Mr. Torres said. “She has haplessly presided over a humanitarian crisis.”\\n\\nHe also seemed to blame the mayor for Nycha’s problems, although not by name. “The administration and Nycha can rightly fault the federal government for defunding public housing, but it cannot fault the federal government for the people it hires and the people it fails to hold accountable,” Mr. Torres said.\\n\\nAdvertisement Continue reading the main story\\n\\nIn another extraordinary exchange, Mr. Johnson and Mr. Torres clashed with the corporation counsel, Zachary W. Carter, who intervened as they were pressing Ms. Olatoye about a false statement she made to the Council in December regarding the training of lead paint inspectors.\\n\\nPhoto\\n\\nMr. Carter even objected to being sworn in, as other witnesses had been. “I’m not testifying,” he said. “I’m here advising.” But Mr. Torres insisted on swearing him in anyway.\\n\\nMr. Carter said that Ms. Olatoye was given incorrect information by her staff in December, when she told the Council that the Housing Authority’s lead inspectors had the proper federal certification — when they did not. He said it was a mistake, and referred to a January letter to Mr. Johnson from Paul Rodriguez, the acting counsel to the mayor, that he said “provides a fulsome explanation” of the incident.\\n\\nMr. Johnson retorted: “We are going to do oversight in a fulsome manner.”\\n\\nThe presence of Mr. Carter, the city’s lead lawyer, at the hearing was highly unusual and Mr. Johnson and Mr. Torres pressed him to explain why he was there. He said he came because it was an important hearing.\\n\\nNewsletter Sign Up Continue reading the main story Please verify you're not a robot by clicking the box. Invalid email address. Please re-enter. You must select a newsletter to subscribe to. Sign Up You agree to receive occasional updates and special offers for The New York Times's products and services. Thank you for subscribing. An error has occurred. Please try again later. View all New York Times newsletters.\\n\\nThe authority’s heating problems came into sharp relief during a period of extremely cold weather in January, which Ms. Olatoye said was the longest stretch of days with temperatures below freezing in nearly 60 years. Many of the authority’s aged boilers failed and officials scrambled to restore heat.\\n\\nMr. Torres said that there were 2,395 heat outages in calendar year 2017, compared to 1,360 the previous year. There were 4,112 hot water outages in 2017, compared to 916 in 2016.\\n\\nThe residents who spoke at the start of the hearing told of sleeping in sweatpants and sweatshirts or getting up in the morning to put on a coat and huddle in front of stoves in frigid apartments.\\n\\nCarmen Quiñones, a tenant leader at the Frederick Douglass Houses in Manhattan, referred to the “deficit of funds and the surplus of incompetence” at the authority. Calvin Drumgo, a tenant leader at the Breukelen Houses, said, “We are not refugees, we are not third-class citizens, we will not be treated like savages.”\\n\\nSeveral Council members questioned Ms. Olatoye and other officials over the authority’s computer systems and its ability to track the heating apparatus at its far-flung real estate. Under questioning by Mr. Johnson, authority officials revealed that maintenance logs for boilers were filled out by hand and the information was not entered into a computerized database, making it difficult to conduct an analysis of the effectiveness of maintenance and the performance of the system.\\n\\nAdvertisement Continue reading the main story\\n\\n“I would agree that our move toward technology is — we have a lot more to do,” Ms. Olatoye said.\\n\\n“This is madness! This is crazy in 2018!” Mr. Johnson exclaimed. “This should be fixed immediately.”\\n\\nThe Council members also forced Ms. Olatoye and other officials to acknowledge the decrease in the number of boiler maintenance workers, to 248 at the end of last year, from 391 in 2013. The workers are paid an average of $49,835 a year and stay on the job for an average of three years, the officials said.\\n\\nLast week, Mr. de Blasio proposed spending $82 million to install replacement boilers at 10 housing developments, but the money must be approved by the Council.\\n\\nAt an unrelated news conference at the Police Headquarters to discuss crime statistics, Mr. de Blasio was asked whether people who live in public housing deserve the same standard of living as people in private housing.\\n\\n“People in public housing deserve the very best living standard we can give them with the money we have,” Mr. de Blasio said, stressing the deep financial challenges of the Housing Authority. “Do I think that we in the public sector can achieve everything that a private sector can achieve, with much greater resources in the private sector? No, I don’t have that illusion. Our job is to constantly do better with what we have.”</td>\n",
       "    </tr>\n",
       "    <tr>\n",
       "      <th>8529088</th>\n",
       "      <td>reliable</td>\n",
       "      <td>Who Said It: Pepé Le Pew or Donald Trump?</td>\n",
       "      <td>Who Said It: Pepé Le Pew or Donald Trump? He has a curious way of expressing it, though. Even though he is French (which in the Looney Tunes world is shorthand for relentless amour), his terrible smell repulses the objects of his affection, who struggle valiantly to get away, sometimes successfully, sometimes not. “Odor-able Kitty” ends with Pepé with a chain around his ankle. “Now we are inseparable, are we not, darling?” he says. The shot follows the chain across the room to the cat, whose leg is also bound. The last we see of the pussy, she is desperately hacking away at the chain, trying to get free.\\n\\nThat’s all, folks.\\n\\nIt is fair to say these cartoons have not aged well (not a rare quality; see also Disney’s “Song of the South”). But in the #MeToo era, Pepé Le Pew’s antics make you want to cover your face with your paws. Virtually his whole oeuvre is a series of jokes about males who — no matter how clearly the point is made — cannot possibly comprehend the magnitude of their own disgustingness.\\n\\nNewsletter Sign Up Continue reading the main story Sign Up for the Opinion Today Newsletter Every weekday, get thought-provoking commentary from Op-Ed columnists, the Times editorial board and contributing writers from around the world. Please verify you're not a robot by clicking the box. Invalid email address. Please re-enter. You must select a newsletter to subscribe to. Sign Up You agree to receive occasional updates and special offers for The New York Times's products and services. Thank you for subscribing. An error has occurred. Please try again later. View all New York Times newsletters.\\n\\nWhich leads us back to the president, who is kind of like Pepé Le Pew with neither French nor stench. This inspires me to ask you to join me in a game, which we’ll call Who Said It — Donald Trump or Pepé Le Pew?\\n\\n“You know, I’m automatically attracted to beautiful.”\\n\\n“She thinks that by running away she can make herself more attractive to me. How right she is!”\\n\\n“I just start kissing them. It’s like a magnet.”\\n\\n“I am stupid, no?”\\n\\n“I’m like, smart!”\\n\\nAnswers below, if you actually need them.\\n\\nThere is one thing that I did not know about Pepé Le Pew before watching his collected works: He’s not really French. In his very first appearance, Pepé’s lovemaking is interrupted by his wife, who calls out his name, “Henry!” Behind her are Pepé’s two little children. He tries to explain himself, and as he does, he speaks in his real voice, which has an American accent. His wife responds — not by taking a plane alone to West Palm Beach but by whacking him on the head with an umbrella.\\n\\nPepé’s entire persona — the French accent, the image of a carefree bachelor, his very name — is a delusion. Just like Donald Trump and his failed university, and his failed steak company, and his failed casinos. Pepé Le Pew is fake meows.\\n\\nAdvertisement Continue reading the main story\\n\\nIt’s worth noting that Pepé Le Pew isn’t the only Warner Bros. character who provides a model for the looney tunes era we live in now. In “Show Biz Bugs” (1957), Daffy Duck and Bugs Bunny are engaged in a talent competition; all of Bugs’s performances succeed while Daffy’s fail. At the conclusion, in a last-ditch attempt to win over his audience, Daffy swallows gasoline, nitroglycerin, “a goodly amount of gunpowder” and uranium-238. He lights a match and explodes. The crowd goes wild.\\n\\nIs there a better metaphor for the election of 2016? There we were, mouths agape, as the most craven soul ever to aim at the White House ran, and won. Ratings went through the roof as everything we ever thought we knew about our country’s decency exploded.\\n\\nBut one wonders whether Donald Trump has the same insight on the consequences of this stunt that Daffy does. When Bugs asks him for an encore, Daffy, now a ghost, slowly floats toward heaven.\\n\\nIt’s a great trick, he agrees sadly, “but I can only do it once.”\\n\\nAnswers: Trump; Le Pew; Trump; Le Pew; Trump.</td>\n",
       "    </tr>\n",
       "    <tr>\n",
       "      <th>8529089</th>\n",
       "      <td>reliable</td>\n",
       "      <td>Toads Eat Beetles. Sometimes, Beetles Make Them Regret Their Meal Choice.</td>\n",
       "      <td>Toads Eat Beetles. Sometimes, Beetles Make Them Regret Their Meal Choice. Video\\n\\nFor most prey, the game is over once they’ve been swallowed. But one species of beetle can escape from a toad’s stomach nearly two hours after being eaten, according to a new study.\\n\\nFound in wooded areas on nearly every continent, bombardier beetles — a group that consists of more than 500 species — get their name from their signature defense mechanism: When threatened, they shoot a hot chemical spray from their rear end. In Japan, the insects have long been known as, “the farting bug.”\\n\\nToads have been observed vomiting bombardier beetles after eating them, but no one knew exactly why, or how long the beetles survived after their brush with digestion.\\n\\nTo better understand the beetle’s defenses, two biologists from Kobe University fed a species of bombardier beetle to two different species of toad collected from forests in central Japan. One toad species shared its natural habitat with that particular species of beetle, while the other was unlikely to encounter it in the wild.\\n\\nAdvertisement Continue reading the main story\\n\\nAfter the beetles were swallowed, a small explosion could be heard inside each toad, indicating that the insects were firing their defenses. Overall, 43 percent of the toads vomited the beetles, taking anywhere from 12 to 107 minutes.</td>\n",
       "    </tr>\n",
       "  </tbody>\n",
       "</table>\n",
       "</div>"
      ],
      "text/plain": [
       "             type  \\\n",
       "8529087  reliable   \n",
       "8529088  reliable   \n",
       "8529089  reliable   \n",
       "\n",
       "                                                                                 title  \\\n",
       "8529087  As 4 of 5 in Public Housing Lost Heat, a Demand for an Apology Is Unfulfilled   \n",
       "8529088  Who Said It: Pepé Le Pew or Donald Trump?                                       \n",
       "8529089  Toads Eat Beetles. Sometimes, Beetles Make Them Regret Their Meal Choice.       \n",
       "\n",
       "                                                                                                                                                                                                                                                                                                                                                                                                                                                                                                                                                                                                                                                                                                                                                                                                                                                                                                                                                                                                                                                                                                                                                                                                                                                                                                                                                                                                                                                                                                                                                                                                                                                                                                                                                                                                                                                                                                                                                                                                                                                                                                                                                                                                                                                                                                                                                                                                                                                                                                                                                                                                                                                                                                                                                                                                                                                                                                                                                                                                                                                                                                                                                                                                                                                                                                                                                                                                                                                                                                                                                                                                                                                                                                                                                                                                                                                                                                                                                                                                                                                                                                                                                                                                                                                                                                                                                                                                                                                                                                                                                                                                                                                                                                                                                                                                                                                                                                                                                                                                                                                                                                                                                                                                                                                                                                                                                                                                                                                                                                                                                                                                                                                                                                                                                                                                                                                                                                                                                                                                                                                                                                                                                                                                                                                                                                                                                                                                                                                                                                                                                                                                                                                         content  \n",
       "8529087  As 4 of 5 in Public Housing Lost Heat, a Demand for an Apology Is Unfulfilled Housing Authority residents in the audience were asked not to interrupt the proceedings and they frequently waved their hands over their heads in a show of support for pointed questions or comments by Council members. Yet there were occasional outbursts at remarks by the authority officials who testified. “That’s a lie!” one woman called out. “No one wants to take responsibility,” said another.\\n\\nRitchie Torres, the chairman of the Council’s oversight and investigations committee, said that he had obtained data from the Housing Authority showing that during the current heating season, 323,098 residents had gone without heat at some time. That is more than 80 percent of the Housing Authority’s residents.\\n\\nHousing officials said that those numbers covered the period from Oct. 1 to Jan. 22, and involved 143,000 apartments. The average heat outage lasted 48 hours.\\n\\n“You saw a huge increase in the duration of the outages due to the extreme cold spell, which compromised our aging infrastructure,” said Cathy Pennington, the authority’s acting executive vice president for operations.\\n\\nMr. Torres had several testy exchanges with Ms. Olatoye, who has had strained relations with the Council since it was revealed last year that the authority had failed for years to conduct required lead tests in apartments.\\n\\n“Nycha has a chairperson whose credibility has sustained irreparable damage,” Mr. Torres said. “She has haplessly presided over a humanitarian crisis.”\\n\\nHe also seemed to blame the mayor for Nycha’s problems, although not by name. “The administration and Nycha can rightly fault the federal government for defunding public housing, but it cannot fault the federal government for the people it hires and the people it fails to hold accountable,” Mr. Torres said.\\n\\nAdvertisement Continue reading the main story\\n\\nIn another extraordinary exchange, Mr. Johnson and Mr. Torres clashed with the corporation counsel, Zachary W. Carter, who intervened as they were pressing Ms. Olatoye about a false statement she made to the Council in December regarding the training of lead paint inspectors.\\n\\nPhoto\\n\\nMr. Carter even objected to being sworn in, as other witnesses had been. “I’m not testifying,” he said. “I’m here advising.” But Mr. Torres insisted on swearing him in anyway.\\n\\nMr. Carter said that Ms. Olatoye was given incorrect information by her staff in December, when she told the Council that the Housing Authority’s lead inspectors had the proper federal certification — when they did not. He said it was a mistake, and referred to a January letter to Mr. Johnson from Paul Rodriguez, the acting counsel to the mayor, that he said “provides a fulsome explanation” of the incident.\\n\\nMr. Johnson retorted: “We are going to do oversight in a fulsome manner.”\\n\\nThe presence of Mr. Carter, the city’s lead lawyer, at the hearing was highly unusual and Mr. Johnson and Mr. Torres pressed him to explain why he was there. He said he came because it was an important hearing.\\n\\nNewsletter Sign Up Continue reading the main story Please verify you're not a robot by clicking the box. Invalid email address. Please re-enter. You must select a newsletter to subscribe to. Sign Up You agree to receive occasional updates and special offers for The New York Times's products and services. Thank you for subscribing. An error has occurred. Please try again later. View all New York Times newsletters.\\n\\nThe authority’s heating problems came into sharp relief during a period of extremely cold weather in January, which Ms. Olatoye said was the longest stretch of days with temperatures below freezing in nearly 60 years. Many of the authority’s aged boilers failed and officials scrambled to restore heat.\\n\\nMr. Torres said that there were 2,395 heat outages in calendar year 2017, compared to 1,360 the previous year. There were 4,112 hot water outages in 2017, compared to 916 in 2016.\\n\\nThe residents who spoke at the start of the hearing told of sleeping in sweatpants and sweatshirts or getting up in the morning to put on a coat and huddle in front of stoves in frigid apartments.\\n\\nCarmen Quiñones, a tenant leader at the Frederick Douglass Houses in Manhattan, referred to the “deficit of funds and the surplus of incompetence” at the authority. Calvin Drumgo, a tenant leader at the Breukelen Houses, said, “We are not refugees, we are not third-class citizens, we will not be treated like savages.”\\n\\nSeveral Council members questioned Ms. Olatoye and other officials over the authority’s computer systems and its ability to track the heating apparatus at its far-flung real estate. Under questioning by Mr. Johnson, authority officials revealed that maintenance logs for boilers were filled out by hand and the information was not entered into a computerized database, making it difficult to conduct an analysis of the effectiveness of maintenance and the performance of the system.\\n\\nAdvertisement Continue reading the main story\\n\\n“I would agree that our move toward technology is — we have a lot more to do,” Ms. Olatoye said.\\n\\n“This is madness! This is crazy in 2018!” Mr. Johnson exclaimed. “This should be fixed immediately.”\\n\\nThe Council members also forced Ms. Olatoye and other officials to acknowledge the decrease in the number of boiler maintenance workers, to 248 at the end of last year, from 391 in 2013. The workers are paid an average of $49,835 a year and stay on the job for an average of three years, the officials said.\\n\\nLast week, Mr. de Blasio proposed spending $82 million to install replacement boilers at 10 housing developments, but the money must be approved by the Council.\\n\\nAt an unrelated news conference at the Police Headquarters to discuss crime statistics, Mr. de Blasio was asked whether people who live in public housing deserve the same standard of living as people in private housing.\\n\\n“People in public housing deserve the very best living standard we can give them with the money we have,” Mr. de Blasio said, stressing the deep financial challenges of the Housing Authority. “Do I think that we in the public sector can achieve everything that a private sector can achieve, with much greater resources in the private sector? No, I don’t have that illusion. Our job is to constantly do better with what we have.”  \n",
       "8529088  Who Said It: Pepé Le Pew or Donald Trump? He has a curious way of expressing it, though. Even though he is French (which in the Looney Tunes world is shorthand for relentless amour), his terrible smell repulses the objects of his affection, who struggle valiantly to get away, sometimes successfully, sometimes not. “Odor-able Kitty” ends with Pepé with a chain around his ankle. “Now we are inseparable, are we not, darling?” he says. The shot follows the chain across the room to the cat, whose leg is also bound. The last we see of the pussy, she is desperately hacking away at the chain, trying to get free.\\n\\nThat’s all, folks.\\n\\nIt is fair to say these cartoons have not aged well (not a rare quality; see also Disney’s “Song of the South”). But in the #MeToo era, Pepé Le Pew’s antics make you want to cover your face with your paws. Virtually his whole oeuvre is a series of jokes about males who — no matter how clearly the point is made — cannot possibly comprehend the magnitude of their own disgustingness.\\n\\nNewsletter Sign Up Continue reading the main story Sign Up for the Opinion Today Newsletter Every weekday, get thought-provoking commentary from Op-Ed columnists, the Times editorial board and contributing writers from around the world. Please verify you're not a robot by clicking the box. Invalid email address. Please re-enter. You must select a newsletter to subscribe to. Sign Up You agree to receive occasional updates and special offers for The New York Times's products and services. Thank you for subscribing. An error has occurred. Please try again later. View all New York Times newsletters.\\n\\nWhich leads us back to the president, who is kind of like Pepé Le Pew with neither French nor stench. This inspires me to ask you to join me in a game, which we’ll call Who Said It — Donald Trump or Pepé Le Pew?\\n\\n“You know, I’m automatically attracted to beautiful.”\\n\\n“She thinks that by running away she can make herself more attractive to me. How right she is!”\\n\\n“I just start kissing them. It’s like a magnet.”\\n\\n“I am stupid, no?”\\n\\n“I’m like, smart!”\\n\\nAnswers below, if you actually need them.\\n\\nThere is one thing that I did not know about Pepé Le Pew before watching his collected works: He’s not really French. In his very first appearance, Pepé’s lovemaking is interrupted by his wife, who calls out his name, “Henry!” Behind her are Pepé’s two little children. He tries to explain himself, and as he does, he speaks in his real voice, which has an American accent. His wife responds — not by taking a plane alone to West Palm Beach but by whacking him on the head with an umbrella.\\n\\nPepé’s entire persona — the French accent, the image of a carefree bachelor, his very name — is a delusion. Just like Donald Trump and his failed university, and his failed steak company, and his failed casinos. Pepé Le Pew is fake meows.\\n\\nAdvertisement Continue reading the main story\\n\\nIt’s worth noting that Pepé Le Pew isn’t the only Warner Bros. character who provides a model for the looney tunes era we live in now. In “Show Biz Bugs” (1957), Daffy Duck and Bugs Bunny are engaged in a talent competition; all of Bugs’s performances succeed while Daffy’s fail. At the conclusion, in a last-ditch attempt to win over his audience, Daffy swallows gasoline, nitroglycerin, “a goodly amount of gunpowder” and uranium-238. He lights a match and explodes. The crowd goes wild.\\n\\nIs there a better metaphor for the election of 2016? There we were, mouths agape, as the most craven soul ever to aim at the White House ran, and won. Ratings went through the roof as everything we ever thought we knew about our country’s decency exploded.\\n\\nBut one wonders whether Donald Trump has the same insight on the consequences of this stunt that Daffy does. When Bugs asks him for an encore, Daffy, now a ghost, slowly floats toward heaven.\\n\\nIt’s a great trick, he agrees sadly, “but I can only do it once.”\\n\\nAnswers: Trump; Le Pew; Trump; Le Pew; Trump.                                                                                                                                                                                                                                                                                                                                                                                                                                                                                                                                                                                                                                                                                                                                                                                                                                                                                                                                                                                                                                                                                                                                                                                                                                                                                                                                                                                                                                                                                                                                                                                                                                                                                                                                                                                                                                                                                                                                                                                                                                                                                                                                                                                                                                                                                                                                                                                                                                                                                                    \n",
       "8529089  Toads Eat Beetles. Sometimes, Beetles Make Them Regret Their Meal Choice. Video\\n\\nFor most prey, the game is over once they’ve been swallowed. But one species of beetle can escape from a toad’s stomach nearly two hours after being eaten, according to a new study.\\n\\nFound in wooded areas on nearly every continent, bombardier beetles — a group that consists of more than 500 species — get their name from their signature defense mechanism: When threatened, they shoot a hot chemical spray from their rear end. In Japan, the insects have long been known as, “the farting bug.”\\n\\nToads have been observed vomiting bombardier beetles after eating them, but no one knew exactly why, or how long the beetles survived after their brush with digestion.\\n\\nTo better understand the beetle’s defenses, two biologists from Kobe University fed a species of bombardier beetle to two different species of toad collected from forests in central Japan. One toad species shared its natural habitat with that particular species of beetle, while the other was unlikely to encounter it in the wild.\\n\\nAdvertisement Continue reading the main story\\n\\nAfter the beetles were swallowed, a small explosion could be heard inside each toad, indicating that the insects were firing their defenses. Overall, 43 percent of the toads vomited the beetles, taking anywhere from 12 to 107 minutes.                                                                                                                                                                                                                                                                                                                                                                                                                                                                                                                                                                                                                                                                                                                                                                                                                                                                                                                                                                                                                                                                                                                                                                                                                                                                                                                                                                                                                                                                                                                                                                                                                                                                                                                                                                                                                                                                                                                                                                                                                                                                                                                                                                                                                                                                                                                                                                                                                                                                                                                                                                                                                                                                                                                                                                                                                                                                                                                                                                                                                                                                                                                                                                                                                                                                                                                                                                                                                                                                                                                                                                                                                                                                                                                                                                                                                                                                                                                                                                                                                                                                                                                                                                                                                                                                                                                                                                                                                                                                                                                                                                                                                                                                                                                                                                                                                                                                                                                                                                                                                                                                                                                                                                                                                                "
      ]
     },
     "execution_count": 17,
     "metadata": {},
     "output_type": "execute_result"
    }
   ],
   "source": [
    "df_concat.tail(3)"
   ]
  },
  {
   "cell_type": "markdown",
   "metadata": {},
   "source": [
    "# 2.- Convertimos a One-Hot-Encoding\n",
    "Convertimos la columna type a One Hot Encoding. Valdrá 1 si la noticia en cuestión es una fake new (ya que es lo que estamos intentando detectar) y 0 en caso contrario."
   ]
  },
  {
   "cell_type": "code",
   "execution_count": 18,
   "metadata": {},
   "outputs": [
    {
     "name": "stdout",
     "output_type": "stream",
     "text": [
      "Wall time: 2.8 s\n"
     ]
    }
   ],
   "source": [
    "%%time\n",
    "df_concat.loc[df_concat['type'] == 'fake', 'type'] = 1.\n",
    "df_concat.loc[df_concat['type'] == 'reliable', 'type'] = 0.\n",
    "df_concat.type = df_concat.type.astype(float)"
   ]
  },
  {
   "cell_type": "code",
   "execution_count": 19,
   "metadata": {},
   "outputs": [
    {
     "data": {
      "text/html": [
       "<div>\n",
       "<style scoped>\n",
       "    .dataframe tbody tr th:only-of-type {\n",
       "        vertical-align: middle;\n",
       "    }\n",
       "\n",
       "    .dataframe tbody tr th {\n",
       "        vertical-align: top;\n",
       "    }\n",
       "\n",
       "    .dataframe thead th {\n",
       "        text-align: right;\n",
       "    }\n",
       "</style>\n",
       "<table border=\"1\" class=\"dataframe\">\n",
       "  <thead>\n",
       "    <tr style=\"text-align: right;\">\n",
       "      <th></th>\n",
       "      <th>type</th>\n",
       "      <th>title</th>\n",
       "      <th>content</th>\n",
       "    </tr>\n",
       "  </thead>\n",
       "  <tbody>\n",
       "    <tr>\n",
       "      <th>27</th>\n",
       "      <td>1.0</td>\n",
       "      <td>Surprise: Socialist Hotbed Of Venezuela Has Lost Half It’s Economy</td>\n",
       "      <td>Surprise: Socialist Hotbed Of Venezuela Has Lost Half It’s Economy Headline: Bitcoin &amp; Blockchain Searches Exceed Trump! Blockchain Stocks Are Next!\\n\\nQuite frankly, I’m surprised it has half left. This is a country that cannot even produce toilet paper and beer. And they’re stealing zoo animals for food. Here we have a Progressive/Marxist/Socialist station (CNN) telling us about how bad things are in a PMS nation\\n\\nHalf the Venezuelan economy has disappeared\\n\\nIt’s getting worse. Unemployment will reach 30% and prices on all types of goods in the country will rise 13,000% this year, according to new figures published Thursday by the International Monetary Fund.\\n\\nThe IMF’s economist for the Western Hemisphere, Alejandro Werner, put Venezuela’s future bluntly.\\n\\n“In Venezuela, the crisis continues,” Werner said in a blog post. He added that inflation is skyrocketing this year because of “the loss of confidence in the nation’s currency.”\\n\\nThis year will mark the third consecutive year of double-digit contractions in Venezuela’s gross domestic product, the broadest measure of economic activity. The nation’s GDP declined 16% in 2016, 14% last year and it’s projected to fall 15% this year, according to the IMF.\\n\\nVenezuela is deep into an economic, political and humanitarian crisis, largely inflicted by the government’s own policies, economists say. Food and medical shortages are widespread. People are scavenging for food in dumpsters. Citizens are fleeing by the thousands. The currency, the bolivar, is nearly worthless. The government has defaulted on its debt. World leaders are calling President Nicolas Maduro a dictator.</td>\n",
       "    </tr>\n",
       "    <tr>\n",
       "      <th>28</th>\n",
       "      <td>1.0</td>\n",
       "      <td>Water Cooler 1/25/18 Open Thread; Fake News ? CNN Still Won’t Correct Fake Story; Feminists Demand Feminist Science; Grumpy Cat Goes To Court</td>\n",
       "      <td>Water Cooler 1/25/18 Open Thread; Fake News ? CNN Still Won’t Correct Fake Story; Feminists Demand Feminist Science; Grumpy Cat Goes To Court Water Cooler 1/25/18 Open Thread; Fake News ? CNN Still Won’t Correct Fake Story; Feminists Demand Feminist Science; Grumpy Cat Goes To Court\\n\\n% of readers think this story is Fact. Add your two cents.\\n\\nHeadline: Bitcoin &amp; Blockchain Searches Exceed Trump! Blockchain Stocks Are Next!\\n\\nIf You Are Upset About Being Called Fake News, You Might Just Try Not Printing It.\\n\\n\\n\\nCNN has arguably been the biggest source of questionable attack journalism directed at the current administration, and without argument the biggest crybaby when it comes to the administration pointing out their problems and poor reporting. Contrary to what some people may say, the press and politicians attacking each other with words is not a constitutional crisis matter of fact it’s one of the ways you know things are working properly in our little republic. The time to worry is when the politicians and the press just have nice things to say about each other. Either way, it’s the citizens that decide what’s what, what’s important and what’s fake, and if CNN want’s to make the case they are the victim they could try correcting and apologizing for false stories in a timely fashion, unlike this one.\\n\\nNearly seven months after falsely accusing President Donald Trump of getting the facts wrong on classified information that former Federal Bureau of Investigation (FBI) director James Comey leaked after he was fired, CNN still hasn’t corrected its false story on the matter. On the heels of numerous other false stories published or broadcast by the cable network, the latest failure of the network to correct false reporting raises serious questions about its commitment to accuracy. Last July, Trump blasted Comey on Twitter for leaking classified information. “James Comey leaked CLASSIFIED INFORMATION to the media. That is so illegal!” CNN’s Jake Tapper, however, took issue with Trump’s statement, and wrote the following lede and supporting paragraphs in a CNN story accusing the president of peddling false information about the nature of the information leaked by James Comey after he was fired by the president: As it turns out, however, the information leaked by Comey was classified, and the records in his possession were clearly government records which Comey was not authorized to possess or distribute. How do we know the information was classified? Because the FBI itself told Congress as much. In fact, the information leaked by Comey was so sensitive that members of Congress were not even allowed to read the memos he wrote outside of a Special Compartmented Information Facility, or SCIF, a highly secure room or area designed to prevent classified information consumed within from being improperly distributed. —The Federalist\\n\\nJake Tapper not understanding our nations rather involved rules for classification of government documents is understandable. CNN complaining it gets unfairly labeled fake news when it won’t fix the story well that’s at best whiny and it does raise the question why are they willing to keep this out there ?\\n\\n“Feminist Science”, If That Reads Wrong To You Pat Yourself On The Back\\n\\n\\n\\nWell I hope they will be purging that horrible misogynist Sodium soon. He has been getting free pass forever, same with his buddy Hydrogen and maybe Helium will get some of the credit she so rightly deserves.\\n\\nSorry hard to write seriously about people trying attach our petty squabbles to things that aren’t even aware we exist. Unfortunately that’s just what is happening at UC Santa Cruz\\n\\nOf course science is now under siege by SJWs, because that’s what they do. For example, see the event being held at UC Santa Cruz titled “Research Justice 101: Tools for Feminist Science.” Yes, “feminist science.” The event description reads: Participants will be challenged to apply principles and practices of justice to their own work, interrogating questions such as: Who benefits? Who is harmed? Who is most vulnerable? … And ultimately, who do we do science for, and why? The workshop will conclude with practical skills and resources for participants to push their research communities to be more inclusive, equitable and attentive to social justice. The event is being organized by an Los Angeles-based group titled — sigh — “Free Radicals.” According to The College Fix: The mission of the Free Radicals is to enact political and social change by advocating scientists “think through the hidden assumptions in their methodological approaches and challenges researchers to think more deeply about the political implications of their work,” its website states. Got that? They want scientists to only undertake studies and only publish conclusions that will support a radical feminist worldview. –PJMedia\\n\\nI can only hope the people promoting this will one day be treated by doctors who were fully indoctrinated in the precepts and with drugs that were made by people who were more worried about political correctness than efficacy.\\n\\nHe’s Not Just Grumpy He Has A Lawyer.\\n\\n\\n\\nIf you thought Grumpy Cat was just another cute feline, think again.\\n\\nA cat made famous online because of its permanent scowl has been awarded $710,000 (£500,000) in a copyright case by a California federal court. Grumpy Cat Limited sued the owners of US coffee company Grenade for exceeding an agreement over the cat’s image. The company only had rights to use the cat to sell its “Grumppuccino” iced drink, but sold other Grumpy products. The cat, real name Tardar Sauce, went viral in 2012 after photographs of her sour expression emerged online. Originally posted on the social website Reddit by the brother of the cat’s owner, Tabatha Bundesen, the image of the cat quickly spread as a meme with funny text captions. In 2013 Grenade Beverage, owned by father and son Nick and Paul Sandford, struck a $150,000 deal to market iced coffee beverages with the cat’s scowl on its packaging. But in 2015 Grumpy Cat Limited sued them for breaching that contract. A court filing claimed they had exceeded the deal by selling roasted coffee and Grumppucino T-shirts, which Grumpy Cat said “blatantly infringed” their copyrights and trademarks. –BBC\\n\\nApparently claws weren’t enough and Grumpy upgraded to lawyers.\\n\\nDrink up That’s it for the Watercooler today. As always it’s an open thread\\n\\nThe post Water Cooler 1/25/18 Open Thread; Fake News ? CNN Still Won’t Correct Fake Story; Feminists Demand Feminist Science; Grumpy Cat Goes To Court appeared first on RedState.\\n\\nSource: https://www.redstate.com/diary/Joliphant/2018/01/25/water-cooler-12518-open-thread-fake-news-cnn-still-wont-correct-fake-story-feminists-demand-feminist-science-grumpy-cat-goes-court/</td>\n",
       "    </tr>\n",
       "  </tbody>\n",
       "</table>\n",
       "</div>"
      ],
      "text/plain": [
       "    type  \\\n",
       "27  1.0    \n",
       "28  1.0    \n",
       "\n",
       "                                                                                                                                            title  \\\n",
       "27  Surprise: Socialist Hotbed Of Venezuela Has Lost Half It’s Economy                                                                              \n",
       "28  Water Cooler 1/25/18 Open Thread; Fake News ? CNN Still Won’t Correct Fake Story; Feminists Demand Feminist Science; Grumpy Cat Goes To Court   \n",
       "\n",
       "                                                                                                                                                                                                                                                                                                                                                                                                                                                                                                                                                                                                                                                                                                                                                                                                                                                                                                                                                                                                                                                                                                                                                                                                                                                                                                                                                                                                                                                                                                                                                                                                                                                                                                                                                                                                                                                                                                                                                                                                                                                                                                                                                                                                                                                                                                                                                                                                                                                                                                                                                                                                                                                                                                                                                                                                                                                                                                                                                                                                                                                                                                                                                                                                                                                                                                                                                                                                                                                                                                                                                                                                                                                                                                                                                                                                                                                                                                                                                                                                                                                                                                                                                                                                                                                                                                                                                                                                                                                                                                                                                                                                                                                                                                                                                                                                                                                                                                                                                                                                                                                                                                                                                                                                                                                                                                                                                                                                                                                                                                                                                                                                                                                                                                                                                                                                                                                                                                                                                                                                                                                                                                                                                                                                                                                                                                                                                                                                                                                                                                                                                                                                                                                                                                                                                                                                                                                                                                                                                                                                                                                                                                            content  \n",
       "27  Surprise: Socialist Hotbed Of Venezuela Has Lost Half It’s Economy Headline: Bitcoin & Blockchain Searches Exceed Trump! Blockchain Stocks Are Next!\\n\\nQuite frankly, I’m surprised it has half left. This is a country that cannot even produce toilet paper and beer. And they’re stealing zoo animals for food. Here we have a Progressive/Marxist/Socialist station (CNN) telling us about how bad things are in a PMS nation\\n\\nHalf the Venezuelan economy has disappeared\\n\\nIt’s getting worse. Unemployment will reach 30% and prices on all types of goods in the country will rise 13,000% this year, according to new figures published Thursday by the International Monetary Fund.\\n\\nThe IMF’s economist for the Western Hemisphere, Alejandro Werner, put Venezuela’s future bluntly.\\n\\n“In Venezuela, the crisis continues,” Werner said in a blog post. He added that inflation is skyrocketing this year because of “the loss of confidence in the nation’s currency.”\\n\\nThis year will mark the third consecutive year of double-digit contractions in Venezuela’s gross domestic product, the broadest measure of economic activity. The nation’s GDP declined 16% in 2016, 14% last year and it’s projected to fall 15% this year, according to the IMF.\\n\\nVenezuela is deep into an economic, political and humanitarian crisis, largely inflicted by the government’s own policies, economists say. Food and medical shortages are widespread. People are scavenging for food in dumpsters. Citizens are fleeing by the thousands. The currency, the bolivar, is nearly worthless. The government has defaulted on its debt. World leaders are calling President Nicolas Maduro a dictator.                                                                                                                                                                                                                                                                                                                                                                                                                                                                                                                                                                                                                                                                                                                                                                                                                                                                                                                                                                                                                                                                                                                                                                                                                                                                                                                                                                                                                                                                                                                                                                                                                                                                                                                                                                                                                                                                                                                                                                                                                                                                                                                                                                                                                                                                                                                                                                                                                                                                                                                                                                                                                                                                                                                                                                                                                                                                                                                                                                                                                                                                                                                                                                                                                                                                                                                                                                                                                                                                                                                                                                                                                                                                                                                                                                                                                                                                                                                                                                                                                                                                                                                                                                                                                                                                                                                                                                                                                                                                                                                                                                                                                                                                                                                                                                                                                                                                                                                                                                                                                                                                                                                                                                                                                                                                                                                                                                                          \n",
       "28  Water Cooler 1/25/18 Open Thread; Fake News ? CNN Still Won’t Correct Fake Story; Feminists Demand Feminist Science; Grumpy Cat Goes To Court Water Cooler 1/25/18 Open Thread; Fake News ? CNN Still Won’t Correct Fake Story; Feminists Demand Feminist Science; Grumpy Cat Goes To Court\\n\\n% of readers think this story is Fact. Add your two cents.\\n\\nHeadline: Bitcoin & Blockchain Searches Exceed Trump! Blockchain Stocks Are Next!\\n\\nIf You Are Upset About Being Called Fake News, You Might Just Try Not Printing It.\\n\\n\\n\\nCNN has arguably been the biggest source of questionable attack journalism directed at the current administration, and without argument the biggest crybaby when it comes to the administration pointing out their problems and poor reporting. Contrary to what some people may say, the press and politicians attacking each other with words is not a constitutional crisis matter of fact it’s one of the ways you know things are working properly in our little republic. The time to worry is when the politicians and the press just have nice things to say about each other. Either way, it’s the citizens that decide what’s what, what’s important and what’s fake, and if CNN want’s to make the case they are the victim they could try correcting and apologizing for false stories in a timely fashion, unlike this one.\\n\\nNearly seven months after falsely accusing President Donald Trump of getting the facts wrong on classified information that former Federal Bureau of Investigation (FBI) director James Comey leaked after he was fired, CNN still hasn’t corrected its false story on the matter. On the heels of numerous other false stories published or broadcast by the cable network, the latest failure of the network to correct false reporting raises serious questions about its commitment to accuracy. Last July, Trump blasted Comey on Twitter for leaking classified information. “James Comey leaked CLASSIFIED INFORMATION to the media. That is so illegal!” CNN’s Jake Tapper, however, took issue with Trump’s statement, and wrote the following lede and supporting paragraphs in a CNN story accusing the president of peddling false information about the nature of the information leaked by James Comey after he was fired by the president: As it turns out, however, the information leaked by Comey was classified, and the records in his possession were clearly government records which Comey was not authorized to possess or distribute. How do we know the information was classified? Because the FBI itself told Congress as much. In fact, the information leaked by Comey was so sensitive that members of Congress were not even allowed to read the memos he wrote outside of a Special Compartmented Information Facility, or SCIF, a highly secure room or area designed to prevent classified information consumed within from being improperly distributed. —The Federalist\\n\\nJake Tapper not understanding our nations rather involved rules for classification of government documents is understandable. CNN complaining it gets unfairly labeled fake news when it won’t fix the story well that’s at best whiny and it does raise the question why are they willing to keep this out there ?\\n\\n“Feminist Science”, If That Reads Wrong To You Pat Yourself On The Back\\n\\n\\n\\nWell I hope they will be purging that horrible misogynist Sodium soon. He has been getting free pass forever, same with his buddy Hydrogen and maybe Helium will get some of the credit she so rightly deserves.\\n\\nSorry hard to write seriously about people trying attach our petty squabbles to things that aren’t even aware we exist. Unfortunately that’s just what is happening at UC Santa Cruz\\n\\nOf course science is now under siege by SJWs, because that’s what they do. For example, see the event being held at UC Santa Cruz titled “Research Justice 101: Tools for Feminist Science.” Yes, “feminist science.” The event description reads: Participants will be challenged to apply principles and practices of justice to their own work, interrogating questions such as: Who benefits? Who is harmed? Who is most vulnerable? … And ultimately, who do we do science for, and why? The workshop will conclude with practical skills and resources for participants to push their research communities to be more inclusive, equitable and attentive to social justice. The event is being organized by an Los Angeles-based group titled — sigh — “Free Radicals.” According to The College Fix: The mission of the Free Radicals is to enact political and social change by advocating scientists “think through the hidden assumptions in their methodological approaches and challenges researchers to think more deeply about the political implications of their work,” its website states. Got that? They want scientists to only undertake studies and only publish conclusions that will support a radical feminist worldview. –PJMedia\\n\\nI can only hope the people promoting this will one day be treated by doctors who were fully indoctrinated in the precepts and with drugs that were made by people who were more worried about political correctness than efficacy.\\n\\nHe’s Not Just Grumpy He Has A Lawyer.\\n\\n\\n\\nIf you thought Grumpy Cat was just another cute feline, think again.\\n\\nA cat made famous online because of its permanent scowl has been awarded $710,000 (£500,000) in a copyright case by a California federal court. Grumpy Cat Limited sued the owners of US coffee company Grenade for exceeding an agreement over the cat’s image. The company only had rights to use the cat to sell its “Grumppuccino” iced drink, but sold other Grumpy products. The cat, real name Tardar Sauce, went viral in 2012 after photographs of her sour expression emerged online. Originally posted on the social website Reddit by the brother of the cat’s owner, Tabatha Bundesen, the image of the cat quickly spread as a meme with funny text captions. In 2013 Grenade Beverage, owned by father and son Nick and Paul Sandford, struck a $150,000 deal to market iced coffee beverages with the cat’s scowl on its packaging. But in 2015 Grumpy Cat Limited sued them for breaching that contract. A court filing claimed they had exceeded the deal by selling roasted coffee and Grumppucino T-shirts, which Grumpy Cat said “blatantly infringed” their copyrights and trademarks. –BBC\\n\\nApparently claws weren’t enough and Grumpy upgraded to lawyers.\\n\\nDrink up That’s it for the Watercooler today. As always it’s an open thread\\n\\nThe post Water Cooler 1/25/18 Open Thread; Fake News ? CNN Still Won’t Correct Fake Story; Feminists Demand Feminist Science; Grumpy Cat Goes To Court appeared first on RedState.\\n\\nSource: https://www.redstate.com/diary/Joliphant/2018/01/25/water-cooler-12518-open-thread-fake-news-cnn-still-wont-correct-fake-story-feminists-demand-feminist-science-grumpy-cat-goes-court/  "
      ]
     },
     "execution_count": 19,
     "metadata": {},
     "output_type": "execute_result"
    }
   ],
   "source": [
    "df_concat.head(2)"
   ]
  },
  {
   "cell_type": "markdown",
   "metadata": {},
   "source": [
    "# 2.1.- Unir titular y contenido \n",
    "TODO: Redactar\n",
    "El titular de una noticia aporta información de gran relevancia que a menudo sintetiza toda la información de la noticia en unas pocas palabras, por lo que resultará de gran utilidad a la hora de determinar la veracidad de una noticia"
   ]
  },
  {
   "cell_type": "code",
   "execution_count": 20,
   "metadata": {
    "scrolled": true
   },
   "outputs": [
    {
     "name": "stdout",
     "output_type": "stream",
     "text": [
      "Wall time: 0 ns\n"
     ]
    }
   ],
   "source": [
    "%%time # Hecho anteriormente\n",
    "# df_concat['content'] = df_concat['title'] + ' ' + df_concat['content']"
   ]
  },
  {
   "cell_type": "markdown",
   "metadata": {},
   "source": [
    "Una vez hecho esto, podemos eliminar la columna title"
   ]
  },
  {
   "cell_type": "code",
   "execution_count": 21,
   "metadata": {},
   "outputs": [
    {
     "name": "stdout",
     "output_type": "stream",
     "text": [
      "Wall time: 208 ms\n"
     ]
    }
   ],
   "source": [
    "%%time\n",
    "df_concat.drop(['title'], axis=1, inplace=True)"
   ]
  },
  {
   "cell_type": "code",
   "execution_count": 22,
   "metadata": {},
   "outputs": [
    {
     "data": {
      "text/html": [
       "<div>\n",
       "<style scoped>\n",
       "    .dataframe tbody tr th:only-of-type {\n",
       "        vertical-align: middle;\n",
       "    }\n",
       "\n",
       "    .dataframe tbody tr th {\n",
       "        vertical-align: top;\n",
       "    }\n",
       "\n",
       "    .dataframe thead th {\n",
       "        text-align: right;\n",
       "    }\n",
       "</style>\n",
       "<table border=\"1\" class=\"dataframe\">\n",
       "  <thead>\n",
       "    <tr style=\"text-align: right;\">\n",
       "      <th></th>\n",
       "      <th>type</th>\n",
       "      <th>content</th>\n",
       "    </tr>\n",
       "  </thead>\n",
       "  <tbody>\n",
       "    <tr>\n",
       "      <th>27</th>\n",
       "      <td>1.0</td>\n",
       "      <td>Surprise: Socialist Hotbed Of Venezuela Has Lost Half It’s Economy Headline: Bitcoin &amp; Blockchain Searches Exceed Trump! Blockchain Stocks Are Next!\\n\\nQuite frankly, I’m surprised it has half left. This is a country that cannot even produce toilet paper and beer. And they’re stealing zoo animals for food. Here we have a Progressive/Marxist/Socialist station (CNN) telling us about how bad things are in a PMS nation\\n\\nHalf the Venezuelan economy has disappeared\\n\\nIt’s getting worse. Unemployment will reach 30% and prices on all types of goods in the country will rise 13,000% this year, according to new figures published Thursday by the International Monetary Fund.\\n\\nThe IMF’s economist for the Western Hemisphere, Alejandro Werner, put Venezuela’s future bluntly.\\n\\n“In Venezuela, the crisis continues,” Werner said in a blog post. He added that inflation is skyrocketing this year because of “the loss of confidence in the nation’s currency.”\\n\\nThis year will mark the third consecutive year of double-digit contractions in Venezuela’s gross domestic product, the broadest measure of economic activity. The nation’s GDP declined 16% in 2016, 14% last year and it’s projected to fall 15% this year, according to the IMF.\\n\\nVenezuela is deep into an economic, political and humanitarian crisis, largely inflicted by the government’s own policies, economists say. Food and medical shortages are widespread. People are scavenging for food in dumpsters. Citizens are fleeing by the thousands. The currency, the bolivar, is nearly worthless. The government has defaulted on its debt. World leaders are calling President Nicolas Maduro a dictator.</td>\n",
       "    </tr>\n",
       "  </tbody>\n",
       "</table>\n",
       "</div>"
      ],
      "text/plain": [
       "    type  \\\n",
       "27  1.0    \n",
       "\n",
       "                                                                                                                                                                                                                                                                                                                                                                                                                                                                                                                                                                                                                                                                                                                                                                                                                                                                                                                                                                                                                                                                                                                                                                                                                                                                                                                                                                                                                                                                                                                                                                                                                                                                                                                    content  \n",
       "27  Surprise: Socialist Hotbed Of Venezuela Has Lost Half It’s Economy Headline: Bitcoin & Blockchain Searches Exceed Trump! Blockchain Stocks Are Next!\\n\\nQuite frankly, I’m surprised it has half left. This is a country that cannot even produce toilet paper and beer. And they’re stealing zoo animals for food. Here we have a Progressive/Marxist/Socialist station (CNN) telling us about how bad things are in a PMS nation\\n\\nHalf the Venezuelan economy has disappeared\\n\\nIt’s getting worse. Unemployment will reach 30% and prices on all types of goods in the country will rise 13,000% this year, according to new figures published Thursday by the International Monetary Fund.\\n\\nThe IMF’s economist for the Western Hemisphere, Alejandro Werner, put Venezuela’s future bluntly.\\n\\n“In Venezuela, the crisis continues,” Werner said in a blog post. He added that inflation is skyrocketing this year because of “the loss of confidence in the nation’s currency.”\\n\\nThis year will mark the third consecutive year of double-digit contractions in Venezuela’s gross domestic product, the broadest measure of economic activity. The nation’s GDP declined 16% in 2016, 14% last year and it’s projected to fall 15% this year, according to the IMF.\\n\\nVenezuela is deep into an economic, political and humanitarian crisis, largely inflicted by the government’s own policies, economists say. Food and medical shortages are widespread. People are scavenging for food in dumpsters. Citizens are fleeing by the thousands. The currency, the bolivar, is nearly worthless. The government has defaulted on its debt. World leaders are calling President Nicolas Maduro a dictator.  "
      ]
     },
     "execution_count": 22,
     "metadata": {},
     "output_type": "execute_result"
    }
   ],
   "source": [
    "df_concat.head(1)"
   ]
  },
  {
   "cell_type": "markdown",
   "metadata": {},
   "source": [
    "# 2.15.- Exportar a csv\n",
    "Exportamos el dataset a csv y lo volvemos a cargar (explicar que esto se debe a problemas de memoria)"
   ]
  },
  {
   "cell_type": "code",
   "execution_count": 23,
   "metadata": {},
   "outputs": [
    {
     "name": "stdout",
     "output_type": "stream",
     "text": [
      "Wall time: 9min 28s\n"
     ]
    }
   ],
   "source": [
    "%%time\n",
    "df_concat.to_csv('fakeAndReliable_unbalanced.csv', index=False)"
   ]
  },
  {
   "cell_type": "code",
   "execution_count": 42,
   "metadata": {},
   "outputs": [],
   "source": [
    "# Borramos las variables anteriores para liberar memoria\n",
    "del df_chunk\n",
    "del df_concat"
   ]
  },
  {
   "cell_type": "code",
   "execution_count": 43,
   "metadata": {},
   "outputs": [],
   "source": [
    "df = pd.read_csv(r'fakeAndReliable_unbalanced.csv', chunksize = 30000, engine = 'python', encoding=\"utf-8\") # engine = 'python'\n"
   ]
  },
  {
   "cell_type": "code",
   "execution_count": 44,
   "metadata": {
    "scrolled": true
   },
   "outputs": [
    {
     "name": "stdout",
     "output_type": "stream",
     "text": [
      "Finalizada iteración #1, hora local: 18:0\n",
      "Finalizada iteración #2, hora local: 18:10\n",
      "Finalizada iteración #3, hora local: 18:20\n",
      "Finalizada iteración #4, hora local: 18:29\n",
      "Finalizada iteración #5, hora local: 18:39\n",
      "Finalizada iteración #6, hora local: 18:48\n",
      "Finalizada iteración #7, hora local: 18:58\n",
      "Finalizada iteración #8, hora local: 19:7\n",
      "Finalizada iteración #9, hora local: 19:17\n",
      "Finalizada iteración #10, hora local: 19:28\n",
      "Finalizada iteración #11, hora local: 19:36\n",
      "Finalizada iteración #12, hora local: 19:44\n",
      "Finalizada iteración #13, hora local: 19:52\n",
      "Finalizada iteración #14, hora local: 20:1\n",
      "Finalizada iteración #15, hora local: 20:9\n",
      "Finalizada iteración #16, hora local: 20:18\n",
      "Finalizada iteración #17, hora local: 20:27\n",
      "Finalizada iteración #18, hora local: 20:33\n",
      "Finalizada iteración #19, hora local: 20:40\n",
      "Finalizada iteración #20, hora local: 20:48\n",
      "Finalizada iteración #21, hora local: 20:56\n",
      "Finalizada iteración #22, hora local: 21:4\n",
      "Finalizada iteración #23, hora local: 21:13\n",
      "Finalizada iteración #24, hora local: 21:22\n",
      "Finalizada iteración #25, hora local: 21:31\n",
      "Finalizada iteración #26, hora local: 21:40\n",
      "Finalizada iteración #27, hora local: 21:49\n",
      "Finalizada iteración #28, hora local: 21:58\n",
      "Finalizada iteración #29, hora local: 22:7\n",
      "Finalizada iteración #30, hora local: 22:16\n",
      "Finalizada iteración #31, hora local: 22:25\n",
      "Finalizada iteración #32, hora local: 22:35\n",
      "Finalizada iteración #33, hora local: 22:44\n",
      "Finalizada iteración #34, hora local: 22:53\n",
      "Finalizada iteración #35, hora local: 23:2\n",
      "Finalizada iteración #36, hora local: 23:11\n",
      "Finalizada iteración #37, hora local: 23:20\n",
      "Finalizada iteración #38, hora local: 23:29\n",
      "Finalizada iteración #39, hora local: 23:37\n",
      "Finalizada iteración #40, hora local: 23:46\n",
      "Finalizada iteración #41, hora local: 23:55\n",
      "Finalizada iteración #42, hora local: 0:4\n",
      "Finalizada iteración #43, hora local: 0:13\n",
      "Finalizada iteración #44, hora local: 0:23\n",
      "Finalizada iteración #45, hora local: 0:32\n",
      "Finalizada iteración #46, hora local: 0:41\n",
      "Finalizada iteración #47, hora local: 11:42\n",
      "Finalizada iteración #48, hora local: 11:51\n",
      "Finalizada iteración #49, hora local: 12:1\n",
      "Finalizada iteración #50, hora local: 12:11\n",
      "Finalizada iteración #51, hora local: 12:21\n",
      "Finalizada iteración #52, hora local: 12:31\n",
      "Finalizada iteración #53, hora local: 12:42\n",
      "Finalizada iteración #54, hora local: 12:52\n",
      "Finalizada iteración #55, hora local: 13:2\n",
      "Finalizada iteración #56, hora local: 13:12\n",
      "Finalizada iteración #57, hora local: 13:23\n",
      "Finalizada iteración #58, hora local: 13:34\n",
      "Finalizada iteración #59, hora local: 13:44\n",
      "Finalizada iteración #60, hora local: 13:55\n",
      "Finalizada iteración #61, hora local: 14:5\n",
      "Finalizada iteración #62, hora local: 14:16\n",
      "Finalizada iteración #63, hora local: 14:27\n",
      "Finalizada iteración #64, hora local: 14:38\n",
      "Finalizada iteración #65, hora local: 14:49\n",
      "Finalizada iteración #66, hora local: 14:59\n",
      "Finalizada iteración #67, hora local: 15:10\n",
      "Finalizada iteración #68, hora local: 15:20\n",
      "Finalizada iteración #69, hora local: 15:31\n",
      "Finalizada iteración #70, hora local: 15:41\n",
      "Finalizada iteración #71, hora local: 15:52\n",
      "Finalizada iteración #72, hora local: 16:2\n",
      "Finalizada iteración #73, hora local: 16:13\n",
      "Finalizada iteración #74, hora local: 16:23\n",
      "Finalizada iteración #75, hora local: 16:33\n",
      "Finalizada iteración #76, hora local: 16:44\n",
      "Finalizada iteración #77, hora local: 16:55\n",
      "Finalizada iteración #78, hora local: 17:6\n",
      "Finalizada iteración #79, hora local: 17:17\n",
      "Finalizada iteración #80, hora local: 17:29\n",
      "Finalizada iteración #81, hora local: 17:40\n",
      "Finalizada iteración #82, hora local: 17:52\n",
      "Finalizada iteración #83, hora local: 18:5\n",
      "Finalizada iteración #84, hora local: 18:17\n",
      "Finalizada iteración #85, hora local: 18:29\n",
      "Finalizada iteración #86, hora local: 18:41\n",
      "Finalizada iteración #87, hora local: 18:54\n",
      "Finalizada iteración #88, hora local: 19:6\n",
      "Finalizada iteración #89, hora local: 19:19\n",
      "Finalizada iteración #90, hora local: 19:32\n",
      "Finalizada iteración #91, hora local: 19:45\n",
      "Finalizada iteración #92, hora local: 20:0\n",
      "Finalizada iteración #93, hora local: 20:15\n",
      "Finalizada iteración #94, hora local: 20:25\n",
      "Wall time: 1d 2h 36min 7s\n"
     ]
    }
   ],
   "source": [
    "%%time\n",
    "\n",
    "import datetime as dt\n",
    "chunk_list = []\n",
    "i = 0\n",
    "for i, chunk in enumerate(df):\n",
    "    \n",
    "    chunk['content'] = chunk['content'].apply(nlp_f.tokenizer)\n",
    "    \n",
    "    i = i + 1\n",
    "    \n",
    "    chunk.to_csv('chunks/preprocessed_chunk_{}.csv'.format(i), index=False)\n",
    "\n",
    "    now = dt.datetime.now()\n",
    "    time = str(now.hour) + ':' + str(now.minute)\n",
    "    \n",
    "    print('Finalizada iteración #{}, hora local: {}'.format(i, time))\n",
    "     \n",
    "    \n",
    "#     chunk['content'] = chunk['content'].apply(nlp_f.tokenizer)\n",
    "    \n",
    "#     chunk_list.append(chunk)\n",
    "    \n",
    "#     i = i + 1\n",
    "    \n",
    "#     if i%5==0:\n",
    "#         print('Iteración {} de 100'.format(i))\n",
    "    \n",
    "# Concatenamos los chunks filtrados en un objeto de tipo dataframe\n",
    "# df_preprocessed = pd.concat(chunk_list)"
   ]
  },
  {
   "cell_type": "markdown",
   "metadata": {},
   "source": [
    "# 2.2.- Aplicar función de preprocesado\n",
    "Aplicamos la función de preprocesado al conjunto de datos para poder realizar un estudio de la longitud de las noticias una vez tokenizado el documento"
   ]
  },
  {
   "cell_type": "code",
   "execution_count": null,
   "metadata": {},
   "outputs": [],
   "source": []
  },
  {
   "cell_type": "code",
   "execution_count": null,
   "metadata": {},
   "outputs": [],
   "source": [
    "%%time\n",
    " # Implementado más arriba\n",
    "# df_concat['content'] = df_concat['content'].apply(nlp_f.tokenizer)"
   ]
  },
  {
   "cell_type": "markdown",
   "metadata": {},
   "source": [
    "# 2.3.- Análisis del parámetro length\n",
    "Añadimos una columna length que nos permitirá estudiar el tamaño de las noticias"
   ]
  },
  {
   "cell_type": "code",
   "execution_count": null,
   "metadata": {},
   "outputs": [],
   "source": [
    "%%time\n",
    "df_concat['length'] = df_concat['content'].str.len()"
   ]
  },
  {
   "cell_type": "code",
   "execution_count": null,
   "metadata": {},
   "outputs": [],
   "source": [
    "df_concat.head(1)"
   ]
  },
  {
   "cell_type": "code",
   "execution_count": null,
   "metadata": {},
   "outputs": [],
   "source": [
    "%%time\n",
    "# Datos sobre longitud tras preprocesado\n",
    "df_concat['length'].describe()"
   ]
  },
  {
   "cell_type": "code",
   "execution_count": null,
   "metadata": {},
   "outputs": [],
   "source": [
    "plt.title('Histograma del número de palabras por noticia tras preprocesado con {} bins: '.format(1000))\n",
    "plt.hist(df_concat['length'], bins = 1000)\n",
    "plt.xlabel('Número de palabras')\n",
    "plt.ylabel('Número de noticias')\n",
    "plt.show()"
   ]
  },
  {
   "cell_type": "markdown",
   "metadata": {},
   "source": [
    "# 2.4.- Reducción del dataset en función del tamaño de las noticias"
   ]
  },
  {
   "cell_type": "code",
   "execution_count": null,
   "metadata": {},
   "outputs": [],
   "source": [
    "# Podemos recortar las noticias con más de 1000 palabras, ya que son escasas en número\n",
    "# Añadir corte por debajo también\n",
    "reduced_list = [x for x in df_concat['length'] if x <= 1000]\n",
    "\n",
    "plt.title('Histograma del número de palabras por noticia tras preprocesado con {} bins RECORTE INCLUIDO '.format(100))\n",
    "plt.hist(reduced_list, bins = 100)\n",
    "plt.xlabel('Número de palabras')\n",
    "plt.ylabel('Número de noticias')\n",
    "plt.show()"
   ]
  },
  {
   "cell_type": "code",
   "execution_count": null,
   "metadata": {},
   "outputs": [],
   "source": [
    "# Corte inferior alrededor de las 50 palabras (ver head) considerar aumentar \n",
    "# Corte superior alrededor de las 600 palabras (ver tail)\n",
    "df_concat = df_concat.loc[df['length'] >= 50]\n",
    "df_concat = df_concat.loc[df['length'] <= 600]\n",
    "len(df_concat)"
   ]
  },
  {
   "cell_type": "markdown",
   "metadata": {},
   "source": [
    "# 3.-Comprobar si el dataset está balanceado"
   ]
  },
  {
   "cell_type": "code",
   "execution_count": 20,
   "metadata": {
    "scrolled": true
   },
   "outputs": [
    {
     "name": "stdout",
     "output_type": "stream",
     "text": [
      "Número de noticias confiables: 1913205 (68%)\n",
      "Número de noticias falsas: 894737 (32%)\n"
     ]
    },
    {
     "data": {
      "image/png": "[encoded data removed]",
      "text/plain": [
       "<Figure size 432x288 with 1 Axes>"
      ]
     },
     "metadata": {},
     "output_type": "display_data"
    }
   ],
   "source": [
    "%%time\n",
    "reliable_length = len(df_concat.loc[df_concat['type']==0.])\n",
    "fake_length = len(df_concat.loc[df_concat['type']==1.])\n",
    "\n",
    "reliable_percentage = (reliable_length*100)/(reliable_length + fake_length)\n",
    "fake_percentage = (fake_length*100)/(reliable_length + fake_length)\n",
    "\n",
    "print('Número de noticias confiables: ' + str(reliable_length) + ' (' + str(round(reliable_percentage)) + '%)')\n",
    "print('Número de noticias falsas: ' + str(fake_length) + ' (' + str(round(fake_percentage)) + '%)')\n",
    "\n",
    "# Representación gráfica\n",
    "labels = 'Reliable', 'Fake'\n",
    "explode = (0.1, 0)\n",
    "plt.pie([reliable_length, fake_length], explode=explode, labels = labels, autopct = '%1.1f%%', shadow = True, startangle = 90)\n",
    "plt.title('Gráfico Circular Reliable vs Fake')\n",
    "plt.show()"
   ]
  },
  {
   "cell_type": "code",
   "execution_count": 21,
   "metadata": {},
   "outputs": [
    {
     "name": "stdout",
     "output_type": "stream",
     "text": [
      "Wall time: 11min 53s\n"
     ]
    }
   ],
   "source": [
    "%%time\n",
    "# Exportamos esta versión sin equilibrar (8GB)\n",
    "# df_concat.to_csv('fakeAndReliable_unbalanced.csv', index=False)"
   ]
  },
  {
   "cell_type": "markdown",
   "metadata": {},
   "source": [
    "### Balancear el dataset\n",
    "En el dataset actual, hay un 31.9% de fake news y un 68.1% de noticias fiables, por lo que es recomendable usar una técnica para equilibrar los datos. Vamos a emplear remuetreo, con dos posibles opciones:\n",
    "- Oversampling\n",
    "- Undersampling\n"
   ]
  },
  {
   "cell_type": "code",
   "execution_count": 2,
   "metadata": {},
   "outputs": [
    {
     "name": "stdout",
     "output_type": "stream",
     "text": [
      "Wall time: 4min 35s\n"
     ]
    }
   ],
   "source": [
    "%%time\n",
    "# Cargamos el dataset sin balancear\n",
    "df_unbalanced = pd.read_csv(r'fakeAndReliable_unbalanced.csv', engine = 'python', encoding=\"utf-8\")"
   ]
  },
  {
   "cell_type": "code",
   "execution_count": 3,
   "metadata": {
    "scrolled": true
   },
   "outputs": [
    {
     "data": {
      "image/png": "[encoded data removed]",
      "text/plain": [
       "<Figure size 432x288 with 1 Axes>"
      ]
     },
     "metadata": {
      "needs_background": "light"
     },
     "output_type": "display_data"
    },
    {
     "name": "stdout",
     "output_type": "stream",
     "text": [
      "1.0    894737\n",
      "0.0    894737\n",
      "Name: type, dtype: int64\n",
      "Wall time: 2.09 s\n"
     ]
    }
   ],
   "source": [
    "%%time\n",
    "# Contamos el número de noticias de cada tipo\n",
    "count_reliable, count_fake = df_unbalanced.type.value_counts()\n",
    "\n",
    "# Dividir por clases\n",
    "df_fake = df_unbalanced[df_unbalanced['type'] == 1.]\n",
    "df_reliable = df_unbalanced[df_unbalanced['type'] == 0.]\n",
    "\n",
    "# Random Undersampling\n",
    "df_reliable_under = df_reliable.sample(count_fake)\n",
    "\n",
    "# Creamos el dataset balanceado\n",
    "df_under = pd.concat([df_fake, df_reliable_under], axis = 0)\n",
    "\n",
    "# Comprobamos que el dataset resultante está balanceado\n",
    "df_under.type.value_counts().plot(kind='bar', title='Count')\n",
    "plt.show()\n",
    "\n",
    "print(df_under.type.value_counts())"
   ]
  },
  {
   "cell_type": "code",
   "execution_count": 4,
   "metadata": {},
   "outputs": [
    {
     "name": "stdout",
     "output_type": "stream",
     "text": [
      "Wall time: 5min 12s\n"
     ]
    }
   ],
   "source": [
    "%%time\n",
    "# Exportamos el dataset balanceado (5.11 GB)\n",
    "df_under.to_csv('fakeAndReliable_balanced.csv', index=False)"
   ]
  },
  {
   "cell_type": "markdown",
   "metadata": {},
   "source": [
    "### Extraemos conjuntos más pequeños\n",
    "Creamos un primer subset con 100.000 noticias de cada tipo, un segundo con 50.000 y un tercero con 2.000 (Este último solo se usará para comprobar la convergencia de los algoritmos)"
   ]
  },
  {
   "cell_type": "code",
   "execution_count": 2,
   "metadata": {},
   "outputs": [
    {
     "name": "stdout",
     "output_type": "stream",
     "text": [
      "Wall time: 2min 6s\n"
     ]
    }
   ],
   "source": [
    "%%time\n",
    "# Cargamos el dataset sin balancear\n",
    "df_balanced = pd.read_csv(r'fakeAndReliable_balanced.csv', engine = 'python', encoding=\"utf-8\")"
   ]
  },
  {
   "cell_type": "markdown",
   "metadata": {},
   "source": [
    "Definimos una función que cree subconjuntos balanceados de un tamaño dado"
   ]
  },
  {
   "cell_type": "code",
   "execution_count": 3,
   "metadata": {},
   "outputs": [],
   "source": [
    "def subset(df, size):\n",
    "    \n",
    "    # Dividir por clases\n",
    "    df_fake = df[df['type'] == 1.]\n",
    "    df_reliable = df[df['type'] == 0.]\n",
    "    \n",
    "    # Random Undersampling\n",
    "    df_reliable_under = df_reliable.sample(size)\n",
    "    df_fake_under = df_fake.sample(size)\n",
    "    \n",
    "    # Creamos el dataset balanceado\n",
    "    df_under = pd.concat([df_fake_under, df_reliable_under], axis = 0)\n",
    "    \n",
    "    return df_under"
   ]
  },
  {
   "cell_type": "markdown",
   "metadata": {},
   "source": [
    "Conjunto de 200.000 muestras:"
   ]
  },
  {
   "cell_type": "code",
   "execution_count": 4,
   "metadata": {},
   "outputs": [
    {
     "name": "stdout",
     "output_type": "stream",
     "text": [
      "Wall time: 522 ms\n"
     ]
    }
   ],
   "source": [
    "%%time\n",
    "df_balanced_200000 = subset(df_balanced, 100000)"
   ]
  },
  {
   "cell_type": "code",
   "execution_count": 5,
   "metadata": {},
   "outputs": [
    {
     "data": {
      "text/plain": [
       "type       200000\n",
       "title      200000\n",
       "content    200000\n",
       "dtype: int64"
      ]
     },
     "execution_count": 5,
     "metadata": {},
     "output_type": "execute_result"
    }
   ],
   "source": [
    "df_balanced_200000.count()"
   ]
  },
  {
   "cell_type": "code",
   "execution_count": 6,
   "metadata": {},
   "outputs": [],
   "source": [
    "# Exportamos el conjunto de datos (568 MB)\n",
    "df_balanced_200000.to_csv('fakeAndReliable_balanced200000.csv', index=False)"
   ]
  },
  {
   "cell_type": "markdown",
   "metadata": {},
   "source": [
    "Conjunto de 100.000 muestras"
   ]
  },
  {
   "cell_type": "code",
   "execution_count": 7,
   "metadata": {},
   "outputs": [],
   "source": [
    "df_balanced_100000 = subset(df_balanced, 50000)"
   ]
  },
  {
   "cell_type": "code",
   "execution_count": 9,
   "metadata": {},
   "outputs": [
    {
     "data": {
      "text/plain": [
       "type       100000\n",
       "title      100000\n",
       "content    100000\n",
       "dtype: int64"
      ]
     },
     "execution_count": 9,
     "metadata": {},
     "output_type": "execute_result"
    }
   ],
   "source": [
    "df_balanced_100000.count()"
   ]
  },
  {
   "cell_type": "code",
   "execution_count": 10,
   "metadata": {},
   "outputs": [],
   "source": [
    "%%time\n",
    "# Exportamos el conjunto de datos (300 MB)\n",
    "df_balanced_100000.to_csv('fakeAndReliable_balanced100000.csv', index=False)"
   ]
  },
  {
   "cell_type": "markdown",
   "metadata": {},
   "source": [
    "Conjunto de datos de 4000 muestras"
   ]
  },
  {
   "cell_type": "code",
   "execution_count": 11,
   "metadata": {},
   "outputs": [],
   "source": [
    "df_balanced_4000 = subset(df_balanced, 2000)"
   ]
  },
  {
   "cell_type": "code",
   "execution_count": 12,
   "metadata": {},
   "outputs": [
    {
     "data": {
      "text/plain": [
       "type       4000\n",
       "title      4000\n",
       "content    4000\n",
       "dtype: int64"
      ]
     },
     "execution_count": 12,
     "metadata": {},
     "output_type": "execute_result"
    }
   ],
   "source": [
    "df_balanced_4000.count()"
   ]
  },
  {
   "cell_type": "code",
   "execution_count": 13,
   "metadata": {},
   "outputs": [],
   "source": [
    "%%time\n",
    "# Exportamos el conjunto de datos (11 MB)\n",
    "df_balanced_4000.to_csv('fakeAndReliable_balanced4000.csv', index=False)"
   ]
  }
 ],
 "metadata": {
  "kernelspec": {
   "display_name": "Python 3",
   "language": "python",
   "name": "python3"
  },
  "language_info": {
   "codemirror_mode": {
    "name": "ipython",
    "version": 3
   },
   "file_extension": ".py",
   "mimetype": "text/x-python",
   "name": "python",
   "nbconvert_exporter": "python",
   "pygments_lexer": "ipython3",
   "version": "3.7.3"
  }
 },
 "nbformat": 4,
 "nbformat_minor": 2
}
