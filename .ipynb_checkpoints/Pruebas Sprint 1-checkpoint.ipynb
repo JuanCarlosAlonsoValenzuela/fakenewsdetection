{
 "cells": [
  {
   "cell_type": "markdown",
   "metadata": {},
   "source": [
    "# Pruebas Sprint 1\n",
    "En este notebook se concentran todas las pruebas relativas al código generado durante el sprint 1, para ejecutarlas es necesario colocar el archivo csv subset_test.csv y el archivo nlp_functions.py en el mismo directorio que este notebook y pulsar Cell -> Run All en Jupyter Notebook"
   ]
  },
  {
   "cell_type": "code",
   "execution_count": 8,
   "metadata": {},
   "outputs": [],
   "source": [
    "import pandas as pd\n",
    "import nlp_functions as nlp_f"
   ]
  },
  {
   "cell_type": "markdown",
   "metadata": {},
   "source": [
    "## Prueba 1: Lectura del fichero csv"
   ]
  },
  {
   "cell_type": "code",
   "execution_count": 3,
   "metadata": {},
   "outputs": [],
   "source": [
    "def prueba1():\n",
    "    print(\"Lectura del fichero csv. \\n\")\n",
    "    print(\"El archivo subset_test.csv debe encontarse en la misma carpeta que este notebook\")\n",
    "    \n",
    "    try:\n",
    "        datos = pd.read_csv('subset_test.csv')\n",
    "    except:\n",
    "        print('Error al leer el fichero csv')\n",
    "        raise\n",
    "        \n",
    "    print(\"El fichero se ha leído correctamente. Los primeros cinco elementos son:\")\n",
    "    print(datos.head())\n",
    "    print('-'*40)\n",
    "    print('Los últimos 5 elementos son:')\n",
    "    print(datos.tail())"
   ]
  },
  {
   "cell_type": "code",
   "execution_count": 4,
   "metadata": {},
   "outputs": [
    {
     "name": "stdout",
     "output_type": "stream",
     "text": [
      "Lectura del fichero csv. \n",
      "\n",
      "El archivo subset_test.csv debe encontarse en la misma carpeta que este notebook\n",
      "El fichero se ha leído correctamente. Los primeros cinco elementos son:\n",
      "   type                                              title  \\\n",
      "0   1.0  EPA Delays Rule to Limit Carbon Emissions from...   \n",
      "1   1.0  Marco Rubio Signals Possible Opposition To Rex...   \n",
      "2   1.0  UPDATE: Boehner Power Point of deal added- Sun...   \n",
      "3   1.0  Is Lack of Solemnity a Cause or a Symptom of O...   \n",
      "4   1.0  Free 45 minute session with “PlayBook pro spec...   \n",
      "\n",
      "                                             content  \n",
      "0  EPA Delays Rule to Limit Carbon Emissions from...  \n",
      "1  Marco Rubio Signals Possible Opposition To Rex...  \n",
      "2  UPDATE: Boehner sent a Power Point to his cauc...  \n",
      "3  (Before It's News)\\n\\nThe Ordinary Form at the...  \n",
      "4  Free 45 minute session with “PlayBook pro spec...  \n",
      "----------------------------------------\n",
      "Los últimos 5 elementos son:\n",
      "      type                                              title  \\\n",
      "3995   0.0                                            Wolfish   \n",
      "3996   0.0  Castro's Cuba, beacon in Latin America's lefti...   \n",
      "3997   0.0  Americas Silver Corporation Reports Third Quar...   \n",
      "3998   0.0    WATCH: Catching Up With the Cast of 'Moonlight'   \n",
      "3999   0.0         How Trade Deals Have Hurt American Workers   \n",
      "\n",
      "                                                content  \n",
      "3995  Photo\\n\\nThe Big Bad Wolf is a villain of long...  \n",
      "3996    Havana (AFP) – Beyond his native Caribbean i...  \n",
      "3997  RELATED QUOTES Symbol Price Change USA.TO 0.28...  \n",
      "3998  Video Transcript Transcript for Catching Up Wi...  \n",
      "3999  To the Editor:\\n\\n“More Jobs, but Not for Ever...  \n"
     ]
    }
   ],
   "source": [
    "prueba1()"
   ]
  },
  {
   "cell_type": "markdown",
   "metadata": {},
   "source": [
    "## Prueba 2: Preprocesado del dataset"
   ]
  },
  {
   "cell_type": "code",
   "execution_count": 6,
   "metadata": {},
   "outputs": [],
   "source": [
    "def prueba2():\n",
    "    try:\n",
    "        print(\"Lectura del fichero... \\n\")\n",
    "        datos = pd.read_csv('subset_test.csv')\n",
    "    except:\n",
    "        print(\"Error al leer el fichero csv\")\n",
    "        raise\n",
    "    print(\"El fichero se ha leído correctamente\")\n",
    "    \n",
    "    print(\"Primeras tres entradas sin preprocesar\")\n",
    "    print(datos.head(3))\n",
    "    print('-'*40)\n",
    "    \n",
    "    try:\n",
    "        print(\"Preprocesado del dataset\")\n",
    "        datos['content'] = datos['content'].apply(nlp_f.tokenizer)\n",
    "    except:\n",
    "        print(\"Error al preprocesar el conjunto de datos\")\n",
    "        raise\n",
    "    print(\"El preprocesado se ha realizado correctamente\")\n",
    "    print(\"Primeras tres entradas preprocesadas\")\n",
    "    print(datos.head(3))"
   ]
  },
  {
   "cell_type": "code",
   "execution_count": 9,
   "metadata": {},
   "outputs": [
    {
     "name": "stdout",
     "output_type": "stream",
     "text": [
      "Lectura del fichero... \n",
      "\n",
      "El fichero se ha leído correctamente\n",
      "Primeras tres entradas sin preprocesar\n",
      "   type                                              title  \\\n",
      "0   1.0  EPA Delays Rule to Limit Carbon Emissions from...   \n",
      "1   1.0  Marco Rubio Signals Possible Opposition To Rex...   \n",
      "2   1.0  UPDATE: Boehner Power Point of deal added- Sun...   \n",
      "\n",
      "                                             content  \n",
      "0  EPA Delays Rule to Limit Carbon Emissions from...  \n",
      "1  Marco Rubio Signals Possible Opposition To Rex...  \n",
      "2  UPDATE: Boehner sent a Power Point to his cauc...  \n",
      "----------------------------------------\n",
      "Preprocesado del dataset\n",
      "El preprocesado se ha realizado correctamente\n",
      "Primeras tres entradas preprocesadas\n",
      "   type                                              title  \\\n",
      "0   1.0  EPA Delays Rule to Limit Carbon Emissions from...   \n",
      "1   1.0  Marco Rubio Signals Possible Opposition To Rex...   \n",
      "2   1.0  UPDATE: Boehner Power Point of deal added- Sun...   \n",
      "\n",
      "                                             content  \n",
      "0  [epa, delay, rule, limit, carbon, emission, ne...  \n",
      "1  [marco, rubio, signal, possible, opposition, r...  \n",
      "2  [update, boehner, send, power, point, caucus, ...  \n"
     ]
    }
   ],
   "source": [
    "prueba2()"
   ]
  },
  {
   "cell_type": "markdown",
   "metadata": {},
   "source": [
    "## Prueba 3: Preprocesado de un objeto que no es de tipo string"
   ]
  },
  {
   "cell_type": "code",
   "execution_count": 10,
   "metadata": {},
   "outputs": [],
   "source": [
    "def prueba3():\n",
    "    \n",
    "    test = 123456.6\n",
    "    \n",
    "    try:\n",
    "        print('Preprocesado de un objeto que no es de tipo String')\n",
    "        test = nlp_f.tokenizer(test)\n",
    "    except:\n",
    "        print(\"Error al preprocesar una entrada que no es de tipo String\")\n",
    "        raise\n",
    "        \n",
    "    print('El preprocesado se ha realizado correctamente')\n",
    "    print(test)"
   ]
  },
  {
   "cell_type": "code",
   "execution_count": 11,
   "metadata": {},
   "outputs": [
    {
     "name": "stdout",
     "output_type": "stream",
     "text": [
      "Preprocesado de un objeto que no es de tipo String\n",
      "El preprocesado se ha realizado correctamente\n",
      "[]\n"
     ]
    }
   ],
   "source": [
    "prueba3()"
   ]
  },
  {
   "cell_type": "markdown",
   "metadata": {},
   "source": [
    "## Prueba 4: Preprocesado de un string aplicando todas las técnicas de preprocesado"
   ]
  },
  {
   "cell_type": "code",
   "execution_count": 12,
   "metadata": {},
   "outputs": [],
   "source": [
    "def prueba4():\n",
    "    test = \"<HTML>This <p>is.a</p> ! jua@email.com sentences, showing off the <br> stop words filtration. http://www.youtube.com 68509\"\n",
    "    \n",
    "    try:\n",
    "        print('Preprocesado de un string')\n",
    "        test = nlp_f.tokenizer(test)\n",
    "    except:\n",
    "        print('Error al preprocesar el string')\n",
    "        raise\n",
    "    print('El preprocesado se ha realizado correctamente')\n",
    "    print(test)"
   ]
  },
  {
   "cell_type": "code",
   "execution_count": 13,
   "metadata": {},
   "outputs": [
    {
     "name": "stdout",
     "output_type": "stream",
     "text": [
      "Preprocesado de un string\n",
      "El preprocesado se ha realizado correctamente\n",
      "['sentence', 'show', 'stop', 'word', 'filtration']\n"
     ]
    }
   ],
   "source": [
    "prueba4()"
   ]
  }
 ],
 "metadata": {
  "kernelspec": {
   "display_name": "Python 3",
   "language": "python",
   "name": "python3"
  },
  "language_info": {
   "codemirror_mode": {
    "name": "ipython",
    "version": 3
   },
   "file_extension": ".py",
   "mimetype": "text/x-python",
   "name": "python",
   "nbconvert_exporter": "python",
   "pygments_lexer": "ipython3",
   "version": "3.7.3"
  }
 },
 "nbformat": 4,
 "nbformat_minor": 2
}
