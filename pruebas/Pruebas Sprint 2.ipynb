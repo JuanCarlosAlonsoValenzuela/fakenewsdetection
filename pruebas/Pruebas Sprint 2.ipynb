{
 "cells": [
  {
   "cell_type": "markdown",
   "metadata": {},
   "source": [
    "# Pruebas Sprint 2\n",
    "En este notebook se concentran todas las pruebas relativas al código generado durante el sprint 2, para ejecutarlas es necesario colocar el archivo nlp_functions.py en el directorio raíz del proyecto y pulsar Cell -> Run All en Jupyter Notebook"
   ]
  },
  {
   "cell_type": "code",
   "execution_count": 12,
   "metadata": {},
   "outputs": [],
   "source": [
    "# Añadimos la carpeta raíz para poder importar la clase nlp_functions\n",
    "import sys\n",
    "sys.path.insert(0, '../')\n",
    "\n",
    "import nlp_functions as nlp_f\n",
    "import pandas as pd\n",
    "import math\n",
    "import numpy as np\n",
    "import scipy\n",
    "import tensorflow as tf"
   ]
  },
  {
   "cell_type": "markdown",
   "metadata": {},
   "source": [
    "## Prueba 5: División en conjunto de entrenamiento y pruebas"
   ]
  },
  {
   "cell_type": "code",
   "execution_count": 2,
   "metadata": {},
   "outputs": [],
   "source": [
    "def prueba5():\n",
    "    print('Prueba 5: División del dataset en conjunto de entrenamiento y pruebas')\n",
    "    \n",
    "    try:\n",
    "        print('\\n--- Lectura del dataset preprocesado')\n",
    "        df = pd.read_csv('../dataset/ticnn_preprocessed.csv')    \n",
    "    except:\n",
    "        print('Se ha producido un error al leer el dataset')\n",
    "        raise\n",
    "    \n",
    "    print('Dataset leído correctamente, mostrando las tres primeras entradas')\n",
    "    print(df.head(3))\n",
    "    \n",
    "    try:\n",
    "        print('\\n--- División de los datos en entrenamiento y pruebas')\n",
    "        print('70% entrenamiento - 30% pruebas')\n",
    "        \n",
    "        texts = list(df['text'])\n",
    "        targets = list(df['type'])\n",
    "        \n",
    "        x_train, y_train, x_test, y_test = nlp_f.train_test_split(texts, targets)\n",
    "        print('Datos separados correctamente')\n",
    "        \n",
    "    except:\n",
    "        print('Error al separar en entrenamiento y pruebas')\n",
    "        raise\n",
    "        \n",
    "    try:\n",
    "        print('\\n--- Comprobamos que el tamaño de los conjuntos es correcto')\n",
    "        \n",
    "        assert len(x_train) == int(len(df)*0.7)\n",
    "        assert len(x_train) == len(y_train)\n",
    "        print('El tamaño del conjunto de entrenamiento es el correcto')\n",
    "        \n",
    "        assert len(x_test) == int(math.ceil(len(df)*0.3))\n",
    "        assert len(x_test) == len(y_test)\n",
    "        print('El tamaño del conjunto de pruebas es el correcto')\n",
    "\n",
    "    except:\n",
    "        print('El tamaño de los conjuntos no es el adecuado')\n",
    "        raise\n",
    "    \n",
    "    print('\\n-------------------------------------------------------------------')\n",
    "    print('División en conjunto de entrenamiento y pruebas realizada correctamente')\n",
    "    \n",
    "    "
   ]
  },
  {
   "cell_type": "code",
   "execution_count": 3,
   "metadata": {},
   "outputs": [
    {
     "name": "stdout",
     "output_type": "stream",
     "text": [
      "Prueba 5: División del dataset en conjunto de entrenamiento y pruebas\n",
      "\n",
      "--- Lectura del dataset preprocesado\n",
      "Dataset leído correctamente, mostrando las tres primeras entradas\n",
      "                                                text  type\n",
      "0  ['donald', 'trump', 'property', 'showcase', 'b...   0.0\n",
      "1  ['trump', 'foundation', 'tell', 'new', 'york',...   0.0\n",
      "2  ['donald', 'trump', 'prepares', 'white', 'hous...   0.0\n",
      "\n",
      "--- División de los datos en entrenamiento y pruebas\n",
      "70% entrenamiento - 30% pruebas\n",
      "Datos separados correctamente\n",
      "\n",
      "--- Comprobamos que el tamaño de los conjuntos es correcto\n",
      "El tamaño del conjunto de entrenamiento es el correcto\n",
      "El tamaño del conjunto de pruebas es el correcto\n",
      "\n",
      "-------------------------------------------------------------------\n",
      "División en conjunto de entrenamiento y pruebas realizada correctamente\n"
     ]
    }
   ],
   "source": [
    "prueba5()"
   ]
  },
  {
   "cell_type": "markdown",
   "metadata": {},
   "source": [
    "## Prueba 6: Convert to sparse tensor"
   ]
  },
  {
   "cell_type": "code",
   "execution_count": 4,
   "metadata": {},
   "outputs": [],
   "source": [
    "def prueba6():\n",
    "    print('Prueba 6: Convertir un array de numpy a un sparse vector')\n",
    "    \n",
    "    try:\n",
    "        print('\\n--- Conversión a sparse tensor')\n",
    "        \n",
    "        test_vector = np.zeros(shape = (50000, ))\n",
    "        test_vector_size = sys.getsizeof(test_vector)\n",
    "        print('El tamaño de la matriz de numpy es {}'.format(test_vector_size))\n",
    "        \n",
    "        test_vector = scipy.sparse.csc_matrix(test_vector)\n",
    "        \n",
    "        sparse_vector = nlp_f.convert_to_sparse_tensor(test_vector)\n",
    "        sparse_vector_size = sys.getsizeof(sparse_vector)\n",
    "        \n",
    "        print('El tamaño de la matriz sparse es {}'.format(sparse_vector_size))\n",
    "        \n",
    "        print('La matriz sparse es de tipo {}'.format(type(sparse_vector)))\n",
    "        \n",
    "        assert isinstance(sparse_vector, \n",
    "                         type(tf.sparse.SparseTensor(indices=[[0, 0], [1, 2]], values=[1, 2], dense_shape=[3, 4])))\n",
    "        \n",
    "        assert test_vector_size > sparse_vector_size\n",
    "        print('El tamaño del vector sparse es menor que el de la matriz de numpy')\n",
    "        \n",
    "    except:\n",
    "        print('\\nSe ha producido un error al intentar crear el vector sparse')\n",
    "        raise\n",
    "        \n",
    "    print('\\n-------------------------------------------------------------------')\n",
    "    print('Tranformación a Matriz Sparse realizada correctamente')"
   ]
  },
  {
   "cell_type": "code",
   "execution_count": 5,
   "metadata": {},
   "outputs": [
    {
     "name": "stdout",
     "output_type": "stream",
     "text": [
      "Prueba 6: Convertir un array de numpy a un sparse vector\n",
      "\n",
      "--- Conversión a sparse tensor\n",
      "El tamaño de la matriz de numpy es 400096\n",
      "El tamaño de la matriz sparse es 56\n",
      "La matriz sparse es de tipo <class 'tensorflow.python.framework.sparse_tensor.SparseTensor'>\n",
      "El tamaño del vector sparse es menor que el de la matriz de numpy\n",
      "\n",
      "-------------------------------------------------------------------\n",
      "Tranformación a Matriz Sparse realizada correctamente\n"
     ]
    }
   ],
   "source": [
    "prueba6()"
   ]
  },
  {
   "cell_type": "markdown",
   "metadata": {},
   "source": [
    "## Prueba 7: Generate Logistic Regression"
   ]
  },
  {
   "cell_type": "code",
   "execution_count": 6,
   "metadata": {},
   "outputs": [],
   "source": [
    "def prueba7():\n",
    "    print('Prueba 7: Creación de un Modelo de Regresión logística')\n",
    "    \n",
    "    try:\n",
    "        print('\\nCreación del modelo...')\n",
    "        model = nlp_f.generate_logistic_regression(20000)\n",
    "        \n",
    "    except:\n",
    "        print('Error al crear el modelo')\n",
    "        raise\n",
    "    \n",
    "    print('\\n------------------------------------')\n",
    "    print('Modelo creado:')\n",
    "    print(model.summary())\n",
    "    print('\\nClase del modelo: {}'.format(type(model)))"
   ]
  },
  {
   "cell_type": "code",
   "execution_count": 7,
   "metadata": {},
   "outputs": [
    {
     "name": "stdout",
     "output_type": "stream",
     "text": [
      "Prueba 7: Creación de un Modelo de Regresión logística\n",
      "\n",
      "Creación del modelo...\n",
      "\n",
      "------------------------------------\n",
      "Modelo creado:\n",
      "Model: \"sequential\"\n",
      "_________________________________________________________________\n",
      "Layer (type)                 Output Shape              Param #   \n",
      "=================================================================\n",
      "dense (Dense)                (20, 1)                   20001     \n",
      "=================================================================\n",
      "Total params: 20,001\n",
      "Trainable params: 20,001\n",
      "Non-trainable params: 0\n",
      "_________________________________________________________________\n",
      "None\n",
      "\n",
      "Clase del modelo: <class 'tensorflow.python.keras.engine.sequential.Sequential'>\n"
     ]
    }
   ],
   "source": [
    "prueba7()"
   ]
  },
  {
   "cell_type": "markdown",
   "metadata": {},
   "source": [
    "## Prueba 8: Generar Modelo Neuronal Word2Vec"
   ]
  },
  {
   "cell_type": "code",
   "execution_count": 8,
   "metadata": {},
   "outputs": [],
   "source": [
    "def prueba8():\n",
    "    print('Prueba 8: Creación del Modelo Neuronal de Word2Vec')\n",
    "    \n",
    "    try:\n",
    "        print('\\nCreación del Modelo...')\n",
    "        model = nlp_f.generate_w2v_dense_nn()\n",
    "        \n",
    "    except:\n",
    "        print('Error al crear el modelo')\n",
    "        raise\n",
    "    \n",
    "    print('\\n------------------------------------')\n",
    "    print('Modelo creado:')\n",
    "    print(model.summary())\n",
    "    print('\\nClase del modelo: {}'.format(type(model)))"
   ]
  },
  {
   "cell_type": "code",
   "execution_count": 9,
   "metadata": {},
   "outputs": [
    {
     "name": "stdout",
     "output_type": "stream",
     "text": [
      "Prueba 8: Creación del Modelo Neuronal de Word2Vec\n",
      "\n",
      "Creación del Modelo...\n",
      "\n",
      "------------------------------------\n",
      "Modelo creado:\n",
      "Model: \"sequential_1\"\n",
      "_________________________________________________________________\n",
      "Layer (type)                 Output Shape              Param #   \n",
      "=================================================================\n",
      "dense_1 (Dense)              (None, 150)               45150     \n",
      "_________________________________________________________________\n",
      "dropout (Dropout)            (None, 150)               0         \n",
      "_________________________________________________________________\n",
      "dense_2 (Dense)              (None, 1)                 151       \n",
      "=================================================================\n",
      "Total params: 45,301\n",
      "Trainable params: 45,301\n",
      "Non-trainable params: 0\n",
      "_________________________________________________________________\n",
      "None\n",
      "\n",
      "Clase del modelo: <class 'tensorflow.python.keras.engine.sequential.Sequential'>\n"
     ]
    }
   ],
   "source": [
    "prueba8()"
   ]
  },
  {
   "cell_type": "markdown",
   "metadata": {},
   "source": [
    "## Prueba 9: Generar Modelo Neuronal Doc2Vec"
   ]
  },
  {
   "cell_type": "code",
   "execution_count": 10,
   "metadata": {},
   "outputs": [],
   "source": [
    "def prueba9():\n",
    "    print('Prueba 9: Creación del Modelo Neuronal de Doc2Vec')\n",
    "    \n",
    "    try:\n",
    "        print('\\nCreación del Modelo...')\n",
    "        model = nlp_f.generate_d2v_dense_nn()\n",
    "        \n",
    "    except:\n",
    "        print('Error al crear el modelo')\n",
    "        raise\n",
    "    \n",
    "    print('\\n------------------------------------')\n",
    "    print('Modelo creado:')\n",
    "    print(model.summary())\n",
    "    print('\\nClase del modelo: {}'.format(type(model)))"
   ]
  },
  {
   "cell_type": "code",
   "execution_count": 11,
   "metadata": {},
   "outputs": [
    {
     "name": "stdout",
     "output_type": "stream",
     "text": [
      "Prueba 9: Creación del Modelo Neuronal de Doc2Vec\n",
      "\n",
      "Creación del Modelo...\n",
      "\n",
      "------------------------------------\n",
      "Modelo creado:\n",
      "Model: \"sequential_2\"\n",
      "_________________________________________________________________\n",
      "Layer (type)                 Output Shape              Param #   \n",
      "=================================================================\n",
      "dense_3 (Dense)              (None, 150)               45150     \n",
      "_________________________________________________________________\n",
      "dropout_1 (Dropout)          (None, 150)               0         \n",
      "_________________________________________________________________\n",
      "dense_4 (Dense)              (None, 1)                 151       \n",
      "=================================================================\n",
      "Total params: 45,301\n",
      "Trainable params: 45,301\n",
      "Non-trainable params: 0\n",
      "_________________________________________________________________\n",
      "None\n",
      "\n",
      "Clase del modelo: <class 'tensorflow.python.keras.engine.sequential.Sequential'>\n"
     ]
    }
   ],
   "source": [
    "prueba9()"
   ]
  }
 ],
 "metadata": {
  "kernelspec": {
   "display_name": "Python 3",
   "language": "python",
   "name": "python3"
  },
  "language_info": {
   "codemirror_mode": {
    "name": "ipython",
    "version": 3
   },
   "file_extension": ".py",
   "mimetype": "text/x-python",
   "name": "python",
   "nbconvert_exporter": "python",
   "pygments_lexer": "ipython3",
   "version": "3.7.3"
  }
 },
 "nbformat": 4,
 "nbformat_minor": 2
}
