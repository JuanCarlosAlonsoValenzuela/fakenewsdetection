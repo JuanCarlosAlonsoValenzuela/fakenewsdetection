{
 "cells": [
  {
   "cell_type": "markdown",
   "metadata": {},
   "source": [
    "# Pruebas Sprint 3\n",
    "En este notebook se concentran todas las pruebas relativas al código generado durante el sprint 3, para ejecutarlas es necesario colocar el archivo nlp_functions en el directorio raíz del proyecto y pulsar Cell -> Run All en Jupyter Notebook"
   ]
  },
  {
   "cell_type": "code",
   "execution_count": 4,
   "metadata": {},
   "outputs": [],
   "source": [
    "import sys\n",
    "sys.path.insert(0, '../')\n",
    "\n",
    "import nlp_functions as nlp_f"
   ]
  },
  {
   "cell_type": "markdown",
   "metadata": {},
   "source": [
    "## Prueba 10: Generar Red Neuronal Recurrente"
   ]
  },
  {
   "cell_type": "code",
   "execution_count": 2,
   "metadata": {},
   "outputs": [],
   "source": [
    "def prueba10():\n",
    "    print('Prueba 10: Creación de la Red Neuronal Recurrente')\n",
    "    \n",
    "    try:\n",
    "        print('\\nCreación del Modelo...')\n",
    "        model = nlp_f.generate_rnn(20000, 100, 128)\n",
    "    \n",
    "    except:\n",
    "        print('Error al crear el modelo')\n",
    "        raise\n",
    "    \n",
    "    print('\\n--------------------------------------')\n",
    "    print('Modelo creado con éxito')\n",
    "    print(model.summary())\n",
    "    print('\\nClase del modelo: {}'.format(type(model)))"
   ]
  },
  {
   "cell_type": "code",
   "execution_count": 3,
   "metadata": {},
   "outputs": [
    {
     "name": "stdout",
     "output_type": "stream",
     "text": [
      "Prueba 10: Creación de la Red Neuronal Recurrente\n",
      "\n",
      "Creación del Modelo...\n",
      "\n",
      "--------------------------------------\n",
      "Modelo creado con éxito\n",
      "Model: \"sequential\"\n",
      "_________________________________________________________________\n",
      "Layer (type)                 Output Shape              Param #   \n",
      "=================================================================\n",
      "embedding (Embedding)        (None, None, 100)         2000000   \n",
      "_________________________________________________________________\n",
      "bidirectional (Bidirectional (None, 256)               234496    \n",
      "_________________________________________________________________\n",
      "dense (Dense)                (None, 128)               32896     \n",
      "_________________________________________________________________\n",
      "dropout (Dropout)            (None, 128)               0         \n",
      "_________________________________________________________________\n",
      "dense_1 (Dense)              (None, 64)                8256      \n",
      "_________________________________________________________________\n",
      "dropout_1 (Dropout)          (None, 64)                0         \n",
      "_________________________________________________________________\n",
      "dense_2 (Dense)              (None, 1)                 65        \n",
      "=================================================================\n",
      "Total params: 2,275,713\n",
      "Trainable params: 2,275,713\n",
      "Non-trainable params: 0\n",
      "_________________________________________________________________\n",
      "None\n",
      "\n",
      "Clase del modelo: <class 'tensorflow.python.keras.engine.sequential.Sequential'>\n"
     ]
    }
   ],
   "source": [
    "prueba10()"
   ]
  }
 ],
 "metadata": {
  "kernelspec": {
   "display_name": "Python 3",
   "language": "python",
   "name": "python3"
  },
  "language_info": {
   "codemirror_mode": {
    "name": "ipython",
    "version": 3
   },
   "file_extension": ".py",
   "mimetype": "text/x-python",
   "name": "python",
   "nbconvert_exporter": "python",
   "pygments_lexer": "ipython3",
   "version": "3.7.3"
  }
 },
 "nbformat": 4,
 "nbformat_minor": 2
}
